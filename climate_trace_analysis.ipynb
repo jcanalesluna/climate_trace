{
 "cells": [
  {
   "cell_type": "markdown",
   "metadata": {
    "tags": []
   },
   "source": [
    "## Imports"
   ]
  },
  {
   "cell_type": "code",
   "execution_count": 1,
   "metadata": {},
   "outputs": [],
   "source": [
    "import numpy as np\n",
    "import pandas as pd\n",
    "import matplotlib.pyplot as plt\n",
    "import seaborn as sns\n",
    "import plotly.express as px\n",
    "from scipy import stats\n",
    "\n",
    "sns.set()"
   ]
  },
  {
   "cell_type": "code",
   "execution_count": 2,
   "metadata": {},
   "outputs": [],
   "source": [
    "ghg = pd.read_csv('./datasets/climate_trace_total.csv', parse_dates=['start','end'])"
   ]
  },
  {
   "cell_type": "code",
   "execution_count": 3,
   "metadata": {},
   "outputs": [],
   "source": [
    "pop = pd.read_csv('./datasets/population.csv', delimiter=',',header=2)"
   ]
  },
  {
   "cell_type": "markdown",
   "metadata": {
    "tags": []
   },
   "source": [
    "## Data preparation"
   ]
  },
  {
   "cell_type": "code",
   "execution_count": 4,
   "metadata": {},
   "outputs": [],
   "source": [
    "# Add year column\n",
    "ghg['year'] = pd.DatetimeIndex(ghg['start']).year.astype(str)"
   ]
  },
  {
   "cell_type": "code",
   "execution_count": 5,
   "metadata": {},
   "outputs": [],
   "source": [
    "# Add million of tons of co2e\n",
    "ghg['million_tonnes_co2e'] = ghg['Tonnes Co2e'] / 1000000"
   ]
  },
  {
   "cell_type": "code",
   "execution_count": 6,
   "metadata": {},
   "outputs": [],
   "source": [
    "# Preparing population df\n",
    "pop_15_20= pop.loc[:, ['Country Code','2015','2016','2017','2018','2019','2020']]\n",
    "pop_15_20.rename(columns={'Country Code':'country'},inplace=True)\n",
    "pop_15_20=pop_15_20.set_index('country').stack().reset_index(name='population').rename(columns={'level_1':'year'})"
   ]
  },
  {
   "cell_type": "code",
   "execution_count": 7,
   "metadata": {},
   "outputs": [],
   "source": [
    "# Joining pop to ghg\n",
    "ghg = ghg.merge(pop_15_20, on=['country','year'], how='left')\n"
   ]
  },
  {
   "cell_type": "markdown",
   "metadata": {
    "tags": []
   },
   "source": [
    "### Maps"
   ]
  },
  {
   "cell_type": "markdown",
   "metadata": {},
   "source": [
    "#### Global metrics"
   ]
  },
  {
   "cell_type": "code",
   "execution_count": 8,
   "metadata": {},
   "outputs": [],
   "source": [
    "def calculate_percentiles (df, metric):\n",
    "    \n",
    "    percentiles=[0]\n",
    "    if metric == 'million_tonnes_co2e' :\n",
    "        values = [100, 1000, 2000, 3000]\n",
    "        for val in values:\n",
    "            percentile = stats.percentileofscore(df[metric], val) / 100\n",
    "            percentiles.append(percentile)\n",
    "            \n",
    "    elif metric == 'co2eq_per_cap' :\n",
    "        values = [5, 10, 20, 30]\n",
    "        for val in values:\n",
    "            percentile = stats.percentileofscore(df[metric], val) / 100\n",
    "            percentiles.append(percentile)\n",
    "            \n",
    "    elif metric == 'population' :\n",
    "        values = [(70*10**6),(100*10**6),(150*10**6),(250*10**6)]\n",
    "        for val in values:\n",
    "            percentile = stats.percentileofscore(df[metric], val) / 100\n",
    "            percentiles.append(percentile)\n",
    "            \n",
    "    percentiles.append(1)\n",
    "\n",
    "    values = values[::-1]\n",
    "    \n",
    "    if metric =='population':\n",
    "        values = [int(val/ 1000000) for val in values]\n",
    "              \n",
    "    values = [str(val) for val in values]\n",
    "    legend_values = list(range(len(values) + 1))\n",
    "    \n",
    "    legend_values[0] = '> ' + values[0]\n",
    "    legend_values[1] = values[1]+ ' - ' + values[0]\n",
    "    legend_values[2] = values[2]+ ' - ' + values[1]\n",
    "    legend_values[3] = values[3]+ ' - ' + values[2]\n",
    "    legend_values[4] = '< ' + values[3]\n",
    "        \n",
    "        \n",
    "    return legend_values, percentiles"
   ]
  },
  {
   "cell_type": "code",
   "execution_count": 47,
   "metadata": {},
   "outputs": [],
   "source": [
    "def df_metric(metric, year):\n",
    "    \n",
    "    ghg_year = ghg[ghg.year ==year]\n",
    "    \n",
    "    if metric =='million_tonnes_co2e':\n",
    "        ghg_map= ghg_year.groupby(['country_full'])[['million_tonnes_co2e']].sum().reset_index().sort_values(by=['million_tonnes_co2e'], ascending=False)\n",
    "        legend_values, percentiles = calculate_percentiles(ghg_map, metric)\n",
    "        ghg_map['range']=pd.qcut(ghg_map['million_tonnes_co2e'], q=percentiles, precision = 0, labels=False)\n",
    "        ghg_map = ghg_map.sort_values(by='range', ascending=False)\n",
    "        ghg_map['million_tonnes_co2e'] =ghg_map['million_tonnes_co2e'].round(1)\n",
    "        ghg_map['million_tonnes_co2e'] =ghg_map.apply(lambda x: \"{:,}\".format(x['million_tonnes_co2e']), axis=1)\n",
    "        ghg_map['million_tonnes_co2e'] = ghg_map['million_tonnes_co2e'].astype(str)\n",
    "        ghg_map['million_tonnes_co2e']= ghg_map['million_tonnes_co2e'].replace({'nan':'No data'})\n",
    "        if (len(ghg_map.range.unique()) > len(legend_values)):\n",
    "                legend_values.append('No data')\n",
    "        dictionary = dict(zip(ghg_map['range'].unique(), legend_values))\n",
    "        ghg_map= ghg_map.replace({\"range\": dictionary})\n",
    "\n",
    "\n",
    "    elif metric =='co2eq_per_cap':\n",
    "        ghg_emissions= ghg_year.groupby(['country_full'])[['Tonnes Co2e']].sum().reset_index().sort_values(by=['Tonnes Co2e'], ascending=False)\n",
    "        population = ghg_year[['country_full','population']].drop_duplicates()\n",
    "        ghg_map = ghg_emissions.merge(population, on='country_full', how='left')\n",
    "        ghg_map['co2eq_per_cap'] = ghg_map['Tonnes Co2e'] / ghg_map['population']\n",
    "        ghg_map_not_null = ghg_map[ghg_map['co2eq_per_cap'].notnull()].reset_index(drop=True)\n",
    "        legend_values, percentiles = calculate_percentiles(ghg_map_not_null, metric)\n",
    "        ghg_map_not_null['range']=pd.qcut(ghg_map_not_null['co2eq_per_cap'], q=percentiles, precision = 0,labels=False)\n",
    "        ghg_map_not_null=ghg_map_not_null[['country_full','range']]\n",
    "        ghg_map = ghg_map.merge(ghg_map_not_null, how='left')\n",
    "        ghg_map = ghg_map.sort_values(by='range', ascending=False)\n",
    "        ghg_map['co2eq_per_cap'] =ghg_map['co2eq_per_cap'].round(1)\n",
    "        ghg_map['co2eq_per_cap'] =ghg_map.apply(lambda x: \"{:,}\".format(x['co2eq_per_cap']), axis=1)\n",
    "        ghg_map['co2eq_per_cap'] = ghg_map['co2eq_per_cap'].astype(str)\n",
    "        ghg_map['co2eq_per_cap']= ghg_map['co2eq_per_cap'].replace({'nan':'No data'})\n",
    "        if (len(ghg_map.range.unique()) > len(legend_values)):\n",
    "                legend_values.append('No data')\n",
    "        dictionary = dict(zip(ghg_map['range'].unique(), legend_values))\n",
    "        ghg_map= ghg_map.replace({\"range\": dictionary})\n",
    "        \n",
    "        \n",
    "    elif metric =='population':\n",
    "        ghg_map = ghg_year[['country_full','year','population']].drop_duplicates()\n",
    "        ghg_map_not_null = ghg_map[ghg_map['population'].notnull()].reset_index(drop=True)\n",
    "        legend_values, percentiles = calculate_percentiles(ghg_map_not_null, 'population')\n",
    "        ghg_map_not_null['range']=pd.qcut(ghg_map_not_null['population'], q=percentiles, precision = 0,labels=False)\n",
    "        ghg_map_not_null=ghg_map_not_null[['country_full','range']]\n",
    "        ghg_map = ghg_map.merge(ghg_map_not_null, how='left')\n",
    "        ghg_map['population'] = ghg_map['population'].round(0).astype('Int32')\n",
    "        ghg_map['population'] =ghg_map.apply(lambda x: \"{:,}\".format(x['population']), axis=1)\n",
    "        ghg_map['population'] = ghg_map['population'].astype(str)\n",
    "        ghg_map['population']= ghg_map['population'].replace({'<NA>':'No data'})\n",
    "        ghg_map = ghg_map.sort_values(by='range', ascending=False)\n",
    "        if (len(ghg_map.range.unique()) > len(legend_values)):\n",
    "            legend_values.append('No data')\n",
    "        dictionary = dict(zip(ghg_map['range'].unique(), legend_values))\n",
    "        ghg_map= ghg_map.replace({\"range\": dictionary})\n",
    "        \n",
    "        \n",
    "               \n",
    "    return ghg_map\n",
    "\n",
    "\n",
    "        "
   ]
  },
  {
   "cell_type": "code",
   "execution_count": 54,
   "metadata": {
    "tags": []
   },
   "outputs": [],
   "source": [
    "def show_map(metric, year, map_format='img'):\n",
    "    \n",
    "    scale = ['rgb(8,48,107)','rgb(33,113,181)','rgb(66,146,198)','rgb(158,202,225)','rgb(222,235,247)','grey']\n",
    "\n",
    "\n",
    "    ghg_map = df_metric(metric, year)\n",
    "    \n",
    "    hover_data = {metric:True,'country_full':False,'range':False}\n",
    "    \n",
    "    \n",
    "    \n",
    "    if (metric =='million_tonnes_co2e'):\n",
    "        title = 'GHG emissions'\n",
    "        label = 'GHG emissions'\n",
    "        measure= 'MTCo2eq'\n",
    "        source = 'Source: <a href=\"https://www.climatetrace.org/\">\\nClimate Trace</a>'\n",
    "        \n",
    "    elif metric =='co2eq_per_cap':\n",
    "        title = 'GHG emissions per capita'\n",
    "        label = 'GHG emissions per person'\n",
    "        measure= 'TCo2eq per person'\n",
    "        source = 'Source: <a href=\"https://www.climatetrace.org/\">\\nClimate Trace</a>, <a href=\"https://data.worldbank.org/\">\\nWorld Bank</a>'\n",
    "        \n",
    "    elif metric =='population':\n",
    "        title = 'World Population'\n",
    "        label ='Population'\n",
    "        measure='Million people'   \n",
    "        source = 'Source: <a href=\"https://data.worldbank.org/\">\\nWorld Bank</a>'\n",
    "    \n",
    "\n",
    "    fig = px.choropleth(ghg_map, locations=\"country_full\", \n",
    "                        locationmode='country names', color='range',\n",
    "                        hover_name=\"country_full\",\n",
    "                        hover_data=hover_data,\n",
    "                        color_discrete_sequence=scale,\n",
    "                        labels={metric: label})\n",
    "      \n",
    "            \n",
    "            \n",
    "    fig.update_layout(autosize=False, \n",
    "                      width=800, \n",
    "                      height=400,\n",
    "                      font_family=\"sans-serif\",\n",
    "                      title_font_family=\"sans-serif\",\n",
    "                      \n",
    "                      margin=dict(\n",
    "                                  l=20,\n",
    "                                  r=20,\n",
    "                                  b=20,\n",
    "                                  t=20,\n",
    "                                  pad=5),\n",
    "                        \n",
    "                      hoverlabel=dict(\n",
    "                                  bgcolor=\"white\",\n",
    "                                  font_size=10,\n",
    "                                  font_family=\"sans-serif\"\n",
    "                                    ),\n",
    "                      \n",
    "                      title=dict(\n",
    "                                 text= \"{title} ({year})\".format(title = title, year=year),\n",
    "                                 xanchor = 'center',\n",
    "                                 x=0.5,\n",
    "                                 yanchor = 'top',\n",
    "                                 y=0.95),\n",
    "                      \n",
    "                      geo=dict(\n",
    "                              showframe=True,\n",
    "                                lataxis=dict(range=[-55,90]),\n",
    "                              showlakes=False),\n",
    "                      \n",
    "                      legend=dict(\n",
    "                                y=0.07,\n",
    "                                font_size=10,\n",
    "                                title=measure,\n",
    "                                x=0.015,\n",
    "                                bordercolor=\"grey\",\n",
    "                                borderwidth=0.5\n",
    "                                ),\n",
    "                      \n",
    "                      annotations = [dict(\n",
    "                                x=0.015,\n",
    "                                y=0,\n",
    "                                text=source,\n",
    "                                font_size=10,\n",
    "                                font_family='sans-serif',\n",
    "                                showarrow = False),\n",
    "                                    ]\n",
    "                     )\n",
    "    \n",
    "    if map_format=='img':\n",
    "        fig.write_image(\"./img_visualisations/{metric}_{year}.png\".format(metric=metric, year=year))\n",
    "    elif map_format =='html':\n",
    "        fig.write_html(\"./html_visualisations/{metric}_{year}.html\".format(metric=metric, year=year))\n",
    "\n",
    "\n",
    "    fig.show()\n",
    "    "
   ]
  },
  {
   "cell_type": "code",
   "execution_count": 55,
   "metadata": {},
   "outputs": [],
   "source": [
    "metrics=['million_tonnes_co2e','population','co2eq_per_cap']"
   ]
  },
  {
   "cell_type": "code",
   "execution_count": 56,
   "metadata": {},
   "outputs": [
    {
     "data": {
      "application/vnd.plotly.v1+json": {
       "config": {
        "plotlyServerURL": "https://plot.ly"
       },
       "data": [
        {
         "colorscale": [
          [
           0,
           "rgb(8,48,107)"
          ],
          [
           1,
           "rgb(8,48,107)"
          ]
         ],
         "customdata": [
          [
           "13,630.0",
           "China",
           "> 3000"
          ],
          [
           "3,718.8",
           "India",
           "> 3000"
          ],
          [
           "6,180.5",
           "United States of America",
           "> 3000"
          ]
         ],
         "geo": "geo",
         "hovertemplate": "<b>%{hovertext}</b><br><br>GHG emissions=%{customdata[0]}<extra></extra>",
         "hovertext": [
          "China",
          "India",
          "United States of America"
         ],
         "locationmode": "country names",
         "locations": [
          "China",
          "India",
          "United States of America"
         ],
         "name": "> 3000",
         "showlegend": true,
         "showscale": false,
         "type": "choropleth",
         "z": [
          1,
          1,
          1
         ]
        },
        {
         "colorscale": [
          [
           0,
           "rgb(33,113,181)"
          ],
          [
           1,
           "rgb(33,113,181)"
          ]
         ],
         "customdata": [
          [
           "2,433.7",
           "Russian Federation",
           "2000 - 3000"
          ]
         ],
         "geo": "geo",
         "hovertemplate": "<b>%{hovertext}</b><br><br>GHG emissions=%{customdata[0]}<extra></extra>",
         "hovertext": [
          "Russian Federation"
         ],
         "locationmode": "country names",
         "locations": [
          "Russian Federation"
         ],
         "name": "2000 - 3000",
         "showlegend": true,
         "showscale": false,
         "type": "choropleth",
         "z": [
          1
         ]
        },
        {
         "colorscale": [
          [
           0,
           "rgb(66,146,198)"
          ],
          [
           1,
           "rgb(66,146,198)"
          ]
         ],
         "customdata": [
          [
           "1,421.0",
           "Indonesia",
           "1000 - 2000"
          ],
          [
           "1,324.3",
           "Japan",
           "1000 - 2000"
          ],
          [
           "1,230.6",
           "Brazil",
           "1000 - 2000"
          ]
         ],
         "geo": "geo",
         "hovertemplate": "<b>%{hovertext}</b><br><br>GHG emissions=%{customdata[0]}<extra></extra>",
         "hovertext": [
          "Indonesia",
          "Japan",
          "Brazil"
         ],
         "locationmode": "country names",
         "locations": [
          "Indonesia",
          "Japan",
          "Brazil"
         ],
         "name": "1000 - 2000",
         "showlegend": true,
         "showscale": false,
         "type": "choropleth",
         "z": [
          1,
          1,
          1
         ]
        },
        {
         "colorscale": [
          [
           0,
           "rgb(158,202,225)"
          ],
          [
           1,
           "rgb(158,202,225)"
          ]
         ],
         "customdata": [
          [
           "191.8",
           "Colombia",
           "100 - 1000"
          ],
          [
           "157.9",
           "Singapore",
           "100 - 1000"
          ],
          [
           "163.5",
           "Uzbekistan",
           "100 - 1000"
          ],
          [
           "168.3",
           "Ethiopia",
           "100 - 1000"
          ],
          [
           "170.6",
           "Panama",
           "100 - 1000"
          ],
          [
           "240.5",
           "Philippines",
           "100 - 1000"
          ],
          [
           "195.4",
           "Venezuela (Bolivarian Republic of)",
           "100 - 1000"
          ],
          [
           "209.6",
           "Myanmar",
           "100 - 1000"
          ],
          [
           "215.4",
           "Netherlands",
           "100 - 1000"
          ],
          [
           "134.5",
           "Kuwait",
           "100 - 1000"
          ],
          [
           "254.2",
           "Algeria",
           "100 - 1000"
          ],
          [
           "145.5",
           "China, Hong Kong Special Administrative Region",
           "100 - 1000"
          ],
          [
           "124.8",
           "Belgium",
           "100 - 1000"
          ],
          [
           "126.1",
           "Oman",
           "100 - 1000"
          ],
          [
           "126.0",
           "Qatar",
           "100 - 1000"
          ],
          [
           "276.8",
           "Iraq",
           "100 - 1000"
          ],
          [
           "122.8",
           "Chile",
           "100 - 1000"
          ],
          [
           "120.2",
           "Liberia",
           "100 - 1000"
          ],
          [
           "116.9",
           "Czechia",
           "100 - 1000"
          ],
          [
           "113.5",
           "Belarus",
           "100 - 1000"
          ],
          [
           "104.8",
           "Morocco",
           "100 - 1000"
          ],
          [
           "104.5",
           "Romania",
           "100 - 1000"
          ],
          [
           "102.5",
           "Greece",
           "100 - 1000"
          ],
          [
           "100.2",
           "Turkmenistan",
           "100 - 1000"
          ],
          [
           "261.7",
           "Ukraine",
           "100 - 1000"
          ],
          [
           "115.0",
           "Sudan",
           "100 - 1000"
          ],
          [
           "298.9",
           "Kazakhstan",
           "100 - 1000"
          ],
          [
           "468.2",
           "France",
           "100 - 1000"
          ],
          [
           "837.4",
           "Germany",
           "100 - 1000"
          ],
          [
           "299.9",
           "United Arab Emirates",
           "100 - 1000"
          ],
          [
           "822.7",
           "Iran (Islamic Republic of)",
           "100 - 1000"
          ],
          [
           "761.0",
           "Saudi Arabia",
           "100 - 1000"
          ],
          [
           "702.1",
           "Republic of Korea",
           "100 - 1000"
          ],
          [
           "672.3",
           "Mexico",
           "100 - 1000"
          ],
          [
           "630.0",
           "Australia",
           "100 - 1000"
          ],
          [
           "533.4",
           "Pakistan",
           "100 - 1000"
          ],
          [
           "530.2",
           "Turkey",
           "100 - 1000"
          ],
          [
           "499.9",
           "Viet Nam",
           "100 - 1000"
          ],
          [
           "493.7",
           "South Africa",
           "100 - 1000"
          ],
          [
           "769.4",
           "Canada",
           "100 - 1000"
          ],
          [
           "463.6",
           "Thailand",
           "100 - 1000"
          ],
          [
           "338.0",
           "Bangladesh",
           "100 - 1000"
          ],
          [
           "458.9",
           "United Kingdom of Great Britain and Northern Ireland",
           "100 - 1000"
          ],
          [
           "316.9",
           "Taiwan",
           "100 - 1000"
          ],
          [
           "321.8",
           "Spain",
           "100 - 1000"
          ],
          [
           "337.7",
           "Nigeria",
           "100 - 1000"
          ],
          [
           "328.7",
           "Egypt",
           "100 - 1000"
          ],
          [
           "353.3",
           "Malaysia",
           "100 - 1000"
          ],
          [
           "375.7",
           "Argentina",
           "100 - 1000"
          ],
          [
           "420.4",
           "Poland",
           "100 - 1000"
          ],
          [
           "457.1",
           "Italy",
           "100 - 1000"
          ]
         ],
         "geo": "geo",
         "hovertemplate": "<b>%{hovertext}</b><br><br>GHG emissions=%{customdata[0]}<extra></extra>",
         "hovertext": [
          "Colombia",
          "Singapore",
          "Uzbekistan",
          "Ethiopia",
          "Panama",
          "Philippines",
          "Venezuela (Bolivarian Republic of)",
          "Myanmar",
          "Netherlands",
          "Kuwait",
          "Algeria",
          "China, Hong Kong Special Administrative Region",
          "Belgium",
          "Oman",
          "Qatar",
          "Iraq",
          "Chile",
          "Liberia",
          "Czechia",
          "Belarus",
          "Morocco",
          "Romania",
          "Greece",
          "Turkmenistan",
          "Ukraine",
          "Sudan",
          "Kazakhstan",
          "France",
          "Germany",
          "United Arab Emirates",
          "Iran (Islamic Republic of)",
          "Saudi Arabia",
          "Republic of Korea",
          "Mexico",
          "Australia",
          "Pakistan",
          "Turkey",
          "Viet Nam",
          "South Africa",
          "Canada",
          "Thailand",
          "Bangladesh",
          "United Kingdom of Great Britain and Northern Ireland",
          "Taiwan",
          "Spain",
          "Nigeria",
          "Egypt",
          "Malaysia",
          "Argentina",
          "Poland",
          "Italy"
         ],
         "locationmode": "country names",
         "locations": [
          "Colombia",
          "Singapore",
          "Uzbekistan",
          "Ethiopia",
          "Panama",
          "Philippines",
          "Venezuela (Bolivarian Republic of)",
          "Myanmar",
          "Netherlands",
          "Kuwait",
          "Algeria",
          "China, Hong Kong Special Administrative Region",
          "Belgium",
          "Oman",
          "Qatar",
          "Iraq",
          "Chile",
          "Liberia",
          "Czechia",
          "Belarus",
          "Morocco",
          "Romania",
          "Greece",
          "Turkmenistan",
          "Ukraine",
          "Sudan",
          "Kazakhstan",
          "France",
          "Germany",
          "United Arab Emirates",
          "Iran (Islamic Republic of)",
          "Saudi Arabia",
          "Republic of Korea",
          "Mexico",
          "Australia",
          "Pakistan",
          "Turkey",
          "Viet Nam",
          "South Africa",
          "Canada",
          "Thailand",
          "Bangladesh",
          "United Kingdom of Great Britain and Northern Ireland",
          "Taiwan",
          "Spain",
          "Nigeria",
          "Egypt",
          "Malaysia",
          "Argentina",
          "Poland",
          "Italy"
         ],
         "name": "100 - 1000",
         "showlegend": true,
         "showscale": false,
         "type": "choropleth",
         "z": [
          1,
          1,
          1,
          1,
          1,
          1,
          1,
          1,
          1,
          1,
          1,
          1,
          1,
          1,
          1,
          1,
          1,
          1,
          1,
          1,
          1,
          1,
          1,
          1,
          1,
          1,
          1,
          1,
          1,
          1,
          1,
          1,
          1,
          1,
          1,
          1,
          1,
          1,
          1,
          1,
          1,
          1,
          1,
          1,
          1,
          1,
          1,
          1,
          1,
          1,
          1
         ]
        },
        {
         "colorscale": [
          [
           0,
           "rgb(222,235,247)"
          ],
          [
           1,
           "rgb(222,235,247)"
          ]
         ],
         "customdata": [
          [
           "2.5",
           "Djibouti",
           "< 100"
          ],
          [
           "2.5",
           "China, Macao Special Administrative Region",
           "< 100"
          ],
          [
           "2.4",
           "Bhutan",
           "< 100"
          ],
          [
           "2.3",
           "Timor-Leste",
           "< 100"
          ],
          [
           "2.2",
           "Maldives",
           "< 100"
          ],
          [
           "2.1",
           "Montenegro",
           "< 100"
          ],
          [
           "1.9",
           "Guam",
           "< 100"
          ],
          [
           "1.8",
           "Saint Vincent and the Grenadines",
           "< 100"
          ],
          [
           "1.7",
           "Palau",
           "< 100"
          ],
          [
           "1.5",
           "Faroe Islands",
           "< 100"
          ],
          [
           "1.7",
           "Comoros",
           "< 100"
          ],
          [
           "1.6",
           "Seychelles",
           "< 100"
          ],
          [
           "1.6",
           "Vanuatu",
           "< 100"
          ],
          [
           "1.5",
           "Cabo Verde",
           "< 100"
          ],
          [
           "1.4",
           "Aruba",
           "< 100"
          ],
          [
           "1.2",
           "French Polynesia",
           "< 100"
          ],
          [
           "1.2",
           "Falkland Islands (Malvinas)",
           "< 100"
          ],
          [
           "0.8",
           "French Guiana",
           "< 100"
          ],
          [
           "0.7",
           "Tuvalu",
           "< 100"
          ],
          [
           "2.8",
           "Guadeloupe",
           "< 100"
          ],
          [
           "0.7",
           "Saint Kitts and Nevis",
           "< 100"
          ],
          [
           "2.8",
           "Lesotho",
           "< 100"
          ],
          [
           "4.8",
           "Réunion",
           "< 100"
          ],
          [
           "2.8",
           "Martinique",
           "< 100"
          ],
          [
           "5.5",
           "New Caledonia",
           "< 100"
          ],
          [
           "0.7",
           "Cook Islands",
           "< 100"
          ],
          [
           "9.2",
           "Sierra Leone",
           "< 100"
          ],
          [
           "8.7",
           "Albania",
           "< 100"
          ],
          [
           "7.7",
           "Armenia",
           "< 100"
          ],
          [
           "7.2",
           "Brunei Darussalam",
           "< 100"
          ],
          [
           "6.9",
           "Eritrea",
           "< 100"
          ],
          [
           "6.0",
           "Kosovo",
           "< 100"
          ],
          [
           "5.6",
           "Iceland",
           "< 100"
          ],
          [
           "5.5",
           "Mauritius",
           "< 100"
          ],
          [
           "5.0",
           "Curaçao",
           "< 100"
          ],
          [
           "3.0",
           "Gambia",
           "< 100"
          ],
          [
           "4.7",
           "Suriname",
           "< 100"
          ],
          [
           "4.5",
           "Cayman Islands",
           "< 100"
          ],
          [
           "4.3",
           "Belize",
           "< 100"
          ],
          [
           "4.3",
           "United States Virgin Islands",
           "< 100"
          ],
          [
           "3.7",
           "Barbados",
           "< 100"
          ],
          [
           "3.5",
           "Fiji",
           "< 100"
          ],
          [
           "3.4",
           "Eswatini",
           "< 100"
          ],
          [
           "3.4",
           "Gibraltar",
           "< 100"
          ],
          [
           "3.3",
           "Guinea-Bissau",
           "< 100"
          ],
          [
           "0.7",
           "Saint Lucia",
           "< 100"
          ],
          [
           "0.0",
           "Saint Helena",
           "< 100"
          ],
          [
           "0.6",
           "Samoa",
           "< 100"
          ],
          [
           "0.6",
           "State of Palestine",
           "< 100"
          ],
          [
           "0.0",
           "Wallis and Futuna Islands",
           "< 100"
          ],
          [
           "0.0",
           "Andorra",
           "< 100"
          ],
          [
           "9.4",
           "Burundi",
           "< 100"
          ],
          [
           "0.0",
           "Liechtenstein",
           "< 100"
          ],
          [
           "0.0",
           "Monaco",
           "< 100"
          ],
          [
           "0.0",
           "Saint Barthélemy",
           "< 100"
          ],
          [
           "0.0",
           "Norfolk Island",
           "< 100"
          ],
          [
           "0.0",
           "Saint Martin (French Part)",
           "< 100"
          ],
          [
           "0.0",
           "Cocos (Keeling) Islands",
           "< 100"
          ],
          [
           "0.0",
           "Christmas Island",
           "< 100"
          ],
          [
           "0.0",
           "Tokelau",
           "< 100"
          ],
          [
           "0.0",
           "French Southern Territories",
           "< 100"
          ],
          [
           "0.0",
           "Antarctica",
           "< 100"
          ],
          [
           "0.0",
           "Bouvet Island",
           "< 100"
          ],
          [
           "0.0",
           "Pitcairn",
           "< 100"
          ],
          [
           "0.0",
           "San Marino",
           "< 100"
          ],
          [
           "0.0",
           "South Georgia and the South Sandwich Islands",
           "< 100"
          ],
          [
           "0.0",
           "Svalbard and Jan Mayen Islands",
           "< 100"
          ],
          [
           "0.0",
           "British Indian Ocean Territory",
           "< 100"
          ],
          [
           "0.0",
           "Heard Island and McDonald Islands",
           "< 100"
          ],
          [
           "0.0",
           "Holy See",
           "< 100"
          ],
          [
           "0.0",
           "Montserrat",
           "< 100"
          ],
          [
           "0.0",
           "Niue",
           "< 100"
          ],
          [
           "0.0",
           "Nauru",
           "< 100"
          ],
          [
           "0.4",
           "Mayotte",
           "< 100"
          ],
          [
           "0.6",
           "Greenland",
           "< 100"
          ],
          [
           "0.6",
           "Solomon Islands",
           "< 100"
          ],
          [
           "0.5",
           "Dominica",
           "< 100"
          ],
          [
           "0.5",
           "Northern Mariana Islands",
           "< 100"
          ],
          [
           "0.4",
           "Western Sahara",
           "< 100"
          ],
          [
           "0.4",
           "United States Minor Outlying Islands",
           "< 100"
          ],
          [
           "0.4",
           "Sint Maarten (Dutch part)",
           "< 100"
          ],
          [
           "0.4",
           "Grenada",
           "< 100"
          ],
          [
           "0.4",
           "Turks and Caicos Islands",
           "< 100"
          ],
          [
           "0.3",
           "Sao Tome and Principe",
           "< 100"
          ],
          [
           "0.1",
           "Jersey",
           "< 100"
          ],
          [
           "0.3",
           "Tonga",
           "< 100"
          ],
          [
           "0.2",
           "British Virgin Islands",
           "< 100"
          ],
          [
           "0.2",
           "Kiribati",
           "< 100"
          ],
          [
           "0.2",
           "Guernsey",
           "< 100"
          ],
          [
           "0.2",
           "American Samoa",
           "< 100"
          ],
          [
           "0.2",
           "Micronesia (Federated States of)",
           "< 100"
          ],
          [
           "0.1",
           "Bonaire, Sint Eustatius and Saba",
           "< 100"
          ],
          [
           "0.1",
           "Anguilla",
           "< 100"
          ],
          [
           "0.1",
           "Saint Pierre and Miquelon",
           "< 100"
          ],
          [
           "9.3",
           "Rwanda",
           "< 100"
          ],
          [
           "22.9",
           "Nicaragua",
           "< 100"
          ],
          [
           "9.9",
           "Namibia",
           "< 100"
          ],
          [
           "10.0",
           "The former Yugoslav Republic of Macedonia",
           "< 100"
          ],
          [
           "55.4",
           "Uganda",
           "< 100"
          ],
          [
           "54.9",
           "Bulgaria",
           "< 100"
          ],
          [
           "53.4",
           "Switzerland",
           "< 100"
          ],
          [
           "51.2",
           "Democratic Republic of the Congo",
           "< 100"
          ],
          [
           "48.8",
           "Guatemala",
           "< 100"
          ],
          [
           "48.2",
           "Zambia",
           "< 100"
          ],
          [
           "47.6",
           "Cuba",
           "< 100"
          ],
          [
           "46.6",
           "Sri Lanka",
           "< 100"
          ],
          [
           "45.5",
           "Mali",
           "< 100"
          ],
          [
           "43.8",
           "Paraguay",
           "< 100"
          ],
          [
           "43.7",
           "Madagascar",
           "< 100"
          ],
          [
           "43.3",
           "Uruguay",
           "< 100"
          ],
          [
           "43.3",
           "Democratic People's Republic of Korea",
           "< 100"
          ],
          [
           "43.1",
           "Dominican Republic",
           "< 100"
          ],
          [
           "43.0",
           "Bahamas",
           "< 100"
          ],
          [
           "42.4",
           "Bahrain",
           "< 100"
          ],
          [
           "42.3",
           "Papua New Guinea",
           "< 100"
          ],
          [
           "42.0",
           "Ghana",
           "< 100"
          ],
          [
           "40.8",
           "Slovakia",
           "< 100"
          ],
          [
           "40.5",
           "Lao People's Democratic Republic",
           "< 100"
          ],
          [
           "39.1",
           "Tunisia",
           "< 100"
          ],
          [
           "56.2",
           "Nepal",
           "< 100"
          ],
          [
           "57.4",
           "Azerbaijan",
           "< 100"
          ],
          [
           "57.7",
           "Bolivia (Plurinational State of)",
           "< 100"
          ],
          [
           "76.5",
           "Finland",
           "< 100"
          ],
          [
           "99.8",
           "Marshall Islands",
           "< 100"
          ],
          [
           "97.1",
           "Norway",
           "< 100"
          ],
          [
           "95.8",
           "Peru",
           "< 100"
          ],
          [
           "95.3",
           "United Republic of Tanzania",
           "< 100"
          ],
          [
           "91.4",
           "Kenya",
           "< 100"
          ],
          [
           "85.7",
           "New Zealand",
           "< 100"
          ],
          [
           "84.1",
           "Israel",
           "< 100"
          ],
          [
           "80.6",
           "Portugal",
           "< 100"
          ],
          [
           "79.2",
           "Chad",
           "< 100"
          ],
          [
           "74.7",
           "Austria",
           "< 100"
          ],
          [
           "58.0",
           "Angola",
           "< 100"
          ],
          [
           "71.2",
           "Sweden",
           "< 100"
          ],
          [
           "71.1",
           "Mongolia",
           "< 100"
          ],
          [
           "68.6",
           "Hungary",
           "< 100"
          ],
          [
           "68.1",
           "Denmark",
           "< 100"
          ],
          [
           "66.4",
           "Cambodia",
           "< 100"
          ],
          [
           "64.2",
           "Ecuador",
           "< 100"
          ],
          [
           "62.7",
           "Ireland",
           "< 100"
          ],
          [
           "62.1",
           "Libya",
           "< 100"
          ],
          [
           "60.0",
           "Malta",
           "< 100"
          ],
          [
           "39.0",
           "Serbia",
           "< 100"
          ],
          [
           "37.7",
           "Niger",
           "< 100"
          ],
          [
           "37.5",
           "Syrian Arab Republic",
           "< 100"
          ],
          [
           "12.7",
           "Luxembourg",
           "< 100"
          ],
          [
           "16.1",
           "Costa Rica",
           "< 100"
          ],
          [
           "14.8",
           "Malawi",
           "< 100"
          ],
          [
           "14.7",
           "Georgia",
           "< 100"
          ],
          [
           "14.6",
           "Latvia",
           "< 100"
          ],
          [
           "14.4",
           "Haiti",
           "< 100"
          ],
          [
           "14.1",
           "Mauritania",
           "< 100"
          ],
          [
           "12.9",
           "Republic of Moldova",
           "< 100"
          ],
          [
           "12.8",
           "El Salvador",
           "< 100"
          ],
          [
           "12.7",
           "Botswana",
           "< 100"
          ],
          [
           "11.8",
           "Togo",
           "< 100"
          ],
          [
           "18.4",
           "Benin",
           "< 100"
          ],
          [
           "11.5",
           "Congo",
           "< 100"
          ],
          [
           "11.3",
           "Guyana",
           "< 100"
          ],
          [
           "11.1",
           "Antigua and Barbuda",
           "< 100"
          ],
          [
           "11.1",
           "Gabon",
           "< 100"
          ],
          [
           "11.1",
           "Jamaica",
           "< 100"
          ],
          [
           "11.0",
           "Bermuda",
           "< 100"
          ],
          [
           "10.5",
           "Central African Republic",
           "< 100"
          ],
          [
           "10.1",
           "Equatorial Guinea",
           "< 100"
          ],
          [
           "10.0",
           "Isle of Man",
           "< 100"
          ],
          [
           "17.3",
           "Tajikistan",
           "< 100"
          ],
          [
           "18.7",
           "Kyrgyzstan",
           "< 100"
          ],
          [
           "37.1",
           "Mozambique",
           "< 100"
          ],
          [
           "29.8",
           "Cyprus",
           "< 100"
          ],
          [
           "36.7",
           "South Sudan",
           "< 100"
          ],
          [
           "35.0",
           "Trinidad and Tobago",
           "< 100"
          ],
          [
           "33.8",
           "Guinea",
           "< 100"
          ],
          [
           "33.2",
           "Burkina Faso",
           "< 100"
          ],
          [
           "32.5",
           "Jordan",
           "< 100"
          ],
          [
           "31.9",
           "Lebanon",
           "< 100"
          ],
          [
           "30.9",
           "Cameroon",
           "< 100"
          ],
          [
           "30.5",
           "Afghanistan",
           "< 100"
          ],
          [
           "30.4",
           "Côte d'Ivoire",
           "< 100"
          ],
          [
           "29.7",
           "Zimbabwe",
           "< 100"
          ],
          [
           "18.9",
           "Slovenia",
           "< 100"
          ],
          [
           "29.2",
           "Somalia",
           "< 100"
          ],
          [
           "28.8",
           "Bosnia and Herzegovina",
           "< 100"
          ],
          [
           "27.6",
           "Lithuania",
           "< 100"
          ],
          [
           "26.3",
           "Croatia",
           "< 100"
          ],
          [
           "25.0",
           "Senegal",
           "< 100"
          ],
          [
           "23.4",
           "Honduras",
           "< 100"
          ],
          [
           "23.2",
           "Yemen",
           "< 100"
          ],
          [
           "22.6",
           "Estonia",
           "< 100"
          ],
          [
           "22.5",
           "Puerto Rico",
           "< 100"
          ],
          [
           "0.0",
           "Åland Islands",
           "< 100"
          ]
         ],
         "geo": "geo",
         "hovertemplate": "<b>%{hovertext}</b><br><br>GHG emissions=%{customdata[0]}<extra></extra>",
         "hovertext": [
          "Djibouti",
          "China, Macao Special Administrative Region",
          "Bhutan",
          "Timor-Leste",
          "Maldives",
          "Montenegro",
          "Guam",
          "Saint Vincent and the Grenadines",
          "Palau",
          "Faroe Islands",
          "Comoros",
          "Seychelles",
          "Vanuatu",
          "Cabo Verde",
          "Aruba",
          "French Polynesia",
          "Falkland Islands (Malvinas)",
          "French Guiana",
          "Tuvalu",
          "Guadeloupe",
          "Saint Kitts and Nevis",
          "Lesotho",
          "Réunion",
          "Martinique",
          "New Caledonia",
          "Cook Islands",
          "Sierra Leone",
          "Albania",
          "Armenia",
          "Brunei Darussalam",
          "Eritrea",
          "Kosovo",
          "Iceland",
          "Mauritius",
          "Curaçao",
          "Gambia",
          "Suriname",
          "Cayman Islands",
          "Belize",
          "United States Virgin Islands",
          "Barbados",
          "Fiji",
          "Eswatini",
          "Gibraltar",
          "Guinea-Bissau",
          "Saint Lucia",
          "Saint Helena",
          "Samoa",
          "State of Palestine",
          "Wallis and Futuna Islands",
          "Andorra",
          "Burundi",
          "Liechtenstein",
          "Monaco",
          "Saint Barthélemy",
          "Norfolk Island",
          "Saint Martin (French Part)",
          "Cocos (Keeling) Islands",
          "Christmas Island",
          "Tokelau",
          "French Southern Territories",
          "Antarctica",
          "Bouvet Island",
          "Pitcairn",
          "San Marino",
          "South Georgia and the South Sandwich Islands",
          "Svalbard and Jan Mayen Islands",
          "British Indian Ocean Territory",
          "Heard Island and McDonald Islands",
          "Holy See",
          "Montserrat",
          "Niue",
          "Nauru",
          "Mayotte",
          "Greenland",
          "Solomon Islands",
          "Dominica",
          "Northern Mariana Islands",
          "Western Sahara",
          "United States Minor Outlying Islands",
          "Sint Maarten (Dutch part)",
          "Grenada",
          "Turks and Caicos Islands",
          "Sao Tome and Principe",
          "Jersey",
          "Tonga",
          "British Virgin Islands",
          "Kiribati",
          "Guernsey",
          "American Samoa",
          "Micronesia (Federated States of)",
          "Bonaire, Sint Eustatius and Saba",
          "Anguilla",
          "Saint Pierre and Miquelon",
          "Rwanda",
          "Nicaragua",
          "Namibia",
          "The former Yugoslav Republic of Macedonia",
          "Uganda",
          "Bulgaria",
          "Switzerland",
          "Democratic Republic of the Congo",
          "Guatemala",
          "Zambia",
          "Cuba",
          "Sri Lanka",
          "Mali",
          "Paraguay",
          "Madagascar",
          "Uruguay",
          "Democratic People's Republic of Korea",
          "Dominican Republic",
          "Bahamas",
          "Bahrain",
          "Papua New Guinea",
          "Ghana",
          "Slovakia",
          "Lao People's Democratic Republic",
          "Tunisia",
          "Nepal",
          "Azerbaijan",
          "Bolivia (Plurinational State of)",
          "Finland",
          "Marshall Islands",
          "Norway",
          "Peru",
          "United Republic of Tanzania",
          "Kenya",
          "New Zealand",
          "Israel",
          "Portugal",
          "Chad",
          "Austria",
          "Angola",
          "Sweden",
          "Mongolia",
          "Hungary",
          "Denmark",
          "Cambodia",
          "Ecuador",
          "Ireland",
          "Libya",
          "Malta",
          "Serbia",
          "Niger",
          "Syrian Arab Republic",
          "Luxembourg",
          "Costa Rica",
          "Malawi",
          "Georgia",
          "Latvia",
          "Haiti",
          "Mauritania",
          "Republic of Moldova",
          "El Salvador",
          "Botswana",
          "Togo",
          "Benin",
          "Congo",
          "Guyana",
          "Antigua and Barbuda",
          "Gabon",
          "Jamaica",
          "Bermuda",
          "Central African Republic",
          "Equatorial Guinea",
          "Isle of Man",
          "Tajikistan",
          "Kyrgyzstan",
          "Mozambique",
          "Cyprus",
          "South Sudan",
          "Trinidad and Tobago",
          "Guinea",
          "Burkina Faso",
          "Jordan",
          "Lebanon",
          "Cameroon",
          "Afghanistan",
          "Côte d'Ivoire",
          "Zimbabwe",
          "Slovenia",
          "Somalia",
          "Bosnia and Herzegovina",
          "Lithuania",
          "Croatia",
          "Senegal",
          "Honduras",
          "Yemen",
          "Estonia",
          "Puerto Rico",
          "Åland Islands"
         ],
         "locationmode": "country names",
         "locations": [
          "Djibouti",
          "China, Macao Special Administrative Region",
          "Bhutan",
          "Timor-Leste",
          "Maldives",
          "Montenegro",
          "Guam",
          "Saint Vincent and the Grenadines",
          "Palau",
          "Faroe Islands",
          "Comoros",
          "Seychelles",
          "Vanuatu",
          "Cabo Verde",
          "Aruba",
          "French Polynesia",
          "Falkland Islands (Malvinas)",
          "French Guiana",
          "Tuvalu",
          "Guadeloupe",
          "Saint Kitts and Nevis",
          "Lesotho",
          "Réunion",
          "Martinique",
          "New Caledonia",
          "Cook Islands",
          "Sierra Leone",
          "Albania",
          "Armenia",
          "Brunei Darussalam",
          "Eritrea",
          "Kosovo",
          "Iceland",
          "Mauritius",
          "Curaçao",
          "Gambia",
          "Suriname",
          "Cayman Islands",
          "Belize",
          "United States Virgin Islands",
          "Barbados",
          "Fiji",
          "Eswatini",
          "Gibraltar",
          "Guinea-Bissau",
          "Saint Lucia",
          "Saint Helena",
          "Samoa",
          "State of Palestine",
          "Wallis and Futuna Islands",
          "Andorra",
          "Burundi",
          "Liechtenstein",
          "Monaco",
          "Saint Barthélemy",
          "Norfolk Island",
          "Saint Martin (French Part)",
          "Cocos (Keeling) Islands",
          "Christmas Island",
          "Tokelau",
          "French Southern Territories",
          "Antarctica",
          "Bouvet Island",
          "Pitcairn",
          "San Marino",
          "South Georgia and the South Sandwich Islands",
          "Svalbard and Jan Mayen Islands",
          "British Indian Ocean Territory",
          "Heard Island and McDonald Islands",
          "Holy See",
          "Montserrat",
          "Niue",
          "Nauru",
          "Mayotte",
          "Greenland",
          "Solomon Islands",
          "Dominica",
          "Northern Mariana Islands",
          "Western Sahara",
          "United States Minor Outlying Islands",
          "Sint Maarten (Dutch part)",
          "Grenada",
          "Turks and Caicos Islands",
          "Sao Tome and Principe",
          "Jersey",
          "Tonga",
          "British Virgin Islands",
          "Kiribati",
          "Guernsey",
          "American Samoa",
          "Micronesia (Federated States of)",
          "Bonaire, Sint Eustatius and Saba",
          "Anguilla",
          "Saint Pierre and Miquelon",
          "Rwanda",
          "Nicaragua",
          "Namibia",
          "The former Yugoslav Republic of Macedonia",
          "Uganda",
          "Bulgaria",
          "Switzerland",
          "Democratic Republic of the Congo",
          "Guatemala",
          "Zambia",
          "Cuba",
          "Sri Lanka",
          "Mali",
          "Paraguay",
          "Madagascar",
          "Uruguay",
          "Democratic People's Republic of Korea",
          "Dominican Republic",
          "Bahamas",
          "Bahrain",
          "Papua New Guinea",
          "Ghana",
          "Slovakia",
          "Lao People's Democratic Republic",
          "Tunisia",
          "Nepal",
          "Azerbaijan",
          "Bolivia (Plurinational State of)",
          "Finland",
          "Marshall Islands",
          "Norway",
          "Peru",
          "United Republic of Tanzania",
          "Kenya",
          "New Zealand",
          "Israel",
          "Portugal",
          "Chad",
          "Austria",
          "Angola",
          "Sweden",
          "Mongolia",
          "Hungary",
          "Denmark",
          "Cambodia",
          "Ecuador",
          "Ireland",
          "Libya",
          "Malta",
          "Serbia",
          "Niger",
          "Syrian Arab Republic",
          "Luxembourg",
          "Costa Rica",
          "Malawi",
          "Georgia",
          "Latvia",
          "Haiti",
          "Mauritania",
          "Republic of Moldova",
          "El Salvador",
          "Botswana",
          "Togo",
          "Benin",
          "Congo",
          "Guyana",
          "Antigua and Barbuda",
          "Gabon",
          "Jamaica",
          "Bermuda",
          "Central African Republic",
          "Equatorial Guinea",
          "Isle of Man",
          "Tajikistan",
          "Kyrgyzstan",
          "Mozambique",
          "Cyprus",
          "South Sudan",
          "Trinidad and Tobago",
          "Guinea",
          "Burkina Faso",
          "Jordan",
          "Lebanon",
          "Cameroon",
          "Afghanistan",
          "Côte d'Ivoire",
          "Zimbabwe",
          "Slovenia",
          "Somalia",
          "Bosnia and Herzegovina",
          "Lithuania",
          "Croatia",
          "Senegal",
          "Honduras",
          "Yemen",
          "Estonia",
          "Puerto Rico",
          "Åland Islands"
         ],
         "name": "< 100",
         "showlegend": true,
         "showscale": false,
         "type": "choropleth",
         "z": [
          1,
          1,
          1,
          1,
          1,
          1,
          1,
          1,
          1,
          1,
          1,
          1,
          1,
          1,
          1,
          1,
          1,
          1,
          1,
          1,
          1,
          1,
          1,
          1,
          1,
          1,
          1,
          1,
          1,
          1,
          1,
          1,
          1,
          1,
          1,
          1,
          1,
          1,
          1,
          1,
          1,
          1,
          1,
          1,
          1,
          1,
          1,
          1,
          1,
          1,
          1,
          1,
          1,
          1,
          1,
          1,
          1,
          1,
          1,
          1,
          1,
          1,
          1,
          1,
          1,
          1,
          1,
          1,
          1,
          1,
          1,
          1,
          1,
          1,
          1,
          1,
          1,
          1,
          1,
          1,
          1,
          1,
          1,
          1,
          1,
          1,
          1,
          1,
          1,
          1,
          1,
          1,
          1,
          1,
          1,
          1,
          1,
          1,
          1,
          1,
          1,
          1,
          1,
          1,
          1,
          1,
          1,
          1,
          1,
          1,
          1,
          1,
          1,
          1,
          1,
          1,
          1,
          1,
          1,
          1,
          1,
          1,
          1,
          1,
          1,
          1,
          1,
          1,
          1,
          1,
          1,
          1,
          1,
          1,
          1,
          1,
          1,
          1,
          1,
          1,
          1,
          1,
          1,
          1,
          1,
          1,
          1,
          1,
          1,
          1,
          1,
          1,
          1,
          1,
          1,
          1,
          1,
          1,
          1,
          1,
          1,
          1,
          1,
          1,
          1,
          1,
          1,
          1,
          1,
          1,
          1,
          1,
          1,
          1,
          1,
          1,
          1,
          1,
          1,
          1,
          1,
          1,
          1,
          1,
          1,
          1,
          1,
          1,
          1,
          1,
          1,
          1
         ]
        }
       ],
       "layout": {
        "annotations": [
         {
          "font": {
           "family": "sans-serif",
           "size": 10
          },
          "showarrow": false,
          "text": "Source: <a href=\"https://www.climatetrace.org/\">\nClimate Trace</a>",
          "x": 0.015,
          "y": 0
         }
        ],
        "autosize": false,
        "font": {
         "family": "sans-serif"
        },
        "geo": {
         "center": {},
         "domain": {
          "x": [
           0,
           1
          ],
          "y": [
           0,
           1
          ]
         },
         "lataxis": {
          "range": [
           -55,
           90
          ]
         },
         "showframe": true,
         "showlakes": false
        },
        "height": 400,
        "hoverlabel": {
         "bgcolor": "white",
         "font": {
          "family": "sans-serif",
          "size": 10
         }
        },
        "legend": {
         "bordercolor": "grey",
         "borderwidth": 0.5,
         "font": {
          "size": 10
         },
         "title": {
          "text": "MTCo2eq"
         },
         "tracegroupgap": 0,
         "x": 0.015,
         "y": 0.07
        },
        "margin": {
         "b": 20,
         "l": 20,
         "pad": 5,
         "r": 20,
         "t": 20
        },
        "template": {
         "data": {
          "bar": [
           {
            "error_x": {
             "color": "#2a3f5f"
            },
            "error_y": {
             "color": "#2a3f5f"
            },
            "marker": {
             "line": {
              "color": "#E5ECF6",
              "width": 0.5
             },
             "pattern": {
              "fillmode": "overlay",
              "size": 10,
              "solidity": 0.2
             }
            },
            "type": "bar"
           }
          ],
          "barpolar": [
           {
            "marker": {
             "line": {
              "color": "#E5ECF6",
              "width": 0.5
             },
             "pattern": {
              "fillmode": "overlay",
              "size": 10,
              "solidity": 0.2
             }
            },
            "type": "barpolar"
           }
          ],
          "carpet": [
           {
            "aaxis": {
             "endlinecolor": "#2a3f5f",
             "gridcolor": "white",
             "linecolor": "white",
             "minorgridcolor": "white",
             "startlinecolor": "#2a3f5f"
            },
            "baxis": {
             "endlinecolor": "#2a3f5f",
             "gridcolor": "white",
             "linecolor": "white",
             "minorgridcolor": "white",
             "startlinecolor": "#2a3f5f"
            },
            "type": "carpet"
           }
          ],
          "choropleth": [
           {
            "colorbar": {
             "outlinewidth": 0,
             "ticks": ""
            },
            "type": "choropleth"
           }
          ],
          "contour": [
           {
            "colorbar": {
             "outlinewidth": 0,
             "ticks": ""
            },
            "colorscale": [
             [
              0,
              "#0d0887"
             ],
             [
              0.1111111111111111,
              "#46039f"
             ],
             [
              0.2222222222222222,
              "#7201a8"
             ],
             [
              0.3333333333333333,
              "#9c179e"
             ],
             [
              0.4444444444444444,
              "#bd3786"
             ],
             [
              0.5555555555555556,
              "#d8576b"
             ],
             [
              0.6666666666666666,
              "#ed7953"
             ],
             [
              0.7777777777777778,
              "#fb9f3a"
             ],
             [
              0.8888888888888888,
              "#fdca26"
             ],
             [
              1,
              "#f0f921"
             ]
            ],
            "type": "contour"
           }
          ],
          "contourcarpet": [
           {
            "colorbar": {
             "outlinewidth": 0,
             "ticks": ""
            },
            "type": "contourcarpet"
           }
          ],
          "heatmap": [
           {
            "colorbar": {
             "outlinewidth": 0,
             "ticks": ""
            },
            "colorscale": [
             [
              0,
              "#0d0887"
             ],
             [
              0.1111111111111111,
              "#46039f"
             ],
             [
              0.2222222222222222,
              "#7201a8"
             ],
             [
              0.3333333333333333,
              "#9c179e"
             ],
             [
              0.4444444444444444,
              "#bd3786"
             ],
             [
              0.5555555555555556,
              "#d8576b"
             ],
             [
              0.6666666666666666,
              "#ed7953"
             ],
             [
              0.7777777777777778,
              "#fb9f3a"
             ],
             [
              0.8888888888888888,
              "#fdca26"
             ],
             [
              1,
              "#f0f921"
             ]
            ],
            "type": "heatmap"
           }
          ],
          "heatmapgl": [
           {
            "colorbar": {
             "outlinewidth": 0,
             "ticks": ""
            },
            "colorscale": [
             [
              0,
              "#0d0887"
             ],
             [
              0.1111111111111111,
              "#46039f"
             ],
             [
              0.2222222222222222,
              "#7201a8"
             ],
             [
              0.3333333333333333,
              "#9c179e"
             ],
             [
              0.4444444444444444,
              "#bd3786"
             ],
             [
              0.5555555555555556,
              "#d8576b"
             ],
             [
              0.6666666666666666,
              "#ed7953"
             ],
             [
              0.7777777777777778,
              "#fb9f3a"
             ],
             [
              0.8888888888888888,
              "#fdca26"
             ],
             [
              1,
              "#f0f921"
             ]
            ],
            "type": "heatmapgl"
           }
          ],
          "histogram": [
           {
            "marker": {
             "pattern": {
              "fillmode": "overlay",
              "size": 10,
              "solidity": 0.2
             }
            },
            "type": "histogram"
           }
          ],
          "histogram2d": [
           {
            "colorbar": {
             "outlinewidth": 0,
             "ticks": ""
            },
            "colorscale": [
             [
              0,
              "#0d0887"
             ],
             [
              0.1111111111111111,
              "#46039f"
             ],
             [
              0.2222222222222222,
              "#7201a8"
             ],
             [
              0.3333333333333333,
              "#9c179e"
             ],
             [
              0.4444444444444444,
              "#bd3786"
             ],
             [
              0.5555555555555556,
              "#d8576b"
             ],
             [
              0.6666666666666666,
              "#ed7953"
             ],
             [
              0.7777777777777778,
              "#fb9f3a"
             ],
             [
              0.8888888888888888,
              "#fdca26"
             ],
             [
              1,
              "#f0f921"
             ]
            ],
            "type": "histogram2d"
           }
          ],
          "histogram2dcontour": [
           {
            "colorbar": {
             "outlinewidth": 0,
             "ticks": ""
            },
            "colorscale": [
             [
              0,
              "#0d0887"
             ],
             [
              0.1111111111111111,
              "#46039f"
             ],
             [
              0.2222222222222222,
              "#7201a8"
             ],
             [
              0.3333333333333333,
              "#9c179e"
             ],
             [
              0.4444444444444444,
              "#bd3786"
             ],
             [
              0.5555555555555556,
              "#d8576b"
             ],
             [
              0.6666666666666666,
              "#ed7953"
             ],
             [
              0.7777777777777778,
              "#fb9f3a"
             ],
             [
              0.8888888888888888,
              "#fdca26"
             ],
             [
              1,
              "#f0f921"
             ]
            ],
            "type": "histogram2dcontour"
           }
          ],
          "mesh3d": [
           {
            "colorbar": {
             "outlinewidth": 0,
             "ticks": ""
            },
            "type": "mesh3d"
           }
          ],
          "parcoords": [
           {
            "line": {
             "colorbar": {
              "outlinewidth": 0,
              "ticks": ""
             }
            },
            "type": "parcoords"
           }
          ],
          "pie": [
           {
            "automargin": true,
            "type": "pie"
           }
          ],
          "scatter": [
           {
            "marker": {
             "colorbar": {
              "outlinewidth": 0,
              "ticks": ""
             }
            },
            "type": "scatter"
           }
          ],
          "scatter3d": [
           {
            "line": {
             "colorbar": {
              "outlinewidth": 0,
              "ticks": ""
             }
            },
            "marker": {
             "colorbar": {
              "outlinewidth": 0,
              "ticks": ""
             }
            },
            "type": "scatter3d"
           }
          ],
          "scattercarpet": [
           {
            "marker": {
             "colorbar": {
              "outlinewidth": 0,
              "ticks": ""
             }
            },
            "type": "scattercarpet"
           }
          ],
          "scattergeo": [
           {
            "marker": {
             "colorbar": {
              "outlinewidth": 0,
              "ticks": ""
             }
            },
            "type": "scattergeo"
           }
          ],
          "scattergl": [
           {
            "marker": {
             "colorbar": {
              "outlinewidth": 0,
              "ticks": ""
             }
            },
            "type": "scattergl"
           }
          ],
          "scattermapbox": [
           {
            "marker": {
             "colorbar": {
              "outlinewidth": 0,
              "ticks": ""
             }
            },
            "type": "scattermapbox"
           }
          ],
          "scatterpolar": [
           {
            "marker": {
             "colorbar": {
              "outlinewidth": 0,
              "ticks": ""
             }
            },
            "type": "scatterpolar"
           }
          ],
          "scatterpolargl": [
           {
            "marker": {
             "colorbar": {
              "outlinewidth": 0,
              "ticks": ""
             }
            },
            "type": "scatterpolargl"
           }
          ],
          "scatterternary": [
           {
            "marker": {
             "colorbar": {
              "outlinewidth": 0,
              "ticks": ""
             }
            },
            "type": "scatterternary"
           }
          ],
          "surface": [
           {
            "colorbar": {
             "outlinewidth": 0,
             "ticks": ""
            },
            "colorscale": [
             [
              0,
              "#0d0887"
             ],
             [
              0.1111111111111111,
              "#46039f"
             ],
             [
              0.2222222222222222,
              "#7201a8"
             ],
             [
              0.3333333333333333,
              "#9c179e"
             ],
             [
              0.4444444444444444,
              "#bd3786"
             ],
             [
              0.5555555555555556,
              "#d8576b"
             ],
             [
              0.6666666666666666,
              "#ed7953"
             ],
             [
              0.7777777777777778,
              "#fb9f3a"
             ],
             [
              0.8888888888888888,
              "#fdca26"
             ],
             [
              1,
              "#f0f921"
             ]
            ],
            "type": "surface"
           }
          ],
          "table": [
           {
            "cells": {
             "fill": {
              "color": "#EBF0F8"
             },
             "line": {
              "color": "white"
             }
            },
            "header": {
             "fill": {
              "color": "#C8D4E3"
             },
             "line": {
              "color": "white"
             }
            },
            "type": "table"
           }
          ]
         },
         "layout": {
          "annotationdefaults": {
           "arrowcolor": "#2a3f5f",
           "arrowhead": 0,
           "arrowwidth": 1
          },
          "autotypenumbers": "strict",
          "coloraxis": {
           "colorbar": {
            "outlinewidth": 0,
            "ticks": ""
           }
          },
          "colorscale": {
           "diverging": [
            [
             0,
             "#8e0152"
            ],
            [
             0.1,
             "#c51b7d"
            ],
            [
             0.2,
             "#de77ae"
            ],
            [
             0.3,
             "#f1b6da"
            ],
            [
             0.4,
             "#fde0ef"
            ],
            [
             0.5,
             "#f7f7f7"
            ],
            [
             0.6,
             "#e6f5d0"
            ],
            [
             0.7,
             "#b8e186"
            ],
            [
             0.8,
             "#7fbc41"
            ],
            [
             0.9,
             "#4d9221"
            ],
            [
             1,
             "#276419"
            ]
           ],
           "sequential": [
            [
             0,
             "#0d0887"
            ],
            [
             0.1111111111111111,
             "#46039f"
            ],
            [
             0.2222222222222222,
             "#7201a8"
            ],
            [
             0.3333333333333333,
             "#9c179e"
            ],
            [
             0.4444444444444444,
             "#bd3786"
            ],
            [
             0.5555555555555556,
             "#d8576b"
            ],
            [
             0.6666666666666666,
             "#ed7953"
            ],
            [
             0.7777777777777778,
             "#fb9f3a"
            ],
            [
             0.8888888888888888,
             "#fdca26"
            ],
            [
             1,
             "#f0f921"
            ]
           ],
           "sequentialminus": [
            [
             0,
             "#0d0887"
            ],
            [
             0.1111111111111111,
             "#46039f"
            ],
            [
             0.2222222222222222,
             "#7201a8"
            ],
            [
             0.3333333333333333,
             "#9c179e"
            ],
            [
             0.4444444444444444,
             "#bd3786"
            ],
            [
             0.5555555555555556,
             "#d8576b"
            ],
            [
             0.6666666666666666,
             "#ed7953"
            ],
            [
             0.7777777777777778,
             "#fb9f3a"
            ],
            [
             0.8888888888888888,
             "#fdca26"
            ],
            [
             1,
             "#f0f921"
            ]
           ]
          },
          "colorway": [
           "#636efa",
           "#EF553B",
           "#00cc96",
           "#ab63fa",
           "#FFA15A",
           "#19d3f3",
           "#FF6692",
           "#B6E880",
           "#FF97FF",
           "#FECB52"
          ],
          "font": {
           "color": "#2a3f5f"
          },
          "geo": {
           "bgcolor": "white",
           "lakecolor": "white",
           "landcolor": "#E5ECF6",
           "showlakes": true,
           "showland": true,
           "subunitcolor": "white"
          },
          "hoverlabel": {
           "align": "left"
          },
          "hovermode": "closest",
          "mapbox": {
           "style": "light"
          },
          "paper_bgcolor": "white",
          "plot_bgcolor": "#E5ECF6",
          "polar": {
           "angularaxis": {
            "gridcolor": "white",
            "linecolor": "white",
            "ticks": ""
           },
           "bgcolor": "#E5ECF6",
           "radialaxis": {
            "gridcolor": "white",
            "linecolor": "white",
            "ticks": ""
           }
          },
          "scene": {
           "xaxis": {
            "backgroundcolor": "#E5ECF6",
            "gridcolor": "white",
            "gridwidth": 2,
            "linecolor": "white",
            "showbackground": true,
            "ticks": "",
            "zerolinecolor": "white"
           },
           "yaxis": {
            "backgroundcolor": "#E5ECF6",
            "gridcolor": "white",
            "gridwidth": 2,
            "linecolor": "white",
            "showbackground": true,
            "ticks": "",
            "zerolinecolor": "white"
           },
           "zaxis": {
            "backgroundcolor": "#E5ECF6",
            "gridcolor": "white",
            "gridwidth": 2,
            "linecolor": "white",
            "showbackground": true,
            "ticks": "",
            "zerolinecolor": "white"
           }
          },
          "shapedefaults": {
           "line": {
            "color": "#2a3f5f"
           }
          },
          "ternary": {
           "aaxis": {
            "gridcolor": "white",
            "linecolor": "white",
            "ticks": ""
           },
           "baxis": {
            "gridcolor": "white",
            "linecolor": "white",
            "ticks": ""
           },
           "bgcolor": "#E5ECF6",
           "caxis": {
            "gridcolor": "white",
            "linecolor": "white",
            "ticks": ""
           }
          },
          "title": {
           "x": 0.05
          },
          "xaxis": {
           "automargin": true,
           "gridcolor": "white",
           "linecolor": "white",
           "ticks": "",
           "title": {
            "standoff": 15
           },
           "zerolinecolor": "white",
           "zerolinewidth": 2
          },
          "yaxis": {
           "automargin": true,
           "gridcolor": "white",
           "linecolor": "white",
           "ticks": "",
           "title": {
            "standoff": 15
           },
           "zerolinecolor": "white",
           "zerolinewidth": 2
          }
         }
        },
        "title": {
         "font": {
          "family": "sans-serif"
         },
         "text": "GHG emissions (2020)",
         "x": 0.5,
         "xanchor": "center",
         "y": 0.95,
         "yanchor": "top"
        },
        "width": 800
       }
      },
      "image/png": "[encoded data removed]",
      "text/html": [
       "<div>                            <div id=\"1adf7cd5-0e58-406d-8399-70b498cba052\" class=\"plotly-graph-div\" style=\"height:400px; width:800px;\"></div>            <script type=\"text/javascript\">                require([\"plotly\"], function(Plotly) {                    window.PLOTLYENV=window.PLOTLYENV || {};                                    if (document.getElementById(\"1adf7cd5-0e58-406d-8399-70b498cba052\")) {                    Plotly.newPlot(                        \"1adf7cd5-0e58-406d-8399-70b498cba052\",                        [{\"colorscale\":[[0.0,\"rgb(8,48,107)\"],[1.0,\"rgb(8,48,107)\"]],\"customdata\":[[\"13,630.0\",\"China\",\"> 3000\"],[\"3,718.8\",\"India\",\"> 3000\"],[\"6,180.5\",\"United States of America\",\"> 3000\"]],\"geo\":\"geo\",\"hovertemplate\":\"<b>%{hovertext}</b><br><br>GHG emissions=%{customdata[0]}<extra></extra>\",\"hovertext\":[\"China\",\"India\",\"United States of America\"],\"locationmode\":\"country names\",\"locations\":[\"China\",\"India\",\"United States of America\"],\"name\":\"> 3000\",\"showlegend\":true,\"showscale\":false,\"type\":\"choropleth\",\"z\":[1,1,1]},{\"colorscale\":[[0.0,\"rgb(33,113,181)\"],[1.0,\"rgb(33,113,181)\"]],\"customdata\":[[\"2,433.7\",\"Russian Federation\",\"2000 - 3000\"]],\"geo\":\"geo\",\"hovertemplate\":\"<b>%{hovertext}</b><br><br>GHG emissions=%{customdata[0]}<extra></extra>\",\"hovertext\":[\"Russian Federation\"],\"locationmode\":\"country names\",\"locations\":[\"Russian Federation\"],\"name\":\"2000 - 3000\",\"showlegend\":true,\"showscale\":false,\"type\":\"choropleth\",\"z\":[1]},{\"colorscale\":[[0.0,\"rgb(66,146,198)\"],[1.0,\"rgb(66,146,198)\"]],\"customdata\":[[\"1,421.0\",\"Indonesia\",\"1000 - 2000\"],[\"1,324.3\",\"Japan\",\"1000 - 2000\"],[\"1,230.6\",\"Brazil\",\"1000 - 2000\"]],\"geo\":\"geo\",\"hovertemplate\":\"<b>%{hovertext}</b><br><br>GHG emissions=%{customdata[0]}<extra></extra>\",\"hovertext\":[\"Indonesia\",\"Japan\",\"Brazil\"],\"locationmode\":\"country names\",\"locations\":[\"Indonesia\",\"Japan\",\"Brazil\"],\"name\":\"1000 - 2000\",\"showlegend\":true,\"showscale\":false,\"type\":\"choropleth\",\"z\":[1,1,1]},{\"colorscale\":[[0.0,\"rgb(158,202,225)\"],[1.0,\"rgb(158,202,225)\"]],\"customdata\":[[\"191.8\",\"Colombia\",\"100 - 1000\"],[\"157.9\",\"Singapore\",\"100 - 1000\"],[\"163.5\",\"Uzbekistan\",\"100 - 1000\"],[\"168.3\",\"Ethiopia\",\"100 - 1000\"],[\"170.6\",\"Panama\",\"100 - 1000\"],[\"240.5\",\"Philippines\",\"100 - 1000\"],[\"195.4\",\"Venezuela (Bolivarian Republic of)\",\"100 - 1000\"],[\"209.6\",\"Myanmar\",\"100 - 1000\"],[\"215.4\",\"Netherlands\",\"100 - 1000\"],[\"134.5\",\"Kuwait\",\"100 - 1000\"],[\"254.2\",\"Algeria\",\"100 - 1000\"],[\"145.5\",\"China, Hong Kong Special Administrative Region\",\"100 - 1000\"],[\"124.8\",\"Belgium\",\"100 - 1000\"],[\"126.1\",\"Oman\",\"100 - 1000\"],[\"126.0\",\"Qatar\",\"100 - 1000\"],[\"276.8\",\"Iraq\",\"100 - 1000\"],[\"122.8\",\"Chile\",\"100 - 1000\"],[\"120.2\",\"Liberia\",\"100 - 1000\"],[\"116.9\",\"Czechia\",\"100 - 1000\"],[\"113.5\",\"Belarus\",\"100 - 1000\"],[\"104.8\",\"Morocco\",\"100 - 1000\"],[\"104.5\",\"Romania\",\"100 - 1000\"],[\"102.5\",\"Greece\",\"100 - 1000\"],[\"100.2\",\"Turkmenistan\",\"100 - 1000\"],[\"261.7\",\"Ukraine\",\"100 - 1000\"],[\"115.0\",\"Sudan\",\"100 - 1000\"],[\"298.9\",\"Kazakhstan\",\"100 - 1000\"],[\"468.2\",\"France\",\"100 - 1000\"],[\"837.4\",\"Germany\",\"100 - 1000\"],[\"299.9\",\"United Arab Emirates\",\"100 - 1000\"],[\"822.7\",\"Iran (Islamic Republic of)\",\"100 - 1000\"],[\"761.0\",\"Saudi Arabia\",\"100 - 1000\"],[\"702.1\",\"Republic of Korea\",\"100 - 1000\"],[\"672.3\",\"Mexico\",\"100 - 1000\"],[\"630.0\",\"Australia\",\"100 - 1000\"],[\"533.4\",\"Pakistan\",\"100 - 1000\"],[\"530.2\",\"Turkey\",\"100 - 1000\"],[\"499.9\",\"Viet Nam\",\"100 - 1000\"],[\"493.7\",\"South Africa\",\"100 - 1000\"],[\"769.4\",\"Canada\",\"100 - 1000\"],[\"463.6\",\"Thailand\",\"100 - 1000\"],[\"338.0\",\"Bangladesh\",\"100 - 1000\"],[\"458.9\",\"United Kingdom of Great Britain and Northern Ireland\",\"100 - 1000\"],[\"316.9\",\"Taiwan\",\"100 - 1000\"],[\"321.8\",\"Spain\",\"100 - 1000\"],[\"337.7\",\"Nigeria\",\"100 - 1000\"],[\"328.7\",\"Egypt\",\"100 - 1000\"],[\"353.3\",\"Malaysia\",\"100 - 1000\"],[\"375.7\",\"Argentina\",\"100 - 1000\"],[\"420.4\",\"Poland\",\"100 - 1000\"],[\"457.1\",\"Italy\",\"100 - 1000\"]],\"geo\":\"geo\",\"hovertemplate\":\"<b>%{hovertext}</b><br><br>GHG emissions=%{customdata[0]}<extra></extra>\",\"hovertext\":[\"Colombia\",\"Singapore\",\"Uzbekistan\",\"Ethiopia\",\"Panama\",\"Philippines\",\"Venezuela (Bolivarian Republic of)\",\"Myanmar\",\"Netherlands\",\"Kuwait\",\"Algeria\",\"China, Hong Kong Special Administrative Region\",\"Belgium\",\"Oman\",\"Qatar\",\"Iraq\",\"Chile\",\"Liberia\",\"Czechia\",\"Belarus\",\"Morocco\",\"Romania\",\"Greece\",\"Turkmenistan\",\"Ukraine\",\"Sudan\",\"Kazakhstan\",\"France\",\"Germany\",\"United Arab Emirates\",\"Iran (Islamic Republic of)\",\"Saudi Arabia\",\"Republic of Korea\",\"Mexico\",\"Australia\",\"Pakistan\",\"Turkey\",\"Viet Nam\",\"South Africa\",\"Canada\",\"Thailand\",\"Bangladesh\",\"United Kingdom of Great Britain and Northern Ireland\",\"Taiwan\",\"Spain\",\"Nigeria\",\"Egypt\",\"Malaysia\",\"Argentina\",\"Poland\",\"Italy\"],\"locationmode\":\"country names\",\"locations\":[\"Colombia\",\"Singapore\",\"Uzbekistan\",\"Ethiopia\",\"Panama\",\"Philippines\",\"Venezuela (Bolivarian Republic of)\",\"Myanmar\",\"Netherlands\",\"Kuwait\",\"Algeria\",\"China, Hong Kong Special Administrative Region\",\"Belgium\",\"Oman\",\"Qatar\",\"Iraq\",\"Chile\",\"Liberia\",\"Czechia\",\"Belarus\",\"Morocco\",\"Romania\",\"Greece\",\"Turkmenistan\",\"Ukraine\",\"Sudan\",\"Kazakhstan\",\"France\",\"Germany\",\"United Arab Emirates\",\"Iran (Islamic Republic of)\",\"Saudi Arabia\",\"Republic of Korea\",\"Mexico\",\"Australia\",\"Pakistan\",\"Turkey\",\"Viet Nam\",\"South Africa\",\"Canada\",\"Thailand\",\"Bangladesh\",\"United Kingdom of Great Britain and Northern Ireland\",\"Taiwan\",\"Spain\",\"Nigeria\",\"Egypt\",\"Malaysia\",\"Argentina\",\"Poland\",\"Italy\"],\"name\":\"100 - 1000\",\"showlegend\":true,\"showscale\":false,\"type\":\"choropleth\",\"z\":[1,1,1,1,1,1,1,1,1,1,1,1,1,1,1,1,1,1,1,1,1,1,1,1,1,1,1,1,1,1,1,1,1,1,1,1,1,1,1,1,1,1,1,1,1,1,1,1,1,1,1]},{\"colorscale\":[[0.0,\"rgb(222,235,247)\"],[1.0,\"rgb(222,235,247)\"]],\"customdata\":[[\"2.5\",\"Djibouti\",\"< 100\"],[\"2.5\",\"China, Macao Special Administrative Region\",\"< 100\"],[\"2.4\",\"Bhutan\",\"< 100\"],[\"2.3\",\"Timor-Leste\",\"< 100\"],[\"2.2\",\"Maldives\",\"< 100\"],[\"2.1\",\"Montenegro\",\"< 100\"],[\"1.9\",\"Guam\",\"< 100\"],[\"1.8\",\"Saint Vincent and the Grenadines\",\"< 100\"],[\"1.7\",\"Palau\",\"< 100\"],[\"1.5\",\"Faroe Islands\",\"< 100\"],[\"1.7\",\"Comoros\",\"< 100\"],[\"1.6\",\"Seychelles\",\"< 100\"],[\"1.6\",\"Vanuatu\",\"< 100\"],[\"1.5\",\"Cabo Verde\",\"< 100\"],[\"1.4\",\"Aruba\",\"< 100\"],[\"1.2\",\"French Polynesia\",\"< 100\"],[\"1.2\",\"Falkland Islands (Malvinas)\",\"< 100\"],[\"0.8\",\"French Guiana\",\"< 100\"],[\"0.7\",\"Tuvalu\",\"< 100\"],[\"2.8\",\"Guadeloupe\",\"< 100\"],[\"0.7\",\"Saint Kitts and Nevis\",\"< 100\"],[\"2.8\",\"Lesotho\",\"< 100\"],[\"4.8\",\"R\\u00e9union\",\"< 100\"],[\"2.8\",\"Martinique\",\"< 100\"],[\"5.5\",\"New Caledonia\",\"< 100\"],[\"0.7\",\"Cook Islands\",\"< 100\"],[\"9.2\",\"Sierra Leone\",\"< 100\"],[\"8.7\",\"Albania\",\"< 100\"],[\"7.7\",\"Armenia\",\"< 100\"],[\"7.2\",\"Brunei Darussalam\",\"< 100\"],[\"6.9\",\"Eritrea\",\"< 100\"],[\"6.0\",\"Kosovo\",\"< 100\"],[\"5.6\",\"Iceland\",\"< 100\"],[\"5.5\",\"Mauritius\",\"< 100\"],[\"5.0\",\"Cura\\u00e7ao\",\"< 100\"],[\"3.0\",\"Gambia\",\"< 100\"],[\"4.7\",\"Suriname\",\"< 100\"],[\"4.5\",\"Cayman Islands\",\"< 100\"],[\"4.3\",\"Belize\",\"< 100\"],[\"4.3\",\"United States Virgin Islands\",\"< 100\"],[\"3.7\",\"Barbados\",\"< 100\"],[\"3.5\",\"Fiji\",\"< 100\"],[\"3.4\",\"Eswatini\",\"< 100\"],[\"3.4\",\"Gibraltar\",\"< 100\"],[\"3.3\",\"Guinea-Bissau\",\"< 100\"],[\"0.7\",\"Saint Lucia\",\"< 100\"],[\"0.0\",\"Saint Helena\",\"< 100\"],[\"0.6\",\"Samoa\",\"< 100\"],[\"0.6\",\"State of Palestine\",\"< 100\"],[\"0.0\",\"Wallis and Futuna Islands\",\"< 100\"],[\"0.0\",\"Andorra\",\"< 100\"],[\"9.4\",\"Burundi\",\"< 100\"],[\"0.0\",\"Liechtenstein\",\"< 100\"],[\"0.0\",\"Monaco\",\"< 100\"],[\"0.0\",\"Saint Barth\\u00e9lemy\",\"< 100\"],[\"0.0\",\"Norfolk Island\",\"< 100\"],[\"0.0\",\"Saint Martin (French Part)\",\"< 100\"],[\"0.0\",\"Cocos (Keeling) Islands\",\"< 100\"],[\"0.0\",\"Christmas Island\",\"< 100\"],[\"0.0\",\"Tokelau\",\"< 100\"],[\"0.0\",\"French Southern Territories\",\"< 100\"],[\"0.0\",\"Antarctica\",\"< 100\"],[\"0.0\",\"Bouvet Island\",\"< 100\"],[\"0.0\",\"Pitcairn\",\"< 100\"],[\"0.0\",\"San Marino\",\"< 100\"],[\"0.0\",\"South Georgia and the South Sandwich Islands\",\"< 100\"],[\"0.0\",\"Svalbard and Jan Mayen Islands\",\"< 100\"],[\"0.0\",\"British Indian Ocean Territory\",\"< 100\"],[\"0.0\",\"Heard Island and McDonald Islands\",\"< 100\"],[\"0.0\",\"Holy See\",\"< 100\"],[\"0.0\",\"Montserrat\",\"< 100\"],[\"0.0\",\"Niue\",\"< 100\"],[\"0.0\",\"Nauru\",\"< 100\"],[\"0.4\",\"Mayotte\",\"< 100\"],[\"0.6\",\"Greenland\",\"< 100\"],[\"0.6\",\"Solomon Islands\",\"< 100\"],[\"0.5\",\"Dominica\",\"< 100\"],[\"0.5\",\"Northern Mariana Islands\",\"< 100\"],[\"0.4\",\"Western Sahara\",\"< 100\"],[\"0.4\",\"United States Minor Outlying Islands\",\"< 100\"],[\"0.4\",\"Sint Maarten (Dutch part)\",\"< 100\"],[\"0.4\",\"Grenada\",\"< 100\"],[\"0.4\",\"Turks and Caicos Islands\",\"< 100\"],[\"0.3\",\"Sao Tome and Principe\",\"< 100\"],[\"0.1\",\"Jersey\",\"< 100\"],[\"0.3\",\"Tonga\",\"< 100\"],[\"0.2\",\"British Virgin Islands\",\"< 100\"],[\"0.2\",\"Kiribati\",\"< 100\"],[\"0.2\",\"Guernsey\",\"< 100\"],[\"0.2\",\"American Samoa\",\"< 100\"],[\"0.2\",\"Micronesia (Federated States of)\",\"< 100\"],[\"0.1\",\"Bonaire, Sint Eustatius and Saba\",\"< 100\"],[\"0.1\",\"Anguilla\",\"< 100\"],[\"0.1\",\"Saint Pierre and Miquelon\",\"< 100\"],[\"9.3\",\"Rwanda\",\"< 100\"],[\"22.9\",\"Nicaragua\",\"< 100\"],[\"9.9\",\"Namibia\",\"< 100\"],[\"10.0\",\"The former Yugoslav Republic of Macedonia\",\"< 100\"],[\"55.4\",\"Uganda\",\"< 100\"],[\"54.9\",\"Bulgaria\",\"< 100\"],[\"53.4\",\"Switzerland\",\"< 100\"],[\"51.2\",\"Democratic Republic of the Congo\",\"< 100\"],[\"48.8\",\"Guatemala\",\"< 100\"],[\"48.2\",\"Zambia\",\"< 100\"],[\"47.6\",\"Cuba\",\"< 100\"],[\"46.6\",\"Sri Lanka\",\"< 100\"],[\"45.5\",\"Mali\",\"< 100\"],[\"43.8\",\"Paraguay\",\"< 100\"],[\"43.7\",\"Madagascar\",\"< 100\"],[\"43.3\",\"Uruguay\",\"< 100\"],[\"43.3\",\"Democratic People's Republic of Korea\",\"< 100\"],[\"43.1\",\"Dominican Republic\",\"< 100\"],[\"43.0\",\"Bahamas\",\"< 100\"],[\"42.4\",\"Bahrain\",\"< 100\"],[\"42.3\",\"Papua New Guinea\",\"< 100\"],[\"42.0\",\"Ghana\",\"< 100\"],[\"40.8\",\"Slovakia\",\"< 100\"],[\"40.5\",\"Lao People's Democratic Republic\",\"< 100\"],[\"39.1\",\"Tunisia\",\"< 100\"],[\"56.2\",\"Nepal\",\"< 100\"],[\"57.4\",\"Azerbaijan\",\"< 100\"],[\"57.7\",\"Bolivia (Plurinational State of)\",\"< 100\"],[\"76.5\",\"Finland\",\"< 100\"],[\"99.8\",\"Marshall Islands\",\"< 100\"],[\"97.1\",\"Norway\",\"< 100\"],[\"95.8\",\"Peru\",\"< 100\"],[\"95.3\",\"United Republic of Tanzania\",\"< 100\"],[\"91.4\",\"Kenya\",\"< 100\"],[\"85.7\",\"New Zealand\",\"< 100\"],[\"84.1\",\"Israel\",\"< 100\"],[\"80.6\",\"Portugal\",\"< 100\"],[\"79.2\",\"Chad\",\"< 100\"],[\"74.7\",\"Austria\",\"< 100\"],[\"58.0\",\"Angola\",\"< 100\"],[\"71.2\",\"Sweden\",\"< 100\"],[\"71.1\",\"Mongolia\",\"< 100\"],[\"68.6\",\"Hungary\",\"< 100\"],[\"68.1\",\"Denmark\",\"< 100\"],[\"66.4\",\"Cambodia\",\"< 100\"],[\"64.2\",\"Ecuador\",\"< 100\"],[\"62.7\",\"Ireland\",\"< 100\"],[\"62.1\",\"Libya\",\"< 100\"],[\"60.0\",\"Malta\",\"< 100\"],[\"39.0\",\"Serbia\",\"< 100\"],[\"37.7\",\"Niger\",\"< 100\"],[\"37.5\",\"Syrian Arab Republic\",\"< 100\"],[\"12.7\",\"Luxembourg\",\"< 100\"],[\"16.1\",\"Costa Rica\",\"< 100\"],[\"14.8\",\"Malawi\",\"< 100\"],[\"14.7\",\"Georgia\",\"< 100\"],[\"14.6\",\"Latvia\",\"< 100\"],[\"14.4\",\"Haiti\",\"< 100\"],[\"14.1\",\"Mauritania\",\"< 100\"],[\"12.9\",\"Republic of Moldova\",\"< 100\"],[\"12.8\",\"El Salvador\",\"< 100\"],[\"12.7\",\"Botswana\",\"< 100\"],[\"11.8\",\"Togo\",\"< 100\"],[\"18.4\",\"Benin\",\"< 100\"],[\"11.5\",\"Congo\",\"< 100\"],[\"11.3\",\"Guyana\",\"< 100\"],[\"11.1\",\"Antigua and Barbuda\",\"< 100\"],[\"11.1\",\"Gabon\",\"< 100\"],[\"11.1\",\"Jamaica\",\"< 100\"],[\"11.0\",\"Bermuda\",\"< 100\"],[\"10.5\",\"Central African Republic\",\"< 100\"],[\"10.1\",\"Equatorial Guinea\",\"< 100\"],[\"10.0\",\"Isle of Man\",\"< 100\"],[\"17.3\",\"Tajikistan\",\"< 100\"],[\"18.7\",\"Kyrgyzstan\",\"< 100\"],[\"37.1\",\"Mozambique\",\"< 100\"],[\"29.8\",\"Cyprus\",\"< 100\"],[\"36.7\",\"South Sudan\",\"< 100\"],[\"35.0\",\"Trinidad and Tobago\",\"< 100\"],[\"33.8\",\"Guinea\",\"< 100\"],[\"33.2\",\"Burkina Faso\",\"< 100\"],[\"32.5\",\"Jordan\",\"< 100\"],[\"31.9\",\"Lebanon\",\"< 100\"],[\"30.9\",\"Cameroon\",\"< 100\"],[\"30.5\",\"Afghanistan\",\"< 100\"],[\"30.4\",\"C\\u00f4te d'Ivoire\",\"< 100\"],[\"29.7\",\"Zimbabwe\",\"< 100\"],[\"18.9\",\"Slovenia\",\"< 100\"],[\"29.2\",\"Somalia\",\"< 100\"],[\"28.8\",\"Bosnia and Herzegovina\",\"< 100\"],[\"27.6\",\"Lithuania\",\"< 100\"],[\"26.3\",\"Croatia\",\"< 100\"],[\"25.0\",\"Senegal\",\"< 100\"],[\"23.4\",\"Honduras\",\"< 100\"],[\"23.2\",\"Yemen\",\"< 100\"],[\"22.6\",\"Estonia\",\"< 100\"],[\"22.5\",\"Puerto Rico\",\"< 100\"],[\"0.0\",\"\\u00c5land Islands\",\"< 100\"]],\"geo\":\"geo\",\"hovertemplate\":\"<b>%{hovertext}</b><br><br>GHG emissions=%{customdata[0]}<extra></extra>\",\"hovertext\":[\"Djibouti\",\"China, Macao Special Administrative Region\",\"Bhutan\",\"Timor-Leste\",\"Maldives\",\"Montenegro\",\"Guam\",\"Saint Vincent and the Grenadines\",\"Palau\",\"Faroe Islands\",\"Comoros\",\"Seychelles\",\"Vanuatu\",\"Cabo Verde\",\"Aruba\",\"French Polynesia\",\"Falkland Islands (Malvinas)\",\"French Guiana\",\"Tuvalu\",\"Guadeloupe\",\"Saint Kitts and Nevis\",\"Lesotho\",\"R\\u00e9union\",\"Martinique\",\"New Caledonia\",\"Cook Islands\",\"Sierra Leone\",\"Albania\",\"Armenia\",\"Brunei Darussalam\",\"Eritrea\",\"Kosovo\",\"Iceland\",\"Mauritius\",\"Cura\\u00e7ao\",\"Gambia\",\"Suriname\",\"Cayman Islands\",\"Belize\",\"United States Virgin Islands\",\"Barbados\",\"Fiji\",\"Eswatini\",\"Gibraltar\",\"Guinea-Bissau\",\"Saint Lucia\",\"Saint Helena\",\"Samoa\",\"State of Palestine\",\"Wallis and Futuna Islands\",\"Andorra\",\"Burundi\",\"Liechtenstein\",\"Monaco\",\"Saint Barth\\u00e9lemy\",\"Norfolk Island\",\"Saint Martin (French Part)\",\"Cocos (Keeling) Islands\",\"Christmas Island\",\"Tokelau\",\"French Southern Territories\",\"Antarctica\",\"Bouvet Island\",\"Pitcairn\",\"San Marino\",\"South Georgia and the South Sandwich Islands\",\"Svalbard and Jan Mayen Islands\",\"British Indian Ocean Territory\",\"Heard Island and McDonald Islands\",\"Holy See\",\"Montserrat\",\"Niue\",\"Nauru\",\"Mayotte\",\"Greenland\",\"Solomon Islands\",\"Dominica\",\"Northern Mariana Islands\",\"Western Sahara\",\"United States Minor Outlying Islands\",\"Sint Maarten (Dutch part)\",\"Grenada\",\"Turks and Caicos Islands\",\"Sao Tome and Principe\",\"Jersey\",\"Tonga\",\"British Virgin Islands\",\"Kiribati\",\"Guernsey\",\"American Samoa\",\"Micronesia (Federated States of)\",\"Bonaire, Sint Eustatius and Saba\",\"Anguilla\",\"Saint Pierre and Miquelon\",\"Rwanda\",\"Nicaragua\",\"Namibia\",\"The former Yugoslav Republic of Macedonia\",\"Uganda\",\"Bulgaria\",\"Switzerland\",\"Democratic Republic of the Congo\",\"Guatemala\",\"Zambia\",\"Cuba\",\"Sri Lanka\",\"Mali\",\"Paraguay\",\"Madagascar\",\"Uruguay\",\"Democratic People's Republic of Korea\",\"Dominican Republic\",\"Bahamas\",\"Bahrain\",\"Papua New Guinea\",\"Ghana\",\"Slovakia\",\"Lao People's Democratic Republic\",\"Tunisia\",\"Nepal\",\"Azerbaijan\",\"Bolivia (Plurinational State of)\",\"Finland\",\"Marshall Islands\",\"Norway\",\"Peru\",\"United Republic of Tanzania\",\"Kenya\",\"New Zealand\",\"Israel\",\"Portugal\",\"Chad\",\"Austria\",\"Angola\",\"Sweden\",\"Mongolia\",\"Hungary\",\"Denmark\",\"Cambodia\",\"Ecuador\",\"Ireland\",\"Libya\",\"Malta\",\"Serbia\",\"Niger\",\"Syrian Arab Republic\",\"Luxembourg\",\"Costa Rica\",\"Malawi\",\"Georgia\",\"Latvia\",\"Haiti\",\"Mauritania\",\"Republic of Moldova\",\"El Salvador\",\"Botswana\",\"Togo\",\"Benin\",\"Congo\",\"Guyana\",\"Antigua and Barbuda\",\"Gabon\",\"Jamaica\",\"Bermuda\",\"Central African Republic\",\"Equatorial Guinea\",\"Isle of Man\",\"Tajikistan\",\"Kyrgyzstan\",\"Mozambique\",\"Cyprus\",\"South Sudan\",\"Trinidad and Tobago\",\"Guinea\",\"Burkina Faso\",\"Jordan\",\"Lebanon\",\"Cameroon\",\"Afghanistan\",\"C\\u00f4te d'Ivoire\",\"Zimbabwe\",\"Slovenia\",\"Somalia\",\"Bosnia and Herzegovina\",\"Lithuania\",\"Croatia\",\"Senegal\",\"Honduras\",\"Yemen\",\"Estonia\",\"Puerto Rico\",\"\\u00c5land Islands\"],\"locationmode\":\"country names\",\"locations\":[\"Djibouti\",\"China, Macao Special Administrative Region\",\"Bhutan\",\"Timor-Leste\",\"Maldives\",\"Montenegro\",\"Guam\",\"Saint Vincent and the Grenadines\",\"Palau\",\"Faroe Islands\",\"Comoros\",\"Seychelles\",\"Vanuatu\",\"Cabo Verde\",\"Aruba\",\"French Polynesia\",\"Falkland Islands (Malvinas)\",\"French Guiana\",\"Tuvalu\",\"Guadeloupe\",\"Saint Kitts and Nevis\",\"Lesotho\",\"R\\u00e9union\",\"Martinique\",\"New Caledonia\",\"Cook Islands\",\"Sierra Leone\",\"Albania\",\"Armenia\",\"Brunei Darussalam\",\"Eritrea\",\"Kosovo\",\"Iceland\",\"Mauritius\",\"Cura\\u00e7ao\",\"Gambia\",\"Suriname\",\"Cayman Islands\",\"Belize\",\"United States Virgin Islands\",\"Barbados\",\"Fiji\",\"Eswatini\",\"Gibraltar\",\"Guinea-Bissau\",\"Saint Lucia\",\"Saint Helena\",\"Samoa\",\"State of Palestine\",\"Wallis and Futuna Islands\",\"Andorra\",\"Burundi\",\"Liechtenstein\",\"Monaco\",\"Saint Barth\\u00e9lemy\",\"Norfolk Island\",\"Saint Martin (French Part)\",\"Cocos (Keeling) Islands\",\"Christmas Island\",\"Tokelau\",\"French Southern Territories\",\"Antarctica\",\"Bouvet Island\",\"Pitcairn\",\"San Marino\",\"South Georgia and the South Sandwich Islands\",\"Svalbard and Jan Mayen Islands\",\"British Indian Ocean Territory\",\"Heard Island and McDonald Islands\",\"Holy See\",\"Montserrat\",\"Niue\",\"Nauru\",\"Mayotte\",\"Greenland\",\"Solomon Islands\",\"Dominica\",\"Northern Mariana Islands\",\"Western Sahara\",\"United States Minor Outlying Islands\",\"Sint Maarten (Dutch part)\",\"Grenada\",\"Turks and Caicos Islands\",\"Sao Tome and Principe\",\"Jersey\",\"Tonga\",\"British Virgin Islands\",\"Kiribati\",\"Guernsey\",\"American Samoa\",\"Micronesia (Federated States of)\",\"Bonaire, Sint Eustatius and Saba\",\"Anguilla\",\"Saint Pierre and Miquelon\",\"Rwanda\",\"Nicaragua\",\"Namibia\",\"The former Yugoslav Republic of Macedonia\",\"Uganda\",\"Bulgaria\",\"Switzerland\",\"Democratic Republic of the Congo\",\"Guatemala\",\"Zambia\",\"Cuba\",\"Sri Lanka\",\"Mali\",\"Paraguay\",\"Madagascar\",\"Uruguay\",\"Democratic People's Republic of Korea\",\"Dominican Republic\",\"Bahamas\",\"Bahrain\",\"Papua New Guinea\",\"Ghana\",\"Slovakia\",\"Lao People's Democratic Republic\",\"Tunisia\",\"Nepal\",\"Azerbaijan\",\"Bolivia (Plurinational State of)\",\"Finland\",\"Marshall Islands\",\"Norway\",\"Peru\",\"United Republic of Tanzania\",\"Kenya\",\"New Zealand\",\"Israel\",\"Portugal\",\"Chad\",\"Austria\",\"Angola\",\"Sweden\",\"Mongolia\",\"Hungary\",\"Denmark\",\"Cambodia\",\"Ecuador\",\"Ireland\",\"Libya\",\"Malta\",\"Serbia\",\"Niger\",\"Syrian Arab Republic\",\"Luxembourg\",\"Costa Rica\",\"Malawi\",\"Georgia\",\"Latvia\",\"Haiti\",\"Mauritania\",\"Republic of Moldova\",\"El Salvador\",\"Botswana\",\"Togo\",\"Benin\",\"Congo\",\"Guyana\",\"Antigua and Barbuda\",\"Gabon\",\"Jamaica\",\"Bermuda\",\"Central African Republic\",\"Equatorial Guinea\",\"Isle of Man\",\"Tajikistan\",\"Kyrgyzstan\",\"Mozambique\",\"Cyprus\",\"South Sudan\",\"Trinidad and Tobago\",\"Guinea\",\"Burkina Faso\",\"Jordan\",\"Lebanon\",\"Cameroon\",\"Afghanistan\",\"C\\u00f4te d'Ivoire\",\"Zimbabwe\",\"Slovenia\",\"Somalia\",\"Bosnia and Herzegovina\",\"Lithuania\",\"Croatia\",\"Senegal\",\"Honduras\",\"Yemen\",\"Estonia\",\"Puerto Rico\",\"\\u00c5land Islands\"],\"name\":\"< 100\",\"showlegend\":true,\"showscale\":false,\"type\":\"choropleth\",\"z\":[1,1,1,1,1,1,1,1,1,1,1,1,1,1,1,1,1,1,1,1,1,1,1,1,1,1,1,1,1,1,1,1,1,1,1,1,1,1,1,1,1,1,1,1,1,1,1,1,1,1,1,1,1,1,1,1,1,1,1,1,1,1,1,1,1,1,1,1,1,1,1,1,1,1,1,1,1,1,1,1,1,1,1,1,1,1,1,1,1,1,1,1,1,1,1,1,1,1,1,1,1,1,1,1,1,1,1,1,1,1,1,1,1,1,1,1,1,1,1,1,1,1,1,1,1,1,1,1,1,1,1,1,1,1,1,1,1,1,1,1,1,1,1,1,1,1,1,1,1,1,1,1,1,1,1,1,1,1,1,1,1,1,1,1,1,1,1,1,1,1,1,1,1,1,1,1,1,1,1,1,1,1,1,1,1,1,1,1,1,1,1,1]}],                        {\"annotations\":[{\"font\":{\"family\":\"sans-serif\",\"size\":10},\"showarrow\":false,\"text\":\"Source: <a href=\\\"https://www.climatetrace.org/\\\">\\nClimate Trace</a>\",\"x\":0.015,\"y\":0}],\"autosize\":false,\"font\":{\"family\":\"sans-serif\"},\"geo\":{\"center\":{},\"domain\":{\"x\":[0.0,1.0],\"y\":[0.0,1.0]},\"lataxis\":{\"range\":[-55,90]},\"showframe\":true,\"showlakes\":false},\"height\":400,\"hoverlabel\":{\"bgcolor\":\"white\",\"font\":{\"family\":\"sans-serif\",\"size\":10}},\"legend\":{\"bordercolor\":\"grey\",\"borderwidth\":0.5,\"font\":{\"size\":10},\"title\":{\"text\":\"MTCo2eq\"},\"tracegroupgap\":0,\"x\":0.015,\"y\":0.07},\"margin\":{\"b\":20,\"l\":20,\"pad\":5,\"r\":20,\"t\":20},\"template\":{\"data\":{\"bar\":[{\"error_x\":{\"color\":\"#2a3f5f\"},\"error_y\":{\"color\":\"#2a3f5f\"},\"marker\":{\"line\":{\"color\":\"#E5ECF6\",\"width\":0.5},\"pattern\":{\"fillmode\":\"overlay\",\"size\":10,\"solidity\":0.2}},\"type\":\"bar\"}],\"barpolar\":[{\"marker\":{\"line\":{\"color\":\"#E5ECF6\",\"width\":0.5},\"pattern\":{\"fillmode\":\"overlay\",\"size\":10,\"solidity\":0.2}},\"type\":\"barpolar\"}],\"carpet\":[{\"aaxis\":{\"endlinecolor\":\"#2a3f5f\",\"gridcolor\":\"white\",\"linecolor\":\"white\",\"minorgridcolor\":\"white\",\"startlinecolor\":\"#2a3f5f\"},\"baxis\":{\"endlinecolor\":\"#2a3f5f\",\"gridcolor\":\"white\",\"linecolor\":\"white\",\"minorgridcolor\":\"white\",\"startlinecolor\":\"#2a3f5f\"},\"type\":\"carpet\"}],\"choropleth\":[{\"colorbar\":{\"outlinewidth\":0,\"ticks\":\"\"},\"type\":\"choropleth\"}],\"contour\":[{\"colorbar\":{\"outlinewidth\":0,\"ticks\":\"\"},\"colorscale\":[[0.0,\"#0d0887\"],[0.1111111111111111,\"#46039f\"],[0.2222222222222222,\"#7201a8\"],[0.3333333333333333,\"#9c179e\"],[0.4444444444444444,\"#bd3786\"],[0.5555555555555556,\"#d8576b\"],[0.6666666666666666,\"#ed7953\"],[0.7777777777777778,\"#fb9f3a\"],[0.8888888888888888,\"#fdca26\"],[1.0,\"#f0f921\"]],\"type\":\"contour\"}],\"contourcarpet\":[{\"colorbar\":{\"outlinewidth\":0,\"ticks\":\"\"},\"type\":\"contourcarpet\"}],\"heatmap\":[{\"colorbar\":{\"outlinewidth\":0,\"ticks\":\"\"},\"colorscale\":[[0.0,\"#0d0887\"],[0.1111111111111111,\"#46039f\"],[0.2222222222222222,\"#7201a8\"],[0.3333333333333333,\"#9c179e\"],[0.4444444444444444,\"#bd3786\"],[0.5555555555555556,\"#d8576b\"],[0.6666666666666666,\"#ed7953\"],[0.7777777777777778,\"#fb9f3a\"],[0.8888888888888888,\"#fdca26\"],[1.0,\"#f0f921\"]],\"type\":\"heatmap\"}],\"heatmapgl\":[{\"colorbar\":{\"outlinewidth\":0,\"ticks\":\"\"},\"colorscale\":[[0.0,\"#0d0887\"],[0.1111111111111111,\"#46039f\"],[0.2222222222222222,\"#7201a8\"],[0.3333333333333333,\"#9c179e\"],[0.4444444444444444,\"#bd3786\"],[0.5555555555555556,\"#d8576b\"],[0.6666666666666666,\"#ed7953\"],[0.7777777777777778,\"#fb9f3a\"],[0.8888888888888888,\"#fdca26\"],[1.0,\"#f0f921\"]],\"type\":\"heatmapgl\"}],\"histogram\":[{\"marker\":{\"pattern\":{\"fillmode\":\"overlay\",\"size\":10,\"solidity\":0.2}},\"type\":\"histogram\"}],\"histogram2d\":[{\"colorbar\":{\"outlinewidth\":0,\"ticks\":\"\"},\"colorscale\":[[0.0,\"#0d0887\"],[0.1111111111111111,\"#46039f\"],[0.2222222222222222,\"#7201a8\"],[0.3333333333333333,\"#9c179e\"],[0.4444444444444444,\"#bd3786\"],[0.5555555555555556,\"#d8576b\"],[0.6666666666666666,\"#ed7953\"],[0.7777777777777778,\"#fb9f3a\"],[0.8888888888888888,\"#fdca26\"],[1.0,\"#f0f921\"]],\"type\":\"histogram2d\"}],\"histogram2dcontour\":[{\"colorbar\":{\"outlinewidth\":0,\"ticks\":\"\"},\"colorscale\":[[0.0,\"#0d0887\"],[0.1111111111111111,\"#46039f\"],[0.2222222222222222,\"#7201a8\"],[0.3333333333333333,\"#9c179e\"],[0.4444444444444444,\"#bd3786\"],[0.5555555555555556,\"#d8576b\"],[0.6666666666666666,\"#ed7953\"],[0.7777777777777778,\"#fb9f3a\"],[0.8888888888888888,\"#fdca26\"],[1.0,\"#f0f921\"]],\"type\":\"histogram2dcontour\"}],\"mesh3d\":[{\"colorbar\":{\"outlinewidth\":0,\"ticks\":\"\"},\"type\":\"mesh3d\"}],\"parcoords\":[{\"line\":{\"colorbar\":{\"outlinewidth\":0,\"ticks\":\"\"}},\"type\":\"parcoords\"}],\"pie\":[{\"automargin\":true,\"type\":\"pie\"}],\"scatter\":[{\"marker\":{\"colorbar\":{\"outlinewidth\":0,\"ticks\":\"\"}},\"type\":\"scatter\"}],\"scatter3d\":[{\"line\":{\"colorbar\":{\"outlinewidth\":0,\"ticks\":\"\"}},\"marker\":{\"colorbar\":{\"outlinewidth\":0,\"ticks\":\"\"}},\"type\":\"scatter3d\"}],\"scattercarpet\":[{\"marker\":{\"colorbar\":{\"outlinewidth\":0,\"ticks\":\"\"}},\"type\":\"scattercarpet\"}],\"scattergeo\":[{\"marker\":{\"colorbar\":{\"outlinewidth\":0,\"ticks\":\"\"}},\"type\":\"scattergeo\"}],\"scattergl\":[{\"marker\":{\"colorbar\":{\"outlinewidth\":0,\"ticks\":\"\"}},\"type\":\"scattergl\"}],\"scattermapbox\":[{\"marker\":{\"colorbar\":{\"outlinewidth\":0,\"ticks\":\"\"}},\"type\":\"scattermapbox\"}],\"scatterpolar\":[{\"marker\":{\"colorbar\":{\"outlinewidth\":0,\"ticks\":\"\"}},\"type\":\"scatterpolar\"}],\"scatterpolargl\":[{\"marker\":{\"colorbar\":{\"outlinewidth\":0,\"ticks\":\"\"}},\"type\":\"scatterpolargl\"}],\"scatterternary\":[{\"marker\":{\"colorbar\":{\"outlinewidth\":0,\"ticks\":\"\"}},\"type\":\"scatterternary\"}],\"surface\":[{\"colorbar\":{\"outlinewidth\":0,\"ticks\":\"\"},\"colorscale\":[[0.0,\"#0d0887\"],[0.1111111111111111,\"#46039f\"],[0.2222222222222222,\"#7201a8\"],[0.3333333333333333,\"#9c179e\"],[0.4444444444444444,\"#bd3786\"],[0.5555555555555556,\"#d8576b\"],[0.6666666666666666,\"#ed7953\"],[0.7777777777777778,\"#fb9f3a\"],[0.8888888888888888,\"#fdca26\"],[1.0,\"#f0f921\"]],\"type\":\"surface\"}],\"table\":[{\"cells\":{\"fill\":{\"color\":\"#EBF0F8\"},\"line\":{\"color\":\"white\"}},\"header\":{\"fill\":{\"color\":\"#C8D4E3\"},\"line\":{\"color\":\"white\"}},\"type\":\"table\"}]},\"layout\":{\"annotationdefaults\":{\"arrowcolor\":\"#2a3f5f\",\"arrowhead\":0,\"arrowwidth\":1},\"autotypenumbers\":\"strict\",\"coloraxis\":{\"colorbar\":{\"outlinewidth\":0,\"ticks\":\"\"}},\"colorscale\":{\"diverging\":[[0,\"#8e0152\"],[0.1,\"#c51b7d\"],[0.2,\"#de77ae\"],[0.3,\"#f1b6da\"],[0.4,\"#fde0ef\"],[0.5,\"#f7f7f7\"],[0.6,\"#e6f5d0\"],[0.7,\"#b8e186\"],[0.8,\"#7fbc41\"],[0.9,\"#4d9221\"],[1,\"#276419\"]],\"sequential\":[[0.0,\"#0d0887\"],[0.1111111111111111,\"#46039f\"],[0.2222222222222222,\"#7201a8\"],[0.3333333333333333,\"#9c179e\"],[0.4444444444444444,\"#bd3786\"],[0.5555555555555556,\"#d8576b\"],[0.6666666666666666,\"#ed7953\"],[0.7777777777777778,\"#fb9f3a\"],[0.8888888888888888,\"#fdca26\"],[1.0,\"#f0f921\"]],\"sequentialminus\":[[0.0,\"#0d0887\"],[0.1111111111111111,\"#46039f\"],[0.2222222222222222,\"#7201a8\"],[0.3333333333333333,\"#9c179e\"],[0.4444444444444444,\"#bd3786\"],[0.5555555555555556,\"#d8576b\"],[0.6666666666666666,\"#ed7953\"],[0.7777777777777778,\"#fb9f3a\"],[0.8888888888888888,\"#fdca26\"],[1.0,\"#f0f921\"]]},\"colorway\":[\"#636efa\",\"#EF553B\",\"#00cc96\",\"#ab63fa\",\"#FFA15A\",\"#19d3f3\",\"#FF6692\",\"#B6E880\",\"#FF97FF\",\"#FECB52\"],\"font\":{\"color\":\"#2a3f5f\"},\"geo\":{\"bgcolor\":\"white\",\"lakecolor\":\"white\",\"landcolor\":\"#E5ECF6\",\"showlakes\":true,\"showland\":true,\"subunitcolor\":\"white\"},\"hoverlabel\":{\"align\":\"left\"},\"hovermode\":\"closest\",\"mapbox\":{\"style\":\"light\"},\"paper_bgcolor\":\"white\",\"plot_bgcolor\":\"#E5ECF6\",\"polar\":{\"angularaxis\":{\"gridcolor\":\"white\",\"linecolor\":\"white\",\"ticks\":\"\"},\"bgcolor\":\"#E5ECF6\",\"radialaxis\":{\"gridcolor\":\"white\",\"linecolor\":\"white\",\"ticks\":\"\"}},\"scene\":{\"xaxis\":{\"backgroundcolor\":\"#E5ECF6\",\"gridcolor\":\"white\",\"gridwidth\":2,\"linecolor\":\"white\",\"showbackground\":true,\"ticks\":\"\",\"zerolinecolor\":\"white\"},\"yaxis\":{\"backgroundcolor\":\"#E5ECF6\",\"gridcolor\":\"white\",\"gridwidth\":2,\"linecolor\":\"white\",\"showbackground\":true,\"ticks\":\"\",\"zerolinecolor\":\"white\"},\"zaxis\":{\"backgroundcolor\":\"#E5ECF6\",\"gridcolor\":\"white\",\"gridwidth\":2,\"linecolor\":\"white\",\"showbackground\":true,\"ticks\":\"\",\"zerolinecolor\":\"white\"}},\"shapedefaults\":{\"line\":{\"color\":\"#2a3f5f\"}},\"ternary\":{\"aaxis\":{\"gridcolor\":\"white\",\"linecolor\":\"white\",\"ticks\":\"\"},\"baxis\":{\"gridcolor\":\"white\",\"linecolor\":\"white\",\"ticks\":\"\"},\"bgcolor\":\"#E5ECF6\",\"caxis\":{\"gridcolor\":\"white\",\"linecolor\":\"white\",\"ticks\":\"\"}},\"title\":{\"x\":0.05},\"xaxis\":{\"automargin\":true,\"gridcolor\":\"white\",\"linecolor\":\"white\",\"ticks\":\"\",\"title\":{\"standoff\":15},\"zerolinecolor\":\"white\",\"zerolinewidth\":2},\"yaxis\":{\"automargin\":true,\"gridcolor\":\"white\",\"linecolor\":\"white\",\"ticks\":\"\",\"title\":{\"standoff\":15},\"zerolinecolor\":\"white\",\"zerolinewidth\":2}}},\"title\":{\"font\":{\"family\":\"sans-serif\"},\"text\":\"GHG emissions (2020)\",\"x\":0.5,\"xanchor\":\"center\",\"y\":0.95,\"yanchor\":\"top\"},\"width\":800},                        {\"responsive\": true}                    ).then(function(){\n",
       "                            \n",
       "var gd = document.getElementById('1adf7cd5-0e58-406d-8399-70b498cba052');\n",
       "var x = new MutationObserver(function (mutations, observer) {{\n",
       "        var display = window.getComputedStyle(gd).display;\n",
       "        if (!display || display === 'none') {{\n",
       "            console.log([gd, 'removed!']);\n",
       "            Plotly.purge(gd);\n",
       "            observer.disconnect();\n",
       "        }}\n",
       "}});\n",
       "\n",
       "// Listen for the removal of the full notebook cells\n",
       "var notebookContainer = gd.closest('#notebook-container');\n",
       "if (notebookContainer) {{\n",
       "    x.observe(notebookContainer, {childList: true});\n",
       "}}\n",
       "\n",
       "// Listen for the clearing of the current output cell\n",
       "var outputEl = gd.closest('.output');\n",
       "if (outputEl) {{\n",
       "    x.observe(outputEl, {childList: true});\n",
       "}}\n",
       "\n",
       "                        })                };                });            </script>        </div>"
      ]
     },
     "metadata": {},
     "output_type": "display_data"
    },
    {
     "data": {
      "application/vnd.plotly.v1+json": {
       "config": {
        "plotlyServerURL": "https://plot.ly"
       },
       "data": [
        {
         "colorscale": [
          [
           0,
           "rgb(8,48,107)"
          ],
          [
           1,
           "rgb(8,48,107)"
          ]
         ],
         "customdata": [
          [
           "1,402,112,000",
           "China",
           "> 250"
          ],
          [
           "273,523,621",
           "Indonesia",
           "> 250"
          ],
          [
           "1,380,004,385",
           "India",
           "> 250"
          ],
          [
           "329,484,123",
           "United States of America",
           "> 250"
          ]
         ],
         "geo": "geo",
         "hovertemplate": "<b>%{hovertext}</b><br><br>Population=%{customdata[0]}<extra></extra>",
         "hovertext": [
          "China",
          "Indonesia",
          "India",
          "United States of America"
         ],
         "locationmode": "country names",
         "locations": [
          "China",
          "Indonesia",
          "India",
          "United States of America"
         ],
         "name": "> 250",
         "showlegend": true,
         "showscale": false,
         "type": "choropleth",
         "z": [
          1,
          1,
          1,
          1
         ]
        },
        {
         "colorscale": [
          [
           0,
           "rgb(33,113,181)"
          ],
          [
           1,
           "rgb(33,113,181)"
          ]
         ],
         "customdata": [
          [
           "206,139,587",
           "Nigeria",
           "150 - 250"
          ],
          [
           "212,559,409",
           "Brazil",
           "150 - 250"
          ],
          [
           "220,892,331",
           "Pakistan",
           "150 - 250"
          ],
          [
           "164,689,383",
           "Bangladesh",
           "150 - 250"
          ]
         ],
         "geo": "geo",
         "hovertemplate": "<b>%{hovertext}</b><br><br>Population=%{customdata[0]}<extra></extra>",
         "hovertext": [
          "Nigeria",
          "Brazil",
          "Pakistan",
          "Bangladesh"
         ],
         "locationmode": "country names",
         "locations": [
          "Nigeria",
          "Brazil",
          "Pakistan",
          "Bangladesh"
         ],
         "name": "150 - 250",
         "showlegend": true,
         "showscale": false,
         "type": "choropleth",
         "z": [
          1,
          1,
          1,
          1
         ]
        },
        {
         "colorscale": [
          [
           0,
           "rgb(66,146,198)"
          ],
          [
           1,
           "rgb(66,146,198)"
          ]
         ],
         "customdata": [
          [
           "128,932,753",
           "Mexico",
           "100 - 150"
          ],
          [
           "125,836,021",
           "Japan",
           "100 - 150"
          ],
          [
           "109,581,085",
           "Philippines",
           "100 - 150"
          ],
          [
           "102,334,403",
           "Egypt",
           "100 - 150"
          ],
          [
           "114,963,583",
           "Ethiopia",
           "100 - 150"
          ],
          [
           "144,104,080",
           "Russian Federation",
           "100 - 150"
          ]
         ],
         "geo": "geo",
         "hovertemplate": "<b>%{hovertext}</b><br><br>Population=%{customdata[0]}<extra></extra>",
         "hovertext": [
          "Mexico",
          "Japan",
          "Philippines",
          "Egypt",
          "Ethiopia",
          "Russian Federation"
         ],
         "locationmode": "country names",
         "locations": [
          "Mexico",
          "Japan",
          "Philippines",
          "Egypt",
          "Ethiopia",
          "Russian Federation"
         ],
         "name": "100 - 150",
         "showlegend": true,
         "showscale": false,
         "type": "choropleth",
         "z": [
          1,
          1,
          1,
          1,
          1,
          1
         ]
        },
        {
         "colorscale": [
          [
           0,
           "rgb(158,202,225)"
          ],
          [
           1,
           "rgb(158,202,225)"
          ]
         ],
         "customdata": [
          [
           "83,240,525",
           "Germany",
           "70 - 100"
          ],
          [
           "97,338,583",
           "Viet Nam",
           "70 - 100"
          ],
          [
           "89,561,404",
           "Democratic Republic of the Congo",
           "70 - 100"
          ],
          [
           "84,339,067",
           "Turkey",
           "70 - 100"
          ],
          [
           "83,992,953",
           "Iran (Islamic Republic of)",
           "70 - 100"
          ]
         ],
         "geo": "geo",
         "hovertemplate": "<b>%{hovertext}</b><br><br>Population=%{customdata[0]}<extra></extra>",
         "hovertext": [
          "Germany",
          "Viet Nam",
          "Democratic Republic of the Congo",
          "Turkey",
          "Iran (Islamic Republic of)"
         ],
         "locationmode": "country names",
         "locations": [
          "Germany",
          "Viet Nam",
          "Democratic Republic of the Congo",
          "Turkey",
          "Iran (Islamic Republic of)"
         ],
         "name": "70 - 100",
         "showlegend": true,
         "showscale": false,
         "type": "choropleth",
         "z": [
          1,
          1,
          1,
          1,
          1
         ]
        },
        {
         "colorscale": [
          [
           0,
           "rgb(222,235,247)"
          ],
          [
           1,
           "rgb(222,235,247)"
          ]
         ],
         "customdata": [
          [
           "18,092",
           "Palau",
           "< 70"
          ],
          [
           "10,305,564",
           "Portugal",
           "< 70"
          ],
          [
           "7,132,530",
           "Paraguay",
           "< 70"
          ],
          [
           "6,624,554",
           "Nicaragua",
           "< 70"
          ],
          [
           "17,441,139",
           "Netherlands",
           "< 70"
          ],
          [
           "5,379,475",
           "Norway",
           "< 70"
          ],
          [
           "10,834",
           "Nauru",
           "< 70"
          ],
          [
           "29,136,808",
           "Nepal",
           "< 70"
          ],
          [
           "8,947,027",
           "Papua New Guinea",
           "< 70"
          ],
          [
           "5,084,300",
           "New Zealand",
           "< 70"
          ],
          [
           "5,106,622",
           "Oman",
           "< 70"
          ],
          [
           "25,778,815",
           "Democratic People's Republic of Korea",
           "< 70"
          ],
          [
           "3,194,034",
           "Puerto Rico",
           "< 70"
          ],
          [
           "24,206,636",
           "Niger",
           "< 70"
          ],
          [
           "32,971,846",
           "Peru",
           "< 70"
          ],
          [
           "37,950,802",
           "Poland",
           "< 70"
          ],
          [
           "4,314,768",
           "Panama",
           "< 70"
          ],
          [
           "32,365,998",
           "Malaysia",
           "< 70"
          ],
          [
           "271,960",
           "New Caledonia",
           "< 70"
          ],
          [
           "2,540,916",
           "Namibia",
           "< 70"
          ],
          [
           "1,901,548",
           "Latvia",
           "< 70"
          ],
          [
           "649,342",
           "China, Macao Special Administrative Region",
           "< 70"
          ],
          [
           "38,659",
           "Saint Martin (French Part)",
           "< 70"
          ],
          [
           "36,910,558",
           "Morocco",
           "< 70"
          ],
          [
           "39,244",
           "Monaco",
           "< 70"
          ],
          [
           "2,617,820",
           "Republic of Moldova",
           "< 70"
          ],
          [
           "27,691,019",
           "Madagascar",
           "< 70"
          ],
          [
           "540,542",
           "Maldives",
           "< 70"
          ],
          [
           "59,194",
           "Marshall Islands",
           "< 70"
          ],
          [
           "2,083,380",
           "The former Yugoslav Republic of Macedonia",
           "< 70"
          ],
          [
           "20,250,834",
           "Mali",
           "< 70"
          ],
          [
           "525,285",
           "Malta",
           "< 70"
          ],
          [
           "54,409,794",
           "Myanmar",
           "< 70"
          ],
          [
           "621,718",
           "Montenegro",
           "< 70"
          ],
          [
           "3,278,292",
           "Mongolia",
           "< 70"
          ],
          [
           "57,557",
           "Northern Mariana Islands",
           "< 70"
          ],
          [
           "31,255,435",
           "Mozambique",
           "< 70"
          ],
          [
           "4,649,660",
           "Mauritania",
           "< 70"
          ],
          [
           "1,265,740",
           "Mauritius",
           "< 70"
          ],
          [
           "19,129,955",
           "Malawi",
           "< 70"
          ],
          [
           "280,904",
           "French Polynesia",
           "< 70"
          ],
          [
           "4,803,269",
           "State of Palestine",
           "< 70"
          ],
          [
           "106,766",
           "Aruba",
           "< 70"
          ],
          [
           "2,881,060",
           "Qatar",
           "< 70"
          ],
          [
           "3,473,727",
           "Uruguay",
           "< 70"
          ],
          [
           "9,537,642",
           "Tajikistan",
           "< 70"
          ],
          [
           "6,031,187",
           "Turkmenistan",
           "< 70"
          ],
          [
           "1,318,442",
           "Timor-Leste",
           "< 70"
          ],
          [
           "105,697",
           "Tonga",
           "< 70"
          ],
          [
           "1,399,491",
           "Trinidad and Tobago",
           "< 70"
          ],
          [
           "11,818,618",
           "Tunisia",
           "< 70"
          ],
          [
           "11,792",
           "Tuvalu",
           "< 70"
          ],
          [
           "59,734,213",
           "United Republic of Tanzania",
           "< 70"
          ],
          [
           "45,741,000",
           "Uganda",
           "< 70"
          ],
          [
           "44,134,693",
           "Ukraine",
           "< 70"
          ],
          [
           "34,232,050",
           "Uzbekistan",
           "< 70"
          ],
          [
           "8,278,737",
           "Togo",
           "< 70"
          ],
          [
           "110,947",
           "Saint Vincent and the Grenadines",
           "< 70"
          ],
          [
           "28,435,943",
           "Venezuela (Bolivarian Republic of)",
           "< 70"
          ],
          [
           "30,237",
           "British Virgin Islands",
           "< 70"
          ],
          [
           "106,290",
           "United States Virgin Islands",
           "< 70"
          ],
          [
           "307,150",
           "Vanuatu",
           "< 70"
          ],
          [
           "198,410",
           "Samoa",
           "< 70"
          ],
          [
           "1,775,378",
           "Kosovo",
           "< 70"
          ],
          [
           "29,825,968",
           "Yemen",
           "< 70"
          ],
          [
           "59,308,690",
           "South Africa",
           "< 70"
          ],
          [
           "18,383,956",
           "Zambia",
           "< 70"
          ],
          [
           "69,799,978",
           "Thailand",
           "< 70"
          ],
          [
           "16,425,859",
           "Chad",
           "< 70"
          ],
          [
           "19,286,123",
           "Romania",
           "< 70"
          ],
          [
           "15,893,219",
           "Somalia",
           "< 70"
          ],
          [
           "12,952,209",
           "Rwanda",
           "< 70"
          ],
          [
           "2,794,700",
           "Lithuania",
           "< 70"
          ],
          [
           "34,813,867",
           "Saudi Arabia",
           "< 70"
          ],
          [
           "43,849,269",
           "Sudan",
           "< 70"
          ],
          [
           "16,743,930",
           "Senegal",
           "< 70"
          ],
          [
           "5,685,807",
           "Singapore",
           "< 70"
          ],
          [
           "686,878",
           "Solomon Islands",
           "< 70"
          ],
          [
           "7,976,985",
           "Sierra Leone",
           "< 70"
          ],
          [
           "6,486,201",
           "El Salvador",
           "< 70"
          ],
          [
           "33,938",
           "San Marino",
           "< 70"
          ],
          [
           "6,908,224",
           "Serbia",
           "< 70"
          ],
          [
           "38,718",
           "Turks and Caicos Islands",
           "< 70"
          ],
          [
           "11,193,729",
           "South Sudan",
           "< 70"
          ],
          [
           "219,161",
           "Sao Tome and Principe",
           "< 70"
          ],
          [
           "586,634",
           "Suriname",
           "< 70"
          ],
          [
           "5,458,827",
           "Slovakia",
           "< 70"
          ],
          [
           "2,100,126",
           "Slovenia",
           "< 70"
          ],
          [
           "10,353,442",
           "Sweden",
           "< 70"
          ],
          [
           "1,160,164",
           "Eswatini",
           "< 70"
          ],
          [
           "40,812",
           "Sint Maarten (Dutch part)",
           "< 70"
          ],
          [
           "98,462",
           "Seychelles",
           "< 70"
          ],
          [
           "17,500,657",
           "Syrian Arab Republic",
           "< 70"
          ],
          [
           "632,275",
           "Luxembourg",
           "< 70"
          ],
          [
           "5,057,677",
           "Liberia",
           "< 70"
          ],
          [
           "2,142,252",
           "Lesotho",
           "< 70"
          ],
          [
           "869,595",
           "Comoros",
           "< 70"
          ],
          [
           "771,612",
           "Bhutan",
           "< 70"
          ],
          [
           "2,351,625",
           "Botswana",
           "< 70"
          ],
          [
           "4,829,764",
           "Central African Republic",
           "< 70"
          ],
          [
           "38,005,238",
           "Canada",
           "< 70"
          ],
          [
           "8,636,896",
           "Switzerland",
           "< 70"
          ],
          [
           "19,116,209",
           "Chile",
           "< 70"
          ],
          [
           "26,378,275",
           "Côte d'Ivoire",
           "< 70"
          ],
          [
           "26,545,864",
           "Cameroon",
           "< 70"
          ],
          [
           "5,518,092",
           "Congo",
           "< 70"
          ],
          [
           "50,882,884",
           "Colombia",
           "< 70"
          ],
          [
           "555,988",
           "Cabo Verde",
           "< 70"
          ],
          [
           "17,643,060",
           "Ecuador",
           "< 70"
          ],
          [
           "5,094,114",
           "Costa Rica",
           "< 70"
          ],
          [
           "11,326,616",
           "Cuba",
           "< 70"
          ],
          [
           "155,014",
           "Curaçao",
           "< 70"
          ],
          [
           "65,720",
           "Cayman Islands",
           "< 70"
          ],
          [
           "1,207,361",
           "Cyprus",
           "< 70"
          ],
          [
           "10,698,896",
           "Czechia",
           "< 70"
          ],
          [
           "988,002",
           "Djibouti",
           "< 70"
          ],
          [
           "71,991",
           "Dominica",
           "< 70"
          ],
          [
           "5,831,404",
           "Denmark",
           "< 70"
          ],
          [
           "10,847,904",
           "Dominican Republic",
           "< 70"
          ],
          [
           "437,483",
           "Brunei Darussalam",
           "< 70"
          ],
          [
           "287,371",
           "Barbados",
           "< 70"
          ],
          [
           "11,673,029",
           "Bolivia (Plurinational State of)",
           "< 70"
          ],
          [
           "63,903",
           "Bermuda",
           "< 70"
          ],
          [
           "32,866,268",
           "Angola",
           "< 70"
          ],
          [
           "2,837,743",
           "Albania",
           "< 70"
          ],
          [
           "77,265",
           "Andorra",
           "< 70"
          ],
          [
           "9,890,400",
           "United Arab Emirates",
           "< 70"
          ],
          [
           "45,376,763",
           "Argentina",
           "< 70"
          ],
          [
           "2,963,234",
           "Armenia",
           "< 70"
          ],
          [
           "55,197",
           "American Samoa",
           "< 70"
          ],
          [
           "97,928",
           "Antigua and Barbuda",
           "< 70"
          ],
          [
           "25,687,041",
           "Australia",
           "< 70"
          ],
          [
           "8,917,205",
           "Austria",
           "< 70"
          ],
          [
           "10,110,116",
           "Azerbaijan",
           "< 70"
          ],
          [
           "11,890,781",
           "Burundi",
           "< 70"
          ],
          [
           "11,555,997",
           "Belgium",
           "< 70"
          ],
          [
           "12,123,198",
           "Benin",
           "< 70"
          ],
          [
           "20,903,278",
           "Burkina Faso",
           "< 70"
          ],
          [
           "6,927,288",
           "Bulgaria",
           "< 70"
          ],
          [
           "1,701,583",
           "Bahrain",
           "< 70"
          ],
          [
           "393,248",
           "Bahamas",
           "< 70"
          ],
          [
           "3,280,815",
           "Bosnia and Herzegovina",
           "< 70"
          ],
          [
           "9,398,861",
           "Belarus",
           "< 70"
          ],
          [
           "397,621",
           "Belize",
           "< 70"
          ],
          [
           "43,851,043",
           "Algeria",
           "< 70"
          ],
          [
           "47,351,567",
           "Spain",
           "< 70"
          ],
          [
           "21,919,000",
           "Sri Lanka",
           "< 70"
          ],
          [
           "6,591,600",
           "Kyrgyzstan",
           "< 70"
          ],
          [
           "85,032",
           "Isle of Man",
           "< 70"
          ],
          [
           "4,994,724",
           "Ireland",
           "< 70"
          ],
          [
           "40,222,503",
           "Iraq",
           "< 70"
          ],
          [
           "366,425",
           "Iceland",
           "< 70"
          ],
          [
           "9,216,900",
           "Israel",
           "< 70"
          ],
          [
           "59,554,023",
           "Italy",
           "< 70"
          ],
          [
           "2,961,161",
           "Jamaica",
           "< 70"
          ],
          [
           "10,203,140",
           "Jordan",
           "< 70"
          ],
          [
           "18,754,440",
           "Kazakhstan",
           "< 70"
          ],
          [
           "53,771,300",
           "Kenya",
           "< 70"
          ],
          [
           "16,718,971",
           "Cambodia",
           "< 70"
          ],
          [
           "1,331,057",
           "Estonia",
           "< 70"
          ],
          [
           "119,446",
           "Kiribati",
           "< 70"
          ],
          [
           "53,192",
           "Saint Kitts and Nevis",
           "< 70"
          ],
          [
           "51,780,579",
           "Republic of Korea",
           "< 70"
          ],
          [
           "4,270,563",
           "Kuwait",
           "< 70"
          ],
          [
           "7,275,556",
           "Lao People's Democratic Republic",
           "< 70"
          ],
          [
           "6,825,442",
           "Lebanon",
           "< 70"
          ],
          [
           "38,928,341",
           "Afghanistan",
           "< 70"
          ],
          [
           "6,871,287",
           "Libya",
           "< 70"
          ],
          [
           "183,629",
           "Saint Lucia",
           "< 70"
          ],
          [
           "38,137",
           "Liechtenstein",
           "< 70"
          ],
          [
           "9,749,763",
           "Hungary",
           "< 70"
          ],
          [
           "11,402,533",
           "Haiti",
           "< 70"
          ],
          [
           "4,047,200",
           "Croatia",
           "< 70"
          ],
          [
           "9,904,608",
           "Honduras",
           "< 70"
          ],
          [
           "5,530,719",
           "Finland",
           "< 70"
          ],
          [
           "896,444",
           "Fiji",
           "< 70"
          ],
          [
           "67,391,582",
           "France",
           "< 70"
          ],
          [
           "48,865",
           "Faroe Islands",
           "< 70"
          ],
          [
           "115,021",
           "Micronesia (Federated States of)",
           "< 70"
          ],
          [
           "2,225,728",
           "Gabon",
           "< 70"
          ],
          [
           "67,215,293",
           "United Kingdom of Great Britain and Northern Ireland",
           "< 70"
          ],
          [
           "3,714,000",
           "Georgia",
           "< 70"
          ],
          [
           "31,072,945",
           "Ghana",
           "< 70"
          ],
          [
           "33,691",
           "Gibraltar",
           "< 70"
          ],
          [
           "13,132,792",
           "Guinea",
           "< 70"
          ],
          [
           "2,416,664",
           "Gambia",
           "< 70"
          ],
          [
           "1,967,998",
           "Guinea-Bissau",
           "< 70"
          ],
          [
           "1,402,985",
           "Equatorial Guinea",
           "< 70"
          ],
          [
           "10,715,549",
           "Greece",
           "< 70"
          ],
          [
           "112,519",
           "Grenada",
           "< 70"
          ],
          [
           "56,367",
           "Greenland",
           "< 70"
          ],
          [
           "16,858,333",
           "Guatemala",
           "< 70"
          ],
          [
           "168,783",
           "Guam",
           "< 70"
          ],
          [
           "786,559",
           "Guyana",
           "< 70"
          ],
          [
           "7,481,800",
           "China, Hong Kong Special Administrative Region",
           "< 70"
          ],
          [
           "14,862,927",
           "Zimbabwe",
           "< 70"
          ]
         ],
         "geo": "geo",
         "hovertemplate": "<b>%{hovertext}</b><br><br>Population=%{customdata[0]}<extra></extra>",
         "hovertext": [
          "Palau",
          "Portugal",
          "Paraguay",
          "Nicaragua",
          "Netherlands",
          "Norway",
          "Nauru",
          "Nepal",
          "Papua New Guinea",
          "New Zealand",
          "Oman",
          "Democratic People's Republic of Korea",
          "Puerto Rico",
          "Niger",
          "Peru",
          "Poland",
          "Panama",
          "Malaysia",
          "New Caledonia",
          "Namibia",
          "Latvia",
          "China, Macao Special Administrative Region",
          "Saint Martin (French Part)",
          "Morocco",
          "Monaco",
          "Republic of Moldova",
          "Madagascar",
          "Maldives",
          "Marshall Islands",
          "The former Yugoslav Republic of Macedonia",
          "Mali",
          "Malta",
          "Myanmar",
          "Montenegro",
          "Mongolia",
          "Northern Mariana Islands",
          "Mozambique",
          "Mauritania",
          "Mauritius",
          "Malawi",
          "French Polynesia",
          "State of Palestine",
          "Aruba",
          "Qatar",
          "Uruguay",
          "Tajikistan",
          "Turkmenistan",
          "Timor-Leste",
          "Tonga",
          "Trinidad and Tobago",
          "Tunisia",
          "Tuvalu",
          "United Republic of Tanzania",
          "Uganda",
          "Ukraine",
          "Uzbekistan",
          "Togo",
          "Saint Vincent and the Grenadines",
          "Venezuela (Bolivarian Republic of)",
          "British Virgin Islands",
          "United States Virgin Islands",
          "Vanuatu",
          "Samoa",
          "Kosovo",
          "Yemen",
          "South Africa",
          "Zambia",
          "Thailand",
          "Chad",
          "Romania",
          "Somalia",
          "Rwanda",
          "Lithuania",
          "Saudi Arabia",
          "Sudan",
          "Senegal",
          "Singapore",
          "Solomon Islands",
          "Sierra Leone",
          "El Salvador",
          "San Marino",
          "Serbia",
          "Turks and Caicos Islands",
          "South Sudan",
          "Sao Tome and Principe",
          "Suriname",
          "Slovakia",
          "Slovenia",
          "Sweden",
          "Eswatini",
          "Sint Maarten (Dutch part)",
          "Seychelles",
          "Syrian Arab Republic",
          "Luxembourg",
          "Liberia",
          "Lesotho",
          "Comoros",
          "Bhutan",
          "Botswana",
          "Central African Republic",
          "Canada",
          "Switzerland",
          "Chile",
          "Côte d'Ivoire",
          "Cameroon",
          "Congo",
          "Colombia",
          "Cabo Verde",
          "Ecuador",
          "Costa Rica",
          "Cuba",
          "Curaçao",
          "Cayman Islands",
          "Cyprus",
          "Czechia",
          "Djibouti",
          "Dominica",
          "Denmark",
          "Dominican Republic",
          "Brunei Darussalam",
          "Barbados",
          "Bolivia (Plurinational State of)",
          "Bermuda",
          "Angola",
          "Albania",
          "Andorra",
          "United Arab Emirates",
          "Argentina",
          "Armenia",
          "American Samoa",
          "Antigua and Barbuda",
          "Australia",
          "Austria",
          "Azerbaijan",
          "Burundi",
          "Belgium",
          "Benin",
          "Burkina Faso",
          "Bulgaria",
          "Bahrain",
          "Bahamas",
          "Bosnia and Herzegovina",
          "Belarus",
          "Belize",
          "Algeria",
          "Spain",
          "Sri Lanka",
          "Kyrgyzstan",
          "Isle of Man",
          "Ireland",
          "Iraq",
          "Iceland",
          "Israel",
          "Italy",
          "Jamaica",
          "Jordan",
          "Kazakhstan",
          "Kenya",
          "Cambodia",
          "Estonia",
          "Kiribati",
          "Saint Kitts and Nevis",
          "Republic of Korea",
          "Kuwait",
          "Lao People's Democratic Republic",
          "Lebanon",
          "Afghanistan",
          "Libya",
          "Saint Lucia",
          "Liechtenstein",
          "Hungary",
          "Haiti",
          "Croatia",
          "Honduras",
          "Finland",
          "Fiji",
          "France",
          "Faroe Islands",
          "Micronesia (Federated States of)",
          "Gabon",
          "United Kingdom of Great Britain and Northern Ireland",
          "Georgia",
          "Ghana",
          "Gibraltar",
          "Guinea",
          "Gambia",
          "Guinea-Bissau",
          "Equatorial Guinea",
          "Greece",
          "Grenada",
          "Greenland",
          "Guatemala",
          "Guam",
          "Guyana",
          "China, Hong Kong Special Administrative Region",
          "Zimbabwe"
         ],
         "locationmode": "country names",
         "locations": [
          "Palau",
          "Portugal",
          "Paraguay",
          "Nicaragua",
          "Netherlands",
          "Norway",
          "Nauru",
          "Nepal",
          "Papua New Guinea",
          "New Zealand",
          "Oman",
          "Democratic People's Republic of Korea",
          "Puerto Rico",
          "Niger",
          "Peru",
          "Poland",
          "Panama",
          "Malaysia",
          "New Caledonia",
          "Namibia",
          "Latvia",
          "China, Macao Special Administrative Region",
          "Saint Martin (French Part)",
          "Morocco",
          "Monaco",
          "Republic of Moldova",
          "Madagascar",
          "Maldives",
          "Marshall Islands",
          "The former Yugoslav Republic of Macedonia",
          "Mali",
          "Malta",
          "Myanmar",
          "Montenegro",
          "Mongolia",
          "Northern Mariana Islands",
          "Mozambique",
          "Mauritania",
          "Mauritius",
          "Malawi",
          "French Polynesia",
          "State of Palestine",
          "Aruba",
          "Qatar",
          "Uruguay",
          "Tajikistan",
          "Turkmenistan",
          "Timor-Leste",
          "Tonga",
          "Trinidad and Tobago",
          "Tunisia",
          "Tuvalu",
          "United Republic of Tanzania",
          "Uganda",
          "Ukraine",
          "Uzbekistan",
          "Togo",
          "Saint Vincent and the Grenadines",
          "Venezuela (Bolivarian Republic of)",
          "British Virgin Islands",
          "United States Virgin Islands",
          "Vanuatu",
          "Samoa",
          "Kosovo",
          "Yemen",
          "South Africa",
          "Zambia",
          "Thailand",
          "Chad",
          "Romania",
          "Somalia",
          "Rwanda",
          "Lithuania",
          "Saudi Arabia",
          "Sudan",
          "Senegal",
          "Singapore",
          "Solomon Islands",
          "Sierra Leone",
          "El Salvador",
          "San Marino",
          "Serbia",
          "Turks and Caicos Islands",
          "South Sudan",
          "Sao Tome and Principe",
          "Suriname",
          "Slovakia",
          "Slovenia",
          "Sweden",
          "Eswatini",
          "Sint Maarten (Dutch part)",
          "Seychelles",
          "Syrian Arab Republic",
          "Luxembourg",
          "Liberia",
          "Lesotho",
          "Comoros",
          "Bhutan",
          "Botswana",
          "Central African Republic",
          "Canada",
          "Switzerland",
          "Chile",
          "Côte d'Ivoire",
          "Cameroon",
          "Congo",
          "Colombia",
          "Cabo Verde",
          "Ecuador",
          "Costa Rica",
          "Cuba",
          "Curaçao",
          "Cayman Islands",
          "Cyprus",
          "Czechia",
          "Djibouti",
          "Dominica",
          "Denmark",
          "Dominican Republic",
          "Brunei Darussalam",
          "Barbados",
          "Bolivia (Plurinational State of)",
          "Bermuda",
          "Angola",
          "Albania",
          "Andorra",
          "United Arab Emirates",
          "Argentina",
          "Armenia",
          "American Samoa",
          "Antigua and Barbuda",
          "Australia",
          "Austria",
          "Azerbaijan",
          "Burundi",
          "Belgium",
          "Benin",
          "Burkina Faso",
          "Bulgaria",
          "Bahrain",
          "Bahamas",
          "Bosnia and Herzegovina",
          "Belarus",
          "Belize",
          "Algeria",
          "Spain",
          "Sri Lanka",
          "Kyrgyzstan",
          "Isle of Man",
          "Ireland",
          "Iraq",
          "Iceland",
          "Israel",
          "Italy",
          "Jamaica",
          "Jordan",
          "Kazakhstan",
          "Kenya",
          "Cambodia",
          "Estonia",
          "Kiribati",
          "Saint Kitts and Nevis",
          "Republic of Korea",
          "Kuwait",
          "Lao People's Democratic Republic",
          "Lebanon",
          "Afghanistan",
          "Libya",
          "Saint Lucia",
          "Liechtenstein",
          "Hungary",
          "Haiti",
          "Croatia",
          "Honduras",
          "Finland",
          "Fiji",
          "France",
          "Faroe Islands",
          "Micronesia (Federated States of)",
          "Gabon",
          "United Kingdom of Great Britain and Northern Ireland",
          "Georgia",
          "Ghana",
          "Gibraltar",
          "Guinea",
          "Gambia",
          "Guinea-Bissau",
          "Equatorial Guinea",
          "Greece",
          "Grenada",
          "Greenland",
          "Guatemala",
          "Guam",
          "Guyana",
          "China, Hong Kong Special Administrative Region",
          "Zimbabwe"
         ],
         "name": "< 70",
         "showlegend": true,
         "showscale": false,
         "type": "choropleth",
         "z": [
          1,
          1,
          1,
          1,
          1,
          1,
          1,
          1,
          1,
          1,
          1,
          1,
          1,
          1,
          1,
          1,
          1,
          1,
          1,
          1,
          1,
          1,
          1,
          1,
          1,
          1,
          1,
          1,
          1,
          1,
          1,
          1,
          1,
          1,
          1,
          1,
          1,
          1,
          1,
          1,
          1,
          1,
          1,
          1,
          1,
          1,
          1,
          1,
          1,
          1,
          1,
          1,
          1,
          1,
          1,
          1,
          1,
          1,
          1,
          1,
          1,
          1,
          1,
          1,
          1,
          1,
          1,
          1,
          1,
          1,
          1,
          1,
          1,
          1,
          1,
          1,
          1,
          1,
          1,
          1,
          1,
          1,
          1,
          1,
          1,
          1,
          1,
          1,
          1,
          1,
          1,
          1,
          1,
          1,
          1,
          1,
          1,
          1,
          1,
          1,
          1,
          1,
          1,
          1,
          1,
          1,
          1,
          1,
          1,
          1,
          1,
          1,
          1,
          1,
          1,
          1,
          1,
          1,
          1,
          1,
          1,
          1,
          1,
          1,
          1,
          1,
          1,
          1,
          1,
          1,
          1,
          1,
          1,
          1,
          1,
          1,
          1,
          1,
          1,
          1,
          1,
          1,
          1,
          1,
          1,
          1,
          1,
          1,
          1,
          1,
          1,
          1,
          1,
          1,
          1,
          1,
          1,
          1,
          1,
          1,
          1,
          1,
          1,
          1,
          1,
          1,
          1,
          1,
          1,
          1,
          1,
          1,
          1,
          1,
          1,
          1,
          1,
          1,
          1,
          1,
          1,
          1,
          1,
          1,
          1,
          1,
          1,
          1,
          1,
          1,
          1,
          1,
          1,
          1,
          1,
          1
         ]
        },
        {
         "colorscale": [
          [
           0,
           "grey"
          ],
          [
           1,
           "grey"
          ]
         ],
         "customdata": [
          [
           "No data",
           "Anguilla",
           "No data"
          ],
          [
           "No data",
           "Åland Islands",
           "No data"
          ],
          [
           "No data",
           "Antarctica",
           "No data"
          ],
          [
           "No data",
           "French Southern Territories",
           "No data"
          ],
          [
           "No data",
           "Bonaire, Sint Eustatius and Saba",
           "No data"
          ],
          [
           "No data",
           "Saint Barthélemy",
           "No data"
          ],
          [
           "No data",
           "Bouvet Island",
           "No data"
          ],
          [
           "No data",
           "Cocos (Keeling) Islands",
           "No data"
          ],
          [
           "No data",
           "Cook Islands",
           "No data"
          ],
          [
           "No data",
           "Christmas Island",
           "No data"
          ],
          [
           "No data",
           "Eritrea",
           "No data"
          ],
          [
           "No data",
           "Western Sahara",
           "No data"
          ],
          [
           "No data",
           "Falkland Islands (Malvinas)",
           "No data"
          ],
          [
           "No data",
           "Guernsey",
           "No data"
          ],
          [
           "No data",
           "Guadeloupe",
           "No data"
          ],
          [
           "No data",
           "French Guiana",
           "No data"
          ],
          [
           "No data",
           "Heard Island and McDonald Islands",
           "No data"
          ],
          [
           "No data",
           "British Indian Ocean Territory",
           "No data"
          ],
          [
           "No data",
           "Jersey",
           "No data"
          ],
          [
           "No data",
           "Montserrat",
           "No data"
          ],
          [
           "No data",
           "Martinique",
           "No data"
          ],
          [
           "No data",
           "Mayotte",
           "No data"
          ],
          [
           "No data",
           "Norfolk Island",
           "No data"
          ],
          [
           "No data",
           "Niue",
           "No data"
          ],
          [
           "No data",
           "Pitcairn",
           "No data"
          ],
          [
           "No data",
           "Réunion",
           "No data"
          ],
          [
           "No data",
           "South Georgia and the South Sandwich Islands",
           "No data"
          ],
          [
           "No data",
           "Saint Helena",
           "No data"
          ],
          [
           "No data",
           "Svalbard and Jan Mayen Islands",
           "No data"
          ],
          [
           "No data",
           "Saint Pierre and Miquelon",
           "No data"
          ],
          [
           "No data",
           "Tokelau",
           "No data"
          ],
          [
           "No data",
           "Taiwan",
           "No data"
          ],
          [
           "No data",
           "United States Minor Outlying Islands",
           "No data"
          ],
          [
           "No data",
           "Holy See",
           "No data"
          ],
          [
           "No data",
           "Wallis and Futuna Islands",
           "No data"
          ]
         ],
         "geo": "geo",
         "hovertemplate": "<b>%{hovertext}</b><br><br>Population=%{customdata[0]}<extra></extra>",
         "hovertext": [
          "Anguilla",
          "Åland Islands",
          "Antarctica",
          "French Southern Territories",
          "Bonaire, Sint Eustatius and Saba",
          "Saint Barthélemy",
          "Bouvet Island",
          "Cocos (Keeling) Islands",
          "Cook Islands",
          "Christmas Island",
          "Eritrea",
          "Western Sahara",
          "Falkland Islands (Malvinas)",
          "Guernsey",
          "Guadeloupe",
          "French Guiana",
          "Heard Island and McDonald Islands",
          "British Indian Ocean Territory",
          "Jersey",
          "Montserrat",
          "Martinique",
          "Mayotte",
          "Norfolk Island",
          "Niue",
          "Pitcairn",
          "Réunion",
          "South Georgia and the South Sandwich Islands",
          "Saint Helena",
          "Svalbard and Jan Mayen Islands",
          "Saint Pierre and Miquelon",
          "Tokelau",
          "Taiwan",
          "United States Minor Outlying Islands",
          "Holy See",
          "Wallis and Futuna Islands"
         ],
         "locationmode": "country names",
         "locations": [
          "Anguilla",
          "Åland Islands",
          "Antarctica",
          "French Southern Territories",
          "Bonaire, Sint Eustatius and Saba",
          "Saint Barthélemy",
          "Bouvet Island",
          "Cocos (Keeling) Islands",
          "Cook Islands",
          "Christmas Island",
          "Eritrea",
          "Western Sahara",
          "Falkland Islands (Malvinas)",
          "Guernsey",
          "Guadeloupe",
          "French Guiana",
          "Heard Island and McDonald Islands",
          "British Indian Ocean Territory",
          "Jersey",
          "Montserrat",
          "Martinique",
          "Mayotte",
          "Norfolk Island",
          "Niue",
          "Pitcairn",
          "Réunion",
          "South Georgia and the South Sandwich Islands",
          "Saint Helena",
          "Svalbard and Jan Mayen Islands",
          "Saint Pierre and Miquelon",
          "Tokelau",
          "Taiwan",
          "United States Minor Outlying Islands",
          "Holy See",
          "Wallis and Futuna Islands"
         ],
         "name": "No data",
         "showlegend": true,
         "showscale": false,
         "type": "choropleth",
         "z": [
          1,
          1,
          1,
          1,
          1,
          1,
          1,
          1,
          1,
          1,
          1,
          1,
          1,
          1,
          1,
          1,
          1,
          1,
          1,
          1,
          1,
          1,
          1,
          1,
          1,
          1,
          1,
          1,
          1,
          1,
          1,
          1,
          1,
          1,
          1
         ]
        }
       ],
       "layout": {
        "annotations": [
         {
          "font": {
           "family": "sans-serif",
           "size": 10
          },
          "showarrow": false,
          "text": "Source: <a href=\"https://data.worldbank.org/\">\nWorld Bank</a>",
          "x": 0.015,
          "y": 0
         }
        ],
        "autosize": false,
        "font": {
         "family": "sans-serif"
        },
        "geo": {
         "center": {
          "lat": 66.94878379497406,
          "lon": -109.01855285116554
         },
         "domain": {
          "x": [
           0,
           1
          ],
          "y": [
           0,
           1
          ]
         },
         "lataxis": {
          "range": [
           -55,
           90
          ]
         },
         "projection": {
          "rotation": {
           "lon": -109.01855285116554
          },
          "scale": 6.830541715129961
         },
         "showframe": true,
         "showlakes": false
        },
        "height": 400,
        "hoverlabel": {
         "bgcolor": "white",
         "font": {
          "family": "sans-serif",
          "size": 10
         }
        },
        "legend": {
         "bordercolor": "grey",
         "borderwidth": 0.5,
         "font": {
          "size": 10
         },
         "title": {
          "text": "Million people"
         },
         "tracegroupgap": 0,
         "x": 0.015,
         "y": 0.07
        },
        "margin": {
         "b": 20,
         "l": 20,
         "pad": 5,
         "r": 20,
         "t": 20
        },
        "template": {
         "data": {
          "bar": [
           {
            "error_x": {
             "color": "#2a3f5f"
            },
            "error_y": {
             "color": "#2a3f5f"
            },
            "marker": {
             "line": {
              "color": "#E5ECF6",
              "width": 0.5
             },
             "pattern": {
              "fillmode": "overlay",
              "size": 10,
              "solidity": 0.2
             }
            },
            "type": "bar"
           }
          ],
          "barpolar": [
           {
            "marker": {
             "line": {
              "color": "#E5ECF6",
              "width": 0.5
             },
             "pattern": {
              "fillmode": "overlay",
              "size": 10,
              "solidity": 0.2
             }
            },
            "type": "barpolar"
           }
          ],
          "carpet": [
           {
            "aaxis": {
             "endlinecolor": "#2a3f5f",
             "gridcolor": "white",
             "linecolor": "white",
             "minorgridcolor": "white",
             "startlinecolor": "#2a3f5f"
            },
            "baxis": {
             "endlinecolor": "#2a3f5f",
             "gridcolor": "white",
             "linecolor": "white",
             "minorgridcolor": "white",
             "startlinecolor": "#2a3f5f"
            },
            "type": "carpet"
           }
          ],
          "choropleth": [
           {
            "colorbar": {
             "outlinewidth": 0,
             "ticks": ""
            },
            "type": "choropleth"
           }
          ],
          "contour": [
           {
            "colorbar": {
             "outlinewidth": 0,
             "ticks": ""
            },
            "colorscale": [
             [
              0,
              "#0d0887"
             ],
             [
              0.1111111111111111,
              "#46039f"
             ],
             [
              0.2222222222222222,
              "#7201a8"
             ],
             [
              0.3333333333333333,
              "#9c179e"
             ],
             [
              0.4444444444444444,
              "#bd3786"
             ],
             [
              0.5555555555555556,
              "#d8576b"
             ],
             [
              0.6666666666666666,
              "#ed7953"
             ],
             [
              0.7777777777777778,
              "#fb9f3a"
             ],
             [
              0.8888888888888888,
              "#fdca26"
             ],
             [
              1,
              "#f0f921"
             ]
            ],
            "type": "contour"
           }
          ],
          "contourcarpet": [
           {
            "colorbar": {
             "outlinewidth": 0,
             "ticks": ""
            },
            "type": "contourcarpet"
           }
          ],
          "heatmap": [
           {
            "colorbar": {
             "outlinewidth": 0,
             "ticks": ""
            },
            "colorscale": [
             [
              0,
              "#0d0887"
             ],
             [
              0.1111111111111111,
              "#46039f"
             ],
             [
              0.2222222222222222,
              "#7201a8"
             ],
             [
              0.3333333333333333,
              "#9c179e"
             ],
             [
              0.4444444444444444,
              "#bd3786"
             ],
             [
              0.5555555555555556,
              "#d8576b"
             ],
             [
              0.6666666666666666,
              "#ed7953"
             ],
             [
              0.7777777777777778,
              "#fb9f3a"
             ],
             [
              0.8888888888888888,
              "#fdca26"
             ],
             [
              1,
              "#f0f921"
             ]
            ],
            "type": "heatmap"
           }
          ],
          "heatmapgl": [
           {
            "colorbar": {
             "outlinewidth": 0,
             "ticks": ""
            },
            "colorscale": [
             [
              0,
              "#0d0887"
             ],
             [
              0.1111111111111111,
              "#46039f"
             ],
             [
              0.2222222222222222,
              "#7201a8"
             ],
             [
              0.3333333333333333,
              "#9c179e"
             ],
             [
              0.4444444444444444,
              "#bd3786"
             ],
             [
              0.5555555555555556,
              "#d8576b"
             ],
             [
              0.6666666666666666,
              "#ed7953"
             ],
             [
              0.7777777777777778,
              "#fb9f3a"
             ],
             [
              0.8888888888888888,
              "#fdca26"
             ],
             [
              1,
              "#f0f921"
             ]
            ],
            "type": "heatmapgl"
           }
          ],
          "histogram": [
           {
            "marker": {
             "pattern": {
              "fillmode": "overlay",
              "size": 10,
              "solidity": 0.2
             }
            },
            "type": "histogram"
           }
          ],
          "histogram2d": [
           {
            "colorbar": {
             "outlinewidth": 0,
             "ticks": ""
            },
            "colorscale": [
             [
              0,
              "#0d0887"
             ],
             [
              0.1111111111111111,
              "#46039f"
             ],
             [
              0.2222222222222222,
              "#7201a8"
             ],
             [
              0.3333333333333333,
              "#9c179e"
             ],
             [
              0.4444444444444444,
              "#bd3786"
             ],
             [
              0.5555555555555556,
              "#d8576b"
             ],
             [
              0.6666666666666666,
              "#ed7953"
             ],
             [
              0.7777777777777778,
              "#fb9f3a"
             ],
             [
              0.8888888888888888,
              "#fdca26"
             ],
             [
              1,
              "#f0f921"
             ]
            ],
            "type": "histogram2d"
           }
          ],
          "histogram2dcontour": [
           {
            "colorbar": {
             "outlinewidth": 0,
             "ticks": ""
            },
            "colorscale": [
             [
              0,
              "#0d0887"
             ],
             [
              0.1111111111111111,
              "#46039f"
             ],
             [
              0.2222222222222222,
              "#7201a8"
             ],
             [
              0.3333333333333333,
              "#9c179e"
             ],
             [
              0.4444444444444444,
              "#bd3786"
             ],
             [
              0.5555555555555556,
              "#d8576b"
             ],
             [
              0.6666666666666666,
              "#ed7953"
             ],
             [
              0.7777777777777778,
              "#fb9f3a"
             ],
             [
              0.8888888888888888,
              "#fdca26"
             ],
             [
              1,
              "#f0f921"
             ]
            ],
            "type": "histogram2dcontour"
           }
          ],
          "mesh3d": [
           {
            "colorbar": {
             "outlinewidth": 0,
             "ticks": ""
            },
            "type": "mesh3d"
           }
          ],
          "parcoords": [
           {
            "line": {
             "colorbar": {
              "outlinewidth": 0,
              "ticks": ""
             }
            },
            "type": "parcoords"
           }
          ],
          "pie": [
           {
            "automargin": true,
            "type": "pie"
           }
          ],
          "scatter": [
           {
            "marker": {
             "colorbar": {
              "outlinewidth": 0,
              "ticks": ""
             }
            },
            "type": "scatter"
           }
          ],
          "scatter3d": [
           {
            "line": {
             "colorbar": {
              "outlinewidth": 0,
              "ticks": ""
             }
            },
            "marker": {
             "colorbar": {
              "outlinewidth": 0,
              "ticks": ""
             }
            },
            "type": "scatter3d"
           }
          ],
          "scattercarpet": [
           {
            "marker": {
             "colorbar": {
              "outlinewidth": 0,
              "ticks": ""
             }
            },
            "type": "scattercarpet"
           }
          ],
          "scattergeo": [
           {
            "marker": {
             "colorbar": {
              "outlinewidth": 0,
              "ticks": ""
             }
            },
            "type": "scattergeo"
           }
          ],
          "scattergl": [
           {
            "marker": {
             "colorbar": {
              "outlinewidth": 0,
              "ticks": ""
             }
            },
            "type": "scattergl"
           }
          ],
          "scattermapbox": [
           {
            "marker": {
             "colorbar": {
              "outlinewidth": 0,
              "ticks": ""
             }
            },
            "type": "scattermapbox"
           }
          ],
          "scatterpolar": [
           {
            "marker": {
             "colorbar": {
              "outlinewidth": 0,
              "ticks": ""
             }
            },
            "type": "scatterpolar"
           }
          ],
          "scatterpolargl": [
           {
            "marker": {
             "colorbar": {
              "outlinewidth": 0,
              "ticks": ""
             }
            },
            "type": "scatterpolargl"
           }
          ],
          "scatterternary": [
           {
            "marker": {
             "colorbar": {
              "outlinewidth": 0,
              "ticks": ""
             }
            },
            "type": "scatterternary"
           }
          ],
          "surface": [
           {
            "colorbar": {
             "outlinewidth": 0,
             "ticks": ""
            },
            "colorscale": [
             [
              0,
              "#0d0887"
             ],
             [
              0.1111111111111111,
              "#46039f"
             ],
             [
              0.2222222222222222,
              "#7201a8"
             ],
             [
              0.3333333333333333,
              "#9c179e"
             ],
             [
              0.4444444444444444,
              "#bd3786"
             ],
             [
              0.5555555555555556,
              "#d8576b"
             ],
             [
              0.6666666666666666,
              "#ed7953"
             ],
             [
              0.7777777777777778,
              "#fb9f3a"
             ],
             [
              0.8888888888888888,
              "#fdca26"
             ],
             [
              1,
              "#f0f921"
             ]
            ],
            "type": "surface"
           }
          ],
          "table": [
           {
            "cells": {
             "fill": {
              "color": "#EBF0F8"
             },
             "line": {
              "color": "white"
             }
            },
            "header": {
             "fill": {
              "color": "#C8D4E3"
             },
             "line": {
              "color": "white"
             }
            },
            "type": "table"
           }
          ]
         },
         "layout": {
          "annotationdefaults": {
           "arrowcolor": "#2a3f5f",
           "arrowhead": 0,
           "arrowwidth": 1
          },
          "autotypenumbers": "strict",
          "coloraxis": {
           "colorbar": {
            "outlinewidth": 0,
            "ticks": ""
           }
          },
          "colorscale": {
           "diverging": [
            [
             0,
             "#8e0152"
            ],
            [
             0.1,
             "#c51b7d"
            ],
            [
             0.2,
             "#de77ae"
            ],
            [
             0.3,
             "#f1b6da"
            ],
            [
             0.4,
             "#fde0ef"
            ],
            [
             0.5,
             "#f7f7f7"
            ],
            [
             0.6,
             "#e6f5d0"
            ],
            [
             0.7,
             "#b8e186"
            ],
            [
             0.8,
             "#7fbc41"
            ],
            [
             0.9,
             "#4d9221"
            ],
            [
             1,
             "#276419"
            ]
           ],
           "sequential": [
            [
             0,
             "#0d0887"
            ],
            [
             0.1111111111111111,
             "#46039f"
            ],
            [
             0.2222222222222222,
             "#7201a8"
            ],
            [
             0.3333333333333333,
             "#9c179e"
            ],
            [
             0.4444444444444444,
             "#bd3786"
            ],
            [
             0.5555555555555556,
             "#d8576b"
            ],
            [
             0.6666666666666666,
             "#ed7953"
            ],
            [
             0.7777777777777778,
             "#fb9f3a"
            ],
            [
             0.8888888888888888,
             "#fdca26"
            ],
            [
             1,
             "#f0f921"
            ]
           ],
           "sequentialminus": [
            [
             0,
             "#0d0887"
            ],
            [
             0.1111111111111111,
             "#46039f"
            ],
            [
             0.2222222222222222,
             "#7201a8"
            ],
            [
             0.3333333333333333,
             "#9c179e"
            ],
            [
             0.4444444444444444,
             "#bd3786"
            ],
            [
             0.5555555555555556,
             "#d8576b"
            ],
            [
             0.6666666666666666,
             "#ed7953"
            ],
            [
             0.7777777777777778,
             "#fb9f3a"
            ],
            [
             0.8888888888888888,
             "#fdca26"
            ],
            [
             1,
             "#f0f921"
            ]
           ]
          },
          "colorway": [
           "#636efa",
           "#EF553B",
           "#00cc96",
           "#ab63fa",
           "#FFA15A",
           "#19d3f3",
           "#FF6692",
           "#B6E880",
           "#FF97FF",
           "#FECB52"
          ],
          "font": {
           "color": "#2a3f5f"
          },
          "geo": {
           "bgcolor": "white",
           "lakecolor": "white",
           "landcolor": "#E5ECF6",
           "showlakes": true,
           "showland": true,
           "subunitcolor": "white"
          },
          "hoverlabel": {
           "align": "left"
          },
          "hovermode": "closest",
          "mapbox": {
           "style": "light"
          },
          "paper_bgcolor": "white",
          "plot_bgcolor": "#E5ECF6",
          "polar": {
           "angularaxis": {
            "gridcolor": "white",
            "linecolor": "white",
            "ticks": ""
           },
           "bgcolor": "#E5ECF6",
           "radialaxis": {
            "gridcolor": "white",
            "linecolor": "white",
            "ticks": ""
           }
          },
          "scene": {
           "xaxis": {
            "backgroundcolor": "#E5ECF6",
            "gridcolor": "white",
            "gridwidth": 2,
            "linecolor": "white",
            "showbackground": true,
            "ticks": "",
            "zerolinecolor": "white"
           },
           "yaxis": {
            "backgroundcolor": "#E5ECF6",
            "gridcolor": "white",
            "gridwidth": 2,
            "linecolor": "white",
            "showbackground": true,
            "ticks": "",
            "zerolinecolor": "white"
           },
           "zaxis": {
            "backgroundcolor": "#E5ECF6",
            "gridcolor": "white",
            "gridwidth": 2,
            "linecolor": "white",
            "showbackground": true,
            "ticks": "",
            "zerolinecolor": "white"
           }
          },
          "shapedefaults": {
           "line": {
            "color": "#2a3f5f"
           }
          },
          "ternary": {
           "aaxis": {
            "gridcolor": "white",
            "linecolor": "white",
            "ticks": ""
           },
           "baxis": {
            "gridcolor": "white",
            "linecolor": "white",
            "ticks": ""
           },
           "bgcolor": "#E5ECF6",
           "caxis": {
            "gridcolor": "white",
            "linecolor": "white",
            "ticks": ""
           }
          },
          "title": {
           "x": 0.05
          },
          "xaxis": {
           "automargin": true,
           "gridcolor": "white",
           "linecolor": "white",
           "ticks": "",
           "title": {
            "standoff": 15
           },
           "zerolinecolor": "white",
           "zerolinewidth": 2
          },
          "yaxis": {
           "automargin": true,
           "gridcolor": "white",
           "linecolor": "white",
           "ticks": "",
           "title": {
            "standoff": 15
           },
           "zerolinecolor": "white",
           "zerolinewidth": 2
          }
         }
        },
        "title": {
         "font": {
          "family": "sans-serif"
         },
         "text": "World Population (2020)",
         "x": 0.5,
         "xanchor": "center",
         "y": 0.95,
         "yanchor": "top"
        },
        "width": 800
       }
      },
      "image/png": "[encoded data removed]",
      "text/html": [
       "<div>                            <div id=\"2fba3f3b-2ffc-426a-aeba-9a2122ed85e6\" class=\"plotly-graph-div\" style=\"height:400px; width:800px;\"></div>            <script type=\"text/javascript\">                require([\"plotly\"], function(Plotly) {                    window.PLOTLYENV=window.PLOTLYENV || {};                                    if (document.getElementById(\"2fba3f3b-2ffc-426a-aeba-9a2122ed85e6\")) {                    Plotly.newPlot(                        \"2fba3f3b-2ffc-426a-aeba-9a2122ed85e6\",                        [{\"colorscale\":[[0.0,\"rgb(8,48,107)\"],[1.0,\"rgb(8,48,107)\"]],\"customdata\":[[\"1,402,112,000\",\"China\",\"> 250\"],[\"273,523,621\",\"Indonesia\",\"> 250\"],[\"1,380,004,385\",\"India\",\"> 250\"],[\"329,484,123\",\"United States of America\",\"> 250\"]],\"geo\":\"geo\",\"hovertemplate\":\"<b>%{hovertext}</b><br><br>Population=%{customdata[0]}<extra></extra>\",\"hovertext\":[\"China\",\"Indonesia\",\"India\",\"United States of America\"],\"locationmode\":\"country names\",\"locations\":[\"China\",\"Indonesia\",\"India\",\"United States of America\"],\"name\":\"> 250\",\"showlegend\":true,\"showscale\":false,\"type\":\"choropleth\",\"z\":[1,1,1,1]},{\"colorscale\":[[0.0,\"rgb(33,113,181)\"],[1.0,\"rgb(33,113,181)\"]],\"customdata\":[[\"206,139,587\",\"Nigeria\",\"150 - 250\"],[\"212,559,409\",\"Brazil\",\"150 - 250\"],[\"220,892,331\",\"Pakistan\",\"150 - 250\"],[\"164,689,383\",\"Bangladesh\",\"150 - 250\"]],\"geo\":\"geo\",\"hovertemplate\":\"<b>%{hovertext}</b><br><br>Population=%{customdata[0]}<extra></extra>\",\"hovertext\":[\"Nigeria\",\"Brazil\",\"Pakistan\",\"Bangladesh\"],\"locationmode\":\"country names\",\"locations\":[\"Nigeria\",\"Brazil\",\"Pakistan\",\"Bangladesh\"],\"name\":\"150 - 250\",\"showlegend\":true,\"showscale\":false,\"type\":\"choropleth\",\"z\":[1,1,1,1]},{\"colorscale\":[[0.0,\"rgb(66,146,198)\"],[1.0,\"rgb(66,146,198)\"]],\"customdata\":[[\"128,932,753\",\"Mexico\",\"100 - 150\"],[\"125,836,021\",\"Japan\",\"100 - 150\"],[\"109,581,085\",\"Philippines\",\"100 - 150\"],[\"102,334,403\",\"Egypt\",\"100 - 150\"],[\"114,963,583\",\"Ethiopia\",\"100 - 150\"],[\"144,104,080\",\"Russian Federation\",\"100 - 150\"]],\"geo\":\"geo\",\"hovertemplate\":\"<b>%{hovertext}</b><br><br>Population=%{customdata[0]}<extra></extra>\",\"hovertext\":[\"Mexico\",\"Japan\",\"Philippines\",\"Egypt\",\"Ethiopia\",\"Russian Federation\"],\"locationmode\":\"country names\",\"locations\":[\"Mexico\",\"Japan\",\"Philippines\",\"Egypt\",\"Ethiopia\",\"Russian Federation\"],\"name\":\"100 - 150\",\"showlegend\":true,\"showscale\":false,\"type\":\"choropleth\",\"z\":[1,1,1,1,1,1]},{\"colorscale\":[[0.0,\"rgb(158,202,225)\"],[1.0,\"rgb(158,202,225)\"]],\"customdata\":[[\"83,240,525\",\"Germany\",\"70 - 100\"],[\"97,338,583\",\"Viet Nam\",\"70 - 100\"],[\"89,561,404\",\"Democratic Republic of the Congo\",\"70 - 100\"],[\"84,339,067\",\"Turkey\",\"70 - 100\"],[\"83,992,953\",\"Iran (Islamic Republic of)\",\"70 - 100\"]],\"geo\":\"geo\",\"hovertemplate\":\"<b>%{hovertext}</b><br><br>Population=%{customdata[0]}<extra></extra>\",\"hovertext\":[\"Germany\",\"Viet Nam\",\"Democratic Republic of the Congo\",\"Turkey\",\"Iran (Islamic Republic of)\"],\"locationmode\":\"country names\",\"locations\":[\"Germany\",\"Viet Nam\",\"Democratic Republic of the Congo\",\"Turkey\",\"Iran (Islamic Republic of)\"],\"name\":\"70 - 100\",\"showlegend\":true,\"showscale\":false,\"type\":\"choropleth\",\"z\":[1,1,1,1,1]},{\"colorscale\":[[0.0,\"rgb(222,235,247)\"],[1.0,\"rgb(222,235,247)\"]],\"customdata\":[[\"18,092\",\"Palau\",\"< 70\"],[\"10,305,564\",\"Portugal\",\"< 70\"],[\"7,132,530\",\"Paraguay\",\"< 70\"],[\"6,624,554\",\"Nicaragua\",\"< 70\"],[\"17,441,139\",\"Netherlands\",\"< 70\"],[\"5,379,475\",\"Norway\",\"< 70\"],[\"10,834\",\"Nauru\",\"< 70\"],[\"29,136,808\",\"Nepal\",\"< 70\"],[\"8,947,027\",\"Papua New Guinea\",\"< 70\"],[\"5,084,300\",\"New Zealand\",\"< 70\"],[\"5,106,622\",\"Oman\",\"< 70\"],[\"25,778,815\",\"Democratic People's Republic of Korea\",\"< 70\"],[\"3,194,034\",\"Puerto Rico\",\"< 70\"],[\"24,206,636\",\"Niger\",\"< 70\"],[\"32,971,846\",\"Peru\",\"< 70\"],[\"37,950,802\",\"Poland\",\"< 70\"],[\"4,314,768\",\"Panama\",\"< 70\"],[\"32,365,998\",\"Malaysia\",\"< 70\"],[\"271,960\",\"New Caledonia\",\"< 70\"],[\"2,540,916\",\"Namibia\",\"< 70\"],[\"1,901,548\",\"Latvia\",\"< 70\"],[\"649,342\",\"China, Macao Special Administrative Region\",\"< 70\"],[\"38,659\",\"Saint Martin (French Part)\",\"< 70\"],[\"36,910,558\",\"Morocco\",\"< 70\"],[\"39,244\",\"Monaco\",\"< 70\"],[\"2,617,820\",\"Republic of Moldova\",\"< 70\"],[\"27,691,019\",\"Madagascar\",\"< 70\"],[\"540,542\",\"Maldives\",\"< 70\"],[\"59,194\",\"Marshall Islands\",\"< 70\"],[\"2,083,380\",\"The former Yugoslav Republic of Macedonia\",\"< 70\"],[\"20,250,834\",\"Mali\",\"< 70\"],[\"525,285\",\"Malta\",\"< 70\"],[\"54,409,794\",\"Myanmar\",\"< 70\"],[\"621,718\",\"Montenegro\",\"< 70\"],[\"3,278,292\",\"Mongolia\",\"< 70\"],[\"57,557\",\"Northern Mariana Islands\",\"< 70\"],[\"31,255,435\",\"Mozambique\",\"< 70\"],[\"4,649,660\",\"Mauritania\",\"< 70\"],[\"1,265,740\",\"Mauritius\",\"< 70\"],[\"19,129,955\",\"Malawi\",\"< 70\"],[\"280,904\",\"French Polynesia\",\"< 70\"],[\"4,803,269\",\"State of Palestine\",\"< 70\"],[\"106,766\",\"Aruba\",\"< 70\"],[\"2,881,060\",\"Qatar\",\"< 70\"],[\"3,473,727\",\"Uruguay\",\"< 70\"],[\"9,537,642\",\"Tajikistan\",\"< 70\"],[\"6,031,187\",\"Turkmenistan\",\"< 70\"],[\"1,318,442\",\"Timor-Leste\",\"< 70\"],[\"105,697\",\"Tonga\",\"< 70\"],[\"1,399,491\",\"Trinidad and Tobago\",\"< 70\"],[\"11,818,618\",\"Tunisia\",\"< 70\"],[\"11,792\",\"Tuvalu\",\"< 70\"],[\"59,734,213\",\"United Republic of Tanzania\",\"< 70\"],[\"45,741,000\",\"Uganda\",\"< 70\"],[\"44,134,693\",\"Ukraine\",\"< 70\"],[\"34,232,050\",\"Uzbekistan\",\"< 70\"],[\"8,278,737\",\"Togo\",\"< 70\"],[\"110,947\",\"Saint Vincent and the Grenadines\",\"< 70\"],[\"28,435,943\",\"Venezuela (Bolivarian Republic of)\",\"< 70\"],[\"30,237\",\"British Virgin Islands\",\"< 70\"],[\"106,290\",\"United States Virgin Islands\",\"< 70\"],[\"307,150\",\"Vanuatu\",\"< 70\"],[\"198,410\",\"Samoa\",\"< 70\"],[\"1,775,378\",\"Kosovo\",\"< 70\"],[\"29,825,968\",\"Yemen\",\"< 70\"],[\"59,308,690\",\"South Africa\",\"< 70\"],[\"18,383,956\",\"Zambia\",\"< 70\"],[\"69,799,978\",\"Thailand\",\"< 70\"],[\"16,425,859\",\"Chad\",\"< 70\"],[\"19,286,123\",\"Romania\",\"< 70\"],[\"15,893,219\",\"Somalia\",\"< 70\"],[\"12,952,209\",\"Rwanda\",\"< 70\"],[\"2,794,700\",\"Lithuania\",\"< 70\"],[\"34,813,867\",\"Saudi Arabia\",\"< 70\"],[\"43,849,269\",\"Sudan\",\"< 70\"],[\"16,743,930\",\"Senegal\",\"< 70\"],[\"5,685,807\",\"Singapore\",\"< 70\"],[\"686,878\",\"Solomon Islands\",\"< 70\"],[\"7,976,985\",\"Sierra Leone\",\"< 70\"],[\"6,486,201\",\"El Salvador\",\"< 70\"],[\"33,938\",\"San Marino\",\"< 70\"],[\"6,908,224\",\"Serbia\",\"< 70\"],[\"38,718\",\"Turks and Caicos Islands\",\"< 70\"],[\"11,193,729\",\"South Sudan\",\"< 70\"],[\"219,161\",\"Sao Tome and Principe\",\"< 70\"],[\"586,634\",\"Suriname\",\"< 70\"],[\"5,458,827\",\"Slovakia\",\"< 70\"],[\"2,100,126\",\"Slovenia\",\"< 70\"],[\"10,353,442\",\"Sweden\",\"< 70\"],[\"1,160,164\",\"Eswatini\",\"< 70\"],[\"40,812\",\"Sint Maarten (Dutch part)\",\"< 70\"],[\"98,462\",\"Seychelles\",\"< 70\"],[\"17,500,657\",\"Syrian Arab Republic\",\"< 70\"],[\"632,275\",\"Luxembourg\",\"< 70\"],[\"5,057,677\",\"Liberia\",\"< 70\"],[\"2,142,252\",\"Lesotho\",\"< 70\"],[\"869,595\",\"Comoros\",\"< 70\"],[\"771,612\",\"Bhutan\",\"< 70\"],[\"2,351,625\",\"Botswana\",\"< 70\"],[\"4,829,764\",\"Central African Republic\",\"< 70\"],[\"38,005,238\",\"Canada\",\"< 70\"],[\"8,636,896\",\"Switzerland\",\"< 70\"],[\"19,116,209\",\"Chile\",\"< 70\"],[\"26,378,275\",\"C\\u00f4te d'Ivoire\",\"< 70\"],[\"26,545,864\",\"Cameroon\",\"< 70\"],[\"5,518,092\",\"Congo\",\"< 70\"],[\"50,882,884\",\"Colombia\",\"< 70\"],[\"555,988\",\"Cabo Verde\",\"< 70\"],[\"17,643,060\",\"Ecuador\",\"< 70\"],[\"5,094,114\",\"Costa Rica\",\"< 70\"],[\"11,326,616\",\"Cuba\",\"< 70\"],[\"155,014\",\"Cura\\u00e7ao\",\"< 70\"],[\"65,720\",\"Cayman Islands\",\"< 70\"],[\"1,207,361\",\"Cyprus\",\"< 70\"],[\"10,698,896\",\"Czechia\",\"< 70\"],[\"988,002\",\"Djibouti\",\"< 70\"],[\"71,991\",\"Dominica\",\"< 70\"],[\"5,831,404\",\"Denmark\",\"< 70\"],[\"10,847,904\",\"Dominican Republic\",\"< 70\"],[\"437,483\",\"Brunei Darussalam\",\"< 70\"],[\"287,371\",\"Barbados\",\"< 70\"],[\"11,673,029\",\"Bolivia (Plurinational State of)\",\"< 70\"],[\"63,903\",\"Bermuda\",\"< 70\"],[\"32,866,268\",\"Angola\",\"< 70\"],[\"2,837,743\",\"Albania\",\"< 70\"],[\"77,265\",\"Andorra\",\"< 70\"],[\"9,890,400\",\"United Arab Emirates\",\"< 70\"],[\"45,376,763\",\"Argentina\",\"< 70\"],[\"2,963,234\",\"Armenia\",\"< 70\"],[\"55,197\",\"American Samoa\",\"< 70\"],[\"97,928\",\"Antigua and Barbuda\",\"< 70\"],[\"25,687,041\",\"Australia\",\"< 70\"],[\"8,917,205\",\"Austria\",\"< 70\"],[\"10,110,116\",\"Azerbaijan\",\"< 70\"],[\"11,890,781\",\"Burundi\",\"< 70\"],[\"11,555,997\",\"Belgium\",\"< 70\"],[\"12,123,198\",\"Benin\",\"< 70\"],[\"20,903,278\",\"Burkina Faso\",\"< 70\"],[\"6,927,288\",\"Bulgaria\",\"< 70\"],[\"1,701,583\",\"Bahrain\",\"< 70\"],[\"393,248\",\"Bahamas\",\"< 70\"],[\"3,280,815\",\"Bosnia and Herzegovina\",\"< 70\"],[\"9,398,861\",\"Belarus\",\"< 70\"],[\"397,621\",\"Belize\",\"< 70\"],[\"43,851,043\",\"Algeria\",\"< 70\"],[\"47,351,567\",\"Spain\",\"< 70\"],[\"21,919,000\",\"Sri Lanka\",\"< 70\"],[\"6,591,600\",\"Kyrgyzstan\",\"< 70\"],[\"85,032\",\"Isle of Man\",\"< 70\"],[\"4,994,724\",\"Ireland\",\"< 70\"],[\"40,222,503\",\"Iraq\",\"< 70\"],[\"366,425\",\"Iceland\",\"< 70\"],[\"9,216,900\",\"Israel\",\"< 70\"],[\"59,554,023\",\"Italy\",\"< 70\"],[\"2,961,161\",\"Jamaica\",\"< 70\"],[\"10,203,140\",\"Jordan\",\"< 70\"],[\"18,754,440\",\"Kazakhstan\",\"< 70\"],[\"53,771,300\",\"Kenya\",\"< 70\"],[\"16,718,971\",\"Cambodia\",\"< 70\"],[\"1,331,057\",\"Estonia\",\"< 70\"],[\"119,446\",\"Kiribati\",\"< 70\"],[\"53,192\",\"Saint Kitts and Nevis\",\"< 70\"],[\"51,780,579\",\"Republic of Korea\",\"< 70\"],[\"4,270,563\",\"Kuwait\",\"< 70\"],[\"7,275,556\",\"Lao People's Democratic Republic\",\"< 70\"],[\"6,825,442\",\"Lebanon\",\"< 70\"],[\"38,928,341\",\"Afghanistan\",\"< 70\"],[\"6,871,287\",\"Libya\",\"< 70\"],[\"183,629\",\"Saint Lucia\",\"< 70\"],[\"38,137\",\"Liechtenstein\",\"< 70\"],[\"9,749,763\",\"Hungary\",\"< 70\"],[\"11,402,533\",\"Haiti\",\"< 70\"],[\"4,047,200\",\"Croatia\",\"< 70\"],[\"9,904,608\",\"Honduras\",\"< 70\"],[\"5,530,719\",\"Finland\",\"< 70\"],[\"896,444\",\"Fiji\",\"< 70\"],[\"67,391,582\",\"France\",\"< 70\"],[\"48,865\",\"Faroe Islands\",\"< 70\"],[\"115,021\",\"Micronesia (Federated States of)\",\"< 70\"],[\"2,225,728\",\"Gabon\",\"< 70\"],[\"67,215,293\",\"United Kingdom of Great Britain and Northern Ireland\",\"< 70\"],[\"3,714,000\",\"Georgia\",\"< 70\"],[\"31,072,945\",\"Ghana\",\"< 70\"],[\"33,691\",\"Gibraltar\",\"< 70\"],[\"13,132,792\",\"Guinea\",\"< 70\"],[\"2,416,664\",\"Gambia\",\"< 70\"],[\"1,967,998\",\"Guinea-Bissau\",\"< 70\"],[\"1,402,985\",\"Equatorial Guinea\",\"< 70\"],[\"10,715,549\",\"Greece\",\"< 70\"],[\"112,519\",\"Grenada\",\"< 70\"],[\"56,367\",\"Greenland\",\"< 70\"],[\"16,858,333\",\"Guatemala\",\"< 70\"],[\"168,783\",\"Guam\",\"< 70\"],[\"786,559\",\"Guyana\",\"< 70\"],[\"7,481,800\",\"China, Hong Kong Special Administrative Region\",\"< 70\"],[\"14,862,927\",\"Zimbabwe\",\"< 70\"]],\"geo\":\"geo\",\"hovertemplate\":\"<b>%{hovertext}</b><br><br>Population=%{customdata[0]}<extra></extra>\",\"hovertext\":[\"Palau\",\"Portugal\",\"Paraguay\",\"Nicaragua\",\"Netherlands\",\"Norway\",\"Nauru\",\"Nepal\",\"Papua New Guinea\",\"New Zealand\",\"Oman\",\"Democratic People's Republic of Korea\",\"Puerto Rico\",\"Niger\",\"Peru\",\"Poland\",\"Panama\",\"Malaysia\",\"New Caledonia\",\"Namibia\",\"Latvia\",\"China, Macao Special Administrative Region\",\"Saint Martin (French Part)\",\"Morocco\",\"Monaco\",\"Republic of Moldova\",\"Madagascar\",\"Maldives\",\"Marshall Islands\",\"The former Yugoslav Republic of Macedonia\",\"Mali\",\"Malta\",\"Myanmar\",\"Montenegro\",\"Mongolia\",\"Northern Mariana Islands\",\"Mozambique\",\"Mauritania\",\"Mauritius\",\"Malawi\",\"French Polynesia\",\"State of Palestine\",\"Aruba\",\"Qatar\",\"Uruguay\",\"Tajikistan\",\"Turkmenistan\",\"Timor-Leste\",\"Tonga\",\"Trinidad and Tobago\",\"Tunisia\",\"Tuvalu\",\"United Republic of Tanzania\",\"Uganda\",\"Ukraine\",\"Uzbekistan\",\"Togo\",\"Saint Vincent and the Grenadines\",\"Venezuela (Bolivarian Republic of)\",\"British Virgin Islands\",\"United States Virgin Islands\",\"Vanuatu\",\"Samoa\",\"Kosovo\",\"Yemen\",\"South Africa\",\"Zambia\",\"Thailand\",\"Chad\",\"Romania\",\"Somalia\",\"Rwanda\",\"Lithuania\",\"Saudi Arabia\",\"Sudan\",\"Senegal\",\"Singapore\",\"Solomon Islands\",\"Sierra Leone\",\"El Salvador\",\"San Marino\",\"Serbia\",\"Turks and Caicos Islands\",\"South Sudan\",\"Sao Tome and Principe\",\"Suriname\",\"Slovakia\",\"Slovenia\",\"Sweden\",\"Eswatini\",\"Sint Maarten (Dutch part)\",\"Seychelles\",\"Syrian Arab Republic\",\"Luxembourg\",\"Liberia\",\"Lesotho\",\"Comoros\",\"Bhutan\",\"Botswana\",\"Central African Republic\",\"Canada\",\"Switzerland\",\"Chile\",\"C\\u00f4te d'Ivoire\",\"Cameroon\",\"Congo\",\"Colombia\",\"Cabo Verde\",\"Ecuador\",\"Costa Rica\",\"Cuba\",\"Cura\\u00e7ao\",\"Cayman Islands\",\"Cyprus\",\"Czechia\",\"Djibouti\",\"Dominica\",\"Denmark\",\"Dominican Republic\",\"Brunei Darussalam\",\"Barbados\",\"Bolivia (Plurinational State of)\",\"Bermuda\",\"Angola\",\"Albania\",\"Andorra\",\"United Arab Emirates\",\"Argentina\",\"Armenia\",\"American Samoa\",\"Antigua and Barbuda\",\"Australia\",\"Austria\",\"Azerbaijan\",\"Burundi\",\"Belgium\",\"Benin\",\"Burkina Faso\",\"Bulgaria\",\"Bahrain\",\"Bahamas\",\"Bosnia and Herzegovina\",\"Belarus\",\"Belize\",\"Algeria\",\"Spain\",\"Sri Lanka\",\"Kyrgyzstan\",\"Isle of Man\",\"Ireland\",\"Iraq\",\"Iceland\",\"Israel\",\"Italy\",\"Jamaica\",\"Jordan\",\"Kazakhstan\",\"Kenya\",\"Cambodia\",\"Estonia\",\"Kiribati\",\"Saint Kitts and Nevis\",\"Republic of Korea\",\"Kuwait\",\"Lao People's Democratic Republic\",\"Lebanon\",\"Afghanistan\",\"Libya\",\"Saint Lucia\",\"Liechtenstein\",\"Hungary\",\"Haiti\",\"Croatia\",\"Honduras\",\"Finland\",\"Fiji\",\"France\",\"Faroe Islands\",\"Micronesia (Federated States of)\",\"Gabon\",\"United Kingdom of Great Britain and Northern Ireland\",\"Georgia\",\"Ghana\",\"Gibraltar\",\"Guinea\",\"Gambia\",\"Guinea-Bissau\",\"Equatorial Guinea\",\"Greece\",\"Grenada\",\"Greenland\",\"Guatemala\",\"Guam\",\"Guyana\",\"China, Hong Kong Special Administrative Region\",\"Zimbabwe\"],\"locationmode\":\"country names\",\"locations\":[\"Palau\",\"Portugal\",\"Paraguay\",\"Nicaragua\",\"Netherlands\",\"Norway\",\"Nauru\",\"Nepal\",\"Papua New Guinea\",\"New Zealand\",\"Oman\",\"Democratic People's Republic of Korea\",\"Puerto Rico\",\"Niger\",\"Peru\",\"Poland\",\"Panama\",\"Malaysia\",\"New Caledonia\",\"Namibia\",\"Latvia\",\"China, Macao Special Administrative Region\",\"Saint Martin (French Part)\",\"Morocco\",\"Monaco\",\"Republic of Moldova\",\"Madagascar\",\"Maldives\",\"Marshall Islands\",\"The former Yugoslav Republic of Macedonia\",\"Mali\",\"Malta\",\"Myanmar\",\"Montenegro\",\"Mongolia\",\"Northern Mariana Islands\",\"Mozambique\",\"Mauritania\",\"Mauritius\",\"Malawi\",\"French Polynesia\",\"State of Palestine\",\"Aruba\",\"Qatar\",\"Uruguay\",\"Tajikistan\",\"Turkmenistan\",\"Timor-Leste\",\"Tonga\",\"Trinidad and Tobago\",\"Tunisia\",\"Tuvalu\",\"United Republic of Tanzania\",\"Uganda\",\"Ukraine\",\"Uzbekistan\",\"Togo\",\"Saint Vincent and the Grenadines\",\"Venezuela (Bolivarian Republic of)\",\"British Virgin Islands\",\"United States Virgin Islands\",\"Vanuatu\",\"Samoa\",\"Kosovo\",\"Yemen\",\"South Africa\",\"Zambia\",\"Thailand\",\"Chad\",\"Romania\",\"Somalia\",\"Rwanda\",\"Lithuania\",\"Saudi Arabia\",\"Sudan\",\"Senegal\",\"Singapore\",\"Solomon Islands\",\"Sierra Leone\",\"El Salvador\",\"San Marino\",\"Serbia\",\"Turks and Caicos Islands\",\"South Sudan\",\"Sao Tome and Principe\",\"Suriname\",\"Slovakia\",\"Slovenia\",\"Sweden\",\"Eswatini\",\"Sint Maarten (Dutch part)\",\"Seychelles\",\"Syrian Arab Republic\",\"Luxembourg\",\"Liberia\",\"Lesotho\",\"Comoros\",\"Bhutan\",\"Botswana\",\"Central African Republic\",\"Canada\",\"Switzerland\",\"Chile\",\"C\\u00f4te d'Ivoire\",\"Cameroon\",\"Congo\",\"Colombia\",\"Cabo Verde\",\"Ecuador\",\"Costa Rica\",\"Cuba\",\"Cura\\u00e7ao\",\"Cayman Islands\",\"Cyprus\",\"Czechia\",\"Djibouti\",\"Dominica\",\"Denmark\",\"Dominican Republic\",\"Brunei Darussalam\",\"Barbados\",\"Bolivia (Plurinational State of)\",\"Bermuda\",\"Angola\",\"Albania\",\"Andorra\",\"United Arab Emirates\",\"Argentina\",\"Armenia\",\"American Samoa\",\"Antigua and Barbuda\",\"Australia\",\"Austria\",\"Azerbaijan\",\"Burundi\",\"Belgium\",\"Benin\",\"Burkina Faso\",\"Bulgaria\",\"Bahrain\",\"Bahamas\",\"Bosnia and Herzegovina\",\"Belarus\",\"Belize\",\"Algeria\",\"Spain\",\"Sri Lanka\",\"Kyrgyzstan\",\"Isle of Man\",\"Ireland\",\"Iraq\",\"Iceland\",\"Israel\",\"Italy\",\"Jamaica\",\"Jordan\",\"Kazakhstan\",\"Kenya\",\"Cambodia\",\"Estonia\",\"Kiribati\",\"Saint Kitts and Nevis\",\"Republic of Korea\",\"Kuwait\",\"Lao People's Democratic Republic\",\"Lebanon\",\"Afghanistan\",\"Libya\",\"Saint Lucia\",\"Liechtenstein\",\"Hungary\",\"Haiti\",\"Croatia\",\"Honduras\",\"Finland\",\"Fiji\",\"France\",\"Faroe Islands\",\"Micronesia (Federated States of)\",\"Gabon\",\"United Kingdom of Great Britain and Northern Ireland\",\"Georgia\",\"Ghana\",\"Gibraltar\",\"Guinea\",\"Gambia\",\"Guinea-Bissau\",\"Equatorial Guinea\",\"Greece\",\"Grenada\",\"Greenland\",\"Guatemala\",\"Guam\",\"Guyana\",\"China, Hong Kong Special Administrative Region\",\"Zimbabwe\"],\"name\":\"< 70\",\"showlegend\":true,\"showscale\":false,\"type\":\"choropleth\",\"z\":[1,1,1,1,1,1,1,1,1,1,1,1,1,1,1,1,1,1,1,1,1,1,1,1,1,1,1,1,1,1,1,1,1,1,1,1,1,1,1,1,1,1,1,1,1,1,1,1,1,1,1,1,1,1,1,1,1,1,1,1,1,1,1,1,1,1,1,1,1,1,1,1,1,1,1,1,1,1,1,1,1,1,1,1,1,1,1,1,1,1,1,1,1,1,1,1,1,1,1,1,1,1,1,1,1,1,1,1,1,1,1,1,1,1,1,1,1,1,1,1,1,1,1,1,1,1,1,1,1,1,1,1,1,1,1,1,1,1,1,1,1,1,1,1,1,1,1,1,1,1,1,1,1,1,1,1,1,1,1,1,1,1,1,1,1,1,1,1,1,1,1,1,1,1,1,1,1,1,1,1,1,1,1,1,1,1,1,1,1,1,1,1,1,1,1,1]},{\"colorscale\":[[0.0,\"grey\"],[1.0,\"grey\"]],\"customdata\":[[\"No data\",\"Anguilla\",\"No data\"],[\"No data\",\"\\u00c5land Islands\",\"No data\"],[\"No data\",\"Antarctica\",\"No data\"],[\"No data\",\"French Southern Territories\",\"No data\"],[\"No data\",\"Bonaire, Sint Eustatius and Saba\",\"No data\"],[\"No data\",\"Saint Barth\\u00e9lemy\",\"No data\"],[\"No data\",\"Bouvet Island\",\"No data\"],[\"No data\",\"Cocos (Keeling) Islands\",\"No data\"],[\"No data\",\"Cook Islands\",\"No data\"],[\"No data\",\"Christmas Island\",\"No data\"],[\"No data\",\"Eritrea\",\"No data\"],[\"No data\",\"Western Sahara\",\"No data\"],[\"No data\",\"Falkland Islands (Malvinas)\",\"No data\"],[\"No data\",\"Guernsey\",\"No data\"],[\"No data\",\"Guadeloupe\",\"No data\"],[\"No data\",\"French Guiana\",\"No data\"],[\"No data\",\"Heard Island and McDonald Islands\",\"No data\"],[\"No data\",\"British Indian Ocean Territory\",\"No data\"],[\"No data\",\"Jersey\",\"No data\"],[\"No data\",\"Montserrat\",\"No data\"],[\"No data\",\"Martinique\",\"No data\"],[\"No data\",\"Mayotte\",\"No data\"],[\"No data\",\"Norfolk Island\",\"No data\"],[\"No data\",\"Niue\",\"No data\"],[\"No data\",\"Pitcairn\",\"No data\"],[\"No data\",\"R\\u00e9union\",\"No data\"],[\"No data\",\"South Georgia and the South Sandwich Islands\",\"No data\"],[\"No data\",\"Saint Helena\",\"No data\"],[\"No data\",\"Svalbard and Jan Mayen Islands\",\"No data\"],[\"No data\",\"Saint Pierre and Miquelon\",\"No data\"],[\"No data\",\"Tokelau\",\"No data\"],[\"No data\",\"Taiwan\",\"No data\"],[\"No data\",\"United States Minor Outlying Islands\",\"No data\"],[\"No data\",\"Holy See\",\"No data\"],[\"No data\",\"Wallis and Futuna Islands\",\"No data\"]],\"geo\":\"geo\",\"hovertemplate\":\"<b>%{hovertext}</b><br><br>Population=%{customdata[0]}<extra></extra>\",\"hovertext\":[\"Anguilla\",\"\\u00c5land Islands\",\"Antarctica\",\"French Southern Territories\",\"Bonaire, Sint Eustatius and Saba\",\"Saint Barth\\u00e9lemy\",\"Bouvet Island\",\"Cocos (Keeling) Islands\",\"Cook Islands\",\"Christmas Island\",\"Eritrea\",\"Western Sahara\",\"Falkland Islands (Malvinas)\",\"Guernsey\",\"Guadeloupe\",\"French Guiana\",\"Heard Island and McDonald Islands\",\"British Indian Ocean Territory\",\"Jersey\",\"Montserrat\",\"Martinique\",\"Mayotte\",\"Norfolk Island\",\"Niue\",\"Pitcairn\",\"R\\u00e9union\",\"South Georgia and the South Sandwich Islands\",\"Saint Helena\",\"Svalbard and Jan Mayen Islands\",\"Saint Pierre and Miquelon\",\"Tokelau\",\"Taiwan\",\"United States Minor Outlying Islands\",\"Holy See\",\"Wallis and Futuna Islands\"],\"locationmode\":\"country names\",\"locations\":[\"Anguilla\",\"\\u00c5land Islands\",\"Antarctica\",\"French Southern Territories\",\"Bonaire, Sint Eustatius and Saba\",\"Saint Barth\\u00e9lemy\",\"Bouvet Island\",\"Cocos (Keeling) Islands\",\"Cook Islands\",\"Christmas Island\",\"Eritrea\",\"Western Sahara\",\"Falkland Islands (Malvinas)\",\"Guernsey\",\"Guadeloupe\",\"French Guiana\",\"Heard Island and McDonald Islands\",\"British Indian Ocean Territory\",\"Jersey\",\"Montserrat\",\"Martinique\",\"Mayotte\",\"Norfolk Island\",\"Niue\",\"Pitcairn\",\"R\\u00e9union\",\"South Georgia and the South Sandwich Islands\",\"Saint Helena\",\"Svalbard and Jan Mayen Islands\",\"Saint Pierre and Miquelon\",\"Tokelau\",\"Taiwan\",\"United States Minor Outlying Islands\",\"Holy See\",\"Wallis and Futuna Islands\"],\"name\":\"No data\",\"showlegend\":true,\"showscale\":false,\"type\":\"choropleth\",\"z\":[1,1,1,1,1,1,1,1,1,1,1,1,1,1,1,1,1,1,1,1,1,1,1,1,1,1,1,1,1,1,1,1,1,1,1]}],                        {\"annotations\":[{\"font\":{\"family\":\"sans-serif\",\"size\":10},\"showarrow\":false,\"text\":\"Source: <a href=\\\"https://data.worldbank.org/\\\">\\nWorld Bank</a>\",\"x\":0.015,\"y\":0}],\"autosize\":false,\"font\":{\"family\":\"sans-serif\"},\"geo\":{\"center\":{},\"domain\":{\"x\":[0.0,1.0],\"y\":[0.0,1.0]},\"lataxis\":{\"range\":[-55,90]},\"showframe\":true,\"showlakes\":false},\"height\":400,\"hoverlabel\":{\"bgcolor\":\"white\",\"font\":{\"family\":\"sans-serif\",\"size\":10}},\"legend\":{\"bordercolor\":\"grey\",\"borderwidth\":0.5,\"font\":{\"size\":10},\"title\":{\"text\":\"Million people\"},\"tracegroupgap\":0,\"x\":0.015,\"y\":0.07},\"margin\":{\"b\":20,\"l\":20,\"pad\":5,\"r\":20,\"t\":20},\"template\":{\"data\":{\"bar\":[{\"error_x\":{\"color\":\"#2a3f5f\"},\"error_y\":{\"color\":\"#2a3f5f\"},\"marker\":{\"line\":{\"color\":\"#E5ECF6\",\"width\":0.5},\"pattern\":{\"fillmode\":\"overlay\",\"size\":10,\"solidity\":0.2}},\"type\":\"bar\"}],\"barpolar\":[{\"marker\":{\"line\":{\"color\":\"#E5ECF6\",\"width\":0.5},\"pattern\":{\"fillmode\":\"overlay\",\"size\":10,\"solidity\":0.2}},\"type\":\"barpolar\"}],\"carpet\":[{\"aaxis\":{\"endlinecolor\":\"#2a3f5f\",\"gridcolor\":\"white\",\"linecolor\":\"white\",\"minorgridcolor\":\"white\",\"startlinecolor\":\"#2a3f5f\"},\"baxis\":{\"endlinecolor\":\"#2a3f5f\",\"gridcolor\":\"white\",\"linecolor\":\"white\",\"minorgridcolor\":\"white\",\"startlinecolor\":\"#2a3f5f\"},\"type\":\"carpet\"}],\"choropleth\":[{\"colorbar\":{\"outlinewidth\":0,\"ticks\":\"\"},\"type\":\"choropleth\"}],\"contour\":[{\"colorbar\":{\"outlinewidth\":0,\"ticks\":\"\"},\"colorscale\":[[0.0,\"#0d0887\"],[0.1111111111111111,\"#46039f\"],[0.2222222222222222,\"#7201a8\"],[0.3333333333333333,\"#9c179e\"],[0.4444444444444444,\"#bd3786\"],[0.5555555555555556,\"#d8576b\"],[0.6666666666666666,\"#ed7953\"],[0.7777777777777778,\"#fb9f3a\"],[0.8888888888888888,\"#fdca26\"],[1.0,\"#f0f921\"]],\"type\":\"contour\"}],\"contourcarpet\":[{\"colorbar\":{\"outlinewidth\":0,\"ticks\":\"\"},\"type\":\"contourcarpet\"}],\"heatmap\":[{\"colorbar\":{\"outlinewidth\":0,\"ticks\":\"\"},\"colorscale\":[[0.0,\"#0d0887\"],[0.1111111111111111,\"#46039f\"],[0.2222222222222222,\"#7201a8\"],[0.3333333333333333,\"#9c179e\"],[0.4444444444444444,\"#bd3786\"],[0.5555555555555556,\"#d8576b\"],[0.6666666666666666,\"#ed7953\"],[0.7777777777777778,\"#fb9f3a\"],[0.8888888888888888,\"#fdca26\"],[1.0,\"#f0f921\"]],\"type\":\"heatmap\"}],\"heatmapgl\":[{\"colorbar\":{\"outlinewidth\":0,\"ticks\":\"\"},\"colorscale\":[[0.0,\"#0d0887\"],[0.1111111111111111,\"#46039f\"],[0.2222222222222222,\"#7201a8\"],[0.3333333333333333,\"#9c179e\"],[0.4444444444444444,\"#bd3786\"],[0.5555555555555556,\"#d8576b\"],[0.6666666666666666,\"#ed7953\"],[0.7777777777777778,\"#fb9f3a\"],[0.8888888888888888,\"#fdca26\"],[1.0,\"#f0f921\"]],\"type\":\"heatmapgl\"}],\"histogram\":[{\"marker\":{\"pattern\":{\"fillmode\":\"overlay\",\"size\":10,\"solidity\":0.2}},\"type\":\"histogram\"}],\"histogram2d\":[{\"colorbar\":{\"outlinewidth\":0,\"ticks\":\"\"},\"colorscale\":[[0.0,\"#0d0887\"],[0.1111111111111111,\"#46039f\"],[0.2222222222222222,\"#7201a8\"],[0.3333333333333333,\"#9c179e\"],[0.4444444444444444,\"#bd3786\"],[0.5555555555555556,\"#d8576b\"],[0.6666666666666666,\"#ed7953\"],[0.7777777777777778,\"#fb9f3a\"],[0.8888888888888888,\"#fdca26\"],[1.0,\"#f0f921\"]],\"type\":\"histogram2d\"}],\"histogram2dcontour\":[{\"colorbar\":{\"outlinewidth\":0,\"ticks\":\"\"},\"colorscale\":[[0.0,\"#0d0887\"],[0.1111111111111111,\"#46039f\"],[0.2222222222222222,\"#7201a8\"],[0.3333333333333333,\"#9c179e\"],[0.4444444444444444,\"#bd3786\"],[0.5555555555555556,\"#d8576b\"],[0.6666666666666666,\"#ed7953\"],[0.7777777777777778,\"#fb9f3a\"],[0.8888888888888888,\"#fdca26\"],[1.0,\"#f0f921\"]],\"type\":\"histogram2dcontour\"}],\"mesh3d\":[{\"colorbar\":{\"outlinewidth\":0,\"ticks\":\"\"},\"type\":\"mesh3d\"}],\"parcoords\":[{\"line\":{\"colorbar\":{\"outlinewidth\":0,\"ticks\":\"\"}},\"type\":\"parcoords\"}],\"pie\":[{\"automargin\":true,\"type\":\"pie\"}],\"scatter\":[{\"marker\":{\"colorbar\":{\"outlinewidth\":0,\"ticks\":\"\"}},\"type\":\"scatter\"}],\"scatter3d\":[{\"line\":{\"colorbar\":{\"outlinewidth\":0,\"ticks\":\"\"}},\"marker\":{\"colorbar\":{\"outlinewidth\":0,\"ticks\":\"\"}},\"type\":\"scatter3d\"}],\"scattercarpet\":[{\"marker\":{\"colorbar\":{\"outlinewidth\":0,\"ticks\":\"\"}},\"type\":\"scattercarpet\"}],\"scattergeo\":[{\"marker\":{\"colorbar\":{\"outlinewidth\":0,\"ticks\":\"\"}},\"type\":\"scattergeo\"}],\"scattergl\":[{\"marker\":{\"colorbar\":{\"outlinewidth\":0,\"ticks\":\"\"}},\"type\":\"scattergl\"}],\"scattermapbox\":[{\"marker\":{\"colorbar\":{\"outlinewidth\":0,\"ticks\":\"\"}},\"type\":\"scattermapbox\"}],\"scatterpolar\":[{\"marker\":{\"colorbar\":{\"outlinewidth\":0,\"ticks\":\"\"}},\"type\":\"scatterpolar\"}],\"scatterpolargl\":[{\"marker\":{\"colorbar\":{\"outlinewidth\":0,\"ticks\":\"\"}},\"type\":\"scatterpolargl\"}],\"scatterternary\":[{\"marker\":{\"colorbar\":{\"outlinewidth\":0,\"ticks\":\"\"}},\"type\":\"scatterternary\"}],\"surface\":[{\"colorbar\":{\"outlinewidth\":0,\"ticks\":\"\"},\"colorscale\":[[0.0,\"#0d0887\"],[0.1111111111111111,\"#46039f\"],[0.2222222222222222,\"#7201a8\"],[0.3333333333333333,\"#9c179e\"],[0.4444444444444444,\"#bd3786\"],[0.5555555555555556,\"#d8576b\"],[0.6666666666666666,\"#ed7953\"],[0.7777777777777778,\"#fb9f3a\"],[0.8888888888888888,\"#fdca26\"],[1.0,\"#f0f921\"]],\"type\":\"surface\"}],\"table\":[{\"cells\":{\"fill\":{\"color\":\"#EBF0F8\"},\"line\":{\"color\":\"white\"}},\"header\":{\"fill\":{\"color\":\"#C8D4E3\"},\"line\":{\"color\":\"white\"}},\"type\":\"table\"}]},\"layout\":{\"annotationdefaults\":{\"arrowcolor\":\"#2a3f5f\",\"arrowhead\":0,\"arrowwidth\":1},\"autotypenumbers\":\"strict\",\"coloraxis\":{\"colorbar\":{\"outlinewidth\":0,\"ticks\":\"\"}},\"colorscale\":{\"diverging\":[[0,\"#8e0152\"],[0.1,\"#c51b7d\"],[0.2,\"#de77ae\"],[0.3,\"#f1b6da\"],[0.4,\"#fde0ef\"],[0.5,\"#f7f7f7\"],[0.6,\"#e6f5d0\"],[0.7,\"#b8e186\"],[0.8,\"#7fbc41\"],[0.9,\"#4d9221\"],[1,\"#276419\"]],\"sequential\":[[0.0,\"#0d0887\"],[0.1111111111111111,\"#46039f\"],[0.2222222222222222,\"#7201a8\"],[0.3333333333333333,\"#9c179e\"],[0.4444444444444444,\"#bd3786\"],[0.5555555555555556,\"#d8576b\"],[0.6666666666666666,\"#ed7953\"],[0.7777777777777778,\"#fb9f3a\"],[0.8888888888888888,\"#fdca26\"],[1.0,\"#f0f921\"]],\"sequentialminus\":[[0.0,\"#0d0887\"],[0.1111111111111111,\"#46039f\"],[0.2222222222222222,\"#7201a8\"],[0.3333333333333333,\"#9c179e\"],[0.4444444444444444,\"#bd3786\"],[0.5555555555555556,\"#d8576b\"],[0.6666666666666666,\"#ed7953\"],[0.7777777777777778,\"#fb9f3a\"],[0.8888888888888888,\"#fdca26\"],[1.0,\"#f0f921\"]]},\"colorway\":[\"#636efa\",\"#EF553B\",\"#00cc96\",\"#ab63fa\",\"#FFA15A\",\"#19d3f3\",\"#FF6692\",\"#B6E880\",\"#FF97FF\",\"#FECB52\"],\"font\":{\"color\":\"#2a3f5f\"},\"geo\":{\"bgcolor\":\"white\",\"lakecolor\":\"white\",\"landcolor\":\"#E5ECF6\",\"showlakes\":true,\"showland\":true,\"subunitcolor\":\"white\"},\"hoverlabel\":{\"align\":\"left\"},\"hovermode\":\"closest\",\"mapbox\":{\"style\":\"light\"},\"paper_bgcolor\":\"white\",\"plot_bgcolor\":\"#E5ECF6\",\"polar\":{\"angularaxis\":{\"gridcolor\":\"white\",\"linecolor\":\"white\",\"ticks\":\"\"},\"bgcolor\":\"#E5ECF6\",\"radialaxis\":{\"gridcolor\":\"white\",\"linecolor\":\"white\",\"ticks\":\"\"}},\"scene\":{\"xaxis\":{\"backgroundcolor\":\"#E5ECF6\",\"gridcolor\":\"white\",\"gridwidth\":2,\"linecolor\":\"white\",\"showbackground\":true,\"ticks\":\"\",\"zerolinecolor\":\"white\"},\"yaxis\":{\"backgroundcolor\":\"#E5ECF6\",\"gridcolor\":\"white\",\"gridwidth\":2,\"linecolor\":\"white\",\"showbackground\":true,\"ticks\":\"\",\"zerolinecolor\":\"white\"},\"zaxis\":{\"backgroundcolor\":\"#E5ECF6\",\"gridcolor\":\"white\",\"gridwidth\":2,\"linecolor\":\"white\",\"showbackground\":true,\"ticks\":\"\",\"zerolinecolor\":\"white\"}},\"shapedefaults\":{\"line\":{\"color\":\"#2a3f5f\"}},\"ternary\":{\"aaxis\":{\"gridcolor\":\"white\",\"linecolor\":\"white\",\"ticks\":\"\"},\"baxis\":{\"gridcolor\":\"white\",\"linecolor\":\"white\",\"ticks\":\"\"},\"bgcolor\":\"#E5ECF6\",\"caxis\":{\"gridcolor\":\"white\",\"linecolor\":\"white\",\"ticks\":\"\"}},\"title\":{\"x\":0.05},\"xaxis\":{\"automargin\":true,\"gridcolor\":\"white\",\"linecolor\":\"white\",\"ticks\":\"\",\"title\":{\"standoff\":15},\"zerolinecolor\":\"white\",\"zerolinewidth\":2},\"yaxis\":{\"automargin\":true,\"gridcolor\":\"white\",\"linecolor\":\"white\",\"ticks\":\"\",\"title\":{\"standoff\":15},\"zerolinecolor\":\"white\",\"zerolinewidth\":2}}},\"title\":{\"font\":{\"family\":\"sans-serif\"},\"text\":\"World Population (2020)\",\"x\":0.5,\"xanchor\":\"center\",\"y\":0.95,\"yanchor\":\"top\"},\"width\":800},                        {\"responsive\": true}                    ).then(function(){\n",
       "                            \n",
       "var gd = document.getElementById('2fba3f3b-2ffc-426a-aeba-9a2122ed85e6');\n",
       "var x = new MutationObserver(function (mutations, observer) {{\n",
       "        var display = window.getComputedStyle(gd).display;\n",
       "        if (!display || display === 'none') {{\n",
       "            console.log([gd, 'removed!']);\n",
       "            Plotly.purge(gd);\n",
       "            observer.disconnect();\n",
       "        }}\n",
       "}});\n",
       "\n",
       "// Listen for the removal of the full notebook cells\n",
       "var notebookContainer = gd.closest('#notebook-container');\n",
       "if (notebookContainer) {{\n",
       "    x.observe(notebookContainer, {childList: true});\n",
       "}}\n",
       "\n",
       "// Listen for the clearing of the current output cell\n",
       "var outputEl = gd.closest('.output');\n",
       "if (outputEl) {{\n",
       "    x.observe(outputEl, {childList: true});\n",
       "}}\n",
       "\n",
       "                        })                };                });            </script>        </div>"
      ]
     },
     "metadata": {},
     "output_type": "display_data"
    },
    {
     "data": {
      "application/vnd.plotly.v1+json": {
       "config": {
        "plotlyServerURL": "https://plot.ly"
       },
       "data": [
        {
         "colorscale": [
          [
           0,
           "rgb(8,48,107)"
          ],
          [
           1,
           "rgb(8,48,107)"
          ]
         ],
         "customdata": [
          [
           "69.1",
           "Cayman Islands",
           "> 30"
          ],
          [
           "100.7",
           "Gibraltar",
           "> 30"
          ],
          [
           "30.3",
           "United Arab Emirates",
           "> 30"
          ],
          [
           "95.7",
           "Palau",
           "> 30"
          ],
          [
           "32.1",
           "Curaçao",
           "> 30"
          ],
          [
           "30.0",
           "Faroe Islands",
           "> 30"
          ],
          [
           "39.5",
           "Panama",
           "> 30"
          ],
          [
           "63.3",
           "Tuvalu",
           "> 30"
          ],
          [
           "118.0",
           "Isle of Man",
           "> 30"
          ],
          [
           "31.5",
           "Kuwait",
           "> 30"
          ],
          [
           "114.2",
           "Malta",
           "> 30"
          ],
          [
           "43.7",
           "Qatar",
           "> 30"
          ],
          [
           "171.5",
           "Bermuda",
           "> 30"
          ],
          [
           "113.3",
           "Antigua and Barbuda",
           "> 30"
          ],
          [
           "109.4",
           "Bahamas",
           "> 30"
          ],
          [
           "1,686.1",
           "Marshall Islands",
           "> 30"
          ],
          [
           "40.2",
           "United States Virgin Islands",
           "> 30"
          ]
         ],
         "geo": "geo",
         "hovertemplate": "<b>%{hovertext}</b><br><br>GHG emissions per person=%{customdata[0]}<extra></extra>",
         "hovertext": [
          "Cayman Islands",
          "Gibraltar",
          "United Arab Emirates",
          "Palau",
          "Curaçao",
          "Faroe Islands",
          "Panama",
          "Tuvalu",
          "Isle of Man",
          "Kuwait",
          "Malta",
          "Qatar",
          "Bermuda",
          "Antigua and Barbuda",
          "Bahamas",
          "Marshall Islands",
          "United States Virgin Islands"
         ],
         "locationmode": "country names",
         "locations": [
          "Cayman Islands",
          "Gibraltar",
          "United Arab Emirates",
          "Palau",
          "Curaçao",
          "Faroe Islands",
          "Panama",
          "Tuvalu",
          "Isle of Man",
          "Kuwait",
          "Malta",
          "Qatar",
          "Bermuda",
          "Antigua and Barbuda",
          "Bahamas",
          "Marshall Islands",
          "United States Virgin Islands"
         ],
         "name": "> 30",
         "showlegend": true,
         "showscale": false,
         "type": "choropleth",
         "z": [
          1,
          1,
          1,
          1,
          1,
          1,
          1,
          1,
          1,
          1,
          1,
          1,
          1,
          1,
          1,
          1,
          1
         ]
        },
        {
         "colorscale": [
          [
           0,
           "rgb(33,113,181)"
          ],
          [
           1,
           "rgb(33,113,181)"
          ]
         ],
         "customdata": [
          [
           "24.7",
           "Oman",
           "20 - 30"
          ],
          [
           "27.8",
           "Singapore",
           "20 - 30"
          ],
          [
           "23.8",
           "Liberia",
           "20 - 30"
          ],
          [
           "20.1",
           "Luxembourg",
           "20 - 30"
          ],
          [
           "20.1",
           "New Caledonia",
           "20 - 30"
          ],
          [
           "21.7",
           "Mongolia",
           "20 - 30"
          ],
          [
           "24.7",
           "Cyprus",
           "20 - 30"
          ],
          [
           "25.0",
           "Trinidad and Tobago",
           "20 - 30"
          ],
          [
           "24.5",
           "Australia",
           "20 - 30"
          ],
          [
           "21.9",
           "Saudi Arabia",
           "20 - 30"
          ],
          [
           "20.2",
           "Canada",
           "20 - 30"
          ],
          [
           "24.9",
           "Bahrain",
           "20 - 30"
          ]
         ],
         "geo": "geo",
         "hovertemplate": "<b>%{hovertext}</b><br><br>GHG emissions per person=%{customdata[0]}<extra></extra>",
         "hovertext": [
          "Oman",
          "Singapore",
          "Liberia",
          "Luxembourg",
          "New Caledonia",
          "Mongolia",
          "Cyprus",
          "Trinidad and Tobago",
          "Australia",
          "Saudi Arabia",
          "Canada",
          "Bahrain"
         ],
         "locationmode": "country names",
         "locations": [
          "Oman",
          "Singapore",
          "Liberia",
          "Luxembourg",
          "New Caledonia",
          "Mongolia",
          "Cyprus",
          "Trinidad and Tobago",
          "Australia",
          "Saudi Arabia",
          "Canada",
          "Bahrain"
         ],
         "name": "20 - 30",
         "showlegend": true,
         "showscale": false,
         "type": "choropleth",
         "z": [
          1,
          1,
          1,
          1,
          1,
          1,
          1,
          1,
          1,
          1,
          1,
          1
         ]
        },
        {
         "colorscale": [
          [
           0,
           "rgb(66,146,198)"
          ],
          [
           1,
           "rgb(66,146,198)"
          ]
         ],
         "customdata": [
          [
           "10.9",
           "Malaysia",
           "10 - 20"
          ],
          [
           "10.8",
           "Belgium",
           "10 - 20"
          ],
          [
           "10.9",
           "Czechia",
           "10 - 20"
          ],
          [
           "10.1",
           "Germany",
           "10 - 20"
          ],
          [
           "12.1",
           "Belarus",
           "10 - 20"
          ],
          [
           "14.4",
           "Guyana",
           "10 - 20"
          ],
          [
           "11.3",
           "Guam",
           "10 - 20"
          ],
          [
           "11.7",
           "Denmark",
           "10 - 20"
          ],
          [
           "16.6",
           "Turkmenistan",
           "10 - 20"
          ],
          [
           "12.5",
           "Uruguay",
           "10 - 20"
          ],
          [
           "18.0",
           "Norway",
           "10 - 20"
          ],
          [
           "18.8",
           "United States of America",
           "10 - 20"
          ],
          [
           "16.9",
           "Russian Federation",
           "10 - 20"
          ],
          [
           "16.9",
           "New Zealand",
           "10 - 20"
          ],
          [
           "17.0",
           "Estonia",
           "10 - 20"
          ],
          [
           "10.5",
           "Japan",
           "10 - 20"
          ],
          [
           "13.6",
           "Republic of Korea",
           "10 - 20"
          ],
          [
           "19.4",
           "China, Hong Kong Special Administrative Region",
           "10 - 20"
          ],
          [
           "12.4",
           "Netherlands",
           "10 - 20"
          ],
          [
           "12.9",
           "Barbados",
           "10 - 20"
          ],
          [
           "16.2",
           "Saint Vincent and the Grenadines",
           "10 - 20"
          ],
          [
           "11.1",
           "Poland",
           "10 - 20"
          ],
          [
           "15.9",
           "Kazakhstan",
           "10 - 20"
          ],
          [
           "10.8",
           "Belize",
           "10 - 20"
          ],
          [
           "13.8",
           "Finland",
           "10 - 20"
          ],
          [
           "16.7",
           "Seychelles",
           "10 - 20"
          ],
          [
           "12.6",
           "Ireland",
           "10 - 20"
          ],
          [
           "15.3",
           "Iceland",
           "10 - 20"
          ],
          [
           "16.5",
           "Brunei Darussalam",
           "10 - 20"
          ],
          [
           "13.4",
           "Aruba",
           "10 - 20"
          ],
          [
           "13.6",
           "Saint Kitts and Nevis",
           "10 - 20"
          ]
         ],
         "geo": "geo",
         "hovertemplate": "<b>%{hovertext}</b><br><br>GHG emissions per person=%{customdata[0]}<extra></extra>",
         "hovertext": [
          "Malaysia",
          "Belgium",
          "Czechia",
          "Germany",
          "Belarus",
          "Guyana",
          "Guam",
          "Denmark",
          "Turkmenistan",
          "Uruguay",
          "Norway",
          "United States of America",
          "Russian Federation",
          "New Zealand",
          "Estonia",
          "Japan",
          "Republic of Korea",
          "China, Hong Kong Special Administrative Region",
          "Netherlands",
          "Barbados",
          "Saint Vincent and the Grenadines",
          "Poland",
          "Kazakhstan",
          "Belize",
          "Finland",
          "Seychelles",
          "Ireland",
          "Iceland",
          "Brunei Darussalam",
          "Aruba",
          "Saint Kitts and Nevis"
         ],
         "locationmode": "country names",
         "locations": [
          "Malaysia",
          "Belgium",
          "Czechia",
          "Germany",
          "Belarus",
          "Guyana",
          "Guam",
          "Denmark",
          "Turkmenistan",
          "Uruguay",
          "Norway",
          "United States of America",
          "Russian Federation",
          "New Zealand",
          "Estonia",
          "Japan",
          "Republic of Korea",
          "China, Hong Kong Special Administrative Region",
          "Netherlands",
          "Barbados",
          "Saint Vincent and the Grenadines",
          "Poland",
          "Kazakhstan",
          "Belize",
          "Finland",
          "Seychelles",
          "Ireland",
          "Iceland",
          "Brunei Darussalam",
          "Aruba",
          "Saint Kitts and Nevis"
         ],
         "name": "10 - 20",
         "showlegend": true,
         "showscale": false,
         "type": "choropleth",
         "z": [
          1,
          1,
          1,
          1,
          1,
          1,
          1,
          1,
          1,
          1,
          1,
          1,
          1,
          1,
          1,
          1,
          1,
          1,
          1,
          1,
          1,
          1,
          1,
          1,
          1,
          1,
          1,
          1,
          1,
          1,
          1
         ]
        },
        {
         "colorscale": [
          [
           0,
           "rgb(158,202,225)"
          ],
          [
           1,
           "rgb(158,202,225)"
          ]
         ],
         "customdata": [
          [
           "7.5",
           "Slovakia",
           "5 - 10"
          ],
          [
           "5.6",
           "Lao People's Democratic Republic",
           "5 - 10"
          ],
          [
           "6.1",
           "Paraguay",
           "5 - 10"
          ],
          [
           "5.6",
           "Serbia",
           "5 - 10"
          ],
          [
           "8.8",
           "Bosnia and Herzegovina",
           "5 - 10"
          ],
          [
           "7.2",
           "Equatorial Guinea",
           "5 - 10"
          ],
          [
           "9.9",
           "Lithuania",
           "5 - 10"
          ],
          [
           "6.5",
           "Croatia",
           "5 - 10"
          ],
          [
           "7.0",
           "Puerto Rico",
           "5 - 10"
          ],
          [
           "9.0",
           "Slovenia",
           "5 - 10"
          ],
          [
           "7.7",
           "Latvia",
           "5 - 10"
          ],
          [
           "5.4",
           "Botswana",
           "5 - 10"
          ],
          [
           "7.9",
           "Bulgaria",
           "5 - 10"
          ],
          [
           "8.1",
           "Suriname",
           "5 - 10"
          ],
          [
           "5.3",
           "Vanuatu",
           "5 - 10"
          ],
          [
           "9.9",
           "Greenland",
           "5 - 10"
          ],
          [
           "7.1",
           "Dominica",
           "5 - 10"
          ],
          [
           "8.0",
           "Northern Mariana Islands",
           "5 - 10"
          ],
          [
           "10.0",
           "Sint Maarten (Dutch part)",
           "5 - 10"
          ],
          [
           "9.9",
           "Turks and Caicos Islands",
           "5 - 10"
          ],
          [
           "6.9",
           "British Virgin Islands",
           "5 - 10"
          ],
          [
           "6.2",
           "Switzerland",
           "5 - 10"
          ],
          [
           "9.7",
           "China",
           "5 - 10"
          ],
          [
           "8.4",
           "Austria",
           "5 - 10"
          ],
          [
           "6.9",
           "France",
           "5 - 10"
          ],
          [
           "5.4",
           "Romania",
           "5 - 10"
          ],
          [
           "9.6",
           "Greece",
           "5 - 10"
          ],
          [
           "7.0",
           "Hungary",
           "5 - 10"
          ],
          [
           "6.3",
           "Turkey",
           "5 - 10"
          ],
          [
           "5.1",
           "Viet Nam",
           "5 - 10"
          ],
          [
           "8.3",
           "South Africa",
           "5 - 10"
          ],
          [
           "6.9",
           "Sweden",
           "5 - 10"
          ],
          [
           "9.8",
           "Iran (Islamic Republic of)",
           "5 - 10"
          ],
          [
           "6.6",
           "Thailand",
           "5 - 10"
          ],
          [
           "6.8",
           "United Kingdom of Great Britain and Northern Ireland",
           "5 - 10"
          ],
          [
           "7.8",
           "Portugal",
           "5 - 10"
          ],
          [
           "7.7",
           "Italy",
           "5 - 10"
          ],
          [
           "8.3",
           "Argentina",
           "5 - 10"
          ],
          [
           "9.1",
           "Israel",
           "5 - 10"
          ],
          [
           "5.2",
           "Mexico",
           "5 - 10"
          ],
          [
           "6.8",
           "Spain",
           "5 - 10"
          ],
          [
           "5.8",
           "Brazil",
           "5 - 10"
          ],
          [
           "5.9",
           "Ukraine",
           "5 - 10"
          ],
          [
           "6.4",
           "Chile",
           "5 - 10"
          ],
          [
           "9.0",
           "Libya",
           "5 - 10"
          ],
          [
           "5.7",
           "Azerbaijan",
           "5 - 10"
          ],
          [
           "5.8",
           "Algeria",
           "5 - 10"
          ],
          [
           "5.2",
           "Indonesia",
           "5 - 10"
          ],
          [
           "6.9",
           "Iraq",
           "5 - 10"
          ],
          [
           "6.9",
           "Venezuela (Bolivarian Republic of)",
           "5 - 10"
          ]
         ],
         "geo": "geo",
         "hovertemplate": "<b>%{hovertext}</b><br><br>GHG emissions per person=%{customdata[0]}<extra></extra>",
         "hovertext": [
          "Slovakia",
          "Lao People's Democratic Republic",
          "Paraguay",
          "Serbia",
          "Bosnia and Herzegovina",
          "Equatorial Guinea",
          "Lithuania",
          "Croatia",
          "Puerto Rico",
          "Slovenia",
          "Latvia",
          "Botswana",
          "Bulgaria",
          "Suriname",
          "Vanuatu",
          "Greenland",
          "Dominica",
          "Northern Mariana Islands",
          "Sint Maarten (Dutch part)",
          "Turks and Caicos Islands",
          "British Virgin Islands",
          "Switzerland",
          "China",
          "Austria",
          "France",
          "Romania",
          "Greece",
          "Hungary",
          "Turkey",
          "Viet Nam",
          "South Africa",
          "Sweden",
          "Iran (Islamic Republic of)",
          "Thailand",
          "United Kingdom of Great Britain and Northern Ireland",
          "Portugal",
          "Italy",
          "Argentina",
          "Israel",
          "Mexico",
          "Spain",
          "Brazil",
          "Ukraine",
          "Chile",
          "Libya",
          "Azerbaijan",
          "Algeria",
          "Indonesia",
          "Iraq",
          "Venezuela (Bolivarian Republic of)"
         ],
         "locationmode": "country names",
         "locations": [
          "Slovakia",
          "Lao People's Democratic Republic",
          "Paraguay",
          "Serbia",
          "Bosnia and Herzegovina",
          "Equatorial Guinea",
          "Lithuania",
          "Croatia",
          "Puerto Rico",
          "Slovenia",
          "Latvia",
          "Botswana",
          "Bulgaria",
          "Suriname",
          "Vanuatu",
          "Greenland",
          "Dominica",
          "Northern Mariana Islands",
          "Sint Maarten (Dutch part)",
          "Turks and Caicos Islands",
          "British Virgin Islands",
          "Switzerland",
          "China",
          "Austria",
          "France",
          "Romania",
          "Greece",
          "Hungary",
          "Turkey",
          "Viet Nam",
          "South Africa",
          "Sweden",
          "Iran (Islamic Republic of)",
          "Thailand",
          "United Kingdom of Great Britain and Northern Ireland",
          "Portugal",
          "Italy",
          "Argentina",
          "Israel",
          "Mexico",
          "Spain",
          "Brazil",
          "Ukraine",
          "Chile",
          "Libya",
          "Azerbaijan",
          "Algeria",
          "Indonesia",
          "Iraq",
          "Venezuela (Bolivarian Republic of)"
         ],
         "name": "5 - 10",
         "showlegend": true,
         "showscale": false,
         "type": "choropleth",
         "z": [
          1,
          1,
          1,
          1,
          1,
          1,
          1,
          1,
          1,
          1,
          1,
          1,
          1,
          1,
          1,
          1,
          1,
          1,
          1,
          1,
          1,
          1,
          1,
          1,
          1,
          1,
          1,
          1,
          1,
          1,
          1,
          1,
          1,
          1,
          1,
          1,
          1,
          1,
          1,
          1,
          1,
          1,
          1,
          1,
          1,
          1,
          1,
          1,
          1,
          1
         ]
        },
        {
         "colorscale": [
          [
           0,
           "rgb(222,235,247)"
          ],
          [
           1,
           "rgb(222,235,247)"
          ]
         ],
         "customdata": [
          [
           "2.6",
           "Djibouti",
           "< 5"
          ],
          [
           "1.3",
           "Lesotho",
           "< 5"
          ],
          [
           "1.7",
           "Guinea-Bissau",
           "< 5"
          ],
          [
           "2.6",
           "Armenia",
           "< 5"
          ],
          [
           "3.8",
           "Colombia",
           "< 5"
          ],
          [
           "3.4",
           "Kosovo",
           "< 5"
          ],
          [
           "3.1",
           "Albania",
           "< 5"
          ],
          [
           "1.2",
           "Gambia",
           "< 5"
          ],
          [
           "1.6",
           "Nigeria",
           "< 5"
          ],
          [
           "4.4",
           "Mauritius",
           "< 5"
          ],
          [
           "3.9",
           "Myanmar",
           "< 5"
          ],
          [
           "3.0",
           "Eswatini",
           "< 5"
          ],
          [
           "2.2",
           "Philippines",
           "< 5"
          ],
          [
           "4.0",
           "Fiji",
           "< 5"
          ],
          [
           "3.2",
           "Egypt",
           "< 5"
          ],
          [
           "3.1",
           "Bhutan",
           "< 5"
          ],
          [
           "3.9",
           "China, Macao Special Administrative Region",
           "< 5"
          ],
          [
           "1.2",
           "Uganda",
           "< 5"
          ],
          [
           "1.7",
           "Timor-Leste",
           "< 5"
          ],
          [
           "4.1",
           "Maldives",
           "< 5"
          ],
          [
           "0.1",
           "Saint Martin (French Part)",
           "< 5"
          ],
          [
           "0.3",
           "Monaco",
           "< 5"
          ],
          [
           "0.3",
           "Liechtenstein",
           "< 5"
          ],
          [
           "0.3",
           "Andorra",
           "< 5"
          ],
          [
           "4.5",
           "Nauru",
           "< 5"
          ],
          [
           "1.3",
           "Micronesia (Federated States of)",
           "< 5"
          ],
          [
           "2.8",
           "American Samoa",
           "< 5"
          ],
          [
           "1.5",
           "Kiribati",
           "< 5"
          ],
          [
           "2.7",
           "India",
           "< 5"
          ],
          [
           "2.6",
           "Tonga",
           "< 5"
          ],
          [
           "1.5",
           "Sao Tome and Principe",
           "< 5"
          ],
          [
           "3.5",
           "Grenada",
           "< 5"
          ],
          [
           "0.8",
           "Solomon Islands",
           "< 5"
          ],
          [
           "2.4",
           "Pakistan",
           "< 5"
          ],
          [
           "0.1",
           "State of Palestine",
           "< 5"
          ],
          [
           "3.2",
           "Samoa",
           "< 5"
          ],
          [
           "3.8",
           "Saint Lucia",
           "< 5"
          ],
          [
           "4.4",
           "French Polynesia",
           "< 5"
          ],
          [
           "2.7",
           "Cabo Verde",
           "< 5"
          ],
          [
           "0.7",
           "Rwanda",
           "< 5"
          ],
          [
           "2.0",
           "Comoros",
           "< 5"
          ],
          [
           "2.1",
           "Bangladesh",
           "< 5"
          ],
          [
           "3.3",
           "Montenegro",
           "< 5"
          ],
          [
           "1.2",
           "Sierra Leone",
           "< 5"
          ],
          [
           "4.8",
           "Uzbekistan",
           "< 5"
          ],
          [
           "0.8",
           "Burundi",
           "< 5"
          ],
          [
           "3.9",
           "Namibia",
           "< 5"
          ],
          [
           "1.2",
           "Côte d'Ivoire",
           "< 5"
          ],
          [
           "0.8",
           "Afghanistan",
           "< 5"
          ],
          [
           "1.2",
           "Cameroon",
           "< 5"
          ],
          [
           "4.7",
           "Lebanon",
           "< 5"
          ],
          [
           "3.2",
           "Jordan",
           "< 5"
          ],
          [
           "1.6",
           "Burkina Faso",
           "< 5"
          ],
          [
           "2.6",
           "Guinea",
           "< 5"
          ],
          [
           "3.3",
           "South Sudan",
           "< 5"
          ],
          [
           "1.2",
           "Mozambique",
           "< 5"
          ],
          [
           "2.1",
           "Syrian Arab Republic",
           "< 5"
          ],
          [
           "1.6",
           "Niger",
           "< 5"
          ],
          [
           "4.0",
           "Cambodia",
           "< 5"
          ],
          [
           "3.3",
           "Tunisia",
           "< 5"
          ],
          [
           "3.6",
           "Ecuador",
           "< 5"
          ],
          [
           "1.4",
           "Ghana",
           "< 5"
          ],
          [
           "4.7",
           "Papua New Guinea",
           "< 5"
          ],
          [
           "1.8",
           "Angola",
           "< 5"
          ],
          [
           "4.9",
           "Bolivia (Plurinational State of)",
           "< 5"
          ],
          [
           "4.0",
           "Dominican Republic",
           "< 5"
          ],
          [
           "1.7",
           "Democratic People's Republic of Korea",
           "< 5"
          ],
          [
           "1.6",
           "Madagascar",
           "< 5"
          ],
          [
           "1.9",
           "Nepal",
           "< 5"
          ],
          [
           "2.2",
           "Mali",
           "< 5"
          ],
          [
           "2.1",
           "Sri Lanka",
           "< 5"
          ],
          [
           "4.2",
           "Cuba",
           "< 5"
          ],
          [
           "2.6",
           "Zambia",
           "< 5"
          ],
          [
           "2.9",
           "Guatemala",
           "< 5"
          ],
          [
           "2.0",
           "Zimbabwe",
           "< 5"
          ],
          [
           "1.8",
           "Somalia",
           "< 5"
          ],
          [
           "4.8",
           "Chad",
           "< 5"
          ],
          [
           "3.0",
           "Mauritania",
           "< 5"
          ],
          [
           "4.8",
           "The former Yugoslav Republic of Macedonia",
           "< 5"
          ],
          [
           "1.5",
           "Ethiopia",
           "< 5"
          ],
          [
           "0.6",
           "Democratic Republic of the Congo",
           "< 5"
          ],
          [
           "2.2",
           "Central African Republic",
           "< 5"
          ],
          [
           "3.7",
           "Jamaica",
           "< 5"
          ],
          [
           "5.0",
           "Gabon",
           "< 5"
          ],
          [
           "2.6",
           "Sudan",
           "< 5"
          ],
          [
           "2.8",
           "Morocco",
           "< 5"
          ],
          [
           "2.1",
           "Congo",
           "< 5"
          ],
          [
           "1.4",
           "Togo",
           "< 5"
          ],
          [
           "2.0",
           "El Salvador",
           "< 5"
          ],
          [
           "4.9",
           "Republic of Moldova",
           "< 5"
          ],
          [
           "1.3",
           "Haiti",
           "< 5"
          ],
          [
           "1.5",
           "Senegal",
           "< 5"
          ],
          [
           "2.9",
           "Peru",
           "< 5"
          ],
          [
           "4.0",
           "Georgia",
           "< 5"
          ],
          [
           "0.8",
           "Malawi",
           "< 5"
          ],
          [
           "3.2",
           "Costa Rica",
           "< 5"
          ],
          [
           "1.8",
           "Tajikistan",
           "< 5"
          ],
          [
           "1.5",
           "Benin",
           "< 5"
          ],
          [
           "2.8",
           "Kyrgyzstan",
           "< 5"
          ],
          [
           "1.6",
           "United Republic of Tanzania",
           "< 5"
          ],
          [
           "1.7",
           "Kenya",
           "< 5"
          ],
          [
           "3.5",
           "Nicaragua",
           "< 5"
          ],
          [
           "0.8",
           "Yemen",
           "< 5"
          ],
          [
           "2.4",
           "Honduras",
           "< 5"
          ],
          [
           "0.0",
           "San Marino",
           "< 5"
          ]
         ],
         "geo": "geo",
         "hovertemplate": "<b>%{hovertext}</b><br><br>GHG emissions per person=%{customdata[0]}<extra></extra>",
         "hovertext": [
          "Djibouti",
          "Lesotho",
          "Guinea-Bissau",
          "Armenia",
          "Colombia",
          "Kosovo",
          "Albania",
          "Gambia",
          "Nigeria",
          "Mauritius",
          "Myanmar",
          "Eswatini",
          "Philippines",
          "Fiji",
          "Egypt",
          "Bhutan",
          "China, Macao Special Administrative Region",
          "Uganda",
          "Timor-Leste",
          "Maldives",
          "Saint Martin (French Part)",
          "Monaco",
          "Liechtenstein",
          "Andorra",
          "Nauru",
          "Micronesia (Federated States of)",
          "American Samoa",
          "Kiribati",
          "India",
          "Tonga",
          "Sao Tome and Principe",
          "Grenada",
          "Solomon Islands",
          "Pakistan",
          "State of Palestine",
          "Samoa",
          "Saint Lucia",
          "French Polynesia",
          "Cabo Verde",
          "Rwanda",
          "Comoros",
          "Bangladesh",
          "Montenegro",
          "Sierra Leone",
          "Uzbekistan",
          "Burundi",
          "Namibia",
          "Côte d'Ivoire",
          "Afghanistan",
          "Cameroon",
          "Lebanon",
          "Jordan",
          "Burkina Faso",
          "Guinea",
          "South Sudan",
          "Mozambique",
          "Syrian Arab Republic",
          "Niger",
          "Cambodia",
          "Tunisia",
          "Ecuador",
          "Ghana",
          "Papua New Guinea",
          "Angola",
          "Bolivia (Plurinational State of)",
          "Dominican Republic",
          "Democratic People's Republic of Korea",
          "Madagascar",
          "Nepal",
          "Mali",
          "Sri Lanka",
          "Cuba",
          "Zambia",
          "Guatemala",
          "Zimbabwe",
          "Somalia",
          "Chad",
          "Mauritania",
          "The former Yugoslav Republic of Macedonia",
          "Ethiopia",
          "Democratic Republic of the Congo",
          "Central African Republic",
          "Jamaica",
          "Gabon",
          "Sudan",
          "Morocco",
          "Congo",
          "Togo",
          "El Salvador",
          "Republic of Moldova",
          "Haiti",
          "Senegal",
          "Peru",
          "Georgia",
          "Malawi",
          "Costa Rica",
          "Tajikistan",
          "Benin",
          "Kyrgyzstan",
          "United Republic of Tanzania",
          "Kenya",
          "Nicaragua",
          "Yemen",
          "Honduras",
          "San Marino"
         ],
         "locationmode": "country names",
         "locations": [
          "Djibouti",
          "Lesotho",
          "Guinea-Bissau",
          "Armenia",
          "Colombia",
          "Kosovo",
          "Albania",
          "Gambia",
          "Nigeria",
          "Mauritius",
          "Myanmar",
          "Eswatini",
          "Philippines",
          "Fiji",
          "Egypt",
          "Bhutan",
          "China, Macao Special Administrative Region",
          "Uganda",
          "Timor-Leste",
          "Maldives",
          "Saint Martin (French Part)",
          "Monaco",
          "Liechtenstein",
          "Andorra",
          "Nauru",
          "Micronesia (Federated States of)",
          "American Samoa",
          "Kiribati",
          "India",
          "Tonga",
          "Sao Tome and Principe",
          "Grenada",
          "Solomon Islands",
          "Pakistan",
          "State of Palestine",
          "Samoa",
          "Saint Lucia",
          "French Polynesia",
          "Cabo Verde",
          "Rwanda",
          "Comoros",
          "Bangladesh",
          "Montenegro",
          "Sierra Leone",
          "Uzbekistan",
          "Burundi",
          "Namibia",
          "Côte d'Ivoire",
          "Afghanistan",
          "Cameroon",
          "Lebanon",
          "Jordan",
          "Burkina Faso",
          "Guinea",
          "South Sudan",
          "Mozambique",
          "Syrian Arab Republic",
          "Niger",
          "Cambodia",
          "Tunisia",
          "Ecuador",
          "Ghana",
          "Papua New Guinea",
          "Angola",
          "Bolivia (Plurinational State of)",
          "Dominican Republic",
          "Democratic People's Republic of Korea",
          "Madagascar",
          "Nepal",
          "Mali",
          "Sri Lanka",
          "Cuba",
          "Zambia",
          "Guatemala",
          "Zimbabwe",
          "Somalia",
          "Chad",
          "Mauritania",
          "The former Yugoslav Republic of Macedonia",
          "Ethiopia",
          "Democratic Republic of the Congo",
          "Central African Republic",
          "Jamaica",
          "Gabon",
          "Sudan",
          "Morocco",
          "Congo",
          "Togo",
          "El Salvador",
          "Republic of Moldova",
          "Haiti",
          "Senegal",
          "Peru",
          "Georgia",
          "Malawi",
          "Costa Rica",
          "Tajikistan",
          "Benin",
          "Kyrgyzstan",
          "United Republic of Tanzania",
          "Kenya",
          "Nicaragua",
          "Yemen",
          "Honduras",
          "San Marino"
         ],
         "name": "< 5",
         "showlegend": true,
         "showscale": false,
         "type": "choropleth",
         "z": [
          1,
          1,
          1,
          1,
          1,
          1,
          1,
          1,
          1,
          1,
          1,
          1,
          1,
          1,
          1,
          1,
          1,
          1,
          1,
          1,
          1,
          1,
          1,
          1,
          1,
          1,
          1,
          1,
          1,
          1,
          1,
          1,
          1,
          1,
          1,
          1,
          1,
          1,
          1,
          1,
          1,
          1,
          1,
          1,
          1,
          1,
          1,
          1,
          1,
          1,
          1,
          1,
          1,
          1,
          1,
          1,
          1,
          1,
          1,
          1,
          1,
          1,
          1,
          1,
          1,
          1,
          1,
          1,
          1,
          1,
          1,
          1,
          1,
          1,
          1,
          1,
          1,
          1,
          1,
          1,
          1,
          1,
          1,
          1,
          1,
          1,
          1,
          1,
          1,
          1,
          1,
          1,
          1,
          1,
          1,
          1,
          1,
          1,
          1,
          1,
          1,
          1,
          1,
          1,
          1
         ]
        },
        {
         "colorscale": [
          [
           0,
           "grey"
          ],
          [
           1,
           "grey"
          ]
         ],
         "customdata": [
          [
           "No data",
           "Taiwan",
           "No data"
          ],
          [
           "No data",
           "Eritrea",
           "No data"
          ],
          [
           "No data",
           "Réunion",
           "No data"
          ],
          [
           "No data",
           "Martinique",
           "No data"
          ],
          [
           "No data",
           "Guadeloupe",
           "No data"
          ],
          [
           "No data",
           "Falkland Islands (Malvinas)",
           "No data"
          ],
          [
           "No data",
           "French Guiana",
           "No data"
          ],
          [
           "No data",
           "Cook Islands",
           "No data"
          ],
          [
           "No data",
           "Western Sahara",
           "No data"
          ],
          [
           "No data",
           "United States Minor Outlying Islands",
           "No data"
          ],
          [
           "No data",
           "Mayotte",
           "No data"
          ],
          [
           "No data",
           "Guernsey",
           "No data"
          ],
          [
           "No data",
           "Bonaire, Sint Eustatius and Saba",
           "No data"
          ],
          [
           "No data",
           "Anguilla",
           "No data"
          ],
          [
           "No data",
           "Saint Pierre and Miquelon",
           "No data"
          ],
          [
           "No data",
           "Jersey",
           "No data"
          ],
          [
           "No data",
           "Niue",
           "No data"
          ],
          [
           "No data",
           "Montserrat",
           "No data"
          ],
          [
           "No data",
           "Wallis and Futuna Islands",
           "No data"
          ],
          [
           "No data",
           "Saint Helena",
           "No data"
          ],
          [
           "No data",
           "Saint Barthélemy",
           "No data"
          ],
          [
           "No data",
           "Norfolk Island",
           "No data"
          ],
          [
           "No data",
           "Cocos (Keeling) Islands",
           "No data"
          ],
          [
           "No data",
           "Christmas Island",
           "No data"
          ],
          [
           "No data",
           "Tokelau",
           "No data"
          ],
          [
           "No data",
           "French Southern Territories",
           "No data"
          ],
          [
           "No data",
           "Antarctica",
           "No data"
          ],
          [
           "No data",
           "Bouvet Island",
           "No data"
          ],
          [
           "No data",
           "Pitcairn",
           "No data"
          ],
          [
           "No data",
           "South Georgia and the South Sandwich Islands",
           "No data"
          ],
          [
           "No data",
           "Svalbard and Jan Mayen Islands",
           "No data"
          ],
          [
           "No data",
           "British Indian Ocean Territory",
           "No data"
          ],
          [
           "No data",
           "Heard Island and McDonald Islands",
           "No data"
          ],
          [
           "No data",
           "Holy See",
           "No data"
          ],
          [
           "No data",
           "Åland Islands",
           "No data"
          ]
         ],
         "geo": "geo",
         "hovertemplate": "<b>%{hovertext}</b><br><br>GHG emissions per person=%{customdata[0]}<extra></extra>",
         "hovertext": [
          "Taiwan",
          "Eritrea",
          "Réunion",
          "Martinique",
          "Guadeloupe",
          "Falkland Islands (Malvinas)",
          "French Guiana",
          "Cook Islands",
          "Western Sahara",
          "United States Minor Outlying Islands",
          "Mayotte",
          "Guernsey",
          "Bonaire, Sint Eustatius and Saba",
          "Anguilla",
          "Saint Pierre and Miquelon",
          "Jersey",
          "Niue",
          "Montserrat",
          "Wallis and Futuna Islands",
          "Saint Helena",
          "Saint Barthélemy",
          "Norfolk Island",
          "Cocos (Keeling) Islands",
          "Christmas Island",
          "Tokelau",
          "French Southern Territories",
          "Antarctica",
          "Bouvet Island",
          "Pitcairn",
          "South Georgia and the South Sandwich Islands",
          "Svalbard and Jan Mayen Islands",
          "British Indian Ocean Territory",
          "Heard Island and McDonald Islands",
          "Holy See",
          "Åland Islands"
         ],
         "locationmode": "country names",
         "locations": [
          "Taiwan",
          "Eritrea",
          "Réunion",
          "Martinique",
          "Guadeloupe",
          "Falkland Islands (Malvinas)",
          "French Guiana",
          "Cook Islands",
          "Western Sahara",
          "United States Minor Outlying Islands",
          "Mayotte",
          "Guernsey",
          "Bonaire, Sint Eustatius and Saba",
          "Anguilla",
          "Saint Pierre and Miquelon",
          "Jersey",
          "Niue",
          "Montserrat",
          "Wallis and Futuna Islands",
          "Saint Helena",
          "Saint Barthélemy",
          "Norfolk Island",
          "Cocos (Keeling) Islands",
          "Christmas Island",
          "Tokelau",
          "French Southern Territories",
          "Antarctica",
          "Bouvet Island",
          "Pitcairn",
          "South Georgia and the South Sandwich Islands",
          "Svalbard and Jan Mayen Islands",
          "British Indian Ocean Territory",
          "Heard Island and McDonald Islands",
          "Holy See",
          "Åland Islands"
         ],
         "name": "No data",
         "showlegend": true,
         "showscale": false,
         "type": "choropleth",
         "z": [
          1,
          1,
          1,
          1,
          1,
          1,
          1,
          1,
          1,
          1,
          1,
          1,
          1,
          1,
          1,
          1,
          1,
          1,
          1,
          1,
          1,
          1,
          1,
          1,
          1,
          1,
          1,
          1,
          1,
          1,
          1,
          1,
          1,
          1,
          1
         ]
        }
       ],
       "layout": {
        "annotations": [
         {
          "font": {
           "family": "sans-serif",
           "size": 10
          },
          "showarrow": false,
          "text": "Source: <a href=\"https://www.climatetrace.org/\">\nClimate Trace</a>, <a href=\"https://data.worldbank.org/\">\nWorld Bank</a>",
          "x": 0.015,
          "y": 0
         }
        ],
        "autosize": false,
        "font": {
         "family": "sans-serif"
        },
        "geo": {
         "center": {
          "lat": 76.81967158573266,
          "lon": -165.18866061003737
         },
         "domain": {
          "x": [
           0,
           1
          ],
          "y": [
           0,
           1
          ]
         },
         "lataxis": {
          "range": [
           -55,
           90
          ]
         },
         "projection": {
          "rotation": {
           "lon": -165.18866061003737
          },
          "scale": 21.645571696804392
         },
         "showframe": true,
         "showlakes": false
        },
        "height": 400,
        "hoverlabel": {
         "bgcolor": "white",
         "font": {
          "family": "sans-serif",
          "size": 10
         }
        },
        "legend": {
         "bordercolor": "grey",
         "borderwidth": 0.5,
         "font": {
          "size": 10
         },
         "title": {
          "text": "TCo2eq per person"
         },
         "tracegroupgap": 0,
         "x": 0.015,
         "y": 0.07
        },
        "margin": {
         "b": 20,
         "l": 20,
         "pad": 5,
         "r": 20,
         "t": 20
        },
        "template": {
         "data": {
          "bar": [
           {
            "error_x": {
             "color": "#2a3f5f"
            },
            "error_y": {
             "color": "#2a3f5f"
            },
            "marker": {
             "line": {
              "color": "#E5ECF6",
              "width": 0.5
             },
             "pattern": {
              "fillmode": "overlay",
              "size": 10,
              "solidity": 0.2
             }
            },
            "type": "bar"
           }
          ],
          "barpolar": [
           {
            "marker": {
             "line": {
              "color": "#E5ECF6",
              "width": 0.5
             },
             "pattern": {
              "fillmode": "overlay",
              "size": 10,
              "solidity": 0.2
             }
            },
            "type": "barpolar"
           }
          ],
          "carpet": [
           {
            "aaxis": {
             "endlinecolor": "#2a3f5f",
             "gridcolor": "white",
             "linecolor": "white",
             "minorgridcolor": "white",
             "startlinecolor": "#2a3f5f"
            },
            "baxis": {
             "endlinecolor": "#2a3f5f",
             "gridcolor": "white",
             "linecolor": "white",
             "minorgridcolor": "white",
             "startlinecolor": "#2a3f5f"
            },
            "type": "carpet"
           }
          ],
          "choropleth": [
           {
            "colorbar": {
             "outlinewidth": 0,
             "ticks": ""
            },
            "type": "choropleth"
           }
          ],
          "contour": [
           {
            "colorbar": {
             "outlinewidth": 0,
             "ticks": ""
            },
            "colorscale": [
             [
              0,
              "#0d0887"
             ],
             [
              0.1111111111111111,
              "#46039f"
             ],
             [
              0.2222222222222222,
              "#7201a8"
             ],
             [
              0.3333333333333333,
              "#9c179e"
             ],
             [
              0.4444444444444444,
              "#bd3786"
             ],
             [
              0.5555555555555556,
              "#d8576b"
             ],
             [
              0.6666666666666666,
              "#ed7953"
             ],
             [
              0.7777777777777778,
              "#fb9f3a"
             ],
             [
              0.8888888888888888,
              "#fdca26"
             ],
             [
              1,
              "#f0f921"
             ]
            ],
            "type": "contour"
           }
          ],
          "contourcarpet": [
           {
            "colorbar": {
             "outlinewidth": 0,
             "ticks": ""
            },
            "type": "contourcarpet"
           }
          ],
          "heatmap": [
           {
            "colorbar": {
             "outlinewidth": 0,
             "ticks": ""
            },
            "colorscale": [
             [
              0,
              "#0d0887"
             ],
             [
              0.1111111111111111,
              "#46039f"
             ],
             [
              0.2222222222222222,
              "#7201a8"
             ],
             [
              0.3333333333333333,
              "#9c179e"
             ],
             [
              0.4444444444444444,
              "#bd3786"
             ],
             [
              0.5555555555555556,
              "#d8576b"
             ],
             [
              0.6666666666666666,
              "#ed7953"
             ],
             [
              0.7777777777777778,
              "#fb9f3a"
             ],
             [
              0.8888888888888888,
              "#fdca26"
             ],
             [
              1,
              "#f0f921"
             ]
            ],
            "type": "heatmap"
           }
          ],
          "heatmapgl": [
           {
            "colorbar": {
             "outlinewidth": 0,
             "ticks": ""
            },
            "colorscale": [
             [
              0,
              "#0d0887"
             ],
             [
              0.1111111111111111,
              "#46039f"
             ],
             [
              0.2222222222222222,
              "#7201a8"
             ],
             [
              0.3333333333333333,
              "#9c179e"
             ],
             [
              0.4444444444444444,
              "#bd3786"
             ],
             [
              0.5555555555555556,
              "#d8576b"
             ],
             [
              0.6666666666666666,
              "#ed7953"
             ],
             [
              0.7777777777777778,
              "#fb9f3a"
             ],
             [
              0.8888888888888888,
              "#fdca26"
             ],
             [
              1,
              "#f0f921"
             ]
            ],
            "type": "heatmapgl"
           }
          ],
          "histogram": [
           {
            "marker": {
             "pattern": {
              "fillmode": "overlay",
              "size": 10,
              "solidity": 0.2
             }
            },
            "type": "histogram"
           }
          ],
          "histogram2d": [
           {
            "colorbar": {
             "outlinewidth": 0,
             "ticks": ""
            },
            "colorscale": [
             [
              0,
              "#0d0887"
             ],
             [
              0.1111111111111111,
              "#46039f"
             ],
             [
              0.2222222222222222,
              "#7201a8"
             ],
             [
              0.3333333333333333,
              "#9c179e"
             ],
             [
              0.4444444444444444,
              "#bd3786"
             ],
             [
              0.5555555555555556,
              "#d8576b"
             ],
             [
              0.6666666666666666,
              "#ed7953"
             ],
             [
              0.7777777777777778,
              "#fb9f3a"
             ],
             [
              0.8888888888888888,
              "#fdca26"
             ],
             [
              1,
              "#f0f921"
             ]
            ],
            "type": "histogram2d"
           }
          ],
          "histogram2dcontour": [
           {
            "colorbar": {
             "outlinewidth": 0,
             "ticks": ""
            },
            "colorscale": [
             [
              0,
              "#0d0887"
             ],
             [
              0.1111111111111111,
              "#46039f"
             ],
             [
              0.2222222222222222,
              "#7201a8"
             ],
             [
              0.3333333333333333,
              "#9c179e"
             ],
             [
              0.4444444444444444,
              "#bd3786"
             ],
             [
              0.5555555555555556,
              "#d8576b"
             ],
             [
              0.6666666666666666,
              "#ed7953"
             ],
             [
              0.7777777777777778,
              "#fb9f3a"
             ],
             [
              0.8888888888888888,
              "#fdca26"
             ],
             [
              1,
              "#f0f921"
             ]
            ],
            "type": "histogram2dcontour"
           }
          ],
          "mesh3d": [
           {
            "colorbar": {
             "outlinewidth": 0,
             "ticks": ""
            },
            "type": "mesh3d"
           }
          ],
          "parcoords": [
           {
            "line": {
             "colorbar": {
              "outlinewidth": 0,
              "ticks": ""
             }
            },
            "type": "parcoords"
           }
          ],
          "pie": [
           {
            "automargin": true,
            "type": "pie"
           }
          ],
          "scatter": [
           {
            "marker": {
             "colorbar": {
              "outlinewidth": 0,
              "ticks": ""
             }
            },
            "type": "scatter"
           }
          ],
          "scatter3d": [
           {
            "line": {
             "colorbar": {
              "outlinewidth": 0,
              "ticks": ""
             }
            },
            "marker": {
             "colorbar": {
              "outlinewidth": 0,
              "ticks": ""
             }
            },
            "type": "scatter3d"
           }
          ],
          "scattercarpet": [
           {
            "marker": {
             "colorbar": {
              "outlinewidth": 0,
              "ticks": ""
             }
            },
            "type": "scattercarpet"
           }
          ],
          "scattergeo": [
           {
            "marker": {
             "colorbar": {
              "outlinewidth": 0,
              "ticks": ""
             }
            },
            "type": "scattergeo"
           }
          ],
          "scattergl": [
           {
            "marker": {
             "colorbar": {
              "outlinewidth": 0,
              "ticks": ""
             }
            },
            "type": "scattergl"
           }
          ],
          "scattermapbox": [
           {
            "marker": {
             "colorbar": {
              "outlinewidth": 0,
              "ticks": ""
             }
            },
            "type": "scattermapbox"
           }
          ],
          "scatterpolar": [
           {
            "marker": {
             "colorbar": {
              "outlinewidth": 0,
              "ticks": ""
             }
            },
            "type": "scatterpolar"
           }
          ],
          "scatterpolargl": [
           {
            "marker": {
             "colorbar": {
              "outlinewidth": 0,
              "ticks": ""
             }
            },
            "type": "scatterpolargl"
           }
          ],
          "scatterternary": [
           {
            "marker": {
             "colorbar": {
              "outlinewidth": 0,
              "ticks": ""
             }
            },
            "type": "scatterternary"
           }
          ],
          "surface": [
           {
            "colorbar": {
             "outlinewidth": 0,
             "ticks": ""
            },
            "colorscale": [
             [
              0,
              "#0d0887"
             ],
             [
              0.1111111111111111,
              "#46039f"
             ],
             [
              0.2222222222222222,
              "#7201a8"
             ],
             [
              0.3333333333333333,
              "#9c179e"
             ],
             [
              0.4444444444444444,
              "#bd3786"
             ],
             [
              0.5555555555555556,
              "#d8576b"
             ],
             [
              0.6666666666666666,
              "#ed7953"
             ],
             [
              0.7777777777777778,
              "#fb9f3a"
             ],
             [
              0.8888888888888888,
              "#fdca26"
             ],
             [
              1,
              "#f0f921"
             ]
            ],
            "type": "surface"
           }
          ],
          "table": [
           {
            "cells": {
             "fill": {
              "color": "#EBF0F8"
             },
             "line": {
              "color": "white"
             }
            },
            "header": {
             "fill": {
              "color": "#C8D4E3"
             },
             "line": {
              "color": "white"
             }
            },
            "type": "table"
           }
          ]
         },
         "layout": {
          "annotationdefaults": {
           "arrowcolor": "#2a3f5f",
           "arrowhead": 0,
           "arrowwidth": 1
          },
          "autotypenumbers": "strict",
          "coloraxis": {
           "colorbar": {
            "outlinewidth": 0,
            "ticks": ""
           }
          },
          "colorscale": {
           "diverging": [
            [
             0,
             "#8e0152"
            ],
            [
             0.1,
             "#c51b7d"
            ],
            [
             0.2,
             "#de77ae"
            ],
            [
             0.3,
             "#f1b6da"
            ],
            [
             0.4,
             "#fde0ef"
            ],
            [
             0.5,
             "#f7f7f7"
            ],
            [
             0.6,
             "#e6f5d0"
            ],
            [
             0.7,
             "#b8e186"
            ],
            [
             0.8,
             "#7fbc41"
            ],
            [
             0.9,
             "#4d9221"
            ],
            [
             1,
             "#276419"
            ]
           ],
           "sequential": [
            [
             0,
             "#0d0887"
            ],
            [
             0.1111111111111111,
             "#46039f"
            ],
            [
             0.2222222222222222,
             "#7201a8"
            ],
            [
             0.3333333333333333,
             "#9c179e"
            ],
            [
             0.4444444444444444,
             "#bd3786"
            ],
            [
             0.5555555555555556,
             "#d8576b"
            ],
            [
             0.6666666666666666,
             "#ed7953"
            ],
            [
             0.7777777777777778,
             "#fb9f3a"
            ],
            [
             0.8888888888888888,
             "#fdca26"
            ],
            [
             1,
             "#f0f921"
            ]
           ],
           "sequentialminus": [
            [
             0,
             "#0d0887"
            ],
            [
             0.1111111111111111,
             "#46039f"
            ],
            [
             0.2222222222222222,
             "#7201a8"
            ],
            [
             0.3333333333333333,
             "#9c179e"
            ],
            [
             0.4444444444444444,
             "#bd3786"
            ],
            [
             0.5555555555555556,
             "#d8576b"
            ],
            [
             0.6666666666666666,
             "#ed7953"
            ],
            [
             0.7777777777777778,
             "#fb9f3a"
            ],
            [
             0.8888888888888888,
             "#fdca26"
            ],
            [
             1,
             "#f0f921"
            ]
           ]
          },
          "colorway": [
           "#636efa",
           "#EF553B",
           "#00cc96",
           "#ab63fa",
           "#FFA15A",
           "#19d3f3",
           "#FF6692",
           "#B6E880",
           "#FF97FF",
           "#FECB52"
          ],
          "font": {
           "color": "#2a3f5f"
          },
          "geo": {
           "bgcolor": "white",
           "lakecolor": "white",
           "landcolor": "#E5ECF6",
           "showlakes": true,
           "showland": true,
           "subunitcolor": "white"
          },
          "hoverlabel": {
           "align": "left"
          },
          "hovermode": "closest",
          "mapbox": {
           "style": "light"
          },
          "paper_bgcolor": "white",
          "plot_bgcolor": "#E5ECF6",
          "polar": {
           "angularaxis": {
            "gridcolor": "white",
            "linecolor": "white",
            "ticks": ""
           },
           "bgcolor": "#E5ECF6",
           "radialaxis": {
            "gridcolor": "white",
            "linecolor": "white",
            "ticks": ""
           }
          },
          "scene": {
           "xaxis": {
            "backgroundcolor": "#E5ECF6",
            "gridcolor": "white",
            "gridwidth": 2,
            "linecolor": "white",
            "showbackground": true,
            "ticks": "",
            "zerolinecolor": "white"
           },
           "yaxis": {
            "backgroundcolor": "#E5ECF6",
            "gridcolor": "white",
            "gridwidth": 2,
            "linecolor": "white",
            "showbackground": true,
            "ticks": "",
            "zerolinecolor": "white"
           },
           "zaxis": {
            "backgroundcolor": "#E5ECF6",
            "gridcolor": "white",
            "gridwidth": 2,
            "linecolor": "white",
            "showbackground": true,
            "ticks": "",
            "zerolinecolor": "white"
           }
          },
          "shapedefaults": {
           "line": {
            "color": "#2a3f5f"
           }
          },
          "ternary": {
           "aaxis": {
            "gridcolor": "white",
            "linecolor": "white",
            "ticks": ""
           },
           "baxis": {
            "gridcolor": "white",
            "linecolor": "white",
            "ticks": ""
           },
           "bgcolor": "#E5ECF6",
           "caxis": {
            "gridcolor": "white",
            "linecolor": "white",
            "ticks": ""
           }
          },
          "title": {
           "x": 0.05
          },
          "xaxis": {
           "automargin": true,
           "gridcolor": "white",
           "linecolor": "white",
           "ticks": "",
           "title": {
            "standoff": 15
           },
           "zerolinecolor": "white",
           "zerolinewidth": 2
          },
          "yaxis": {
           "automargin": true,
           "gridcolor": "white",
           "linecolor": "white",
           "ticks": "",
           "title": {
            "standoff": 15
           },
           "zerolinecolor": "white",
           "zerolinewidth": 2
          }
         }
        },
        "title": {
         "font": {
          "family": "sans-serif"
         },
         "text": "GHG emissions per capita (2020)",
         "x": 0.5,
         "xanchor": "center",
         "y": 0.95,
         "yanchor": "top"
        },
        "width": 800
       }
      },
      "image/png": "[encoded data removed]",
      "text/html": [
       "<div>                            <div id=\"eeae40ae-e211-497b-b136-0114a61cd71c\" class=\"plotly-graph-div\" style=\"height:400px; width:800px;\"></div>            <script type=\"text/javascript\">                require([\"plotly\"], function(Plotly) {                    window.PLOTLYENV=window.PLOTLYENV || {};                                    if (document.getElementById(\"eeae40ae-e211-497b-b136-0114a61cd71c\")) {                    Plotly.newPlot(                        \"eeae40ae-e211-497b-b136-0114a61cd71c\",                        [{\"colorscale\":[[0.0,\"rgb(8,48,107)\"],[1.0,\"rgb(8,48,107)\"]],\"customdata\":[[\"69.1\",\"Cayman Islands\",\"> 30\"],[\"100.7\",\"Gibraltar\",\"> 30\"],[\"30.3\",\"United Arab Emirates\",\"> 30\"],[\"95.7\",\"Palau\",\"> 30\"],[\"32.1\",\"Cura\\u00e7ao\",\"> 30\"],[\"30.0\",\"Faroe Islands\",\"> 30\"],[\"39.5\",\"Panama\",\"> 30\"],[\"63.3\",\"Tuvalu\",\"> 30\"],[\"118.0\",\"Isle of Man\",\"> 30\"],[\"31.5\",\"Kuwait\",\"> 30\"],[\"114.2\",\"Malta\",\"> 30\"],[\"43.7\",\"Qatar\",\"> 30\"],[\"171.5\",\"Bermuda\",\"> 30\"],[\"113.3\",\"Antigua and Barbuda\",\"> 30\"],[\"109.4\",\"Bahamas\",\"> 30\"],[\"1,686.1\",\"Marshall Islands\",\"> 30\"],[\"40.2\",\"United States Virgin Islands\",\"> 30\"]],\"geo\":\"geo\",\"hovertemplate\":\"<b>%{hovertext}</b><br><br>GHG emissions per person=%{customdata[0]}<extra></extra>\",\"hovertext\":[\"Cayman Islands\",\"Gibraltar\",\"United Arab Emirates\",\"Palau\",\"Cura\\u00e7ao\",\"Faroe Islands\",\"Panama\",\"Tuvalu\",\"Isle of Man\",\"Kuwait\",\"Malta\",\"Qatar\",\"Bermuda\",\"Antigua and Barbuda\",\"Bahamas\",\"Marshall Islands\",\"United States Virgin Islands\"],\"locationmode\":\"country names\",\"locations\":[\"Cayman Islands\",\"Gibraltar\",\"United Arab Emirates\",\"Palau\",\"Cura\\u00e7ao\",\"Faroe Islands\",\"Panama\",\"Tuvalu\",\"Isle of Man\",\"Kuwait\",\"Malta\",\"Qatar\",\"Bermuda\",\"Antigua and Barbuda\",\"Bahamas\",\"Marshall Islands\",\"United States Virgin Islands\"],\"name\":\"> 30\",\"showlegend\":true,\"showscale\":false,\"type\":\"choropleth\",\"z\":[1,1,1,1,1,1,1,1,1,1,1,1,1,1,1,1,1]},{\"colorscale\":[[0.0,\"rgb(33,113,181)\"],[1.0,\"rgb(33,113,181)\"]],\"customdata\":[[\"24.7\",\"Oman\",\"20 - 30\"],[\"27.8\",\"Singapore\",\"20 - 30\"],[\"23.8\",\"Liberia\",\"20 - 30\"],[\"20.1\",\"Luxembourg\",\"20 - 30\"],[\"20.1\",\"New Caledonia\",\"20 - 30\"],[\"21.7\",\"Mongolia\",\"20 - 30\"],[\"24.7\",\"Cyprus\",\"20 - 30\"],[\"25.0\",\"Trinidad and Tobago\",\"20 - 30\"],[\"24.5\",\"Australia\",\"20 - 30\"],[\"21.9\",\"Saudi Arabia\",\"20 - 30\"],[\"20.2\",\"Canada\",\"20 - 30\"],[\"24.9\",\"Bahrain\",\"20 - 30\"]],\"geo\":\"geo\",\"hovertemplate\":\"<b>%{hovertext}</b><br><br>GHG emissions per person=%{customdata[0]}<extra></extra>\",\"hovertext\":[\"Oman\",\"Singapore\",\"Liberia\",\"Luxembourg\",\"New Caledonia\",\"Mongolia\",\"Cyprus\",\"Trinidad and Tobago\",\"Australia\",\"Saudi Arabia\",\"Canada\",\"Bahrain\"],\"locationmode\":\"country names\",\"locations\":[\"Oman\",\"Singapore\",\"Liberia\",\"Luxembourg\",\"New Caledonia\",\"Mongolia\",\"Cyprus\",\"Trinidad and Tobago\",\"Australia\",\"Saudi Arabia\",\"Canada\",\"Bahrain\"],\"name\":\"20 - 30\",\"showlegend\":true,\"showscale\":false,\"type\":\"choropleth\",\"z\":[1,1,1,1,1,1,1,1,1,1,1,1]},{\"colorscale\":[[0.0,\"rgb(66,146,198)\"],[1.0,\"rgb(66,146,198)\"]],\"customdata\":[[\"10.9\",\"Malaysia\",\"10 - 20\"],[\"10.8\",\"Belgium\",\"10 - 20\"],[\"10.9\",\"Czechia\",\"10 - 20\"],[\"10.1\",\"Germany\",\"10 - 20\"],[\"12.1\",\"Belarus\",\"10 - 20\"],[\"14.4\",\"Guyana\",\"10 - 20\"],[\"11.3\",\"Guam\",\"10 - 20\"],[\"11.7\",\"Denmark\",\"10 - 20\"],[\"16.6\",\"Turkmenistan\",\"10 - 20\"],[\"12.5\",\"Uruguay\",\"10 - 20\"],[\"18.0\",\"Norway\",\"10 - 20\"],[\"18.8\",\"United States of America\",\"10 - 20\"],[\"16.9\",\"Russian Federation\",\"10 - 20\"],[\"16.9\",\"New Zealand\",\"10 - 20\"],[\"17.0\",\"Estonia\",\"10 - 20\"],[\"10.5\",\"Japan\",\"10 - 20\"],[\"13.6\",\"Republic of Korea\",\"10 - 20\"],[\"19.4\",\"China, Hong Kong Special Administrative Region\",\"10 - 20\"],[\"12.4\",\"Netherlands\",\"10 - 20\"],[\"12.9\",\"Barbados\",\"10 - 20\"],[\"16.2\",\"Saint Vincent and the Grenadines\",\"10 - 20\"],[\"11.1\",\"Poland\",\"10 - 20\"],[\"15.9\",\"Kazakhstan\",\"10 - 20\"],[\"10.8\",\"Belize\",\"10 - 20\"],[\"13.8\",\"Finland\",\"10 - 20\"],[\"16.7\",\"Seychelles\",\"10 - 20\"],[\"12.6\",\"Ireland\",\"10 - 20\"],[\"15.3\",\"Iceland\",\"10 - 20\"],[\"16.5\",\"Brunei Darussalam\",\"10 - 20\"],[\"13.4\",\"Aruba\",\"10 - 20\"],[\"13.6\",\"Saint Kitts and Nevis\",\"10 - 20\"]],\"geo\":\"geo\",\"hovertemplate\":\"<b>%{hovertext}</b><br><br>GHG emissions per person=%{customdata[0]}<extra></extra>\",\"hovertext\":[\"Malaysia\",\"Belgium\",\"Czechia\",\"Germany\",\"Belarus\",\"Guyana\",\"Guam\",\"Denmark\",\"Turkmenistan\",\"Uruguay\",\"Norway\",\"United States of America\",\"Russian Federation\",\"New Zealand\",\"Estonia\",\"Japan\",\"Republic of Korea\",\"China, Hong Kong Special Administrative Region\",\"Netherlands\",\"Barbados\",\"Saint Vincent and the Grenadines\",\"Poland\",\"Kazakhstan\",\"Belize\",\"Finland\",\"Seychelles\",\"Ireland\",\"Iceland\",\"Brunei Darussalam\",\"Aruba\",\"Saint Kitts and Nevis\"],\"locationmode\":\"country names\",\"locations\":[\"Malaysia\",\"Belgium\",\"Czechia\",\"Germany\",\"Belarus\",\"Guyana\",\"Guam\",\"Denmark\",\"Turkmenistan\",\"Uruguay\",\"Norway\",\"United States of America\",\"Russian Federation\",\"New Zealand\",\"Estonia\",\"Japan\",\"Republic of Korea\",\"China, Hong Kong Special Administrative Region\",\"Netherlands\",\"Barbados\",\"Saint Vincent and the Grenadines\",\"Poland\",\"Kazakhstan\",\"Belize\",\"Finland\",\"Seychelles\",\"Ireland\",\"Iceland\",\"Brunei Darussalam\",\"Aruba\",\"Saint Kitts and Nevis\"],\"name\":\"10 - 20\",\"showlegend\":true,\"showscale\":false,\"type\":\"choropleth\",\"z\":[1,1,1,1,1,1,1,1,1,1,1,1,1,1,1,1,1,1,1,1,1,1,1,1,1,1,1,1,1,1,1]},{\"colorscale\":[[0.0,\"rgb(158,202,225)\"],[1.0,\"rgb(158,202,225)\"]],\"customdata\":[[\"7.5\",\"Slovakia\",\"5 - 10\"],[\"5.6\",\"Lao People's Democratic Republic\",\"5 - 10\"],[\"6.1\",\"Paraguay\",\"5 - 10\"],[\"5.6\",\"Serbia\",\"5 - 10\"],[\"8.8\",\"Bosnia and Herzegovina\",\"5 - 10\"],[\"7.2\",\"Equatorial Guinea\",\"5 - 10\"],[\"9.9\",\"Lithuania\",\"5 - 10\"],[\"6.5\",\"Croatia\",\"5 - 10\"],[\"7.0\",\"Puerto Rico\",\"5 - 10\"],[\"9.0\",\"Slovenia\",\"5 - 10\"],[\"7.7\",\"Latvia\",\"5 - 10\"],[\"5.4\",\"Botswana\",\"5 - 10\"],[\"7.9\",\"Bulgaria\",\"5 - 10\"],[\"8.1\",\"Suriname\",\"5 - 10\"],[\"5.3\",\"Vanuatu\",\"5 - 10\"],[\"9.9\",\"Greenland\",\"5 - 10\"],[\"7.1\",\"Dominica\",\"5 - 10\"],[\"8.0\",\"Northern Mariana Islands\",\"5 - 10\"],[\"10.0\",\"Sint Maarten (Dutch part)\",\"5 - 10\"],[\"9.9\",\"Turks and Caicos Islands\",\"5 - 10\"],[\"6.9\",\"British Virgin Islands\",\"5 - 10\"],[\"6.2\",\"Switzerland\",\"5 - 10\"],[\"9.7\",\"China\",\"5 - 10\"],[\"8.4\",\"Austria\",\"5 - 10\"],[\"6.9\",\"France\",\"5 - 10\"],[\"5.4\",\"Romania\",\"5 - 10\"],[\"9.6\",\"Greece\",\"5 - 10\"],[\"7.0\",\"Hungary\",\"5 - 10\"],[\"6.3\",\"Turkey\",\"5 - 10\"],[\"5.1\",\"Viet Nam\",\"5 - 10\"],[\"8.3\",\"South Africa\",\"5 - 10\"],[\"6.9\",\"Sweden\",\"5 - 10\"],[\"9.8\",\"Iran (Islamic Republic of)\",\"5 - 10\"],[\"6.6\",\"Thailand\",\"5 - 10\"],[\"6.8\",\"United Kingdom of Great Britain and Northern Ireland\",\"5 - 10\"],[\"7.8\",\"Portugal\",\"5 - 10\"],[\"7.7\",\"Italy\",\"5 - 10\"],[\"8.3\",\"Argentina\",\"5 - 10\"],[\"9.1\",\"Israel\",\"5 - 10\"],[\"5.2\",\"Mexico\",\"5 - 10\"],[\"6.8\",\"Spain\",\"5 - 10\"],[\"5.8\",\"Brazil\",\"5 - 10\"],[\"5.9\",\"Ukraine\",\"5 - 10\"],[\"6.4\",\"Chile\",\"5 - 10\"],[\"9.0\",\"Libya\",\"5 - 10\"],[\"5.7\",\"Azerbaijan\",\"5 - 10\"],[\"5.8\",\"Algeria\",\"5 - 10\"],[\"5.2\",\"Indonesia\",\"5 - 10\"],[\"6.9\",\"Iraq\",\"5 - 10\"],[\"6.9\",\"Venezuela (Bolivarian Republic of)\",\"5 - 10\"]],\"geo\":\"geo\",\"hovertemplate\":\"<b>%{hovertext}</b><br><br>GHG emissions per person=%{customdata[0]}<extra></extra>\",\"hovertext\":[\"Slovakia\",\"Lao People's Democratic Republic\",\"Paraguay\",\"Serbia\",\"Bosnia and Herzegovina\",\"Equatorial Guinea\",\"Lithuania\",\"Croatia\",\"Puerto Rico\",\"Slovenia\",\"Latvia\",\"Botswana\",\"Bulgaria\",\"Suriname\",\"Vanuatu\",\"Greenland\",\"Dominica\",\"Northern Mariana Islands\",\"Sint Maarten (Dutch part)\",\"Turks and Caicos Islands\",\"British Virgin Islands\",\"Switzerland\",\"China\",\"Austria\",\"France\",\"Romania\",\"Greece\",\"Hungary\",\"Turkey\",\"Viet Nam\",\"South Africa\",\"Sweden\",\"Iran (Islamic Republic of)\",\"Thailand\",\"United Kingdom of Great Britain and Northern Ireland\",\"Portugal\",\"Italy\",\"Argentina\",\"Israel\",\"Mexico\",\"Spain\",\"Brazil\",\"Ukraine\",\"Chile\",\"Libya\",\"Azerbaijan\",\"Algeria\",\"Indonesia\",\"Iraq\",\"Venezuela (Bolivarian Republic of)\"],\"locationmode\":\"country names\",\"locations\":[\"Slovakia\",\"Lao People's Democratic Republic\",\"Paraguay\",\"Serbia\",\"Bosnia and Herzegovina\",\"Equatorial Guinea\",\"Lithuania\",\"Croatia\",\"Puerto Rico\",\"Slovenia\",\"Latvia\",\"Botswana\",\"Bulgaria\",\"Suriname\",\"Vanuatu\",\"Greenland\",\"Dominica\",\"Northern Mariana Islands\",\"Sint Maarten (Dutch part)\",\"Turks and Caicos Islands\",\"British Virgin Islands\",\"Switzerland\",\"China\",\"Austria\",\"France\",\"Romania\",\"Greece\",\"Hungary\",\"Turkey\",\"Viet Nam\",\"South Africa\",\"Sweden\",\"Iran (Islamic Republic of)\",\"Thailand\",\"United Kingdom of Great Britain and Northern Ireland\",\"Portugal\",\"Italy\",\"Argentina\",\"Israel\",\"Mexico\",\"Spain\",\"Brazil\",\"Ukraine\",\"Chile\",\"Libya\",\"Azerbaijan\",\"Algeria\",\"Indonesia\",\"Iraq\",\"Venezuela (Bolivarian Republic of)\"],\"name\":\"5 - 10\",\"showlegend\":true,\"showscale\":false,\"type\":\"choropleth\",\"z\":[1,1,1,1,1,1,1,1,1,1,1,1,1,1,1,1,1,1,1,1,1,1,1,1,1,1,1,1,1,1,1,1,1,1,1,1,1,1,1,1,1,1,1,1,1,1,1,1,1,1]},{\"colorscale\":[[0.0,\"rgb(222,235,247)\"],[1.0,\"rgb(222,235,247)\"]],\"customdata\":[[\"2.6\",\"Djibouti\",\"< 5\"],[\"1.3\",\"Lesotho\",\"< 5\"],[\"1.7\",\"Guinea-Bissau\",\"< 5\"],[\"2.6\",\"Armenia\",\"< 5\"],[\"3.8\",\"Colombia\",\"< 5\"],[\"3.4\",\"Kosovo\",\"< 5\"],[\"3.1\",\"Albania\",\"< 5\"],[\"1.2\",\"Gambia\",\"< 5\"],[\"1.6\",\"Nigeria\",\"< 5\"],[\"4.4\",\"Mauritius\",\"< 5\"],[\"3.9\",\"Myanmar\",\"< 5\"],[\"3.0\",\"Eswatini\",\"< 5\"],[\"2.2\",\"Philippines\",\"< 5\"],[\"4.0\",\"Fiji\",\"< 5\"],[\"3.2\",\"Egypt\",\"< 5\"],[\"3.1\",\"Bhutan\",\"< 5\"],[\"3.9\",\"China, Macao Special Administrative Region\",\"< 5\"],[\"1.2\",\"Uganda\",\"< 5\"],[\"1.7\",\"Timor-Leste\",\"< 5\"],[\"4.1\",\"Maldives\",\"< 5\"],[\"0.1\",\"Saint Martin (French Part)\",\"< 5\"],[\"0.3\",\"Monaco\",\"< 5\"],[\"0.3\",\"Liechtenstein\",\"< 5\"],[\"0.3\",\"Andorra\",\"< 5\"],[\"4.5\",\"Nauru\",\"< 5\"],[\"1.3\",\"Micronesia (Federated States of)\",\"< 5\"],[\"2.8\",\"American Samoa\",\"< 5\"],[\"1.5\",\"Kiribati\",\"< 5\"],[\"2.7\",\"India\",\"< 5\"],[\"2.6\",\"Tonga\",\"< 5\"],[\"1.5\",\"Sao Tome and Principe\",\"< 5\"],[\"3.5\",\"Grenada\",\"< 5\"],[\"0.8\",\"Solomon Islands\",\"< 5\"],[\"2.4\",\"Pakistan\",\"< 5\"],[\"0.1\",\"State of Palestine\",\"< 5\"],[\"3.2\",\"Samoa\",\"< 5\"],[\"3.8\",\"Saint Lucia\",\"< 5\"],[\"4.4\",\"French Polynesia\",\"< 5\"],[\"2.7\",\"Cabo Verde\",\"< 5\"],[\"0.7\",\"Rwanda\",\"< 5\"],[\"2.0\",\"Comoros\",\"< 5\"],[\"2.1\",\"Bangladesh\",\"< 5\"],[\"3.3\",\"Montenegro\",\"< 5\"],[\"1.2\",\"Sierra Leone\",\"< 5\"],[\"4.8\",\"Uzbekistan\",\"< 5\"],[\"0.8\",\"Burundi\",\"< 5\"],[\"3.9\",\"Namibia\",\"< 5\"],[\"1.2\",\"C\\u00f4te d'Ivoire\",\"< 5\"],[\"0.8\",\"Afghanistan\",\"< 5\"],[\"1.2\",\"Cameroon\",\"< 5\"],[\"4.7\",\"Lebanon\",\"< 5\"],[\"3.2\",\"Jordan\",\"< 5\"],[\"1.6\",\"Burkina Faso\",\"< 5\"],[\"2.6\",\"Guinea\",\"< 5\"],[\"3.3\",\"South Sudan\",\"< 5\"],[\"1.2\",\"Mozambique\",\"< 5\"],[\"2.1\",\"Syrian Arab Republic\",\"< 5\"],[\"1.6\",\"Niger\",\"< 5\"],[\"4.0\",\"Cambodia\",\"< 5\"],[\"3.3\",\"Tunisia\",\"< 5\"],[\"3.6\",\"Ecuador\",\"< 5\"],[\"1.4\",\"Ghana\",\"< 5\"],[\"4.7\",\"Papua New Guinea\",\"< 5\"],[\"1.8\",\"Angola\",\"< 5\"],[\"4.9\",\"Bolivia (Plurinational State of)\",\"< 5\"],[\"4.0\",\"Dominican Republic\",\"< 5\"],[\"1.7\",\"Democratic People's Republic of Korea\",\"< 5\"],[\"1.6\",\"Madagascar\",\"< 5\"],[\"1.9\",\"Nepal\",\"< 5\"],[\"2.2\",\"Mali\",\"< 5\"],[\"2.1\",\"Sri Lanka\",\"< 5\"],[\"4.2\",\"Cuba\",\"< 5\"],[\"2.6\",\"Zambia\",\"< 5\"],[\"2.9\",\"Guatemala\",\"< 5\"],[\"2.0\",\"Zimbabwe\",\"< 5\"],[\"1.8\",\"Somalia\",\"< 5\"],[\"4.8\",\"Chad\",\"< 5\"],[\"3.0\",\"Mauritania\",\"< 5\"],[\"4.8\",\"The former Yugoslav Republic of Macedonia\",\"< 5\"],[\"1.5\",\"Ethiopia\",\"< 5\"],[\"0.6\",\"Democratic Republic of the Congo\",\"< 5\"],[\"2.2\",\"Central African Republic\",\"< 5\"],[\"3.7\",\"Jamaica\",\"< 5\"],[\"5.0\",\"Gabon\",\"< 5\"],[\"2.6\",\"Sudan\",\"< 5\"],[\"2.8\",\"Morocco\",\"< 5\"],[\"2.1\",\"Congo\",\"< 5\"],[\"1.4\",\"Togo\",\"< 5\"],[\"2.0\",\"El Salvador\",\"< 5\"],[\"4.9\",\"Republic of Moldova\",\"< 5\"],[\"1.3\",\"Haiti\",\"< 5\"],[\"1.5\",\"Senegal\",\"< 5\"],[\"2.9\",\"Peru\",\"< 5\"],[\"4.0\",\"Georgia\",\"< 5\"],[\"0.8\",\"Malawi\",\"< 5\"],[\"3.2\",\"Costa Rica\",\"< 5\"],[\"1.8\",\"Tajikistan\",\"< 5\"],[\"1.5\",\"Benin\",\"< 5\"],[\"2.8\",\"Kyrgyzstan\",\"< 5\"],[\"1.6\",\"United Republic of Tanzania\",\"< 5\"],[\"1.7\",\"Kenya\",\"< 5\"],[\"3.5\",\"Nicaragua\",\"< 5\"],[\"0.8\",\"Yemen\",\"< 5\"],[\"2.4\",\"Honduras\",\"< 5\"],[\"0.0\",\"San Marino\",\"< 5\"]],\"geo\":\"geo\",\"hovertemplate\":\"<b>%{hovertext}</b><br><br>GHG emissions per person=%{customdata[0]}<extra></extra>\",\"hovertext\":[\"Djibouti\",\"Lesotho\",\"Guinea-Bissau\",\"Armenia\",\"Colombia\",\"Kosovo\",\"Albania\",\"Gambia\",\"Nigeria\",\"Mauritius\",\"Myanmar\",\"Eswatini\",\"Philippines\",\"Fiji\",\"Egypt\",\"Bhutan\",\"China, Macao Special Administrative Region\",\"Uganda\",\"Timor-Leste\",\"Maldives\",\"Saint Martin (French Part)\",\"Monaco\",\"Liechtenstein\",\"Andorra\",\"Nauru\",\"Micronesia (Federated States of)\",\"American Samoa\",\"Kiribati\",\"India\",\"Tonga\",\"Sao Tome and Principe\",\"Grenada\",\"Solomon Islands\",\"Pakistan\",\"State of Palestine\",\"Samoa\",\"Saint Lucia\",\"French Polynesia\",\"Cabo Verde\",\"Rwanda\",\"Comoros\",\"Bangladesh\",\"Montenegro\",\"Sierra Leone\",\"Uzbekistan\",\"Burundi\",\"Namibia\",\"C\\u00f4te d'Ivoire\",\"Afghanistan\",\"Cameroon\",\"Lebanon\",\"Jordan\",\"Burkina Faso\",\"Guinea\",\"South Sudan\",\"Mozambique\",\"Syrian Arab Republic\",\"Niger\",\"Cambodia\",\"Tunisia\",\"Ecuador\",\"Ghana\",\"Papua New Guinea\",\"Angola\",\"Bolivia (Plurinational State of)\",\"Dominican Republic\",\"Democratic People's Republic of Korea\",\"Madagascar\",\"Nepal\",\"Mali\",\"Sri Lanka\",\"Cuba\",\"Zambia\",\"Guatemala\",\"Zimbabwe\",\"Somalia\",\"Chad\",\"Mauritania\",\"The former Yugoslav Republic of Macedonia\",\"Ethiopia\",\"Democratic Republic of the Congo\",\"Central African Republic\",\"Jamaica\",\"Gabon\",\"Sudan\",\"Morocco\",\"Congo\",\"Togo\",\"El Salvador\",\"Republic of Moldova\",\"Haiti\",\"Senegal\",\"Peru\",\"Georgia\",\"Malawi\",\"Costa Rica\",\"Tajikistan\",\"Benin\",\"Kyrgyzstan\",\"United Republic of Tanzania\",\"Kenya\",\"Nicaragua\",\"Yemen\",\"Honduras\",\"San Marino\"],\"locationmode\":\"country names\",\"locations\":[\"Djibouti\",\"Lesotho\",\"Guinea-Bissau\",\"Armenia\",\"Colombia\",\"Kosovo\",\"Albania\",\"Gambia\",\"Nigeria\",\"Mauritius\",\"Myanmar\",\"Eswatini\",\"Philippines\",\"Fiji\",\"Egypt\",\"Bhutan\",\"China, Macao Special Administrative Region\",\"Uganda\",\"Timor-Leste\",\"Maldives\",\"Saint Martin (French Part)\",\"Monaco\",\"Liechtenstein\",\"Andorra\",\"Nauru\",\"Micronesia (Federated States of)\",\"American Samoa\",\"Kiribati\",\"India\",\"Tonga\",\"Sao Tome and Principe\",\"Grenada\",\"Solomon Islands\",\"Pakistan\",\"State of Palestine\",\"Samoa\",\"Saint Lucia\",\"French Polynesia\",\"Cabo Verde\",\"Rwanda\",\"Comoros\",\"Bangladesh\",\"Montenegro\",\"Sierra Leone\",\"Uzbekistan\",\"Burundi\",\"Namibia\",\"C\\u00f4te d'Ivoire\",\"Afghanistan\",\"Cameroon\",\"Lebanon\",\"Jordan\",\"Burkina Faso\",\"Guinea\",\"South Sudan\",\"Mozambique\",\"Syrian Arab Republic\",\"Niger\",\"Cambodia\",\"Tunisia\",\"Ecuador\",\"Ghana\",\"Papua New Guinea\",\"Angola\",\"Bolivia (Plurinational State of)\",\"Dominican Republic\",\"Democratic People's Republic of Korea\",\"Madagascar\",\"Nepal\",\"Mali\",\"Sri Lanka\",\"Cuba\",\"Zambia\",\"Guatemala\",\"Zimbabwe\",\"Somalia\",\"Chad\",\"Mauritania\",\"The former Yugoslav Republic of Macedonia\",\"Ethiopia\",\"Democratic Republic of the Congo\",\"Central African Republic\",\"Jamaica\",\"Gabon\",\"Sudan\",\"Morocco\",\"Congo\",\"Togo\",\"El Salvador\",\"Republic of Moldova\",\"Haiti\",\"Senegal\",\"Peru\",\"Georgia\",\"Malawi\",\"Costa Rica\",\"Tajikistan\",\"Benin\",\"Kyrgyzstan\",\"United Republic of Tanzania\",\"Kenya\",\"Nicaragua\",\"Yemen\",\"Honduras\",\"San Marino\"],\"name\":\"< 5\",\"showlegend\":true,\"showscale\":false,\"type\":\"choropleth\",\"z\":[1,1,1,1,1,1,1,1,1,1,1,1,1,1,1,1,1,1,1,1,1,1,1,1,1,1,1,1,1,1,1,1,1,1,1,1,1,1,1,1,1,1,1,1,1,1,1,1,1,1,1,1,1,1,1,1,1,1,1,1,1,1,1,1,1,1,1,1,1,1,1,1,1,1,1,1,1,1,1,1,1,1,1,1,1,1,1,1,1,1,1,1,1,1,1,1,1,1,1,1,1,1,1,1,1]},{\"colorscale\":[[0.0,\"grey\"],[1.0,\"grey\"]],\"customdata\":[[\"No data\",\"Taiwan\",\"No data\"],[\"No data\",\"Eritrea\",\"No data\"],[\"No data\",\"R\\u00e9union\",\"No data\"],[\"No data\",\"Martinique\",\"No data\"],[\"No data\",\"Guadeloupe\",\"No data\"],[\"No data\",\"Falkland Islands (Malvinas)\",\"No data\"],[\"No data\",\"French Guiana\",\"No data\"],[\"No data\",\"Cook Islands\",\"No data\"],[\"No data\",\"Western Sahara\",\"No data\"],[\"No data\",\"United States Minor Outlying Islands\",\"No data\"],[\"No data\",\"Mayotte\",\"No data\"],[\"No data\",\"Guernsey\",\"No data\"],[\"No data\",\"Bonaire, Sint Eustatius and Saba\",\"No data\"],[\"No data\",\"Anguilla\",\"No data\"],[\"No data\",\"Saint Pierre and Miquelon\",\"No data\"],[\"No data\",\"Jersey\",\"No data\"],[\"No data\",\"Niue\",\"No data\"],[\"No data\",\"Montserrat\",\"No data\"],[\"No data\",\"Wallis and Futuna Islands\",\"No data\"],[\"No data\",\"Saint Helena\",\"No data\"],[\"No data\",\"Saint Barth\\u00e9lemy\",\"No data\"],[\"No data\",\"Norfolk Island\",\"No data\"],[\"No data\",\"Cocos (Keeling) Islands\",\"No data\"],[\"No data\",\"Christmas Island\",\"No data\"],[\"No data\",\"Tokelau\",\"No data\"],[\"No data\",\"French Southern Territories\",\"No data\"],[\"No data\",\"Antarctica\",\"No data\"],[\"No data\",\"Bouvet Island\",\"No data\"],[\"No data\",\"Pitcairn\",\"No data\"],[\"No data\",\"South Georgia and the South Sandwich Islands\",\"No data\"],[\"No data\",\"Svalbard and Jan Mayen Islands\",\"No data\"],[\"No data\",\"British Indian Ocean Territory\",\"No data\"],[\"No data\",\"Heard Island and McDonald Islands\",\"No data\"],[\"No data\",\"Holy See\",\"No data\"],[\"No data\",\"\\u00c5land Islands\",\"No data\"]],\"geo\":\"geo\",\"hovertemplate\":\"<b>%{hovertext}</b><br><br>GHG emissions per person=%{customdata[0]}<extra></extra>\",\"hovertext\":[\"Taiwan\",\"Eritrea\",\"R\\u00e9union\",\"Martinique\",\"Guadeloupe\",\"Falkland Islands (Malvinas)\",\"French Guiana\",\"Cook Islands\",\"Western Sahara\",\"United States Minor Outlying Islands\",\"Mayotte\",\"Guernsey\",\"Bonaire, Sint Eustatius and Saba\",\"Anguilla\",\"Saint Pierre and Miquelon\",\"Jersey\",\"Niue\",\"Montserrat\",\"Wallis and Futuna Islands\",\"Saint Helena\",\"Saint Barth\\u00e9lemy\",\"Norfolk Island\",\"Cocos (Keeling) Islands\",\"Christmas Island\",\"Tokelau\",\"French Southern Territories\",\"Antarctica\",\"Bouvet Island\",\"Pitcairn\",\"South Georgia and the South Sandwich Islands\",\"Svalbard and Jan Mayen Islands\",\"British Indian Ocean Territory\",\"Heard Island and McDonald Islands\",\"Holy See\",\"\\u00c5land Islands\"],\"locationmode\":\"country names\",\"locations\":[\"Taiwan\",\"Eritrea\",\"R\\u00e9union\",\"Martinique\",\"Guadeloupe\",\"Falkland Islands (Malvinas)\",\"French Guiana\",\"Cook Islands\",\"Western Sahara\",\"United States Minor Outlying Islands\",\"Mayotte\",\"Guernsey\",\"Bonaire, Sint Eustatius and Saba\",\"Anguilla\",\"Saint Pierre and Miquelon\",\"Jersey\",\"Niue\",\"Montserrat\",\"Wallis and Futuna Islands\",\"Saint Helena\",\"Saint Barth\\u00e9lemy\",\"Norfolk Island\",\"Cocos (Keeling) Islands\",\"Christmas Island\",\"Tokelau\",\"French Southern Territories\",\"Antarctica\",\"Bouvet Island\",\"Pitcairn\",\"South Georgia and the South Sandwich Islands\",\"Svalbard and Jan Mayen Islands\",\"British Indian Ocean Territory\",\"Heard Island and McDonald Islands\",\"Holy See\",\"\\u00c5land Islands\"],\"name\":\"No data\",\"showlegend\":true,\"showscale\":false,\"type\":\"choropleth\",\"z\":[1,1,1,1,1,1,1,1,1,1,1,1,1,1,1,1,1,1,1,1,1,1,1,1,1,1,1,1,1,1,1,1,1,1,1]}],                        {\"annotations\":[{\"font\":{\"family\":\"sans-serif\",\"size\":10},\"showarrow\":false,\"text\":\"Source: <a href=\\\"https://www.climatetrace.org/\\\">\\nClimate Trace</a>, <a href=\\\"https://data.worldbank.org/\\\">\\nWorld Bank</a>\",\"x\":0.015,\"y\":0}],\"autosize\":false,\"font\":{\"family\":\"sans-serif\"},\"geo\":{\"center\":{},\"domain\":{\"x\":[0.0,1.0],\"y\":[0.0,1.0]},\"lataxis\":{\"range\":[-55,90]},\"showframe\":true,\"showlakes\":false},\"height\":400,\"hoverlabel\":{\"bgcolor\":\"white\",\"font\":{\"family\":\"sans-serif\",\"size\":10}},\"legend\":{\"bordercolor\":\"grey\",\"borderwidth\":0.5,\"font\":{\"size\":10},\"title\":{\"text\":\"TCo2eq per person\"},\"tracegroupgap\":0,\"x\":0.015,\"y\":0.07},\"margin\":{\"b\":20,\"l\":20,\"pad\":5,\"r\":20,\"t\":20},\"template\":{\"data\":{\"bar\":[{\"error_x\":{\"color\":\"#2a3f5f\"},\"error_y\":{\"color\":\"#2a3f5f\"},\"marker\":{\"line\":{\"color\":\"#E5ECF6\",\"width\":0.5},\"pattern\":{\"fillmode\":\"overlay\",\"size\":10,\"solidity\":0.2}},\"type\":\"bar\"}],\"barpolar\":[{\"marker\":{\"line\":{\"color\":\"#E5ECF6\",\"width\":0.5},\"pattern\":{\"fillmode\":\"overlay\",\"size\":10,\"solidity\":0.2}},\"type\":\"barpolar\"}],\"carpet\":[{\"aaxis\":{\"endlinecolor\":\"#2a3f5f\",\"gridcolor\":\"white\",\"linecolor\":\"white\",\"minorgridcolor\":\"white\",\"startlinecolor\":\"#2a3f5f\"},\"baxis\":{\"endlinecolor\":\"#2a3f5f\",\"gridcolor\":\"white\",\"linecolor\":\"white\",\"minorgridcolor\":\"white\",\"startlinecolor\":\"#2a3f5f\"},\"type\":\"carpet\"}],\"choropleth\":[{\"colorbar\":{\"outlinewidth\":0,\"ticks\":\"\"},\"type\":\"choropleth\"}],\"contour\":[{\"colorbar\":{\"outlinewidth\":0,\"ticks\":\"\"},\"colorscale\":[[0.0,\"#0d0887\"],[0.1111111111111111,\"#46039f\"],[0.2222222222222222,\"#7201a8\"],[0.3333333333333333,\"#9c179e\"],[0.4444444444444444,\"#bd3786\"],[0.5555555555555556,\"#d8576b\"],[0.6666666666666666,\"#ed7953\"],[0.7777777777777778,\"#fb9f3a\"],[0.8888888888888888,\"#fdca26\"],[1.0,\"#f0f921\"]],\"type\":\"contour\"}],\"contourcarpet\":[{\"colorbar\":{\"outlinewidth\":0,\"ticks\":\"\"},\"type\":\"contourcarpet\"}],\"heatmap\":[{\"colorbar\":{\"outlinewidth\":0,\"ticks\":\"\"},\"colorscale\":[[0.0,\"#0d0887\"],[0.1111111111111111,\"#46039f\"],[0.2222222222222222,\"#7201a8\"],[0.3333333333333333,\"#9c179e\"],[0.4444444444444444,\"#bd3786\"],[0.5555555555555556,\"#d8576b\"],[0.6666666666666666,\"#ed7953\"],[0.7777777777777778,\"#fb9f3a\"],[0.8888888888888888,\"#fdca26\"],[1.0,\"#f0f921\"]],\"type\":\"heatmap\"}],\"heatmapgl\":[{\"colorbar\":{\"outlinewidth\":0,\"ticks\":\"\"},\"colorscale\":[[0.0,\"#0d0887\"],[0.1111111111111111,\"#46039f\"],[0.2222222222222222,\"#7201a8\"],[0.3333333333333333,\"#9c179e\"],[0.4444444444444444,\"#bd3786\"],[0.5555555555555556,\"#d8576b\"],[0.6666666666666666,\"#ed7953\"],[0.7777777777777778,\"#fb9f3a\"],[0.8888888888888888,\"#fdca26\"],[1.0,\"#f0f921\"]],\"type\":\"heatmapgl\"}],\"histogram\":[{\"marker\":{\"pattern\":{\"fillmode\":\"overlay\",\"size\":10,\"solidity\":0.2}},\"type\":\"histogram\"}],\"histogram2d\":[{\"colorbar\":{\"outlinewidth\":0,\"ticks\":\"\"},\"colorscale\":[[0.0,\"#0d0887\"],[0.1111111111111111,\"#46039f\"],[0.2222222222222222,\"#7201a8\"],[0.3333333333333333,\"#9c179e\"],[0.4444444444444444,\"#bd3786\"],[0.5555555555555556,\"#d8576b\"],[0.6666666666666666,\"#ed7953\"],[0.7777777777777778,\"#fb9f3a\"],[0.8888888888888888,\"#fdca26\"],[1.0,\"#f0f921\"]],\"type\":\"histogram2d\"}],\"histogram2dcontour\":[{\"colorbar\":{\"outlinewidth\":0,\"ticks\":\"\"},\"colorscale\":[[0.0,\"#0d0887\"],[0.1111111111111111,\"#46039f\"],[0.2222222222222222,\"#7201a8\"],[0.3333333333333333,\"#9c179e\"],[0.4444444444444444,\"#bd3786\"],[0.5555555555555556,\"#d8576b\"],[0.6666666666666666,\"#ed7953\"],[0.7777777777777778,\"#fb9f3a\"],[0.8888888888888888,\"#fdca26\"],[1.0,\"#f0f921\"]],\"type\":\"histogram2dcontour\"}],\"mesh3d\":[{\"colorbar\":{\"outlinewidth\":0,\"ticks\":\"\"},\"type\":\"mesh3d\"}],\"parcoords\":[{\"line\":{\"colorbar\":{\"outlinewidth\":0,\"ticks\":\"\"}},\"type\":\"parcoords\"}],\"pie\":[{\"automargin\":true,\"type\":\"pie\"}],\"scatter\":[{\"marker\":{\"colorbar\":{\"outlinewidth\":0,\"ticks\":\"\"}},\"type\":\"scatter\"}],\"scatter3d\":[{\"line\":{\"colorbar\":{\"outlinewidth\":0,\"ticks\":\"\"}},\"marker\":{\"colorbar\":{\"outlinewidth\":0,\"ticks\":\"\"}},\"type\":\"scatter3d\"}],\"scattercarpet\":[{\"marker\":{\"colorbar\":{\"outlinewidth\":0,\"ticks\":\"\"}},\"type\":\"scattercarpet\"}],\"scattergeo\":[{\"marker\":{\"colorbar\":{\"outlinewidth\":0,\"ticks\":\"\"}},\"type\":\"scattergeo\"}],\"scattergl\":[{\"marker\":{\"colorbar\":{\"outlinewidth\":0,\"ticks\":\"\"}},\"type\":\"scattergl\"}],\"scattermapbox\":[{\"marker\":{\"colorbar\":{\"outlinewidth\":0,\"ticks\":\"\"}},\"type\":\"scattermapbox\"}],\"scatterpolar\":[{\"marker\":{\"colorbar\":{\"outlinewidth\":0,\"ticks\":\"\"}},\"type\":\"scatterpolar\"}],\"scatterpolargl\":[{\"marker\":{\"colorbar\":{\"outlinewidth\":0,\"ticks\":\"\"}},\"type\":\"scatterpolargl\"}],\"scatterternary\":[{\"marker\":{\"colorbar\":{\"outlinewidth\":0,\"ticks\":\"\"}},\"type\":\"scatterternary\"}],\"surface\":[{\"colorbar\":{\"outlinewidth\":0,\"ticks\":\"\"},\"colorscale\":[[0.0,\"#0d0887\"],[0.1111111111111111,\"#46039f\"],[0.2222222222222222,\"#7201a8\"],[0.3333333333333333,\"#9c179e\"],[0.4444444444444444,\"#bd3786\"],[0.5555555555555556,\"#d8576b\"],[0.6666666666666666,\"#ed7953\"],[0.7777777777777778,\"#fb9f3a\"],[0.8888888888888888,\"#fdca26\"],[1.0,\"#f0f921\"]],\"type\":\"surface\"}],\"table\":[{\"cells\":{\"fill\":{\"color\":\"#EBF0F8\"},\"line\":{\"color\":\"white\"}},\"header\":{\"fill\":{\"color\":\"#C8D4E3\"},\"line\":{\"color\":\"white\"}},\"type\":\"table\"}]},\"layout\":{\"annotationdefaults\":{\"arrowcolor\":\"#2a3f5f\",\"arrowhead\":0,\"arrowwidth\":1},\"autotypenumbers\":\"strict\",\"coloraxis\":{\"colorbar\":{\"outlinewidth\":0,\"ticks\":\"\"}},\"colorscale\":{\"diverging\":[[0,\"#8e0152\"],[0.1,\"#c51b7d\"],[0.2,\"#de77ae\"],[0.3,\"#f1b6da\"],[0.4,\"#fde0ef\"],[0.5,\"#f7f7f7\"],[0.6,\"#e6f5d0\"],[0.7,\"#b8e186\"],[0.8,\"#7fbc41\"],[0.9,\"#4d9221\"],[1,\"#276419\"]],\"sequential\":[[0.0,\"#0d0887\"],[0.1111111111111111,\"#46039f\"],[0.2222222222222222,\"#7201a8\"],[0.3333333333333333,\"#9c179e\"],[0.4444444444444444,\"#bd3786\"],[0.5555555555555556,\"#d8576b\"],[0.6666666666666666,\"#ed7953\"],[0.7777777777777778,\"#fb9f3a\"],[0.8888888888888888,\"#fdca26\"],[1.0,\"#f0f921\"]],\"sequentialminus\":[[0.0,\"#0d0887\"],[0.1111111111111111,\"#46039f\"],[0.2222222222222222,\"#7201a8\"],[0.3333333333333333,\"#9c179e\"],[0.4444444444444444,\"#bd3786\"],[0.5555555555555556,\"#d8576b\"],[0.6666666666666666,\"#ed7953\"],[0.7777777777777778,\"#fb9f3a\"],[0.8888888888888888,\"#fdca26\"],[1.0,\"#f0f921\"]]},\"colorway\":[\"#636efa\",\"#EF553B\",\"#00cc96\",\"#ab63fa\",\"#FFA15A\",\"#19d3f3\",\"#FF6692\",\"#B6E880\",\"#FF97FF\",\"#FECB52\"],\"font\":{\"color\":\"#2a3f5f\"},\"geo\":{\"bgcolor\":\"white\",\"lakecolor\":\"white\",\"landcolor\":\"#E5ECF6\",\"showlakes\":true,\"showland\":true,\"subunitcolor\":\"white\"},\"hoverlabel\":{\"align\":\"left\"},\"hovermode\":\"closest\",\"mapbox\":{\"style\":\"light\"},\"paper_bgcolor\":\"white\",\"plot_bgcolor\":\"#E5ECF6\",\"polar\":{\"angularaxis\":{\"gridcolor\":\"white\",\"linecolor\":\"white\",\"ticks\":\"\"},\"bgcolor\":\"#E5ECF6\",\"radialaxis\":{\"gridcolor\":\"white\",\"linecolor\":\"white\",\"ticks\":\"\"}},\"scene\":{\"xaxis\":{\"backgroundcolor\":\"#E5ECF6\",\"gridcolor\":\"white\",\"gridwidth\":2,\"linecolor\":\"white\",\"showbackground\":true,\"ticks\":\"\",\"zerolinecolor\":\"white\"},\"yaxis\":{\"backgroundcolor\":\"#E5ECF6\",\"gridcolor\":\"white\",\"gridwidth\":2,\"linecolor\":\"white\",\"showbackground\":true,\"ticks\":\"\",\"zerolinecolor\":\"white\"},\"zaxis\":{\"backgroundcolor\":\"#E5ECF6\",\"gridcolor\":\"white\",\"gridwidth\":2,\"linecolor\":\"white\",\"showbackground\":true,\"ticks\":\"\",\"zerolinecolor\":\"white\"}},\"shapedefaults\":{\"line\":{\"color\":\"#2a3f5f\"}},\"ternary\":{\"aaxis\":{\"gridcolor\":\"white\",\"linecolor\":\"white\",\"ticks\":\"\"},\"baxis\":{\"gridcolor\":\"white\",\"linecolor\":\"white\",\"ticks\":\"\"},\"bgcolor\":\"#E5ECF6\",\"caxis\":{\"gridcolor\":\"white\",\"linecolor\":\"white\",\"ticks\":\"\"}},\"title\":{\"x\":0.05},\"xaxis\":{\"automargin\":true,\"gridcolor\":\"white\",\"linecolor\":\"white\",\"ticks\":\"\",\"title\":{\"standoff\":15},\"zerolinecolor\":\"white\",\"zerolinewidth\":2},\"yaxis\":{\"automargin\":true,\"gridcolor\":\"white\",\"linecolor\":\"white\",\"ticks\":\"\",\"title\":{\"standoff\":15},\"zerolinecolor\":\"white\",\"zerolinewidth\":2}}},\"title\":{\"font\":{\"family\":\"sans-serif\"},\"text\":\"GHG emissions per capita (2020)\",\"x\":0.5,\"xanchor\":\"center\",\"y\":0.95,\"yanchor\":\"top\"},\"width\":800},                        {\"responsive\": true}                    ).then(function(){\n",
       "                            \n",
       "var gd = document.getElementById('eeae40ae-e211-497b-b136-0114a61cd71c');\n",
       "var x = new MutationObserver(function (mutations, observer) {{\n",
       "        var display = window.getComputedStyle(gd).display;\n",
       "        if (!display || display === 'none') {{\n",
       "            console.log([gd, 'removed!']);\n",
       "            Plotly.purge(gd);\n",
       "            observer.disconnect();\n",
       "        }}\n",
       "}});\n",
       "\n",
       "// Listen for the removal of the full notebook cells\n",
       "var notebookContainer = gd.closest('#notebook-container');\n",
       "if (notebookContainer) {{\n",
       "    x.observe(notebookContainer, {childList: true});\n",
       "}}\n",
       "\n",
       "// Listen for the clearing of the current output cell\n",
       "var outputEl = gd.closest('.output');\n",
       "if (outputEl) {{\n",
       "    x.observe(outputEl, {childList: true});\n",
       "}}\n",
       "\n",
       "                        })                };                });            </script>        </div>"
      ]
     },
     "metadata": {},
     "output_type": "display_data"
    }
   ],
   "source": [
    "for metric in metrics:\n",
    "    show_map(metric, '2020', 'img')"
   ]
  },
  {
   "cell_type": "markdown",
   "metadata": {
    "tags": []
   },
   "source": [
    "#### Maps sector"
   ]
  },
  {
   "cell_type": "code",
   "execution_count": 57,
   "metadata": {},
   "outputs": [],
   "source": [
    "def percentiles_sector (df, sector):\n",
    "    \n",
    "    percentiles=[0]\n",
    "    \n",
    "    if sector == 'agriculture':\n",
    "        values = [50, 100, 200, 500]     \n",
    "    if sector == 'buildings':\n",
    "        values = [25, 50, 100, 500]\n",
    "    if sector == 'extraction':\n",
    "        values = [1, 3, 5, 7]  \n",
    "    if sector == 'manufacturing':\n",
    "        values = [30, 100, 500, 1000]\n",
    "    if sector == 'maritime':\n",
    "        values = [1, 10, 50, 100]\n",
    "    if sector == 'oil and gas':\n",
    "        values = [25, 100, 500, 1000]\n",
    "    if sector == 'power':\n",
    "        values = [25, 50, 100, 1000]\n",
    "    if sector == 'transport':\n",
    "        values = [25, 50, 100, 500]     \n",
    "    if sector == 'waste':\n",
    "        values = [20, 50, 100, 500]\n",
    "        \n",
    "    for val in values:\n",
    "        percentile = stats.percentileofscore(df['million_tonnes_co2e'], val) / 100\n",
    "        percentiles.append(percentile)\n",
    "    \n",
    "    percentiles.append(1)\n",
    "            \n",
    "    values = values[::-1]\n",
    "    values = [str(val) for val in values]\n",
    "    legend_values = list(range(len(values) + 1))\n",
    "    \n",
    "    legend_values[0] = '> ' + values[0]\n",
    "    legend_values[1] = values[1]+ ' - ' + values[0]\n",
    "    legend_values[2] = values[2]+ ' - ' + values[1]\n",
    "    legend_values[3] = values[3]+ ' - ' + values[2]\n",
    "    legend_values[4] = '< ' + values[3]\n",
    "    return legend_values, percentiles"
   ]
  },
  {
   "cell_type": "code",
   "execution_count": 58,
   "metadata": {},
   "outputs": [],
   "source": [
    "def df_sector(sector, year):\n",
    "    \n",
    "    ghg_year = ghg[(ghg.year ==year) & (ghg.sector ==sector)]\n",
    "    \n",
    "    \n",
    "    ghg_map= ghg_year.groupby(['country_full'])[['million_tonnes_co2e']].sum().reset_index().sort_values(by=['million_tonnes_co2e'], ascending=False)\n",
    "    legend_values, percentiles  = percentiles_sector(ghg_map, sector)\n",
    "        \n",
    "    ghg_map['range']=pd.qcut(ghg_map['million_tonnes_co2e'], q=percentiles, precision = 0, labels=False)\n",
    "    ghg_map = ghg_map.sort_values(by='range', ascending=False)\n",
    "    ghg_map['million_tonnes_co2e'] =ghg_map['million_tonnes_co2e'].round(1)\n",
    "    ghg_map['million_tonnes_co2e'] =ghg_map.apply(lambda x: \"{:,}\".format(x['million_tonnes_co2e']), axis=1)\n",
    "    ghg_map['million_tonnes_co2e'] = ghg_map['million_tonnes_co2e'].astype(str)\n",
    "    ghg_map['million_tonnes_co2e']= ghg_map['million_tonnes_co2e'].replace({'nan':'No data'})\n",
    "    dictionary = dict(zip(ghg_map['range'].unique(), legend_values))\n",
    "    dictionary['No data'] ='No data'\n",
    "    ghg_map= ghg_map.replace({\"range\": dictionary})\n",
    "    \n",
    "    ghg_subsector = ghg_year.groupby(['country_full','subsector'])[['million_tonnes_co2e']].sum().reset_index().sort_values(by=['million_tonnes_co2e'], ascending=False)\n",
    "    ghg_subsector= ghg_subsector.pivot_table(values='million_tonnes_co2e',columns='subsector',index='country_full').reset_index()\n",
    "    ghg_subsector = ghg_subsector.round(1)\n",
    "    ghg_map= ghg_map.merge(ghg_subsector, on='country_full',how='left')\n",
    "    \n",
    "    return ghg_map\n",
    "\n",
    "\n",
    "        "
   ]
  },
  {
   "cell_type": "code",
   "execution_count": 80,
   "metadata": {
    "tags": []
   },
   "outputs": [],
   "source": [
    "def show_map_sector(sector, year, map_format='img'):\n",
    "    scale = ['rgb(8,48,107)','rgb(33,113,181)','rgb(66,146,198)','rgb(158,202,225)','rgb(222,235,247)','grey']\n",
    "\n",
    "    ghg_map = df_sector(sector, year)\n",
    "    hover_data = {'million_tonnes_co2e':True, 'country_full':False,'range':False,}\n",
    "\n",
    "    for col in ghg_map.columns[3:]:\n",
    "        hover_data[col]=True\n",
    "    \n",
    "    title = 'GHG emissions'\n",
    "    label = 'Emissions from {sector}'.format(sector=sector)\n",
    "    measure= 'MTCo2eq'\n",
    "    source = 'Source: <a href=\"https://www.climatetrace.org/\">\\nClimate Trace</a>'\n",
    "    hover_info= 'Hover over countries to see GHG emissions by subsector'\n",
    "    annotation_1 = dict(x=0.015,y=0,text=source,font_size=10,font_family='sans-serif',showarrow = False)\n",
    "    annotation_2= dict(x=1,y=0,text=hover_info,font_size=10,font_family='sans-serif',showarrow = False)\n",
    "\n",
    "    if map_format == 'img':\n",
    "        annotations= [annotation_1]\n",
    "    elif map_format == 'html':\n",
    "        annotations= [annotation_1, annotation_2]\n",
    "    print(annotations)\n",
    "\n",
    "    \n",
    "    fig = px.choropleth(ghg_map, locations=\"country_full\", \n",
    "                        locationmode='country names', color='range',\n",
    "                        hover_name=\"country_full\",\n",
    "                        hover_data=hover_data,\n",
    "                        color_discrete_sequence=scale,\n",
    "                        labels={'million_tonnes_co2e': label})\n",
    "                       \n",
    "    fig.update_layout(autosize=False, \n",
    "                      width=800, \n",
    "                      height=400,\n",
    "                      font_family=\"sans-serif\",\n",
    "                      title_font_family=\"sans-serif\",\n",
    "                      \n",
    "                      margin=dict(\n",
    "                                  l=20,\n",
    "                                  r=20,\n",
    "                                  b=20,\n",
    "                                  t=20,\n",
    "                                  ),\n",
    "                        \n",
    "                      hoverlabel=dict(\n",
    "                                  bgcolor=\"white\",\n",
    "                                  font_size=10,\n",
    "                                  font_family=\"sans-serif\"\n",
    "                                    ),\n",
    "                      \n",
    "                      title=dict(\n",
    "                                 text= \"{title} from {sector} ({year})\".format(title = title, sector=sector, year=year),\n",
    "                                 xanchor = 'center',\n",
    "                                 x=0.5,\n",
    "                                 yanchor = 'top',\n",
    "                                 y=0.95),\n",
    "                      \n",
    "                      geo=dict(\n",
    "                              showframe=True,\n",
    "                                lataxis=dict(range=[-55,90]),\n",
    "                              showlakes=False),\n",
    "                      \n",
    "                      legend=dict(\n",
    "                                y=0.07,\n",
    "                                font_size=10,\n",
    "                                title=measure,\n",
    "                                x=0.015,\n",
    "                                bordercolor=\"grey\",\n",
    "                                borderwidth=0.5\n",
    "                                ),\n",
    "                      \n",
    "                      annotations = annotations\n",
    "                     )\n",
    "    if map_format=='img':\n",
    "        fig.write_image(\"./img_visualisations/{sector}_{year}.png\".format(sector=sector, year=year))\n",
    "    elif map_format =='html':\n",
    "        fig.write_html(\"./html_visualisations/{sector}_{year}.html\".format(sector=sector, year=year))\n",
    "\n",
    "\n",
    "    fig.show()\n",
    "    "
   ]
  },
  {
   "cell_type": "code",
   "execution_count": 81,
   "metadata": {},
   "outputs": [],
   "source": [
    "sectors = ghg.sector.unique()"
   ]
  },
  {
   "cell_type": "code",
   "execution_count": null,
   "metadata": {},
   "outputs": [
    {
     "name": "stdout",
     "output_type": "stream",
     "text": [
      "[{'x': 0.015, 'y': 0, 'text': 'Source: <a href=\"https://www.climatetrace.org/\">\\nClimate Trace</a>', 'font_size': 10, 'font_family': 'sans-serif', 'showarrow': False}, {'x': 1, 'y': 0, 'text': 'Hover over countries to see GHG emissions by subsector', 'font_size': 10, 'font_family': 'sans-serif', 'showarrow': False}]\n"
     ]
    },
    {
     "data": {
      "application/vnd.plotly.v1+json": {
       "config": {
        "plotlyServerURL": "https://plot.ly"
       },
       "data": [
        {
         "colorscale": [
          [
           0,
           "rgb(8,48,107)"
          ],
          [
           1,
           "rgb(8,48,107)"
          ]
         ],
         "customdata": [
          [
           "838.5",
           "India",
           "> 500",
           28.7,
           393.5,
           166.4,
           37.2,
           212.8
          ],
          [
           "524.2",
           "Brazil",
           "> 500",
           19.6,
           355.1,
           123.1,
           12.7,
           13.7
          ],
          [
           "651.7",
           "China",
           "> 500",
           12.8,
           183.2,
           224.5,
           51.9,
           179.3
          ]
         ],
         "geo": "geo",
         "hovertemplate": "<b>%{hovertext}</b><br><br>Emissions from agriculture=%{customdata[0]}<br>cropland fires=%{customdata[3]}<br>enteric fermentation=%{customdata[4]}<br>managed soils=%{customdata[5]}<br>manure management=%{customdata[6]}<br>rice cultivation=%{customdata[7]}<extra></extra>",
         "hovertext": [
          "India",
          "Brazil",
          "China"
         ],
         "locationmode": "country names",
         "locations": [
          "India",
          "Brazil",
          "China"
         ],
         "name": "> 500",
         "showlegend": true,
         "showscale": false,
         "type": "choropleth",
         "z": [
          1,
          1,
          1
         ]
        },
        {
         "colorscale": [
          [
           0,
           "rgb(33,113,181)"
          ],
          [
           1,
           "rgb(33,113,181)"
          ]
         ],
         "customdata": [
          [
           "448.4",
           "Indonesia",
           "200 - 500",
           0.6,
           30.2,
           374.4,
           9.9,
           33.3
          ],
          [
           "398.3",
           "United States of America",
           "200 - 500",
           8.8,
           170.6,
           158.3,
           55.3,
           5.4
          ],
          [
           "202.7",
           "Pakistan",
           "200 - 500",
           3.6,
           128.1,
           40.6,
           12.5,
           17.9
          ]
         ],
         "geo": "geo",
         "hovertemplate": "<b>%{hovertext}</b><br><br>Emissions from agriculture=%{customdata[0]}<br>cropland fires=%{customdata[3]}<br>enteric fermentation=%{customdata[4]}<br>managed soils=%{customdata[5]}<br>manure management=%{customdata[6]}<br>rice cultivation=%{customdata[7]}<extra></extra>",
         "hovertext": [
          "Indonesia",
          "United States of America",
          "Pakistan"
         ],
         "locationmode": "country names",
         "locations": [
          "Indonesia",
          "United States of America",
          "Pakistan"
         ],
         "name": "200 - 500",
         "showlegend": true,
         "showscale": false,
         "type": "choropleth",
         "z": [
          1,
          1,
          1
         ]
        },
        {
         "colorscale": [
          [
           0,
           "rgb(66,146,198)"
          ],
          [
           1,
           "rgb(66,146,198)"
          ]
         ],
         "customdata": [
          [
           "115.5",
           "Ethiopia",
           "100 - 200",
           2.1,
           73.1,
           37.2,
           2.8,
           0.2
          ],
          [
           "100.6",
           "Mexico",
           "100 - 200",
           7.6,
           64.4,
           24.4,
           4.1,
           0.1
          ],
          [
           "118.1",
           "Myanmar",
           "100 - 200",
           8.5,
           35.4,
           29.1,
           10.9,
           34.2
          ],
          [
           "125.3",
           "Russian Federation",
           "100 - 200",
           11.7,
           43.8,
           56.1,
           12.2,
           1.5
          ],
          [
           "134.7",
           "Bangladesh",
           "100 - 200",
           0.1,
           33,
           39.7,
           2.9,
           59
          ],
          [
           "135.9",
           "Argentina",
           "100 - 200",
           4.8,
           90.3,
           37,
           2.4,
           1.4
          ]
         ],
         "geo": "geo",
         "hovertemplate": "<b>%{hovertext}</b><br><br>Emissions from agriculture=%{customdata[0]}<br>cropland fires=%{customdata[3]}<br>enteric fermentation=%{customdata[4]}<br>managed soils=%{customdata[5]}<br>manure management=%{customdata[6]}<br>rice cultivation=%{customdata[7]}<extra></extra>",
         "hovertext": [
          "Ethiopia",
          "Mexico",
          "Myanmar",
          "Russian Federation",
          "Bangladesh",
          "Argentina"
         ],
         "locationmode": "country names",
         "locations": [
          "Ethiopia",
          "Mexico",
          "Myanmar",
          "Russian Federation",
          "Bangladesh",
          "Argentina"
         ],
         "name": "100 - 200",
         "showlegend": true,
         "showscale": false,
         "type": "choropleth",
         "z": [
          1,
          1,
          1,
          1,
          1,
          1
         ]
        },
        {
         "colorscale": [
          [
           0,
           "rgb(158,202,225)"
          ],
          [
           1,
           "rgb(158,202,225)"
          ]
         ],
         "customdata": [
          [
           "72.1",
           "Canada",
           "50 - 100",
           1.7,
           20.1,
           42.5,
           7.7,
           0
          ],
          [
           "50.2",
           "United Kingdom of Great Britain and Northern Ireland",
           "50 - 100",
           0,
           26.6,
           17.8,
           5.7,
           0
          ],
          [
           "56.3",
           "Malaysia",
           "50 - 100",
           0.1,
           1.2,
           50.9,
           0.9,
           3.2
          ],
          [
           "60.7",
           "United Republic of Tanzania",
           "50 - 100",
           5.4,
           31,
           18.5,
           1.2,
           4.6
          ],
          [
           "65.0",
           "Colombia",
           "50 - 100",
           0.3,
           46.2,
           13.9,
           1.5,
           3.1
          ],
          [
           "65.7",
           "Germany",
           "50 - 100",
           0.1,
           27,
           27.3,
           11.3,
           0
          ],
          [
           "70.7",
           "Chad",
           "50 - 100",
           1.9,
           49.8,
           16.3,
           2.3,
           0.4
          ],
          [
           "72.6",
           "Sudan",
           "50 - 100",
           2.3,
           49.8,
           18.2,
           2.2,
           0
          ],
          [
           "76.1",
           "France",
           "50 - 100",
           0.1,
           37.3,
           27.4,
           11,
           0.2
          ],
          [
           "76.8",
           "Viet Nam",
           "50 - 100",
           1.9,
           12.8,
           17.6,
           6,
           38.5
          ],
          [
           "85.7",
           "Nigeria",
           "50 - 100",
           9.1,
           37.9,
           19.6,
           2.9,
           16.2
          ],
          [
           "93.8",
           "Australia",
           "50 - 100",
           2.6,
           58.2,
           27.6,
           5.4,
           0.1
          ],
          [
           "72.4",
           "Thailand",
           "50 - 100",
           6.7,
           7.9,
           12,
           3.2,
           42.6
          ]
         ],
         "geo": "geo",
         "hovertemplate": "<b>%{hovertext}</b><br><br>Emissions from agriculture=%{customdata[0]}<br>cropland fires=%{customdata[3]}<br>enteric fermentation=%{customdata[4]}<br>managed soils=%{customdata[5]}<br>manure management=%{customdata[6]}<br>rice cultivation=%{customdata[7]}<extra></extra>",
         "hovertext": [
          "Canada",
          "United Kingdom of Great Britain and Northern Ireland",
          "Malaysia",
          "United Republic of Tanzania",
          "Colombia",
          "Germany",
          "Chad",
          "Sudan",
          "France",
          "Viet Nam",
          "Nigeria",
          "Australia",
          "Thailand"
         ],
         "locationmode": "country names",
         "locations": [
          "Canada",
          "United Kingdom of Great Britain and Northern Ireland",
          "Malaysia",
          "United Republic of Tanzania",
          "Colombia",
          "Germany",
          "Chad",
          "Sudan",
          "France",
          "Viet Nam",
          "Nigeria",
          "Australia",
          "Thailand"
         ],
         "name": "50 - 100",
         "showlegend": true,
         "showscale": false,
         "type": "choropleth",
         "z": [
          1,
          1,
          1,
          1,
          1,
          1,
          1,
          1,
          1,
          1,
          1,
          1,
          1
         ]
        },
        {
         "colorscale": [
          [
           0,
           "rgb(222,235,247)"
          ],
          [
           1,
           "rgb(222,235,247)"
          ]
         ],
         "customdata": [
          [
           "0.1",
           "Bahrain",
           "< 50",
           0,
           0,
           0,
           0,
           0
          ],
          [
           "0.1",
           "Cabo Verde",
           "< 50",
           0,
           0.1,
           0,
           0,
           0
          ],
          [
           "0.1",
           "China, Hong Kong Special Administrative Region",
           "< 50",
           0,
           0,
           0,
           0,
           0
          ],
          [
           "0.1",
           "Tonga",
           "< 50",
           0,
           0,
           0,
           0,
           0
          ],
          [
           "0.1",
           "Solomon Islands",
           "< 50",
           0,
           0,
           0,
           0,
           0
          ],
          [
           "0.1",
           "Faroe Islands",
           "< 50",
           0,
           0,
           0.1,
           0,
           0
          ],
          [
           "0.1",
           "Réunion",
           "< 50",
           0,
           0,
           0.1,
           0,
           0
          ],
          [
           "0.1",
           "French Guiana",
           "< 50",
           0,
           0,
           0.1,
           0,
           0
          ],
          [
           "0.1",
           "Mauritius",
           "< 50",
           0,
           0,
           0.1,
           0,
           0
          ],
          [
           "0.2",
           "Guadeloupe",
           "< 50",
           0,
           0.1,
           0,
           0,
           0
          ],
          [
           "0.2",
           "New Caledonia",
           "< 50",
           0,
           0.1,
           0,
           0,
           0
          ],
          [
           "0.2",
           "Samoa",
           "< 50",
           0,
           0.1,
           0,
           0.1,
           0
          ],
          [
           "0.1",
           "Malta",
           "< 50",
           0,
           0,
           0,
           0,
           0
          ],
          [
           "0.0",
           "Grenada",
           "< 50",
           0,
           0,
           0,
           0,
           0
          ],
          [
           "0.1",
           "Micronesia (Federated States of)",
           "< 50",
           0,
           0,
           0,
           0,
           0
          ],
          [
           "0.1",
           "Barbados",
           "< 50",
           0,
           0,
           0,
           0,
           0
          ],
          [
           "0.0",
           "French Polynesia",
           "< 50",
           0,
           0,
           0,
           0,
           0
          ],
          [
           "0.0",
           "Dominica",
           "< 50",
           0,
           0,
           0,
           0,
           0
          ],
          [
           "0.0",
           "Saint Lucia",
           "< 50",
           0,
           0,
           0,
           0,
           0
          ],
          [
           "0.0",
           "Martinique",
           "< 50",
           0,
           0,
           0,
           0,
           0
          ],
          [
           "0.0",
           "Equatorial Guinea",
           "< 50",
           0,
           0,
           0,
           0,
           0
          ],
          [
           "0.0",
           "Bahamas",
           "< 50",
           0,
           0,
           0,
           0,
           0
          ],
          [
           "0.0",
           "Antigua and Barbuda",
           "< 50",
           0,
           0,
           0,
           0,
           0
          ],
          [
           "0.0",
           "Singapore",
           "< 50",
           0,
           0,
           0,
           0,
           0
          ],
          [
           "0.3",
           "State of Palestine",
           "< 50",
           0,
           0.2,
           0.1,
           0,
           0
          ],
          [
           "0.0",
           "Sao Tome and Principe",
           "< 50",
           0,
           0,
           0,
           0,
           0
          ],
          [
           "0.3",
           "Trinidad and Tobago",
           "< 50",
           0,
           0.1,
           0.1,
           0,
           0
          ],
          [
           "0.6",
           "Iceland",
           "< 50",
           0,
           0.3,
           0.3,
           0.1,
           0
          ],
          [
           "0.3",
           "Comoros",
           "< 50",
           0,
           0.1,
           0,
           0,
           0.2
          ],
          [
           "0.7",
           "Belize",
           "< 50",
           0.1,
           0.2,
           0.4,
           0,
           0
          ],
          [
           "1.4",
           "Israel",
           "< 50",
           0,
           0.6,
           0.7,
           0.1,
           0
          ],
          [
           "1.4",
           "Gambia",
           "< 50",
           0.2,
           0.5,
           0.2,
           0,
           0.5
          ],
          [
           "1.3",
           "Lesotho",
           "< 50",
           0,
           0.9,
           0.3,
           0,
           0
          ],
          [
           "1.3",
           "The former Yugoslav Republic of Macedonia",
           "< 50",
           0.1,
           0.7,
           0.2,
           0.2,
           0
          ],
          [
           "1.2",
           "Falkland Islands (Malvinas)",
           "< 50",
           0,
           0,
           1.2,
           0,
           0
          ],
          [
           "1.1",
           "Jordan",
           "< 50",
           0,
           0.6,
           0.4,
           0,
           0
          ],
          [
           "1.1",
           "Gabon",
           "< 50",
           0,
           0.1,
           1,
           0,
           0
          ],
          [
           "1.1",
           "Eswatini",
           "< 50",
           0.1,
           0.6,
           0.3,
           0,
           0
          ],
          [
           "0.9",
           "Timor-Leste",
           "< 50",
           0,
           0.5,
           0.1,
           0.2,
           0.1
          ],
          [
           "0.9",
           "Puerto Rico",
           "< 50",
           0,
           0.6,
           0.3,
           0,
           0
          ],
          [
           "0.8",
           "Jamaica",
           "< 50",
           0,
           0.3,
           0.5,
           0,
           0
          ],
          [
           "0.7",
           "Lebanon",
           "< 50",
           0,
           0.2,
           0.4,
           0.1,
           0
          ],
          [
           "0.4",
           "Cyprus",
           "< 50",
           0,
           0.2,
           0.1,
           0.1,
           0
          ],
          [
           "0.7",
           "Djibouti",
           "< 50",
           0,
           0.5,
           0.2,
           0,
           0
          ],
          [
           "0.0",
           "Kiribati",
           "< 50",
           0,
           0,
           0,
           0,
           0
          ],
          [
           "0.6",
           "Luxembourg",
           "< 50",
           0,
           0.4,
           0.1,
           0.1,
           0
          ],
          [
           "0.6",
           "Fiji",
           "< 50",
           0,
           0.3,
           0.2,
           0.1,
           0
          ],
          [
           "0.6",
           "Liberia",
           "< 50",
           0,
           0.2,
           0.3,
           0.1,
           0.1
          ],
          [
           "0.6",
           "Qatar",
           "< 50",
           0,
           0.4,
           0.1,
           0,
           0
          ],
          [
           "0.5",
           "Bhutan",
           "< 50",
           0,
           0.4,
           0.1,
           0,
           0
          ],
          [
           "0.5",
           "Vanuatu",
           "< 50",
           0,
           0.3,
           0.1,
           0.1,
           0
          ],
          [
           "0.4",
           "Montenegro",
           "< 50",
           0,
           0.3,
           0.1,
           0.1,
           0
          ],
          [
           "0.4",
           "Kuwait",
           "< 50",
           0,
           0.2,
           0.2,
           0,
           0
          ],
          [
           "0.4",
           "Brunei Darussalam",
           "< 50",
           0,
           0,
           0.4,
           0,
           0
          ],
          [
           "0.0",
           "Saint Vincent and the Grenadines",
           "< 50",
           0,
           0,
           0,
           0,
           0
          ],
          [
           "0.0",
           "United States Virgin Islands",
           "< 50",
           0,
           0,
           0,
           0,
           0
          ],
          [
           "0.0",
           "Saint Kitts and Nevis",
           "< 50",
           0,
           0,
           0,
           0,
           0
          ],
          [
           "0.0",
           "Cook Islands",
           "< 50",
           0,
           0,
           0,
           0,
           0
          ],
          [
           "0.0",
           "Heard Island and McDonald Islands",
           "< 50",
           0,
           0,
           0,
           0,
           0
          ],
          [
           "0.0",
           "Monaco",
           "< 50",
           0,
           0,
           0,
           0,
           0
          ],
          [
           "0.0",
           "Mayotte",
           "< 50",
           0,
           0,
           0,
           0,
           0
          ],
          [
           "0.0",
           "Norfolk Island",
           "< 50",
           0,
           0,
           0,
           0,
           0
          ],
          [
           "0.0",
           "Northern Mariana Islands",
           "< 50",
           0,
           0,
           0,
           0,
           0
          ],
          [
           "0.0",
           "Marshall Islands",
           "< 50",
           0,
           0,
           0,
           0,
           0
          ],
          [
           "0.0",
           "Palau",
           "< 50",
           0,
           0,
           0,
           0,
           0
          ],
          [
           "0.0",
           "Liechtenstein",
           "< 50",
           0,
           0,
           0,
           0,
           0
          ],
          [
           "0.0",
           "Kosovo",
           "< 50",
           0,
           0,
           0,
           0,
           0
          ],
          [
           "0.0",
           "Pitcairn",
           "< 50",
           0,
           0,
           0,
           0,
           0
          ],
          [
           "0.0",
           "Jersey",
           "< 50",
           0,
           0,
           0,
           0,
           0
          ],
          [
           "0.0",
           "Holy See",
           "< 50",
           0,
           0,
           0,
           0,
           0
          ],
          [
           "0.0",
           "Guernsey",
           "< 50",
           0,
           0,
           0,
           0,
           0
          ],
          [
           "0.0",
           "Christmas Island",
           "< 50",
           0,
           0,
           0,
           0,
           0
          ],
          [
           "0.0",
           "Guam",
           "< 50",
           0,
           0,
           0,
           0,
           0
          ],
          [
           "0.0",
           "Saint Barthélemy",
           "< 50",
           0,
           0,
           0,
           0,
           0
          ],
          [
           "0.0",
           "Saint Helena",
           "< 50",
           0,
           0,
           0,
           0,
           0
          ],
          [
           "0.0",
           "Saint Martin (French Part)",
           "< 50",
           0,
           0,
           0,
           0,
           0
          ],
          [
           "0.0",
           "Saint Pierre and Miquelon",
           "< 50",
           0,
           0,
           0,
           0,
           0
          ],
          [
           "0.0",
           "San Marino",
           "< 50",
           0,
           0,
           0,
           0,
           0
          ],
          [
           "0.0",
           "Greenland",
           "< 50",
           0,
           0,
           0,
           0,
           0
          ],
          [
           "0.0",
           "Gibraltar",
           "< 50",
           0,
           0,
           0,
           0,
           0
          ],
          [
           "0.0",
           "South Georgia and the South Sandwich Islands",
           "< 50",
           0,
           0,
           0,
           0,
           0
          ],
          [
           "0.0",
           "Svalbard and Jan Mayen Islands",
           "< 50",
           0,
           0,
           0,
           0,
           0
          ],
          [
           "0.0",
           "Cocos (Keeling) Islands",
           "< 50",
           0,
           0,
           0,
           0,
           0
          ],
          [
           "0.0",
           "Cayman Islands",
           "< 50",
           0,
           0,
           0,
           0,
           0
          ],
          [
           "0.0",
           "French Southern Territories",
           "< 50",
           0,
           0,
           0,
           0,
           0
          ],
          [
           "0.0",
           "Aruba",
           "< 50",
           0,
           0,
           0,
           0,
           0
          ],
          [
           "0.0",
           "Bermuda",
           "< 50",
           0,
           0,
           0,
           0,
           0
          ],
          [
           "0.0",
           "Tuvalu",
           "< 50",
           0,
           0,
           0,
           0,
           0
          ],
          [
           "0.0",
           "Isle of Man",
           "< 50",
           0,
           0,
           0,
           0,
           0
          ],
          [
           "0.0",
           "Seychelles",
           "< 50",
           0,
           0,
           0,
           0,
           0
          ],
          [
           "0.0",
           "China, Macao Special Administrative Region",
           "< 50",
           0,
           0,
           0,
           0,
           0
          ],
          [
           "0.0",
           "Maldives",
           "< 50",
           0,
           0,
           0,
           0,
           0
          ],
          [
           "0.0",
           "Niue",
           "< 50",
           0,
           0,
           0,
           0,
           0
          ],
          [
           "0.0",
           "Nauru",
           "< 50",
           0,
           0,
           0,
           0,
           0
          ],
          [
           "0.0",
           "Tokelau",
           "< 50",
           0,
           0,
           0,
           0,
           0
          ],
          [
           "0.0",
           "Western Sahara",
           "< 50",
           0,
           0,
           0,
           0,
           0
          ],
          [
           "1.5",
           "Republic of Moldova",
           "< 50",
           0.1,
           0.5,
           0.7,
           0.2,
           0
          ],
          [
           "0.0",
           "Montserrat",
           "< 50",
           0,
           0,
           0,
           0,
           0
          ],
          [
           "0.0",
           "Curaçao",
           "< 50",
           0,
           0,
           0,
           0,
           0
          ],
          [
           "0.0",
           "American Samoa",
           "< 50",
           0,
           0,
           0,
           0,
           0
          ],
          [
           "0.0",
           "Sint Maarten (Dutch part)",
           "< 50",
           0,
           0,
           0,
           0,
           0
          ],
          [
           "0.0",
           "Turks and Caicos Islands",
           "< 50",
           0,
           0,
           0,
           0,
           0
          ],
          [
           "0.0",
           "Bonaire, Sint Eustatius and Saba",
           "< 50",
           0,
           0,
           0,
           0,
           0
          ],
          [
           "0.0",
           "United States Minor Outlying Islands",
           "< 50",
           0,
           0,
           0,
           0,
           0
          ],
          [
           "0.0",
           "Bouvet Island",
           "< 50",
           0,
           0,
           0,
           0,
           0
          ],
          [
           "0.0",
           "British Indian Ocean Territory",
           "< 50",
           0,
           0,
           0,
           0,
           0
          ],
          [
           "0.0",
           "Antarctica",
           "< 50",
           0,
           0,
           0,
           0,
           0
          ],
          [
           "0.0",
           "Wallis and Futuna Islands",
           "< 50",
           0,
           0,
           0,
           0,
           0
          ],
          [
           "0.0",
           "British Virgin Islands",
           "< 50",
           0,
           0,
           0,
           0,
           0
          ],
          [
           "0.0",
           "Anguilla",
           "< 50",
           0,
           0,
           0,
           0,
           0
          ],
          [
           "0.0",
           "Andorra",
           "< 50",
           0,
           0,
           0,
           0,
           0
          ],
          [
           "1.5",
           "Suriname",
           "< 50",
           0,
           0.1,
           1,
           0,
           0.5
          ],
          [
           "2.8",
           "Libya",
           "< 50",
           0.1,
           1.8,
           0.9,
           0.1,
           0
          ],
          [
           "1.6",
           "Armenia",
           "< 50",
           0,
           0.7,
           0.8,
           0.1,
           0
          ],
          [
           "1.7",
           "Oman",
           "< 50",
           0,
           1.2,
           0.5,
           0.1,
           0
          ],
          [
           "25.5",
           "Madagascar",
           "< 50",
           0.8,
           9.8,
           10.3,
           0.5,
           4
          ],
          [
           "24.6",
           "Japan",
           "< 50",
           0,
           5.9,
           8.5,
           2.2,
           7.9
          ],
          [
           "23.8",
           "Ireland",
           "< 50",
           0,
           14.1,
           6.7,
           3,
           0
          ],
          [
           "22.6",
           "Burkina Faso",
           "< 50",
           0.8,
           13.6,
           5.9,
           1,
           1.2
          ],
          [
           "21.5",
           "Somalia",
           "< 50",
           0,
           16.7,
           4,
           0.8,
           0
          ],
          [
           "19.8",
           "Netherlands",
           "< 50",
           0,
           9.4,
           5.7,
           4.7,
           0
          ],
          [
           "19.4",
           "Guinea",
           "< 50",
           0.4,
           8.1,
           4.6,
           0.3,
           6
          ],
          [
           "16.0",
           "Angola",
           "< 50",
           6.5,
           5.5,
           3.2,
           0.8,
           0.1
          ],
          [
           "15.4",
           "Afghanistan",
           "< 50",
           0.2,
           10.9,
           3,
           0.8,
           0.5
          ],
          [
           "15.3",
           "Romania",
           "< 50",
           1,
           7.4,
           5,
           1.9,
           0.1
          ],
          [
           "13.9",
           "Cameroon",
           "< 50",
           1,
           6.5,
           5.3,
           0.6,
           0.5
          ],
          [
           "13.9",
           "Iraq",
           "< 50",
           6.6,
           3.6,
           2.5,
           0.2,
           1
          ],
          [
           "13.5",
           "Morocco",
           "< 50",
           0,
           8,
           4.9,
           0.5,
           0.1
          ],
          [
           "13.0",
           "Republic of Korea",
           "< 50",
           0,
           5.3,
           2.6,
           1.8,
           3.3
          ],
          [
           "12.9",
           "Ecuador",
           "< 50",
           0.6,
           7.4,
           3,
           0.4,
           1.5
          ],
          [
           "12.4",
           "Nicaragua",
           "< 50",
           1.1,
           8.7,
           2.3,
           0.3,
           0.1
          ],
          [
           "12.3",
           "Finland",
           "< 50",
           0,
           1.9,
           9.8,
           0.6,
           0
          ],
          [
           "12.1",
           "Hungary",
           "< 50",
           0.1,
           2.1,
           9,
           0.8,
           0
          ],
          [
           "11.8",
           "Cuba",
           "< 50",
           1.5,
           7,
           2.1,
           0.5,
           0.8
          ],
          [
           "11.6",
           "Guatemala",
           "< 50",
           1.7,
           6.9,
           2.5,
           0.5,
           0
          ],
          [
           "11.6",
           "Algeria",
           "< 50",
           0.2,
           7.3,
           3.6,
           0.4,
           0
          ],
          [
           "11.6",
           "Chile",
           "< 50",
           1.4,
           5.7,
           3.8,
           0.5,
           0.2
          ],
          [
           "11.5",
           "Sweden",
           "< 50",
           0,
           2.9,
           7.7,
           0.9,
           0
          ],
          [
           "11.2",
           "Zimbabwe",
           "< 50",
           2.1,
           6.1,
           2.7,
           0.3,
           0.1
          ],
          [
           "11.0",
           "Denmark",
           "< 50",
           0,
           3.9,
           3.7,
           3.4,
           0
          ],
          [
           "26.4",
           "Peru",
           "< 50",
           0.3,
           16.8,
           5.5,
           1,
           2.7
          ],
          [
           "26.4",
           "Kazakhstan",
           "< 50",
           3.1,
           15.7,
           4.9,
           2.2,
           0.6
          ],
          [
           "26.4",
           "Uruguay",
           "< 50",
           0.1,
           19.3,
           5.4,
           0.4,
           1.1
          ],
          [
           "33.7",
           "Papua New Guinea",
           "< 50",
           0,
           0.2,
           32.5,
           0.9,
           0
          ],
          [
           "49.5",
           "Kenya",
           "< 50",
           0.5,
           34.9,
           12.7,
           1.4,
           0
          ],
          [
           "49.5",
           "Turkey",
           "< 50",
           3,
           24.4,
           19.9,
           1.1,
           1
          ],
          [
           "42.3",
           "New Zealand",
           "< 50",
           0.2,
           27.2,
           10.9,
           4,
           0
          ],
          [
           "42.3",
           "Poland",
           "< 50",
           0.1,
           13.3,
           24.4,
           4.5,
           0
          ],
          [
           "41.3",
           "Belarus",
           "< 50",
           0.2,
           8.9,
           30.1,
           2.2,
           0
          ],
          [
           "40.3",
           "Venezuela (Bolivarian Republic of)",
           "< 50",
           1.4,
           26.7,
           9.8,
           1.1,
           1.3
          ],
          [
           "39.9",
           "Ukraine",
           "< 50",
           4.8,
           8.2,
           23.4,
           3.4,
           0.1
          ],
          [
           "37.3",
           "Spain",
           "< 50",
           0.3,
           17.2,
           9.3,
           10.3,
           0.2
          ],
          [
           "36.2",
           "Uganda",
           "< 50",
           0.7,
           18.7,
           15.6,
           1.1,
           0.2
          ],
          [
           "36.2",
           "South Sudan",
           "< 50",
           0.3,
           19.4,
           15.9,
           0.7,
           0
          ],
          [
           "36.0",
           "Uzbekistan",
           "< 50",
           0.8,
           23.3,
           7.7,
           3.8,
           0.4
          ],
          [
           "32.7",
           "Cambodia",
           "< 50",
           6.7,
           4.8,
           2,
           1.3,
           18
          ],
          [
           "26.8",
           "Bolivia (Plurinational State of)",
           "< 50",
           0.4,
           19.8,
           5.3,
           1,
           0.4
          ],
          [
           "32.5",
           "Mali",
           "< 50",
           1.5,
           20,
           8.3,
           0.9,
           1.8
          ],
          [
           "32.4",
           "Philippines",
           "< 50",
           0.8,
           8.8,
           6.4,
           3.9,
           12.5
          ],
          [
           "31.9",
           "Mongolia",
           "< 50",
           0,
           18.3,
           11.9,
           1.7,
           0
          ],
          [
           "30.9",
           "Zambia",
           "< 50",
           8.1,
           3.8,
           18.6,
           0.3,
           0
          ],
          [
           "30.9",
           "Italy",
           "< 50",
           0.6,
           16.2,
           7.2,
           5.5,
           1.4
          ],
          [
           "30.7",
           "Iran (Islamic Republic of)",
           "< 50",
           1.6,
           14.3,
           10,
           2.1,
           2.7
          ],
          [
           "30.7",
           "Niger",
           "< 50",
           0.1,
           21.6,
           8,
           0.9,
           0.1
          ],
          [
           "30.3",
           "Paraguay",
           "< 50",
           1,
           22,
           6.1,
           0.6,
           0.6
          ],
          [
           "29.9",
           "Egypt",
           "< 50",
           0.4,
           12,
           10.7,
           0.5,
           6.3
          ],
          [
           "27.1",
           "Nepal",
           "< 50",
           0.1,
           16.6,
           6.9,
           1.5,
           2
          ],
          [
           "27.1",
           "South Africa",
           "< 50",
           3.5,
           15.4,
           7.4,
           0.9,
           0
          ],
          [
           "10.5",
           "Turkmenistan",
           "< 50",
           1.1,
           6.1,
           1.5,
           0.8,
           1.1
          ],
          [
           "10.3",
           "Ghana",
           "< 50",
           3.3,
           3.7,
           2.3,
           0.3,
           0.6
          ],
          [
           "10.2",
           "Senegal",
           "< 50",
           0.6,
           5.8,
           2.7,
           0.4,
           0.7
          ],
          [
           "3.3",
           "Togo",
           "< 50",
           1,
           1.3,
           0.8,
           0.2,
           0
          ],
          [
           "5.3",
           "Rwanda",
           "< 50",
           0,
           1.8,
           3.2,
           0.2,
           0.1
          ],
          [
           "5.0",
           "Taiwan",
           "< 50",
           0,
           0.4,
           1.1,
           1.1,
           2.3
          ],
          [
           "4.8",
           "Congo",
           "< 50",
           0.2,
           0.4,
           4.3,
           0,
           0
          ],
          [
           "4.8",
           "Latvia",
           "< 50",
           0,
           0.9,
           3.6,
           0.3,
           0
          ],
          [
           "4.7",
           "Namibia",
           "< 50",
           0.1,
           3.2,
           1.3,
           0.1,
           0
          ],
          [
           "4.6",
           "Panama",
           "< 50",
           0.4,
           2.5,
           1.6,
           0.1,
           0
          ],
          [
           "4.5",
           "Eritrea",
           "< 50",
           0,
           3.2,
           1.1,
           0.1,
           0
          ],
          [
           "4.5",
           "Haiti",
           "< 50",
           0,
           3.2,
           0.9,
           0.2,
           0.2
          ],
          [
           "4.4",
           "Costa Rica",
           "< 50",
           0.3,
           2.8,
           1.2,
           0.1,
           0
          ],
          [
           "4.2",
           "Estonia",
           "< 50",
           0,
           0.6,
           3.5,
           0.2,
           0
          ],
          [
           "4.1",
           "Tunisia",
           "< 50",
           0.1,
           2.2,
           1.7,
           0.2,
           0
          ],
          [
           "2.9",
           "Albania",
           "< 50",
           0.1,
           1.7,
           0.7,
           0.4,
           0
          ],
          [
           "5.7",
           "Benin",
           "< 50",
           1.2,
           2.8,
           1.4,
           0.2,
           0.1
          ],
          [
           "2.9",
           "Sierra Leone",
           "< 50",
           0.1,
           1,
           0.6,
           0.1,
           1.1
          ],
          [
           "2.8",
           "Botswana",
           "< 50",
           0,
           1.3,
           1.5,
           0,
           0
          ],
          [
           "2.7",
           "Democratic People's Republic of Korea",
           "< 50",
           0,
           1.4,
           0.9,
           0.4,
           0
          ],
          [
           "2.6",
           "Bosnia and Herzegovina",
           "< 50",
           0.1,
           1.3,
           0.7,
           0.4,
           0
          ],
          [
           "2.5",
           "El Salvador",
           "< 50",
           0.3,
           1.5,
           0.6,
           0.1,
           0
          ],
          [
           "2.4",
           "Croatia",
           "< 50",
           0,
           1.1,
           0.8,
           0.5,
           0
          ],
          [
           "2.2",
           "Slovakia",
           "< 50",
           0,
           1,
           0.9,
           0.3,
           0
          ],
          [
           "2.1",
           "Georgia",
           "< 50",
           0.2,
           1.1,
           0.7,
           0.1,
           0
          ],
          [
           "2.0",
           "United Arab Emirates",
           "< 50",
           0,
           1.4,
           0.5,
           0.1,
           0
          ],
          [
           "1.7",
           "Guinea-Bissau",
           "< 50",
           0.1,
           0.9,
           0.4,
           0.1,
           0.2
          ],
          [
           "1.7",
           "Slovenia",
           "< 50",
           0,
           1,
           0.5,
           0.3,
           0
          ],
          [
           "5.4",
           "Kyrgyzstan",
           "< 50",
           0,
           3.8,
           1,
           0.5,
           0.1
          ],
          [
           "5.7",
           "Bulgaria",
           "< 50",
           0.3,
           1.5,
           3.5,
           0.4,
           0.1
          ],
          [
           "9.9",
           "Democratic Republic of the Congo",
           "< 50",
           4.8,
           1.8,
           1.8,
           0.2,
           1.2
          ],
          [
           "7.3",
           "Syrian Arab Republic",
           "< 50",
           2.2,
           3.2,
           1.7,
           0.1,
           0
          ],
          [
           "9.7",
           "Mozambique",
           "< 50",
           3.8,
           2.7,
           1.5,
           0.3,
           1.4
          ],
          [
           "9.5",
           "Mauritania",
           "< 50",
           0,
           6.5,
           2,
           0.3,
           0.6
          ],
          [
           "9.3",
           "Lao People's Democratic Republic",
           "< 50",
           1.3,
           4.9,
           1.2,
           1.4,
           0.6
          ],
          [
           "9.3",
           "Dominican Republic",
           "< 50",
           0.1,
           5.4,
           1.9,
           0.4,
           1.5
          ],
          [
           "9.3",
           "Belgium",
           "< 50",
           0,
           5,
           2,
           2.3,
           0
          ],
          [
           "9.0",
           "Lithuania",
           "< 50",
           0,
           1.5,
           7,
           0.5,
           0
          ],
          [
           "8.7",
           "Central African Republic",
           "< 50",
           0.7,
           5.4,
           2.2,
           0.4,
           0
          ],
          [
           "8.5",
           "Malawi",
           "< 50",
           0.8,
           3.1,
           3.3,
           1.2,
           0.1
          ],
          [
           "8.1",
           "Greece",
           "< 50",
           0.2,
           3.4,
           3.4,
           0.6,
           0.4
          ],
          [
           "7.7",
           "Côte d'Ivoire",
           "< 50",
           0.3,
           2,
           4.6,
           0.2,
           0.6
          ],
          [
           "7.6",
           "Honduras",
           "< 50",
           0.8,
           4.9,
           1.6,
           0.2,
           0
          ],
          [
           "7.1",
           "Portugal",
           "< 50",
           0,
           3.7,
           1.5,
           1.5,
           0.4
          ],
          [
           "5.8",
           "Serbia",
           "< 50",
           0.2,
           2.7,
           1.8,
           1.2,
           0
          ],
          [
           "7.1",
           "Sri Lanka",
           "< 50",
           0.3,
           1.6,
           2.4,
           0.2,
           2.6
          ],
          [
           "7.1",
           "Austria",
           "< 50",
           0,
           4.1,
           1.5,
           1.4,
           0
          ],
          [
           "7.0",
           "Azerbaijan",
           "< 50",
           0.4,
           4.1,
           2.3,
           0.2,
           0
          ],
          [
           "6.8",
           "Guyana",
           "< 50",
           0,
           0.2,
           5,
           0,
           1.5
          ],
          [
           "6.7",
           "Yemen",
           "< 50",
           0,
           4.5,
           1.9,
           0.2,
           0
          ],
          [
           "6.6",
           "Tajikistan",
           "< 50",
           0.1,
           4.7,
           1,
           0.7,
           0.1
          ],
          [
           "6.2",
           "Burundi",
           "< 50",
           0.1,
           1.3,
           4.6,
           0.2,
           0.1
          ],
          [
           "6.2",
           "Norway",
           "< 50",
           0,
           2.4,
           3.1,
           0.6,
           0
          ],
          [
           "6.0",
           "Czechia",
           "< 50",
           0,
           2.8,
           2.5,
           0.7,
           0
          ],
          [
           "6.0",
           "Saudi Arabia",
           "< 50",
           0.1,
           3.1,
           2.4,
           0.3,
           0
          ],
          [
           "5.8",
           "Switzerland",
           "< 50",
           0,
           3.5,
           1.2,
           1.1,
           0
          ],
          [
           "0.0",
           "Åland Islands",
           "< 50",
           0,
           0,
           0,
           0,
           0
          ]
         ],
         "geo": "geo",
         "hovertemplate": "<b>%{hovertext}</b><br><br>Emissions from agriculture=%{customdata[0]}<br>cropland fires=%{customdata[3]}<br>enteric fermentation=%{customdata[4]}<br>managed soils=%{customdata[5]}<br>manure management=%{customdata[6]}<br>rice cultivation=%{customdata[7]}<extra></extra>",
         "hovertext": [
          "Bahrain",
          "Cabo Verde",
          "China, Hong Kong Special Administrative Region",
          "Tonga",
          "Solomon Islands",
          "Faroe Islands",
          "Réunion",
          "French Guiana",
          "Mauritius",
          "Guadeloupe",
          "New Caledonia",
          "Samoa",
          "Malta",
          "Grenada",
          "Micronesia (Federated States of)",
          "Barbados",
          "French Polynesia",
          "Dominica",
          "Saint Lucia",
          "Martinique",
          "Equatorial Guinea",
          "Bahamas",
          "Antigua and Barbuda",
          "Singapore",
          "State of Palestine",
          "Sao Tome and Principe",
          "Trinidad and Tobago",
          "Iceland",
          "Comoros",
          "Belize",
          "Israel",
          "Gambia",
          "Lesotho",
          "The former Yugoslav Republic of Macedonia",
          "Falkland Islands (Malvinas)",
          "Jordan",
          "Gabon",
          "Eswatini",
          "Timor-Leste",
          "Puerto Rico",
          "Jamaica",
          "Lebanon",
          "Cyprus",
          "Djibouti",
          "Kiribati",
          "Luxembourg",
          "Fiji",
          "Liberia",
          "Qatar",
          "Bhutan",
          "Vanuatu",
          "Montenegro",
          "Kuwait",
          "Brunei Darussalam",
          "Saint Vincent and the Grenadines",
          "United States Virgin Islands",
          "Saint Kitts and Nevis",
          "Cook Islands",
          "Heard Island and McDonald Islands",
          "Monaco",
          "Mayotte",
          "Norfolk Island",
          "Northern Mariana Islands",
          "Marshall Islands",
          "Palau",
          "Liechtenstein",
          "Kosovo",
          "Pitcairn",
          "Jersey",
          "Holy See",
          "Guernsey",
          "Christmas Island",
          "Guam",
          "Saint Barthélemy",
          "Saint Helena",
          "Saint Martin (French Part)",
          "Saint Pierre and Miquelon",
          "San Marino",
          "Greenland",
          "Gibraltar",
          "South Georgia and the South Sandwich Islands",
          "Svalbard and Jan Mayen Islands",
          "Cocos (Keeling) Islands",
          "Cayman Islands",
          "French Southern Territories",
          "Aruba",
          "Bermuda",
          "Tuvalu",
          "Isle of Man",
          "Seychelles",
          "China, Macao Special Administrative Region",
          "Maldives",
          "Niue",
          "Nauru",
          "Tokelau",
          "Western Sahara",
          "Republic of Moldova",
          "Montserrat",
          "Curaçao",
          "American Samoa",
          "Sint Maarten (Dutch part)",
          "Turks and Caicos Islands",
          "Bonaire, Sint Eustatius and Saba",
          "United States Minor Outlying Islands",
          "Bouvet Island",
          "British Indian Ocean Territory",
          "Antarctica",
          "Wallis and Futuna Islands",
          "British Virgin Islands",
          "Anguilla",
          "Andorra",
          "Suriname",
          "Libya",
          "Armenia",
          "Oman",
          "Madagascar",
          "Japan",
          "Ireland",
          "Burkina Faso",
          "Somalia",
          "Netherlands",
          "Guinea",
          "Angola",
          "Afghanistan",
          "Romania",
          "Cameroon",
          "Iraq",
          "Morocco",
          "Republic of Korea",
          "Ecuador",
          "Nicaragua",
          "Finland",
          "Hungary",
          "Cuba",
          "Guatemala",
          "Algeria",
          "Chile",
          "Sweden",
          "Zimbabwe",
          "Denmark",
          "Peru",
          "Kazakhstan",
          "Uruguay",
          "Papua New Guinea",
          "Kenya",
          "Turkey",
          "New Zealand",
          "Poland",
          "Belarus",
          "Venezuela (Bolivarian Republic of)",
          "Ukraine",
          "Spain",
          "Uganda",
          "South Sudan",
          "Uzbekistan",
          "Cambodia",
          "Bolivia (Plurinational State of)",
          "Mali",
          "Philippines",
          "Mongolia",
          "Zambia",
          "Italy",
          "Iran (Islamic Republic of)",
          "Niger",
          "Paraguay",
          "Egypt",
          "Nepal",
          "South Africa",
          "Turkmenistan",
          "Ghana",
          "Senegal",
          "Togo",
          "Rwanda",
          "Taiwan",
          "Congo",
          "Latvia",
          "Namibia",
          "Panama",
          "Eritrea",
          "Haiti",
          "Costa Rica",
          "Estonia",
          "Tunisia",
          "Albania",
          "Benin",
          "Sierra Leone",
          "Botswana",
          "Democratic People's Republic of Korea",
          "Bosnia and Herzegovina",
          "El Salvador",
          "Croatia",
          "Slovakia",
          "Georgia",
          "United Arab Emirates",
          "Guinea-Bissau",
          "Slovenia",
          "Kyrgyzstan",
          "Bulgaria",
          "Democratic Republic of the Congo",
          "Syrian Arab Republic",
          "Mozambique",
          "Mauritania",
          "Lao People's Democratic Republic",
          "Dominican Republic",
          "Belgium",
          "Lithuania",
          "Central African Republic",
          "Malawi",
          "Greece",
          "Côte d'Ivoire",
          "Honduras",
          "Portugal",
          "Serbia",
          "Sri Lanka",
          "Austria",
          "Azerbaijan",
          "Guyana",
          "Yemen",
          "Tajikistan",
          "Burundi",
          "Norway",
          "Czechia",
          "Saudi Arabia",
          "Switzerland",
          "Åland Islands"
         ],
         "locationmode": "country names",
         "locations": [
          "Bahrain",
          "Cabo Verde",
          "China, Hong Kong Special Administrative Region",
          "Tonga",
          "Solomon Islands",
          "Faroe Islands",
          "Réunion",
          "French Guiana",
          "Mauritius",
          "Guadeloupe",
          "New Caledonia",
          "Samoa",
          "Malta",
          "Grenada",
          "Micronesia (Federated States of)",
          "Barbados",
          "French Polynesia",
          "Dominica",
          "Saint Lucia",
          "Martinique",
          "Equatorial Guinea",
          "Bahamas",
          "Antigua and Barbuda",
          "Singapore",
          "State of Palestine",
          "Sao Tome and Principe",
          "Trinidad and Tobago",
          "Iceland",
          "Comoros",
          "Belize",
          "Israel",
          "Gambia",
          "Lesotho",
          "The former Yugoslav Republic of Macedonia",
          "Falkland Islands (Malvinas)",
          "Jordan",
          "Gabon",
          "Eswatini",
          "Timor-Leste",
          "Puerto Rico",
          "Jamaica",
          "Lebanon",
          "Cyprus",
          "Djibouti",
          "Kiribati",
          "Luxembourg",
          "Fiji",
          "Liberia",
          "Qatar",
          "Bhutan",
          "Vanuatu",
          "Montenegro",
          "Kuwait",
          "Brunei Darussalam",
          "Saint Vincent and the Grenadines",
          "United States Virgin Islands",
          "Saint Kitts and Nevis",
          "Cook Islands",
          "Heard Island and McDonald Islands",
          "Monaco",
          "Mayotte",
          "Norfolk Island",
          "Northern Mariana Islands",
          "Marshall Islands",
          "Palau",
          "Liechtenstein",
          "Kosovo",
          "Pitcairn",
          "Jersey",
          "Holy See",
          "Guernsey",
          "Christmas Island",
          "Guam",
          "Saint Barthélemy",
          "Saint Helena",
          "Saint Martin (French Part)",
          "Saint Pierre and Miquelon",
          "San Marino",
          "Greenland",
          "Gibraltar",
          "South Georgia and the South Sandwich Islands",
          "Svalbard and Jan Mayen Islands",
          "Cocos (Keeling) Islands",
          "Cayman Islands",
          "French Southern Territories",
          "Aruba",
          "Bermuda",
          "Tuvalu",
          "Isle of Man",
          "Seychelles",
          "China, Macao Special Administrative Region",
          "Maldives",
          "Niue",
          "Nauru",
          "Tokelau",
          "Western Sahara",
          "Republic of Moldova",
          "Montserrat",
          "Curaçao",
          "American Samoa",
          "Sint Maarten (Dutch part)",
          "Turks and Caicos Islands",
          "Bonaire, Sint Eustatius and Saba",
          "United States Minor Outlying Islands",
          "Bouvet Island",
          "British Indian Ocean Territory",
          "Antarctica",
          "Wallis and Futuna Islands",
          "British Virgin Islands",
          "Anguilla",
          "Andorra",
          "Suriname",
          "Libya",
          "Armenia",
          "Oman",
          "Madagascar",
          "Japan",
          "Ireland",
          "Burkina Faso",
          "Somalia",
          "Netherlands",
          "Guinea",
          "Angola",
          "Afghanistan",
          "Romania",
          "Cameroon",
          "Iraq",
          "Morocco",
          "Republic of Korea",
          "Ecuador",
          "Nicaragua",
          "Finland",
          "Hungary",
          "Cuba",
          "Guatemala",
          "Algeria",
          "Chile",
          "Sweden",
          "Zimbabwe",
          "Denmark",
          "Peru",
          "Kazakhstan",
          "Uruguay",
          "Papua New Guinea",
          "Kenya",
          "Turkey",
          "New Zealand",
          "Poland",
          "Belarus",
          "Venezuela (Bolivarian Republic of)",
          "Ukraine",
          "Spain",
          "Uganda",
          "South Sudan",
          "Uzbekistan",
          "Cambodia",
          "Bolivia (Plurinational State of)",
          "Mali",
          "Philippines",
          "Mongolia",
          "Zambia",
          "Italy",
          "Iran (Islamic Republic of)",
          "Niger",
          "Paraguay",
          "Egypt",
          "Nepal",
          "South Africa",
          "Turkmenistan",
          "Ghana",
          "Senegal",
          "Togo",
          "Rwanda",
          "Taiwan",
          "Congo",
          "Latvia",
          "Namibia",
          "Panama",
          "Eritrea",
          "Haiti",
          "Costa Rica",
          "Estonia",
          "Tunisia",
          "Albania",
          "Benin",
          "Sierra Leone",
          "Botswana",
          "Democratic People's Republic of Korea",
          "Bosnia and Herzegovina",
          "El Salvador",
          "Croatia",
          "Slovakia",
          "Georgia",
          "United Arab Emirates",
          "Guinea-Bissau",
          "Slovenia",
          "Kyrgyzstan",
          "Bulgaria",
          "Democratic Republic of the Congo",
          "Syrian Arab Republic",
          "Mozambique",
          "Mauritania",
          "Lao People's Democratic Republic",
          "Dominican Republic",
          "Belgium",
          "Lithuania",
          "Central African Republic",
          "Malawi",
          "Greece",
          "Côte d'Ivoire",
          "Honduras",
          "Portugal",
          "Serbia",
          "Sri Lanka",
          "Austria",
          "Azerbaijan",
          "Guyana",
          "Yemen",
          "Tajikistan",
          "Burundi",
          "Norway",
          "Czechia",
          "Saudi Arabia",
          "Switzerland",
          "Åland Islands"
         ],
         "name": "< 50",
         "showlegend": true,
         "showscale": false,
         "type": "choropleth",
         "z": [
          1,
          1,
          1,
          1,
          1,
          1,
          1,
          1,
          1,
          1,
          1,
          1,
          1,
          1,
          1,
          1,
          1,
          1,
          1,
          1,
          1,
          1,
          1,
          1,
          1,
          1,
          1,
          1,
          1,
          1,
          1,
          1,
          1,
          1,
          1,
          1,
          1,
          1,
          1,
          1,
          1,
          1,
          1,
          1,
          1,
          1,
          1,
          1,
          1,
          1,
          1,
          1,
          1,
          1,
          1,
          1,
          1,
          1,
          1,
          1,
          1,
          1,
          1,
          1,
          1,
          1,
          1,
          1,
          1,
          1,
          1,
          1,
          1,
          1,
          1,
          1,
          1,
          1,
          1,
          1,
          1,
          1,
          1,
          1,
          1,
          1,
          1,
          1,
          1,
          1,
          1,
          1,
          1,
          1,
          1,
          1,
          1,
          1,
          1,
          1,
          1,
          1,
          1,
          1,
          1,
          1,
          1,
          1,
          1,
          1,
          1,
          1,
          1,
          1,
          1,
          1,
          1,
          1,
          1,
          1,
          1,
          1,
          1,
          1,
          1,
          1,
          1,
          1,
          1,
          1,
          1,
          1,
          1,
          1,
          1,
          1,
          1,
          1,
          1,
          1,
          1,
          1,
          1,
          1,
          1,
          1,
          1,
          1,
          1,
          1,
          1,
          1,
          1,
          1,
          1,
          1,
          1,
          1,
          1,
          1,
          1,
          1,
          1,
          1,
          1,
          1,
          1,
          1,
          1,
          1,
          1,
          1,
          1,
          1,
          1,
          1,
          1,
          1,
          1,
          1,
          1,
          1,
          1,
          1,
          1,
          1,
          1,
          1,
          1,
          1,
          1,
          1,
          1,
          1,
          1,
          1,
          1,
          1,
          1,
          1,
          1,
          1,
          1,
          1,
          1,
          1,
          1,
          1,
          1,
          1,
          1,
          1,
          1,
          1,
          1,
          1,
          1,
          1,
          1,
          1,
          1,
          1,
          1,
          1,
          1
         ]
        }
       ],
       "layout": {
        "annotations": [
         {
          "font": {
           "family": "sans-serif",
           "size": 10
          },
          "showarrow": false,
          "text": "Source: <a href=\"https://www.climatetrace.org/\">\nClimate Trace</a>",
          "x": 0.015,
          "y": 0
         },
         {
          "font": {
           "family": "sans-serif",
           "size": 10
          },
          "showarrow": false,
          "text": "Hover over countries to see GHG emissions by subsector",
          "x": 1,
          "y": 0
         }
        ],
        "autosize": false,
        "font": {
         "family": "sans-serif"
        },
        "geo": {
         "center": {},
         "domain": {
          "x": [
           0,
           1
          ],
          "y": [
           0,
           1
          ]
         },
         "lataxis": {
          "range": [
           -55,
           90
          ]
         },
         "showframe": true,
         "showlakes": false
        },
        "height": 400,
        "hoverlabel": {
         "bgcolor": "white",
         "font": {
          "family": "sans-serif",
          "size": 10
         }
        },
        "legend": {
         "bordercolor": "grey",
         "borderwidth": 0.5,
         "font": {
          "size": 10
         },
         "title": {
          "text": "MTCo2eq"
         },
         "tracegroupgap": 0,
         "x": 0.015,
         "y": 0.07
        },
        "margin": {
         "b": 20,
         "l": 20,
         "r": 20,
         "t": 20
        },
        "template": {
         "data": {
          "bar": [
           {
            "error_x": {
             "color": "#2a3f5f"
            },
            "error_y": {
             "color": "#2a3f5f"
            },
            "marker": {
             "line": {
              "color": "#E5ECF6",
              "width": 0.5
             },
             "pattern": {
              "fillmode": "overlay",
              "size": 10,
              "solidity": 0.2
             }
            },
            "type": "bar"
           }
          ],
          "barpolar": [
           {
            "marker": {
             "line": {
              "color": "#E5ECF6",
              "width": 0.5
             },
             "pattern": {
              "fillmode": "overlay",
              "size": 10,
              "solidity": 0.2
             }
            },
            "type": "barpolar"
           }
          ],
          "carpet": [
           {
            "aaxis": {
             "endlinecolor": "#2a3f5f",
             "gridcolor": "white",
             "linecolor": "white",
             "minorgridcolor": "white",
             "startlinecolor": "#2a3f5f"
            },
            "baxis": {
             "endlinecolor": "#2a3f5f",
             "gridcolor": "white",
             "linecolor": "white",
             "minorgridcolor": "white",
             "startlinecolor": "#2a3f5f"
            },
            "type": "carpet"
           }
          ],
          "choropleth": [
           {
            "colorbar": {
             "outlinewidth": 0,
             "ticks": ""
            },
            "type": "choropleth"
           }
          ],
          "contour": [
           {
            "colorbar": {
             "outlinewidth": 0,
             "ticks": ""
            },
            "colorscale": [
             [
              0,
              "#0d0887"
             ],
             [
              0.1111111111111111,
              "#46039f"
             ],
             [
              0.2222222222222222,
              "#7201a8"
             ],
             [
              0.3333333333333333,
              "#9c179e"
             ],
             [
              0.4444444444444444,
              "#bd3786"
             ],
             [
              0.5555555555555556,
              "#d8576b"
             ],
             [
              0.6666666666666666,
              "#ed7953"
             ],
             [
              0.7777777777777778,
              "#fb9f3a"
             ],
             [
              0.8888888888888888,
              "#fdca26"
             ],
             [
              1,
              "#f0f921"
             ]
            ],
            "type": "contour"
           }
          ],
          "contourcarpet": [
           {
            "colorbar": {
             "outlinewidth": 0,
             "ticks": ""
            },
            "type": "contourcarpet"
           }
          ],
          "heatmap": [
           {
            "colorbar": {
             "outlinewidth": 0,
             "ticks": ""
            },
            "colorscale": [
             [
              0,
              "#0d0887"
             ],
             [
              0.1111111111111111,
              "#46039f"
             ],
             [
              0.2222222222222222,
              "#7201a8"
             ],
             [
              0.3333333333333333,
              "#9c179e"
             ],
             [
              0.4444444444444444,
              "#bd3786"
             ],
             [
              0.5555555555555556,
              "#d8576b"
             ],
             [
              0.6666666666666666,
              "#ed7953"
             ],
             [
              0.7777777777777778,
              "#fb9f3a"
             ],
             [
              0.8888888888888888,
              "#fdca26"
             ],
             [
              1,
              "#f0f921"
             ]
            ],
            "type": "heatmap"
           }
          ],
          "heatmapgl": [
           {
            "colorbar": {
             "outlinewidth": 0,
             "ticks": ""
            },
            "colorscale": [
             [
              0,
              "#0d0887"
             ],
             [
              0.1111111111111111,
              "#46039f"
             ],
             [
              0.2222222222222222,
              "#7201a8"
             ],
             [
              0.3333333333333333,
              "#9c179e"
             ],
             [
              0.4444444444444444,
              "#bd3786"
             ],
             [
              0.5555555555555556,
              "#d8576b"
             ],
             [
              0.6666666666666666,
              "#ed7953"
             ],
             [
              0.7777777777777778,
              "#fb9f3a"
             ],
             [
              0.8888888888888888,
              "#fdca26"
             ],
             [
              1,
              "#f0f921"
             ]
            ],
            "type": "heatmapgl"
           }
          ],
          "histogram": [
           {
            "marker": {
             "pattern": {
              "fillmode": "overlay",
              "size": 10,
              "solidity": 0.2
             }
            },
            "type": "histogram"
           }
          ],
          "histogram2d": [
           {
            "colorbar": {
             "outlinewidth": 0,
             "ticks": ""
            },
            "colorscale": [
             [
              0,
              "#0d0887"
             ],
             [
              0.1111111111111111,
              "#46039f"
             ],
             [
              0.2222222222222222,
              "#7201a8"
             ],
             [
              0.3333333333333333,
              "#9c179e"
             ],
             [
              0.4444444444444444,
              "#bd3786"
             ],
             [
              0.5555555555555556,
              "#d8576b"
             ],
             [
              0.6666666666666666,
              "#ed7953"
             ],
             [
              0.7777777777777778,
              "#fb9f3a"
             ],
             [
              0.8888888888888888,
              "#fdca26"
             ],
             [
              1,
              "#f0f921"
             ]
            ],
            "type": "histogram2d"
           }
          ],
          "histogram2dcontour": [
           {
            "colorbar": {
             "outlinewidth": 0,
             "ticks": ""
            },
            "colorscale": [
             [
              0,
              "#0d0887"
             ],
             [
              0.1111111111111111,
              "#46039f"
             ],
             [
              0.2222222222222222,
              "#7201a8"
             ],
             [
              0.3333333333333333,
              "#9c179e"
             ],
             [
              0.4444444444444444,
              "#bd3786"
             ],
             [
              0.5555555555555556,
              "#d8576b"
             ],
             [
              0.6666666666666666,
              "#ed7953"
             ],
             [
              0.7777777777777778,
              "#fb9f3a"
             ],
             [
              0.8888888888888888,
              "#fdca26"
             ],
             [
              1,
              "#f0f921"
             ]
            ],
            "type": "histogram2dcontour"
           }
          ],
          "mesh3d": [
           {
            "colorbar": {
             "outlinewidth": 0,
             "ticks": ""
            },
            "type": "mesh3d"
           }
          ],
          "parcoords": [
           {
            "line": {
             "colorbar": {
              "outlinewidth": 0,
              "ticks": ""
             }
            },
            "type": "parcoords"
           }
          ],
          "pie": [
           {
            "automargin": true,
            "type": "pie"
           }
          ],
          "scatter": [
           {
            "marker": {
             "colorbar": {
              "outlinewidth": 0,
              "ticks": ""
             }
            },
            "type": "scatter"
           }
          ],
          "scatter3d": [
           {
            "line": {
             "colorbar": {
              "outlinewidth": 0,
              "ticks": ""
             }
            },
            "marker": {
             "colorbar": {
              "outlinewidth": 0,
              "ticks": ""
             }
            },
            "type": "scatter3d"
           }
          ],
          "scattercarpet": [
           {
            "marker": {
             "colorbar": {
              "outlinewidth": 0,
              "ticks": ""
             }
            },
            "type": "scattercarpet"
           }
          ],
          "scattergeo": [
           {
            "marker": {
             "colorbar": {
              "outlinewidth": 0,
              "ticks": ""
             }
            },
            "type": "scattergeo"
           }
          ],
          "scattergl": [
           {
            "marker": {
             "colorbar": {
              "outlinewidth": 0,
              "ticks": ""
             }
            },
            "type": "scattergl"
           }
          ],
          "scattermapbox": [
           {
            "marker": {
             "colorbar": {
              "outlinewidth": 0,
              "ticks": ""
             }
            },
            "type": "scattermapbox"
           }
          ],
          "scatterpolar": [
           {
            "marker": {
             "colorbar": {
              "outlinewidth": 0,
              "ticks": ""
             }
            },
            "type": "scatterpolar"
           }
          ],
          "scatterpolargl": [
           {
            "marker": {
             "colorbar": {
              "outlinewidth": 0,
              "ticks": ""
             }
            },
            "type": "scatterpolargl"
           }
          ],
          "scatterternary": [
           {
            "marker": {
             "colorbar": {
              "outlinewidth": 0,
              "ticks": ""
             }
            },
            "type": "scatterternary"
           }
          ],
          "surface": [
           {
            "colorbar": {
             "outlinewidth": 0,
             "ticks": ""
            },
            "colorscale": [
             [
              0,
              "#0d0887"
             ],
             [
              0.1111111111111111,
              "#46039f"
             ],
             [
              0.2222222222222222,
              "#7201a8"
             ],
             [
              0.3333333333333333,
              "#9c179e"
             ],
             [
              0.4444444444444444,
              "#bd3786"
             ],
             [
              0.5555555555555556,
              "#d8576b"
             ],
             [
              0.6666666666666666,
              "#ed7953"
             ],
             [
              0.7777777777777778,
              "#fb9f3a"
             ],
             [
              0.8888888888888888,
              "#fdca26"
             ],
             [
              1,
              "#f0f921"
             ]
            ],
            "type": "surface"
           }
          ],
          "table": [
           {
            "cells": {
             "fill": {
              "color": "#EBF0F8"
             },
             "line": {
              "color": "white"
             }
            },
            "header": {
             "fill": {
              "color": "#C8D4E3"
             },
             "line": {
              "color": "white"
             }
            },
            "type": "table"
           }
          ]
         },
         "layout": {
          "annotationdefaults": {
           "arrowcolor": "#2a3f5f",
           "arrowhead": 0,
           "arrowwidth": 1
          },
          "autotypenumbers": "strict",
          "coloraxis": {
           "colorbar": {
            "outlinewidth": 0,
            "ticks": ""
           }
          },
          "colorscale": {
           "diverging": [
            [
             0,
             "#8e0152"
            ],
            [
             0.1,
             "#c51b7d"
            ],
            [
             0.2,
             "#de77ae"
            ],
            [
             0.3,
             "#f1b6da"
            ],
            [
             0.4,
             "#fde0ef"
            ],
            [
             0.5,
             "#f7f7f7"
            ],
            [
             0.6,
             "#e6f5d0"
            ],
            [
             0.7,
             "#b8e186"
            ],
            [
             0.8,
             "#7fbc41"
            ],
            [
             0.9,
             "#4d9221"
            ],
            [
             1,
             "#276419"
            ]
           ],
           "sequential": [
            [
             0,
             "#0d0887"
            ],
            [
             0.1111111111111111,
             "#46039f"
            ],
            [
             0.2222222222222222,
             "#7201a8"
            ],
            [
             0.3333333333333333,
             "#9c179e"
            ],
            [
             0.4444444444444444,
             "#bd3786"
            ],
            [
             0.5555555555555556,
             "#d8576b"
            ],
            [
             0.6666666666666666,
             "#ed7953"
            ],
            [
             0.7777777777777778,
             "#fb9f3a"
            ],
            [
             0.8888888888888888,
             "#fdca26"
            ],
            [
             1,
             "#f0f921"
            ]
           ],
           "sequentialminus": [
            [
             0,
             "#0d0887"
            ],
            [
             0.1111111111111111,
             "#46039f"
            ],
            [
             0.2222222222222222,
             "#7201a8"
            ],
            [
             0.3333333333333333,
             "#9c179e"
            ],
            [
             0.4444444444444444,
             "#bd3786"
            ],
            [
             0.5555555555555556,
             "#d8576b"
            ],
            [
             0.6666666666666666,
             "#ed7953"
            ],
            [
             0.7777777777777778,
             "#fb9f3a"
            ],
            [
             0.8888888888888888,
             "#fdca26"
            ],
            [
             1,
             "#f0f921"
            ]
           ]
          },
          "colorway": [
           "#636efa",
           "#EF553B",
           "#00cc96",
           "#ab63fa",
           "#FFA15A",
           "#19d3f3",
           "#FF6692",
           "#B6E880",
           "#FF97FF",
           "#FECB52"
          ],
          "font": {
           "color": "#2a3f5f"
          },
          "geo": {
           "bgcolor": "white",
           "lakecolor": "white",
           "landcolor": "#E5ECF6",
           "showlakes": true,
           "showland": true,
           "subunitcolor": "white"
          },
          "hoverlabel": {
           "align": "left"
          },
          "hovermode": "closest",
          "mapbox": {
           "style": "light"
          },
          "paper_bgcolor": "white",
          "plot_bgcolor": "#E5ECF6",
          "polar": {
           "angularaxis": {
            "gridcolor": "white",
            "linecolor": "white",
            "ticks": ""
           },
           "bgcolor": "#E5ECF6",
           "radialaxis": {
            "gridcolor": "white",
            "linecolor": "white",
            "ticks": ""
           }
          },
          "scene": {
           "xaxis": {
            "backgroundcolor": "#E5ECF6",
            "gridcolor": "white",
            "gridwidth": 2,
            "linecolor": "white",
            "showbackground": true,
            "ticks": "",
            "zerolinecolor": "white"
           },
           "yaxis": {
            "backgroundcolor": "#E5ECF6",
            "gridcolor": "white",
            "gridwidth": 2,
            "linecolor": "white",
            "showbackground": true,
            "ticks": "",
            "zerolinecolor": "white"
           },
           "zaxis": {
            "backgroundcolor": "#E5ECF6",
            "gridcolor": "white",
            "gridwidth": 2,
            "linecolor": "white",
            "showbackground": true,
            "ticks": "",
            "zerolinecolor": "white"
           }
          },
          "shapedefaults": {
           "line": {
            "color": "#2a3f5f"
           }
          },
          "ternary": {
           "aaxis": {
            "gridcolor": "white",
            "linecolor": "white",
            "ticks": ""
           },
           "baxis": {
            "gridcolor": "white",
            "linecolor": "white",
            "ticks": ""
           },
           "bgcolor": "#E5ECF6",
           "caxis": {
            "gridcolor": "white",
            "linecolor": "white",
            "ticks": ""
           }
          },
          "title": {
           "x": 0.05
          },
          "xaxis": {
           "automargin": true,
           "gridcolor": "white",
           "linecolor": "white",
           "ticks": "",
           "title": {
            "standoff": 15
           },
           "zerolinecolor": "white",
           "zerolinewidth": 2
          },
          "yaxis": {
           "automargin": true,
           "gridcolor": "white",
           "linecolor": "white",
           "ticks": "",
           "title": {
            "standoff": 15
           },
           "zerolinecolor": "white",
           "zerolinewidth": 2
          }
         }
        },
        "title": {
         "font": {
          "family": "sans-serif"
         },
         "text": "GHG emissions from agriculture (2020)",
         "x": 0.5,
         "xanchor": "center",
         "y": 0.95,
         "yanchor": "top"
        },
        "width": 800
       }
      },
      "text/html": [
       "<div>                            <div id=\"1614bae1-d3bf-4177-a4b0-d9766583f8ae\" class=\"plotly-graph-div\" style=\"height:400px; width:800px;\"></div>            <script type=\"text/javascript\">                require([\"plotly\"], function(Plotly) {                    window.PLOTLYENV=window.PLOTLYENV || {};                                    if (document.getElementById(\"1614bae1-d3bf-4177-a4b0-d9766583f8ae\")) {                    Plotly.newPlot(                        \"1614bae1-d3bf-4177-a4b0-d9766583f8ae\",                        [{\"colorscale\":[[0.0,\"rgb(8,48,107)\"],[1.0,\"rgb(8,48,107)\"]],\"customdata\":[[\"838.5\",\"India\",\"> 500\",28.7,393.5,166.4,37.2,212.8],[\"524.2\",\"Brazil\",\"> 500\",19.6,355.1,123.1,12.7,13.7],[\"651.7\",\"China\",\"> 500\",12.8,183.2,224.5,51.9,179.3]],\"geo\":\"geo\",\"hovertemplate\":\"<b>%{hovertext}</b><br><br>Emissions from agriculture=%{customdata[0]}<br>cropland fires=%{customdata[3]}<br>enteric fermentation=%{customdata[4]}<br>managed soils=%{customdata[5]}<br>manure management=%{customdata[6]}<br>rice cultivation=%{customdata[7]}<extra></extra>\",\"hovertext\":[\"India\",\"Brazil\",\"China\"],\"locationmode\":\"country names\",\"locations\":[\"India\",\"Brazil\",\"China\"],\"name\":\"> 500\",\"showlegend\":true,\"showscale\":false,\"type\":\"choropleth\",\"z\":[1,1,1]},{\"colorscale\":[[0.0,\"rgb(33,113,181)\"],[1.0,\"rgb(33,113,181)\"]],\"customdata\":[[\"448.4\",\"Indonesia\",\"200 - 500\",0.6,30.2,374.4,9.9,33.3],[\"398.3\",\"United States of America\",\"200 - 500\",8.8,170.6,158.3,55.3,5.4],[\"202.7\",\"Pakistan\",\"200 - 500\",3.6,128.1,40.6,12.5,17.9]],\"geo\":\"geo\",\"hovertemplate\":\"<b>%{hovertext}</b><br><br>Emissions from agriculture=%{customdata[0]}<br>cropland fires=%{customdata[3]}<br>enteric fermentation=%{customdata[4]}<br>managed soils=%{customdata[5]}<br>manure management=%{customdata[6]}<br>rice cultivation=%{customdata[7]}<extra></extra>\",\"hovertext\":[\"Indonesia\",\"United States of America\",\"Pakistan\"],\"locationmode\":\"country names\",\"locations\":[\"Indonesia\",\"United States of America\",\"Pakistan\"],\"name\":\"200 - 500\",\"showlegend\":true,\"showscale\":false,\"type\":\"choropleth\",\"z\":[1,1,1]},{\"colorscale\":[[0.0,\"rgb(66,146,198)\"],[1.0,\"rgb(66,146,198)\"]],\"customdata\":[[\"115.5\",\"Ethiopia\",\"100 - 200\",2.1,73.1,37.2,2.8,0.2],[\"100.6\",\"Mexico\",\"100 - 200\",7.6,64.4,24.4,4.1,0.1],[\"118.1\",\"Myanmar\",\"100 - 200\",8.5,35.4,29.1,10.9,34.2],[\"125.3\",\"Russian Federation\",\"100 - 200\",11.7,43.8,56.1,12.2,1.5],[\"134.7\",\"Bangladesh\",\"100 - 200\",0.1,33.0,39.7,2.9,59.0],[\"135.9\",\"Argentina\",\"100 - 200\",4.8,90.3,37.0,2.4,1.4]],\"geo\":\"geo\",\"hovertemplate\":\"<b>%{hovertext}</b><br><br>Emissions from agriculture=%{customdata[0]}<br>cropland fires=%{customdata[3]}<br>enteric fermentation=%{customdata[4]}<br>managed soils=%{customdata[5]}<br>manure management=%{customdata[6]}<br>rice cultivation=%{customdata[7]}<extra></extra>\",\"hovertext\":[\"Ethiopia\",\"Mexico\",\"Myanmar\",\"Russian Federation\",\"Bangladesh\",\"Argentina\"],\"locationmode\":\"country names\",\"locations\":[\"Ethiopia\",\"Mexico\",\"Myanmar\",\"Russian Federation\",\"Bangladesh\",\"Argentina\"],\"name\":\"100 - 200\",\"showlegend\":true,\"showscale\":false,\"type\":\"choropleth\",\"z\":[1,1,1,1,1,1]},{\"colorscale\":[[0.0,\"rgb(158,202,225)\"],[1.0,\"rgb(158,202,225)\"]],\"customdata\":[[\"72.1\",\"Canada\",\"50 - 100\",1.7,20.1,42.5,7.7,0.0],[\"50.2\",\"United Kingdom of Great Britain and Northern Ireland\",\"50 - 100\",0.0,26.6,17.8,5.7,0.0],[\"56.3\",\"Malaysia\",\"50 - 100\",0.1,1.2,50.9,0.9,3.2],[\"60.7\",\"United Republic of Tanzania\",\"50 - 100\",5.4,31.0,18.5,1.2,4.6],[\"65.0\",\"Colombia\",\"50 - 100\",0.3,46.2,13.9,1.5,3.1],[\"65.7\",\"Germany\",\"50 - 100\",0.1,27.0,27.3,11.3,0.0],[\"70.7\",\"Chad\",\"50 - 100\",1.9,49.8,16.3,2.3,0.4],[\"72.6\",\"Sudan\",\"50 - 100\",2.3,49.8,18.2,2.2,0.0],[\"76.1\",\"France\",\"50 - 100\",0.1,37.3,27.4,11.0,0.2],[\"76.8\",\"Viet Nam\",\"50 - 100\",1.9,12.8,17.6,6.0,38.5],[\"85.7\",\"Nigeria\",\"50 - 100\",9.1,37.9,19.6,2.9,16.2],[\"93.8\",\"Australia\",\"50 - 100\",2.6,58.2,27.6,5.4,0.1],[\"72.4\",\"Thailand\",\"50 - 100\",6.7,7.9,12.0,3.2,42.6]],\"geo\":\"geo\",\"hovertemplate\":\"<b>%{hovertext}</b><br><br>Emissions from agriculture=%{customdata[0]}<br>cropland fires=%{customdata[3]}<br>enteric fermentation=%{customdata[4]}<br>managed soils=%{customdata[5]}<br>manure management=%{customdata[6]}<br>rice cultivation=%{customdata[7]}<extra></extra>\",\"hovertext\":[\"Canada\",\"United Kingdom of Great Britain and Northern Ireland\",\"Malaysia\",\"United Republic of Tanzania\",\"Colombia\",\"Germany\",\"Chad\",\"Sudan\",\"France\",\"Viet Nam\",\"Nigeria\",\"Australia\",\"Thailand\"],\"locationmode\":\"country names\",\"locations\":[\"Canada\",\"United Kingdom of Great Britain and Northern Ireland\",\"Malaysia\",\"United Republic of Tanzania\",\"Colombia\",\"Germany\",\"Chad\",\"Sudan\",\"France\",\"Viet Nam\",\"Nigeria\",\"Australia\",\"Thailand\"],\"name\":\"50 - 100\",\"showlegend\":true,\"showscale\":false,\"type\":\"choropleth\",\"z\":[1,1,1,1,1,1,1,1,1,1,1,1,1]},{\"colorscale\":[[0.0,\"rgb(222,235,247)\"],[1.0,\"rgb(222,235,247)\"]],\"customdata\":[[\"0.1\",\"Bahrain\",\"< 50\",0.0,0.0,0.0,0.0,0.0],[\"0.1\",\"Cabo Verde\",\"< 50\",0.0,0.1,0.0,0.0,0.0],[\"0.1\",\"China, Hong Kong Special Administrative Region\",\"< 50\",0.0,0.0,0.0,0.0,0.0],[\"0.1\",\"Tonga\",\"< 50\",0.0,0.0,0.0,0.0,0.0],[\"0.1\",\"Solomon Islands\",\"< 50\",0.0,0.0,0.0,0.0,0.0],[\"0.1\",\"Faroe Islands\",\"< 50\",0.0,0.0,0.1,0.0,0.0],[\"0.1\",\"R\\u00e9union\",\"< 50\",0.0,0.0,0.1,0.0,0.0],[\"0.1\",\"French Guiana\",\"< 50\",0.0,0.0,0.1,0.0,0.0],[\"0.1\",\"Mauritius\",\"< 50\",0.0,0.0,0.1,0.0,0.0],[\"0.2\",\"Guadeloupe\",\"< 50\",0.0,0.1,0.0,0.0,0.0],[\"0.2\",\"New Caledonia\",\"< 50\",0.0,0.1,0.0,0.0,0.0],[\"0.2\",\"Samoa\",\"< 50\",0.0,0.1,0.0,0.1,0.0],[\"0.1\",\"Malta\",\"< 50\",0.0,0.0,0.0,0.0,0.0],[\"0.0\",\"Grenada\",\"< 50\",0.0,0.0,0.0,0.0,0.0],[\"0.1\",\"Micronesia (Federated States of)\",\"< 50\",0.0,0.0,0.0,0.0,0.0],[\"0.1\",\"Barbados\",\"< 50\",0.0,0.0,0.0,0.0,0.0],[\"0.0\",\"French Polynesia\",\"< 50\",0.0,0.0,0.0,0.0,0.0],[\"0.0\",\"Dominica\",\"< 50\",0.0,0.0,0.0,0.0,0.0],[\"0.0\",\"Saint Lucia\",\"< 50\",0.0,0.0,0.0,0.0,0.0],[\"0.0\",\"Martinique\",\"< 50\",0.0,0.0,0.0,0.0,0.0],[\"0.0\",\"Equatorial Guinea\",\"< 50\",0.0,0.0,0.0,0.0,0.0],[\"0.0\",\"Bahamas\",\"< 50\",0.0,0.0,0.0,0.0,0.0],[\"0.0\",\"Antigua and Barbuda\",\"< 50\",0.0,0.0,0.0,0.0,0.0],[\"0.0\",\"Singapore\",\"< 50\",0.0,0.0,0.0,0.0,0.0],[\"0.3\",\"State of Palestine\",\"< 50\",0.0,0.2,0.1,0.0,0.0],[\"0.0\",\"Sao Tome and Principe\",\"< 50\",0.0,0.0,0.0,0.0,0.0],[\"0.3\",\"Trinidad and Tobago\",\"< 50\",0.0,0.1,0.1,0.0,0.0],[\"0.6\",\"Iceland\",\"< 50\",0.0,0.3,0.3,0.1,0.0],[\"0.3\",\"Comoros\",\"< 50\",0.0,0.1,0.0,0.0,0.2],[\"0.7\",\"Belize\",\"< 50\",0.1,0.2,0.4,0.0,0.0],[\"1.4\",\"Israel\",\"< 50\",0.0,0.6,0.7,0.1,0.0],[\"1.4\",\"Gambia\",\"< 50\",0.2,0.5,0.2,0.0,0.5],[\"1.3\",\"Lesotho\",\"< 50\",0.0,0.9,0.3,0.0,0.0],[\"1.3\",\"The former Yugoslav Republic of Macedonia\",\"< 50\",0.1,0.7,0.2,0.2,0.0],[\"1.2\",\"Falkland Islands (Malvinas)\",\"< 50\",0.0,0.0,1.2,0.0,0.0],[\"1.1\",\"Jordan\",\"< 50\",0.0,0.6,0.4,0.0,0.0],[\"1.1\",\"Gabon\",\"< 50\",0.0,0.1,1.0,0.0,0.0],[\"1.1\",\"Eswatini\",\"< 50\",0.1,0.6,0.3,0.0,0.0],[\"0.9\",\"Timor-Leste\",\"< 50\",0.0,0.5,0.1,0.2,0.1],[\"0.9\",\"Puerto Rico\",\"< 50\",0.0,0.6,0.3,0.0,0.0],[\"0.8\",\"Jamaica\",\"< 50\",0.0,0.3,0.5,0.0,0.0],[\"0.7\",\"Lebanon\",\"< 50\",0.0,0.2,0.4,0.1,0.0],[\"0.4\",\"Cyprus\",\"< 50\",0.0,0.2,0.1,0.1,0.0],[\"0.7\",\"Djibouti\",\"< 50\",0.0,0.5,0.2,0.0,0.0],[\"0.0\",\"Kiribati\",\"< 50\",0.0,0.0,0.0,0.0,0.0],[\"0.6\",\"Luxembourg\",\"< 50\",0.0,0.4,0.1,0.1,0.0],[\"0.6\",\"Fiji\",\"< 50\",0.0,0.3,0.2,0.1,0.0],[\"0.6\",\"Liberia\",\"< 50\",0.0,0.2,0.3,0.1,0.1],[\"0.6\",\"Qatar\",\"< 50\",0.0,0.4,0.1,0.0,0.0],[\"0.5\",\"Bhutan\",\"< 50\",0.0,0.4,0.1,0.0,0.0],[\"0.5\",\"Vanuatu\",\"< 50\",0.0,0.3,0.1,0.1,0.0],[\"0.4\",\"Montenegro\",\"< 50\",0.0,0.3,0.1,0.1,0.0],[\"0.4\",\"Kuwait\",\"< 50\",0.0,0.2,0.2,0.0,0.0],[\"0.4\",\"Brunei Darussalam\",\"< 50\",0.0,0.0,0.4,0.0,0.0],[\"0.0\",\"Saint Vincent and the Grenadines\",\"< 50\",0.0,0.0,0.0,0.0,0.0],[\"0.0\",\"United States Virgin Islands\",\"< 50\",0.0,0.0,0.0,0.0,0.0],[\"0.0\",\"Saint Kitts and Nevis\",\"< 50\",0.0,0.0,0.0,0.0,0.0],[\"0.0\",\"Cook Islands\",\"< 50\",0.0,0.0,0.0,0.0,0.0],[\"0.0\",\"Heard Island and McDonald Islands\",\"< 50\",0.0,0.0,0.0,0.0,0.0],[\"0.0\",\"Monaco\",\"< 50\",0.0,0.0,0.0,0.0,0.0],[\"0.0\",\"Mayotte\",\"< 50\",0.0,0.0,0.0,0.0,0.0],[\"0.0\",\"Norfolk Island\",\"< 50\",0.0,0.0,0.0,0.0,0.0],[\"0.0\",\"Northern Mariana Islands\",\"< 50\",0.0,0.0,0.0,0.0,0.0],[\"0.0\",\"Marshall Islands\",\"< 50\",0.0,0.0,0.0,0.0,0.0],[\"0.0\",\"Palau\",\"< 50\",0.0,0.0,0.0,0.0,0.0],[\"0.0\",\"Liechtenstein\",\"< 50\",0.0,0.0,0.0,0.0,0.0],[\"0.0\",\"Kosovo\",\"< 50\",0.0,0.0,0.0,0.0,0.0],[\"0.0\",\"Pitcairn\",\"< 50\",0.0,0.0,0.0,0.0,0.0],[\"0.0\",\"Jersey\",\"< 50\",0.0,0.0,0.0,0.0,0.0],[\"0.0\",\"Holy See\",\"< 50\",0.0,0.0,0.0,0.0,0.0],[\"0.0\",\"Guernsey\",\"< 50\",0.0,0.0,0.0,0.0,0.0],[\"0.0\",\"Christmas Island\",\"< 50\",0.0,0.0,0.0,0.0,0.0],[\"0.0\",\"Guam\",\"< 50\",0.0,0.0,0.0,0.0,0.0],[\"0.0\",\"Saint Barth\\u00e9lemy\",\"< 50\",0.0,0.0,0.0,0.0,0.0],[\"0.0\",\"Saint Helena\",\"< 50\",0.0,0.0,0.0,0.0,0.0],[\"0.0\",\"Saint Martin (French Part)\",\"< 50\",0.0,0.0,0.0,0.0,0.0],[\"0.0\",\"Saint Pierre and Miquelon\",\"< 50\",0.0,0.0,0.0,0.0,0.0],[\"0.0\",\"San Marino\",\"< 50\",0.0,0.0,0.0,0.0,0.0],[\"0.0\",\"Greenland\",\"< 50\",0.0,0.0,0.0,0.0,0.0],[\"0.0\",\"Gibraltar\",\"< 50\",0.0,0.0,0.0,0.0,0.0],[\"0.0\",\"South Georgia and the South Sandwich Islands\",\"< 50\",0.0,0.0,0.0,0.0,0.0],[\"0.0\",\"Svalbard and Jan Mayen Islands\",\"< 50\",0.0,0.0,0.0,0.0,0.0],[\"0.0\",\"Cocos (Keeling) Islands\",\"< 50\",0.0,0.0,0.0,0.0,0.0],[\"0.0\",\"Cayman Islands\",\"< 50\",0.0,0.0,0.0,0.0,0.0],[\"0.0\",\"French Southern Territories\",\"< 50\",0.0,0.0,0.0,0.0,0.0],[\"0.0\",\"Aruba\",\"< 50\",0.0,0.0,0.0,0.0,0.0],[\"0.0\",\"Bermuda\",\"< 50\",0.0,0.0,0.0,0.0,0.0],[\"0.0\",\"Tuvalu\",\"< 50\",0.0,0.0,0.0,0.0,0.0],[\"0.0\",\"Isle of Man\",\"< 50\",0.0,0.0,0.0,0.0,0.0],[\"0.0\",\"Seychelles\",\"< 50\",0.0,0.0,0.0,0.0,0.0],[\"0.0\",\"China, Macao Special Administrative Region\",\"< 50\",0.0,0.0,0.0,0.0,0.0],[\"0.0\",\"Maldives\",\"< 50\",0.0,0.0,0.0,0.0,0.0],[\"0.0\",\"Niue\",\"< 50\",0.0,0.0,0.0,0.0,0.0],[\"0.0\",\"Nauru\",\"< 50\",0.0,0.0,0.0,0.0,0.0],[\"0.0\",\"Tokelau\",\"< 50\",0.0,0.0,0.0,0.0,0.0],[\"0.0\",\"Western Sahara\",\"< 50\",0.0,0.0,0.0,0.0,0.0],[\"1.5\",\"Republic of Moldova\",\"< 50\",0.1,0.5,0.7,0.2,0.0],[\"0.0\",\"Montserrat\",\"< 50\",0.0,0.0,0.0,0.0,0.0],[\"0.0\",\"Cura\\u00e7ao\",\"< 50\",0.0,0.0,0.0,0.0,0.0],[\"0.0\",\"American Samoa\",\"< 50\",0.0,0.0,0.0,0.0,0.0],[\"0.0\",\"Sint Maarten (Dutch part)\",\"< 50\",0.0,0.0,0.0,0.0,0.0],[\"0.0\",\"Turks and Caicos Islands\",\"< 50\",0.0,0.0,0.0,0.0,0.0],[\"0.0\",\"Bonaire, Sint Eustatius and Saba\",\"< 50\",0.0,0.0,0.0,0.0,0.0],[\"0.0\",\"United States Minor Outlying Islands\",\"< 50\",0.0,0.0,0.0,0.0,0.0],[\"0.0\",\"Bouvet Island\",\"< 50\",0.0,0.0,0.0,0.0,0.0],[\"0.0\",\"British Indian Ocean Territory\",\"< 50\",0.0,0.0,0.0,0.0,0.0],[\"0.0\",\"Antarctica\",\"< 50\",0.0,0.0,0.0,0.0,0.0],[\"0.0\",\"Wallis and Futuna Islands\",\"< 50\",0.0,0.0,0.0,0.0,0.0],[\"0.0\",\"British Virgin Islands\",\"< 50\",0.0,0.0,0.0,0.0,0.0],[\"0.0\",\"Anguilla\",\"< 50\",0.0,0.0,0.0,0.0,0.0],[\"0.0\",\"Andorra\",\"< 50\",0.0,0.0,0.0,0.0,0.0],[\"1.5\",\"Suriname\",\"< 50\",0.0,0.1,1.0,0.0,0.5],[\"2.8\",\"Libya\",\"< 50\",0.1,1.8,0.9,0.1,0.0],[\"1.6\",\"Armenia\",\"< 50\",0.0,0.7,0.8,0.1,0.0],[\"1.7\",\"Oman\",\"< 50\",0.0,1.2,0.5,0.1,0.0],[\"25.5\",\"Madagascar\",\"< 50\",0.8,9.8,10.3,0.5,4.0],[\"24.6\",\"Japan\",\"< 50\",0.0,5.9,8.5,2.2,7.9],[\"23.8\",\"Ireland\",\"< 50\",0.0,14.1,6.7,3.0,0.0],[\"22.6\",\"Burkina Faso\",\"< 50\",0.8,13.6,5.9,1.0,1.2],[\"21.5\",\"Somalia\",\"< 50\",0.0,16.7,4.0,0.8,0.0],[\"19.8\",\"Netherlands\",\"< 50\",0.0,9.4,5.7,4.7,0.0],[\"19.4\",\"Guinea\",\"< 50\",0.4,8.1,4.6,0.3,6.0],[\"16.0\",\"Angola\",\"< 50\",6.5,5.5,3.2,0.8,0.1],[\"15.4\",\"Afghanistan\",\"< 50\",0.2,10.9,3.0,0.8,0.5],[\"15.3\",\"Romania\",\"< 50\",1.0,7.4,5.0,1.9,0.1],[\"13.9\",\"Cameroon\",\"< 50\",1.0,6.5,5.3,0.6,0.5],[\"13.9\",\"Iraq\",\"< 50\",6.6,3.6,2.5,0.2,1.0],[\"13.5\",\"Morocco\",\"< 50\",0.0,8.0,4.9,0.5,0.1],[\"13.0\",\"Republic of Korea\",\"< 50\",0.0,5.3,2.6,1.8,3.3],[\"12.9\",\"Ecuador\",\"< 50\",0.6,7.4,3.0,0.4,1.5],[\"12.4\",\"Nicaragua\",\"< 50\",1.1,8.7,2.3,0.3,0.1],[\"12.3\",\"Finland\",\"< 50\",0.0,1.9,9.8,0.6,0.0],[\"12.1\",\"Hungary\",\"< 50\",0.1,2.1,9.0,0.8,0.0],[\"11.8\",\"Cuba\",\"< 50\",1.5,7.0,2.1,0.5,0.8],[\"11.6\",\"Guatemala\",\"< 50\",1.7,6.9,2.5,0.5,0.0],[\"11.6\",\"Algeria\",\"< 50\",0.2,7.3,3.6,0.4,0.0],[\"11.6\",\"Chile\",\"< 50\",1.4,5.7,3.8,0.5,0.2],[\"11.5\",\"Sweden\",\"< 50\",0.0,2.9,7.7,0.9,0.0],[\"11.2\",\"Zimbabwe\",\"< 50\",2.1,6.1,2.7,0.3,0.1],[\"11.0\",\"Denmark\",\"< 50\",0.0,3.9,3.7,3.4,0.0],[\"26.4\",\"Peru\",\"< 50\",0.3,16.8,5.5,1.0,2.7],[\"26.4\",\"Kazakhstan\",\"< 50\",3.1,15.7,4.9,2.2,0.6],[\"26.4\",\"Uruguay\",\"< 50\",0.1,19.3,5.4,0.4,1.1],[\"33.7\",\"Papua New Guinea\",\"< 50\",0.0,0.2,32.5,0.9,0.0],[\"49.5\",\"Kenya\",\"< 50\",0.5,34.9,12.7,1.4,0.0],[\"49.5\",\"Turkey\",\"< 50\",3.0,24.4,19.9,1.1,1.0],[\"42.3\",\"New Zealand\",\"< 50\",0.2,27.2,10.9,4.0,0.0],[\"42.3\",\"Poland\",\"< 50\",0.1,13.3,24.4,4.5,0.0],[\"41.3\",\"Belarus\",\"< 50\",0.2,8.9,30.1,2.2,0.0],[\"40.3\",\"Venezuela (Bolivarian Republic of)\",\"< 50\",1.4,26.7,9.8,1.1,1.3],[\"39.9\",\"Ukraine\",\"< 50\",4.8,8.2,23.4,3.4,0.1],[\"37.3\",\"Spain\",\"< 50\",0.3,17.2,9.3,10.3,0.2],[\"36.2\",\"Uganda\",\"< 50\",0.7,18.7,15.6,1.1,0.2],[\"36.2\",\"South Sudan\",\"< 50\",0.3,19.4,15.9,0.7,0.0],[\"36.0\",\"Uzbekistan\",\"< 50\",0.8,23.3,7.7,3.8,0.4],[\"32.7\",\"Cambodia\",\"< 50\",6.7,4.8,2.0,1.3,18.0],[\"26.8\",\"Bolivia (Plurinational State of)\",\"< 50\",0.4,19.8,5.3,1.0,0.4],[\"32.5\",\"Mali\",\"< 50\",1.5,20.0,8.3,0.9,1.8],[\"32.4\",\"Philippines\",\"< 50\",0.8,8.8,6.4,3.9,12.5],[\"31.9\",\"Mongolia\",\"< 50\",0.0,18.3,11.9,1.7,0.0],[\"30.9\",\"Zambia\",\"< 50\",8.1,3.8,18.6,0.3,0.0],[\"30.9\",\"Italy\",\"< 50\",0.6,16.2,7.2,5.5,1.4],[\"30.7\",\"Iran (Islamic Republic of)\",\"< 50\",1.6,14.3,10.0,2.1,2.7],[\"30.7\",\"Niger\",\"< 50\",0.1,21.6,8.0,0.9,0.1],[\"30.3\",\"Paraguay\",\"< 50\",1.0,22.0,6.1,0.6,0.6],[\"29.9\",\"Egypt\",\"< 50\",0.4,12.0,10.7,0.5,6.3],[\"27.1\",\"Nepal\",\"< 50\",0.1,16.6,6.9,1.5,2.0],[\"27.1\",\"South Africa\",\"< 50\",3.5,15.4,7.4,0.9,0.0],[\"10.5\",\"Turkmenistan\",\"< 50\",1.1,6.1,1.5,0.8,1.1],[\"10.3\",\"Ghana\",\"< 50\",3.3,3.7,2.3,0.3,0.6],[\"10.2\",\"Senegal\",\"< 50\",0.6,5.8,2.7,0.4,0.7],[\"3.3\",\"Togo\",\"< 50\",1.0,1.3,0.8,0.2,0.0],[\"5.3\",\"Rwanda\",\"< 50\",0.0,1.8,3.2,0.2,0.1],[\"5.0\",\"Taiwan\",\"< 50\",0.0,0.4,1.1,1.1,2.3],[\"4.8\",\"Congo\",\"< 50\",0.2,0.4,4.3,0.0,0.0],[\"4.8\",\"Latvia\",\"< 50\",0.0,0.9,3.6,0.3,0.0],[\"4.7\",\"Namibia\",\"< 50\",0.1,3.2,1.3,0.1,0.0],[\"4.6\",\"Panama\",\"< 50\",0.4,2.5,1.6,0.1,0.0],[\"4.5\",\"Eritrea\",\"< 50\",0.0,3.2,1.1,0.1,0.0],[\"4.5\",\"Haiti\",\"< 50\",0.0,3.2,0.9,0.2,0.2],[\"4.4\",\"Costa Rica\",\"< 50\",0.3,2.8,1.2,0.1,0.0],[\"4.2\",\"Estonia\",\"< 50\",0.0,0.6,3.5,0.2,0.0],[\"4.1\",\"Tunisia\",\"< 50\",0.1,2.2,1.7,0.2,0.0],[\"2.9\",\"Albania\",\"< 50\",0.1,1.7,0.7,0.4,0.0],[\"5.7\",\"Benin\",\"< 50\",1.2,2.8,1.4,0.2,0.1],[\"2.9\",\"Sierra Leone\",\"< 50\",0.1,1.0,0.6,0.1,1.1],[\"2.8\",\"Botswana\",\"< 50\",0.0,1.3,1.5,0.0,0.0],[\"2.7\",\"Democratic People's Republic of Korea\",\"< 50\",0.0,1.4,0.9,0.4,0.0],[\"2.6\",\"Bosnia and Herzegovina\",\"< 50\",0.1,1.3,0.7,0.4,0.0],[\"2.5\",\"El Salvador\",\"< 50\",0.3,1.5,0.6,0.1,0.0],[\"2.4\",\"Croatia\",\"< 50\",0.0,1.1,0.8,0.5,0.0],[\"2.2\",\"Slovakia\",\"< 50\",0.0,1.0,0.9,0.3,0.0],[\"2.1\",\"Georgia\",\"< 50\",0.2,1.1,0.7,0.1,0.0],[\"2.0\",\"United Arab Emirates\",\"< 50\",0.0,1.4,0.5,0.1,0.0],[\"1.7\",\"Guinea-Bissau\",\"< 50\",0.1,0.9,0.4,0.1,0.2],[\"1.7\",\"Slovenia\",\"< 50\",0.0,1.0,0.5,0.3,0.0],[\"5.4\",\"Kyrgyzstan\",\"< 50\",0.0,3.8,1.0,0.5,0.1],[\"5.7\",\"Bulgaria\",\"< 50\",0.3,1.5,3.5,0.4,0.1],[\"9.9\",\"Democratic Republic of the Congo\",\"< 50\",4.8,1.8,1.8,0.2,1.2],[\"7.3\",\"Syrian Arab Republic\",\"< 50\",2.2,3.2,1.7,0.1,0.0],[\"9.7\",\"Mozambique\",\"< 50\",3.8,2.7,1.5,0.3,1.4],[\"9.5\",\"Mauritania\",\"< 50\",0.0,6.5,2.0,0.3,0.6],[\"9.3\",\"Lao People's Democratic Republic\",\"< 50\",1.3,4.9,1.2,1.4,0.6],[\"9.3\",\"Dominican Republic\",\"< 50\",0.1,5.4,1.9,0.4,1.5],[\"9.3\",\"Belgium\",\"< 50\",0.0,5.0,2.0,2.3,0.0],[\"9.0\",\"Lithuania\",\"< 50\",0.0,1.5,7.0,0.5,0.0],[\"8.7\",\"Central African Republic\",\"< 50\",0.7,5.4,2.2,0.4,0.0],[\"8.5\",\"Malawi\",\"< 50\",0.8,3.1,3.3,1.2,0.1],[\"8.1\",\"Greece\",\"< 50\",0.2,3.4,3.4,0.6,0.4],[\"7.7\",\"C\\u00f4te d'Ivoire\",\"< 50\",0.3,2.0,4.6,0.2,0.6],[\"7.6\",\"Honduras\",\"< 50\",0.8,4.9,1.6,0.2,0.0],[\"7.1\",\"Portugal\",\"< 50\",0.0,3.7,1.5,1.5,0.4],[\"5.8\",\"Serbia\",\"< 50\",0.2,2.7,1.8,1.2,0.0],[\"7.1\",\"Sri Lanka\",\"< 50\",0.3,1.6,2.4,0.2,2.6],[\"7.1\",\"Austria\",\"< 50\",0.0,4.1,1.5,1.4,0.0],[\"7.0\",\"Azerbaijan\",\"< 50\",0.4,4.1,2.3,0.2,0.0],[\"6.8\",\"Guyana\",\"< 50\",0.0,0.2,5.0,0.0,1.5],[\"6.7\",\"Yemen\",\"< 50\",0.0,4.5,1.9,0.2,0.0],[\"6.6\",\"Tajikistan\",\"< 50\",0.1,4.7,1.0,0.7,0.1],[\"6.2\",\"Burundi\",\"< 50\",0.1,1.3,4.6,0.2,0.1],[\"6.2\",\"Norway\",\"< 50\",0.0,2.4,3.1,0.6,0.0],[\"6.0\",\"Czechia\",\"< 50\",0.0,2.8,2.5,0.7,0.0],[\"6.0\",\"Saudi Arabia\",\"< 50\",0.1,3.1,2.4,0.3,0.0],[\"5.8\",\"Switzerland\",\"< 50\",0.0,3.5,1.2,1.1,0.0],[\"0.0\",\"\\u00c5land Islands\",\"< 50\",0.0,0.0,0.0,0.0,0.0]],\"geo\":\"geo\",\"hovertemplate\":\"<b>%{hovertext}</b><br><br>Emissions from agriculture=%{customdata[0]}<br>cropland fires=%{customdata[3]}<br>enteric fermentation=%{customdata[4]}<br>managed soils=%{customdata[5]}<br>manure management=%{customdata[6]}<br>rice cultivation=%{customdata[7]}<extra></extra>\",\"hovertext\":[\"Bahrain\",\"Cabo Verde\",\"China, Hong Kong Special Administrative Region\",\"Tonga\",\"Solomon Islands\",\"Faroe Islands\",\"R\\u00e9union\",\"French Guiana\",\"Mauritius\",\"Guadeloupe\",\"New Caledonia\",\"Samoa\",\"Malta\",\"Grenada\",\"Micronesia (Federated States of)\",\"Barbados\",\"French Polynesia\",\"Dominica\",\"Saint Lucia\",\"Martinique\",\"Equatorial Guinea\",\"Bahamas\",\"Antigua and Barbuda\",\"Singapore\",\"State of Palestine\",\"Sao Tome and Principe\",\"Trinidad and Tobago\",\"Iceland\",\"Comoros\",\"Belize\",\"Israel\",\"Gambia\",\"Lesotho\",\"The former Yugoslav Republic of Macedonia\",\"Falkland Islands (Malvinas)\",\"Jordan\",\"Gabon\",\"Eswatini\",\"Timor-Leste\",\"Puerto Rico\",\"Jamaica\",\"Lebanon\",\"Cyprus\",\"Djibouti\",\"Kiribati\",\"Luxembourg\",\"Fiji\",\"Liberia\",\"Qatar\",\"Bhutan\",\"Vanuatu\",\"Montenegro\",\"Kuwait\",\"Brunei Darussalam\",\"Saint Vincent and the Grenadines\",\"United States Virgin Islands\",\"Saint Kitts and Nevis\",\"Cook Islands\",\"Heard Island and McDonald Islands\",\"Monaco\",\"Mayotte\",\"Norfolk Island\",\"Northern Mariana Islands\",\"Marshall Islands\",\"Palau\",\"Liechtenstein\",\"Kosovo\",\"Pitcairn\",\"Jersey\",\"Holy See\",\"Guernsey\",\"Christmas Island\",\"Guam\",\"Saint Barth\\u00e9lemy\",\"Saint Helena\",\"Saint Martin (French Part)\",\"Saint Pierre and Miquelon\",\"San Marino\",\"Greenland\",\"Gibraltar\",\"South Georgia and the South Sandwich Islands\",\"Svalbard and Jan Mayen Islands\",\"Cocos (Keeling) Islands\",\"Cayman Islands\",\"French Southern Territories\",\"Aruba\",\"Bermuda\",\"Tuvalu\",\"Isle of Man\",\"Seychelles\",\"China, Macao Special Administrative Region\",\"Maldives\",\"Niue\",\"Nauru\",\"Tokelau\",\"Western Sahara\",\"Republic of Moldova\",\"Montserrat\",\"Cura\\u00e7ao\",\"American Samoa\",\"Sint Maarten (Dutch part)\",\"Turks and Caicos Islands\",\"Bonaire, Sint Eustatius and Saba\",\"United States Minor Outlying Islands\",\"Bouvet Island\",\"British Indian Ocean Territory\",\"Antarctica\",\"Wallis and Futuna Islands\",\"British Virgin Islands\",\"Anguilla\",\"Andorra\",\"Suriname\",\"Libya\",\"Armenia\",\"Oman\",\"Madagascar\",\"Japan\",\"Ireland\",\"Burkina Faso\",\"Somalia\",\"Netherlands\",\"Guinea\",\"Angola\",\"Afghanistan\",\"Romania\",\"Cameroon\",\"Iraq\",\"Morocco\",\"Republic of Korea\",\"Ecuador\",\"Nicaragua\",\"Finland\",\"Hungary\",\"Cuba\",\"Guatemala\",\"Algeria\",\"Chile\",\"Sweden\",\"Zimbabwe\",\"Denmark\",\"Peru\",\"Kazakhstan\",\"Uruguay\",\"Papua New Guinea\",\"Kenya\",\"Turkey\",\"New Zealand\",\"Poland\",\"Belarus\",\"Venezuela (Bolivarian Republic of)\",\"Ukraine\",\"Spain\",\"Uganda\",\"South Sudan\",\"Uzbekistan\",\"Cambodia\",\"Bolivia (Plurinational State of)\",\"Mali\",\"Philippines\",\"Mongolia\",\"Zambia\",\"Italy\",\"Iran (Islamic Republic of)\",\"Niger\",\"Paraguay\",\"Egypt\",\"Nepal\",\"South Africa\",\"Turkmenistan\",\"Ghana\",\"Senegal\",\"Togo\",\"Rwanda\",\"Taiwan\",\"Congo\",\"Latvia\",\"Namibia\",\"Panama\",\"Eritrea\",\"Haiti\",\"Costa Rica\",\"Estonia\",\"Tunisia\",\"Albania\",\"Benin\",\"Sierra Leone\",\"Botswana\",\"Democratic People's Republic of Korea\",\"Bosnia and Herzegovina\",\"El Salvador\",\"Croatia\",\"Slovakia\",\"Georgia\",\"United Arab Emirates\",\"Guinea-Bissau\",\"Slovenia\",\"Kyrgyzstan\",\"Bulgaria\",\"Democratic Republic of the Congo\",\"Syrian Arab Republic\",\"Mozambique\",\"Mauritania\",\"Lao People's Democratic Republic\",\"Dominican Republic\",\"Belgium\",\"Lithuania\",\"Central African Republic\",\"Malawi\",\"Greece\",\"C\\u00f4te d'Ivoire\",\"Honduras\",\"Portugal\",\"Serbia\",\"Sri Lanka\",\"Austria\",\"Azerbaijan\",\"Guyana\",\"Yemen\",\"Tajikistan\",\"Burundi\",\"Norway\",\"Czechia\",\"Saudi Arabia\",\"Switzerland\",\"\\u00c5land Islands\"],\"locationmode\":\"country names\",\"locations\":[\"Bahrain\",\"Cabo Verde\",\"China, Hong Kong Special Administrative Region\",\"Tonga\",\"Solomon Islands\",\"Faroe Islands\",\"R\\u00e9union\",\"French Guiana\",\"Mauritius\",\"Guadeloupe\",\"New Caledonia\",\"Samoa\",\"Malta\",\"Grenada\",\"Micronesia (Federated States of)\",\"Barbados\",\"French Polynesia\",\"Dominica\",\"Saint Lucia\",\"Martinique\",\"Equatorial Guinea\",\"Bahamas\",\"Antigua and Barbuda\",\"Singapore\",\"State of Palestine\",\"Sao Tome and Principe\",\"Trinidad and Tobago\",\"Iceland\",\"Comoros\",\"Belize\",\"Israel\",\"Gambia\",\"Lesotho\",\"The former Yugoslav Republic of Macedonia\",\"Falkland Islands (Malvinas)\",\"Jordan\",\"Gabon\",\"Eswatini\",\"Timor-Leste\",\"Puerto Rico\",\"Jamaica\",\"Lebanon\",\"Cyprus\",\"Djibouti\",\"Kiribati\",\"Luxembourg\",\"Fiji\",\"Liberia\",\"Qatar\",\"Bhutan\",\"Vanuatu\",\"Montenegro\",\"Kuwait\",\"Brunei Darussalam\",\"Saint Vincent and the Grenadines\",\"United States Virgin Islands\",\"Saint Kitts and Nevis\",\"Cook Islands\",\"Heard Island and McDonald Islands\",\"Monaco\",\"Mayotte\",\"Norfolk Island\",\"Northern Mariana Islands\",\"Marshall Islands\",\"Palau\",\"Liechtenstein\",\"Kosovo\",\"Pitcairn\",\"Jersey\",\"Holy See\",\"Guernsey\",\"Christmas Island\",\"Guam\",\"Saint Barth\\u00e9lemy\",\"Saint Helena\",\"Saint Martin (French Part)\",\"Saint Pierre and Miquelon\",\"San Marino\",\"Greenland\",\"Gibraltar\",\"South Georgia and the South Sandwich Islands\",\"Svalbard and Jan Mayen Islands\",\"Cocos (Keeling) Islands\",\"Cayman Islands\",\"French Southern Territories\",\"Aruba\",\"Bermuda\",\"Tuvalu\",\"Isle of Man\",\"Seychelles\",\"China, Macao Special Administrative Region\",\"Maldives\",\"Niue\",\"Nauru\",\"Tokelau\",\"Western Sahara\",\"Republic of Moldova\",\"Montserrat\",\"Cura\\u00e7ao\",\"American Samoa\",\"Sint Maarten (Dutch part)\",\"Turks and Caicos Islands\",\"Bonaire, Sint Eustatius and Saba\",\"United States Minor Outlying Islands\",\"Bouvet Island\",\"British Indian Ocean Territory\",\"Antarctica\",\"Wallis and Futuna Islands\",\"British Virgin Islands\",\"Anguilla\",\"Andorra\",\"Suriname\",\"Libya\",\"Armenia\",\"Oman\",\"Madagascar\",\"Japan\",\"Ireland\",\"Burkina Faso\",\"Somalia\",\"Netherlands\",\"Guinea\",\"Angola\",\"Afghanistan\",\"Romania\",\"Cameroon\",\"Iraq\",\"Morocco\",\"Republic of Korea\",\"Ecuador\",\"Nicaragua\",\"Finland\",\"Hungary\",\"Cuba\",\"Guatemala\",\"Algeria\",\"Chile\",\"Sweden\",\"Zimbabwe\",\"Denmark\",\"Peru\",\"Kazakhstan\",\"Uruguay\",\"Papua New Guinea\",\"Kenya\",\"Turkey\",\"New Zealand\",\"Poland\",\"Belarus\",\"Venezuela (Bolivarian Republic of)\",\"Ukraine\",\"Spain\",\"Uganda\",\"South Sudan\",\"Uzbekistan\",\"Cambodia\",\"Bolivia (Plurinational State of)\",\"Mali\",\"Philippines\",\"Mongolia\",\"Zambia\",\"Italy\",\"Iran (Islamic Republic of)\",\"Niger\",\"Paraguay\",\"Egypt\",\"Nepal\",\"South Africa\",\"Turkmenistan\",\"Ghana\",\"Senegal\",\"Togo\",\"Rwanda\",\"Taiwan\",\"Congo\",\"Latvia\",\"Namibia\",\"Panama\",\"Eritrea\",\"Haiti\",\"Costa Rica\",\"Estonia\",\"Tunisia\",\"Albania\",\"Benin\",\"Sierra Leone\",\"Botswana\",\"Democratic People's Republic of Korea\",\"Bosnia and Herzegovina\",\"El Salvador\",\"Croatia\",\"Slovakia\",\"Georgia\",\"United Arab Emirates\",\"Guinea-Bissau\",\"Slovenia\",\"Kyrgyzstan\",\"Bulgaria\",\"Democratic Republic of the Congo\",\"Syrian Arab Republic\",\"Mozambique\",\"Mauritania\",\"Lao People's Democratic Republic\",\"Dominican Republic\",\"Belgium\",\"Lithuania\",\"Central African Republic\",\"Malawi\",\"Greece\",\"C\\u00f4te d'Ivoire\",\"Honduras\",\"Portugal\",\"Serbia\",\"Sri Lanka\",\"Austria\",\"Azerbaijan\",\"Guyana\",\"Yemen\",\"Tajikistan\",\"Burundi\",\"Norway\",\"Czechia\",\"Saudi Arabia\",\"Switzerland\",\"\\u00c5land Islands\"],\"name\":\"< 50\",\"showlegend\":true,\"showscale\":false,\"type\":\"choropleth\",\"z\":[1,1,1,1,1,1,1,1,1,1,1,1,1,1,1,1,1,1,1,1,1,1,1,1,1,1,1,1,1,1,1,1,1,1,1,1,1,1,1,1,1,1,1,1,1,1,1,1,1,1,1,1,1,1,1,1,1,1,1,1,1,1,1,1,1,1,1,1,1,1,1,1,1,1,1,1,1,1,1,1,1,1,1,1,1,1,1,1,1,1,1,1,1,1,1,1,1,1,1,1,1,1,1,1,1,1,1,1,1,1,1,1,1,1,1,1,1,1,1,1,1,1,1,1,1,1,1,1,1,1,1,1,1,1,1,1,1,1,1,1,1,1,1,1,1,1,1,1,1,1,1,1,1,1,1,1,1,1,1,1,1,1,1,1,1,1,1,1,1,1,1,1,1,1,1,1,1,1,1,1,1,1,1,1,1,1,1,1,1,1,1,1,1,1,1,1,1,1,1,1,1,1,1,1,1,1,1,1,1,1,1,1,1,1,1,1,1,1,1,1,1,1,1,1,1]}],                        {\"annotations\":[{\"font\":{\"family\":\"sans-serif\",\"size\":10},\"showarrow\":false,\"text\":\"Source: <a href=\\\"https://www.climatetrace.org/\\\">\\nClimate Trace</a>\",\"x\":0.015,\"y\":0},{\"font\":{\"family\":\"sans-serif\",\"size\":10},\"showarrow\":false,\"text\":\"Hover over countries to see GHG emissions by subsector\",\"x\":1,\"y\":0}],\"autosize\":false,\"font\":{\"family\":\"sans-serif\"},\"geo\":{\"center\":{},\"domain\":{\"x\":[0.0,1.0],\"y\":[0.0,1.0]},\"lataxis\":{\"range\":[-55,90]},\"showframe\":true,\"showlakes\":false},\"height\":400,\"hoverlabel\":{\"bgcolor\":\"white\",\"font\":{\"family\":\"sans-serif\",\"size\":10}},\"legend\":{\"bordercolor\":\"grey\",\"borderwidth\":0.5,\"font\":{\"size\":10},\"title\":{\"text\":\"MTCo2eq\"},\"tracegroupgap\":0,\"x\":0.015,\"y\":0.07},\"margin\":{\"b\":20,\"l\":20,\"r\":20,\"t\":20},\"template\":{\"data\":{\"bar\":[{\"error_x\":{\"color\":\"#2a3f5f\"},\"error_y\":{\"color\":\"#2a3f5f\"},\"marker\":{\"line\":{\"color\":\"#E5ECF6\",\"width\":0.5},\"pattern\":{\"fillmode\":\"overlay\",\"size\":10,\"solidity\":0.2}},\"type\":\"bar\"}],\"barpolar\":[{\"marker\":{\"line\":{\"color\":\"#E5ECF6\",\"width\":0.5},\"pattern\":{\"fillmode\":\"overlay\",\"size\":10,\"solidity\":0.2}},\"type\":\"barpolar\"}],\"carpet\":[{\"aaxis\":{\"endlinecolor\":\"#2a3f5f\",\"gridcolor\":\"white\",\"linecolor\":\"white\",\"minorgridcolor\":\"white\",\"startlinecolor\":\"#2a3f5f\"},\"baxis\":{\"endlinecolor\":\"#2a3f5f\",\"gridcolor\":\"white\",\"linecolor\":\"white\",\"minorgridcolor\":\"white\",\"startlinecolor\":\"#2a3f5f\"},\"type\":\"carpet\"}],\"choropleth\":[{\"colorbar\":{\"outlinewidth\":0,\"ticks\":\"\"},\"type\":\"choropleth\"}],\"contour\":[{\"colorbar\":{\"outlinewidth\":0,\"ticks\":\"\"},\"colorscale\":[[0.0,\"#0d0887\"],[0.1111111111111111,\"#46039f\"],[0.2222222222222222,\"#7201a8\"],[0.3333333333333333,\"#9c179e\"],[0.4444444444444444,\"#bd3786\"],[0.5555555555555556,\"#d8576b\"],[0.6666666666666666,\"#ed7953\"],[0.7777777777777778,\"#fb9f3a\"],[0.8888888888888888,\"#fdca26\"],[1.0,\"#f0f921\"]],\"type\":\"contour\"}],\"contourcarpet\":[{\"colorbar\":{\"outlinewidth\":0,\"ticks\":\"\"},\"type\":\"contourcarpet\"}],\"heatmap\":[{\"colorbar\":{\"outlinewidth\":0,\"ticks\":\"\"},\"colorscale\":[[0.0,\"#0d0887\"],[0.1111111111111111,\"#46039f\"],[0.2222222222222222,\"#7201a8\"],[0.3333333333333333,\"#9c179e\"],[0.4444444444444444,\"#bd3786\"],[0.5555555555555556,\"#d8576b\"],[0.6666666666666666,\"#ed7953\"],[0.7777777777777778,\"#fb9f3a\"],[0.8888888888888888,\"#fdca26\"],[1.0,\"#f0f921\"]],\"type\":\"heatmap\"}],\"heatmapgl\":[{\"colorbar\":{\"outlinewidth\":0,\"ticks\":\"\"},\"colorscale\":[[0.0,\"#0d0887\"],[0.1111111111111111,\"#46039f\"],[0.2222222222222222,\"#7201a8\"],[0.3333333333333333,\"#9c179e\"],[0.4444444444444444,\"#bd3786\"],[0.5555555555555556,\"#d8576b\"],[0.6666666666666666,\"#ed7953\"],[0.7777777777777778,\"#fb9f3a\"],[0.8888888888888888,\"#fdca26\"],[1.0,\"#f0f921\"]],\"type\":\"heatmapgl\"}],\"histogram\":[{\"marker\":{\"pattern\":{\"fillmode\":\"overlay\",\"size\":10,\"solidity\":0.2}},\"type\":\"histogram\"}],\"histogram2d\":[{\"colorbar\":{\"outlinewidth\":0,\"ticks\":\"\"},\"colorscale\":[[0.0,\"#0d0887\"],[0.1111111111111111,\"#46039f\"],[0.2222222222222222,\"#7201a8\"],[0.3333333333333333,\"#9c179e\"],[0.4444444444444444,\"#bd3786\"],[0.5555555555555556,\"#d8576b\"],[0.6666666666666666,\"#ed7953\"],[0.7777777777777778,\"#fb9f3a\"],[0.8888888888888888,\"#fdca26\"],[1.0,\"#f0f921\"]],\"type\":\"histogram2d\"}],\"histogram2dcontour\":[{\"colorbar\":{\"outlinewidth\":0,\"ticks\":\"\"},\"colorscale\":[[0.0,\"#0d0887\"],[0.1111111111111111,\"#46039f\"],[0.2222222222222222,\"#7201a8\"],[0.3333333333333333,\"#9c179e\"],[0.4444444444444444,\"#bd3786\"],[0.5555555555555556,\"#d8576b\"],[0.6666666666666666,\"#ed7953\"],[0.7777777777777778,\"#fb9f3a\"],[0.8888888888888888,\"#fdca26\"],[1.0,\"#f0f921\"]],\"type\":\"histogram2dcontour\"}],\"mesh3d\":[{\"colorbar\":{\"outlinewidth\":0,\"ticks\":\"\"},\"type\":\"mesh3d\"}],\"parcoords\":[{\"line\":{\"colorbar\":{\"outlinewidth\":0,\"ticks\":\"\"}},\"type\":\"parcoords\"}],\"pie\":[{\"automargin\":true,\"type\":\"pie\"}],\"scatter\":[{\"marker\":{\"colorbar\":{\"outlinewidth\":0,\"ticks\":\"\"}},\"type\":\"scatter\"}],\"scatter3d\":[{\"line\":{\"colorbar\":{\"outlinewidth\":0,\"ticks\":\"\"}},\"marker\":{\"colorbar\":{\"outlinewidth\":0,\"ticks\":\"\"}},\"type\":\"scatter3d\"}],\"scattercarpet\":[{\"marker\":{\"colorbar\":{\"outlinewidth\":0,\"ticks\":\"\"}},\"type\":\"scattercarpet\"}],\"scattergeo\":[{\"marker\":{\"colorbar\":{\"outlinewidth\":0,\"ticks\":\"\"}},\"type\":\"scattergeo\"}],\"scattergl\":[{\"marker\":{\"colorbar\":{\"outlinewidth\":0,\"ticks\":\"\"}},\"type\":\"scattergl\"}],\"scattermapbox\":[{\"marker\":{\"colorbar\":{\"outlinewidth\":0,\"ticks\":\"\"}},\"type\":\"scattermapbox\"}],\"scatterpolar\":[{\"marker\":{\"colorbar\":{\"outlinewidth\":0,\"ticks\":\"\"}},\"type\":\"scatterpolar\"}],\"scatterpolargl\":[{\"marker\":{\"colorbar\":{\"outlinewidth\":0,\"ticks\":\"\"}},\"type\":\"scatterpolargl\"}],\"scatterternary\":[{\"marker\":{\"colorbar\":{\"outlinewidth\":0,\"ticks\":\"\"}},\"type\":\"scatterternary\"}],\"surface\":[{\"colorbar\":{\"outlinewidth\":0,\"ticks\":\"\"},\"colorscale\":[[0.0,\"#0d0887\"],[0.1111111111111111,\"#46039f\"],[0.2222222222222222,\"#7201a8\"],[0.3333333333333333,\"#9c179e\"],[0.4444444444444444,\"#bd3786\"],[0.5555555555555556,\"#d8576b\"],[0.6666666666666666,\"#ed7953\"],[0.7777777777777778,\"#fb9f3a\"],[0.8888888888888888,\"#fdca26\"],[1.0,\"#f0f921\"]],\"type\":\"surface\"}],\"table\":[{\"cells\":{\"fill\":{\"color\":\"#EBF0F8\"},\"line\":{\"color\":\"white\"}},\"header\":{\"fill\":{\"color\":\"#C8D4E3\"},\"line\":{\"color\":\"white\"}},\"type\":\"table\"}]},\"layout\":{\"annotationdefaults\":{\"arrowcolor\":\"#2a3f5f\",\"arrowhead\":0,\"arrowwidth\":1},\"autotypenumbers\":\"strict\",\"coloraxis\":{\"colorbar\":{\"outlinewidth\":0,\"ticks\":\"\"}},\"colorscale\":{\"diverging\":[[0,\"#8e0152\"],[0.1,\"#c51b7d\"],[0.2,\"#de77ae\"],[0.3,\"#f1b6da\"],[0.4,\"#fde0ef\"],[0.5,\"#f7f7f7\"],[0.6,\"#e6f5d0\"],[0.7,\"#b8e186\"],[0.8,\"#7fbc41\"],[0.9,\"#4d9221\"],[1,\"#276419\"]],\"sequential\":[[0.0,\"#0d0887\"],[0.1111111111111111,\"#46039f\"],[0.2222222222222222,\"#7201a8\"],[0.3333333333333333,\"#9c179e\"],[0.4444444444444444,\"#bd3786\"],[0.5555555555555556,\"#d8576b\"],[0.6666666666666666,\"#ed7953\"],[0.7777777777777778,\"#fb9f3a\"],[0.8888888888888888,\"#fdca26\"],[1.0,\"#f0f921\"]],\"sequentialminus\":[[0.0,\"#0d0887\"],[0.1111111111111111,\"#46039f\"],[0.2222222222222222,\"#7201a8\"],[0.3333333333333333,\"#9c179e\"],[0.4444444444444444,\"#bd3786\"],[0.5555555555555556,\"#d8576b\"],[0.6666666666666666,\"#ed7953\"],[0.7777777777777778,\"#fb9f3a\"],[0.8888888888888888,\"#fdca26\"],[1.0,\"#f0f921\"]]},\"colorway\":[\"#636efa\",\"#EF553B\",\"#00cc96\",\"#ab63fa\",\"#FFA15A\",\"#19d3f3\",\"#FF6692\",\"#B6E880\",\"#FF97FF\",\"#FECB52\"],\"font\":{\"color\":\"#2a3f5f\"},\"geo\":{\"bgcolor\":\"white\",\"lakecolor\":\"white\",\"landcolor\":\"#E5ECF6\",\"showlakes\":true,\"showland\":true,\"subunitcolor\":\"white\"},\"hoverlabel\":{\"align\":\"left\"},\"hovermode\":\"closest\",\"mapbox\":{\"style\":\"light\"},\"paper_bgcolor\":\"white\",\"plot_bgcolor\":\"#E5ECF6\",\"polar\":{\"angularaxis\":{\"gridcolor\":\"white\",\"linecolor\":\"white\",\"ticks\":\"\"},\"bgcolor\":\"#E5ECF6\",\"radialaxis\":{\"gridcolor\":\"white\",\"linecolor\":\"white\",\"ticks\":\"\"}},\"scene\":{\"xaxis\":{\"backgroundcolor\":\"#E5ECF6\",\"gridcolor\":\"white\",\"gridwidth\":2,\"linecolor\":\"white\",\"showbackground\":true,\"ticks\":\"\",\"zerolinecolor\":\"white\"},\"yaxis\":{\"backgroundcolor\":\"#E5ECF6\",\"gridcolor\":\"white\",\"gridwidth\":2,\"linecolor\":\"white\",\"showbackground\":true,\"ticks\":\"\",\"zerolinecolor\":\"white\"},\"zaxis\":{\"backgroundcolor\":\"#E5ECF6\",\"gridcolor\":\"white\",\"gridwidth\":2,\"linecolor\":\"white\",\"showbackground\":true,\"ticks\":\"\",\"zerolinecolor\":\"white\"}},\"shapedefaults\":{\"line\":{\"color\":\"#2a3f5f\"}},\"ternary\":{\"aaxis\":{\"gridcolor\":\"white\",\"linecolor\":\"white\",\"ticks\":\"\"},\"baxis\":{\"gridcolor\":\"white\",\"linecolor\":\"white\",\"ticks\":\"\"},\"bgcolor\":\"#E5ECF6\",\"caxis\":{\"gridcolor\":\"white\",\"linecolor\":\"white\",\"ticks\":\"\"}},\"title\":{\"x\":0.05},\"xaxis\":{\"automargin\":true,\"gridcolor\":\"white\",\"linecolor\":\"white\",\"ticks\":\"\",\"title\":{\"standoff\":15},\"zerolinecolor\":\"white\",\"zerolinewidth\":2},\"yaxis\":{\"automargin\":true,\"gridcolor\":\"white\",\"linecolor\":\"white\",\"ticks\":\"\",\"title\":{\"standoff\":15},\"zerolinecolor\":\"white\",\"zerolinewidth\":2}}},\"title\":{\"font\":{\"family\":\"sans-serif\"},\"text\":\"GHG emissions from agriculture (2020)\",\"x\":0.5,\"xanchor\":\"center\",\"y\":0.95,\"yanchor\":\"top\"},\"width\":800},                        {\"responsive\": true}                    ).then(function(){\n",
       "                            \n",
       "var gd = document.getElementById('1614bae1-d3bf-4177-a4b0-d9766583f8ae');\n",
       "var x = new MutationObserver(function (mutations, observer) {{\n",
       "        var display = window.getComputedStyle(gd).display;\n",
       "        if (!display || display === 'none') {{\n",
       "            console.log([gd, 'removed!']);\n",
       "            Plotly.purge(gd);\n",
       "            observer.disconnect();\n",
       "        }}\n",
       "}});\n",
       "\n",
       "// Listen for the removal of the full notebook cells\n",
       "var notebookContainer = gd.closest('#notebook-container');\n",
       "if (notebookContainer) {{\n",
       "    x.observe(notebookContainer, {childList: true});\n",
       "}}\n",
       "\n",
       "// Listen for the clearing of the current output cell\n",
       "var outputEl = gd.closest('.output');\n",
       "if (outputEl) {{\n",
       "    x.observe(outputEl, {childList: true});\n",
       "}}\n",
       "\n",
       "                        })                };                });            </script>        </div>"
      ]
     },
     "metadata": {},
     "output_type": "display_data"
    }
   ],
   "source": [
    "for sector in sectors:\n",
    "    show_map_sector(sector, '2020','html')"
   ]
  },
  {
   "cell_type": "code",
   "execution_count": null,
   "metadata": {},
   "outputs": [],
   "source": []
  }
 ],
 "metadata": {
  "kernelspec": {
   "display_name": "Python 3 (ipykernel)",
   "language": "python",
   "name": "python3"
  },
  "language_info": {
   "codemirror_mode": {
    "name": "ipython",
    "version": 3
   },
   "file_extension": ".py",
   "mimetype": "text/x-python",
   "name": "python",
   "nbconvert_exporter": "python",
   "pygments_lexer": "ipython3",
   "version": "3.8.7"
  },
  "toc-autonumbering": false,
  "toc-showcode": false,
  "toc-showmarkdowntxt": false,
  "toc-showtags": false
 },
 "nbformat": 4,
 "nbformat_minor": 4
}
